{
 "cells": [
  {
   "cell_type": "markdown",
   "metadata": {
    "nbgrader": {
     "grade": false,
     "grade_id": "cell-5adf6a29694ce64b",
     "locked": true,
     "schema_version": 1,
     "solution": false
    },
    "slideshow": {
     "slide_type": "slide"
    }
   },
   "source": [
    "# Introduction to Python\n",
    "\n",
    "We introduce here the `python` language. \n",
    "Only the bare minimum necessary for getting started with the data-science stack (a bunch of libraries for data science).\n",
    "\n",
    "To learn more about the language, consider going through the\n",
    "excellent tutorial\n",
    "\n",
    "- http://www.scipy-lectures.org/intro/index.html. \n",
    "    \n",
    "Dedicated books are also available, such as\n",
    "\n",
    "- http://diveintopython3.problemsolving.io\n",
    "\n",
    "Among many other references (since `Python` is one of the most popular languages right now)\n",
    "\n",
    "Python is a **programming language**, as are `C++`, `java`, `fortran`, `javascript`,\n",
    "etc."
   ]
  },
  {
   "cell_type": "markdown",
   "metadata": {
    "slideshow": {
     "slide_type": "subslide"
    }
   },
   "source": [
    "## Specific features of Python\n",
    "\n",
    "- an **interpreted** (as opposed to *compiled*) language. Contrary to e.g.\n",
    "`C++` or `fortran`, one does not compile Python code before executing it. \n",
    "\n",
    "- Used as a scripting language, by python `python script.py` in a terminal\n",
    "\n",
    "- But can be used also **interactively**: the jupyter notebook, iPython, etc.\n",
    "\n",
    "- A free software released under an **open-source** license: Python can\n",
    "be used and distributed free of charge, even for building commercial\n",
    "software.\n",
    "\n",
    "- **multi-platform**: Python is available for all major operating\n",
    "systems, Windows, Linux/Unix, MacOS X, most likely your mobile phone\n",
    "OS, etc.\n",
    "\n",
    "- A very readable language with clear non-verbose syntax"
   ]
  },
  {
   "cell_type": "markdown",
   "metadata": {
    "slideshow": {
     "slide_type": "subslide"
    }
   },
   "source": [
    "- A language for which a **large variety of high-quality** packages are\n",
    "available for various applications, including web-frameworks and scientific\n",
    "computing\n",
    "\n",
    "- It is now the **language of choice of data-science** and **machine learning** since several years, because of his high expressivity and tools of deployment\n",
    "\n",
    "- An object-oriented language\n",
    "\n",
    "See https://www.python.org/about/ for more information about distinguishing features of Python.\n",
    "\n",
    "## Important: Python 2 or Python 3\n",
    "\n",
    "- Simple answer: **don't use Python 2, use Python 3**\n",
    "\n",
    "- Python 2 is **mostly deprecated** and **won't be maintained** for long now\n",
    "\n",
    "- You'll end up hanged if you use Python 2\n",
    "\n",
    "- If Python 2 is mandatory at your workplace, find another work"
   ]
  },
  {
   "cell_type": "markdown",
   "metadata": {
    "nbgrader": {
     "grade": false,
     "grade_id": "cell-da05268b6b981cb2",
     "locked": true,
     "schema_version": 1,
     "solution": false
    },
    "slideshow": {
     "slide_type": "slide"
    }
   },
   "source": [
    "# Hello world\n",
    "\n",
    "- In a `jupyter` notebook, you have an interactive interpreter.\n",
    "\n",
    "- You type in the cells, execute commands with `Shift` + `Enter` (on a Mac, I won't help people on Windows and Linux)."
   ]
  },
  {
   "cell_type": "code",
   "execution_count": null,
   "metadata": {
    "ExecuteTime": {
     "end_time": "2019-11-21T10:09:32.038362Z",
     "start_time": "2019-11-21T10:09:32.030714Z"
    },
    "scrolled": false,
    "slideshow": {
     "slide_type": "fragment"
    }
   },
   "outputs": [],
   "source": [
    "print(\"Salut tout le monde!\")"
   ]
  },
  {
   "cell_type": "markdown",
   "metadata": {
    "slideshow": {
     "slide_type": "slide"
    }
   },
   "source": [
    "# Basic types"
   ]
  },
  {
   "cell_type": "markdown",
   "metadata": {
    "slideshow": {
     "slide_type": "subslide"
    }
   },
   "source": [
    "## Integers"
   ]
  },
  {
   "cell_type": "code",
   "execution_count": null,
   "metadata": {
    "ExecuteTime": {
     "end_time": "2019-11-21T10:09:43.640353Z",
     "start_time": "2019-11-21T10:09:43.626665Z"
    },
    "slideshow": {
     "slide_type": "fragment"
    }
   },
   "outputs": [],
   "source": [
    "1 + 42"
   ]
  },
  {
   "cell_type": "code",
   "execution_count": null,
   "metadata": {
    "ExecuteTime": {
     "end_time": "2019-11-21T10:09:44.260090Z",
     "start_time": "2019-11-21T10:09:44.254090Z"
    },
    "scrolled": true,
    "slideshow": {
     "slide_type": "-"
    }
   },
   "outputs": [],
   "source": [
    "type(1+1)"
   ]
  },
  {
   "cell_type": "markdown",
   "metadata": {
    "slideshow": {
     "slide_type": "fragment"
    }
   },
   "source": [
    "We can assign values to variables with `=`"
   ]
  },
  {
   "cell_type": "code",
   "execution_count": null,
   "metadata": {
    "ExecuteTime": {
     "end_time": "2019-11-21T10:09:46.618377Z",
     "start_time": "2019-11-21T10:09:46.611389Z"
    },
    "slideshow": {
     "slide_type": "-"
    }
   },
   "outputs": [],
   "source": [
    "a = (3 + 5 ** 2) % 4\n",
    "a"
   ]
  },
  {
   "cell_type": "markdown",
   "metadata": {
    "slideshow": {
     "slide_type": "subslide"
    }
   },
   "source": [
    "## Remark\n",
    "\n",
    "We don't declare the type of a variable before assigning its value. \n",
    "In C, conversely, one should write\n",
    "\n",
    "```C\n",
    "int a = 4;\n",
    "```\n",
    "\n",
    "## Something cool\n",
    "\n",
    "- **Arbitrary large** integer arithmetics"
   ]
  },
  {
   "cell_type": "code",
   "execution_count": null,
   "metadata": {
    "ExecuteTime": {
     "end_time": "2019-11-21T10:09:51.779357Z",
     "start_time": "2019-11-21T10:09:51.772554Z"
    },
    "slideshow": {
     "slide_type": "fragment"
    }
   },
   "outputs": [],
   "source": [
    "17 ** 542"
   ]
  },
  {
   "cell_type": "markdown",
   "metadata": {
    "slideshow": {
     "slide_type": "subslide"
    }
   },
   "source": [
    "## Floats\n",
    "\n",
    "There exists a floating point type that is created when the variable has decimal values"
   ]
  },
  {
   "cell_type": "code",
   "execution_count": null,
   "metadata": {
    "ExecuteTime": {
     "end_time": "2019-11-21T10:09:54.590419Z",
     "start_time": "2019-11-21T10:09:54.586756Z"
    },
    "slideshow": {
     "slide_type": "-"
    }
   },
   "outputs": [],
   "source": [
    "c = 2."
   ]
  },
  {
   "cell_type": "code",
   "execution_count": null,
   "metadata": {
    "ExecuteTime": {
     "end_time": "2019-11-21T10:09:57.105338Z",
     "start_time": "2019-11-21T10:09:57.099730Z"
    },
    "scrolled": true,
    "slideshow": {
     "slide_type": "-"
    }
   },
   "outputs": [],
   "source": [
    "type(c)"
   ]
  },
  {
   "cell_type": "code",
   "execution_count": null,
   "metadata": {
    "ExecuteTime": {
     "end_time": "2019-11-21T10:10:00.086560Z",
     "start_time": "2019-11-21T10:10:00.081184Z"
    },
    "slideshow": {
     "slide_type": "fragment"
    }
   },
   "outputs": [],
   "source": [
    "c = 2\n",
    "type(c)"
   ]
  },
  {
   "cell_type": "code",
   "execution_count": null,
   "metadata": {
    "ExecuteTime": {
     "end_time": "2019-11-21T10:10:02.157918Z",
     "start_time": "2019-11-21T10:10:02.149730Z"
    },
    "slideshow": {
     "slide_type": "fragment"
    }
   },
   "outputs": [],
   "source": [
    "truc = 1 / 2\n",
    "truc"
   ]
  },
  {
   "cell_type": "code",
   "execution_count": null,
   "metadata": {
    "ExecuteTime": {
     "end_time": "2019-11-21T10:10:02.811591Z",
     "start_time": "2019-11-21T10:10:02.805471Z"
    },
    "slideshow": {
     "slide_type": "-"
    }
   },
   "outputs": [],
   "source": [
    "type(truc)"
   ]
  },
  {
   "cell_type": "markdown",
   "metadata": {
    "slideshow": {
     "slide_type": "subslide"
    }
   },
   "source": [
    "## Boolean\n",
    "Similarly, boolean types are created from a comparison"
   ]
  },
  {
   "cell_type": "code",
   "execution_count": null,
   "metadata": {
    "ExecuteTime": {
     "end_time": "2019-11-21T10:10:07.183345Z",
     "start_time": "2019-11-21T10:10:07.178205Z"
    },
    "scrolled": false,
    "slideshow": {
     "slide_type": "fragment"
    }
   },
   "outputs": [],
   "source": [
    "test = 3 > 4\n",
    "test"
   ]
  },
  {
   "cell_type": "code",
   "execution_count": null,
   "metadata": {
    "ExecuteTime": {
     "end_time": "2019-11-21T10:10:07.644910Z",
     "start_time": "2019-11-21T10:10:07.639385Z"
    },
    "slideshow": {
     "slide_type": "-"
    }
   },
   "outputs": [],
   "source": [
    "type(test)"
   ]
  },
  {
   "cell_type": "code",
   "execution_count": null,
   "metadata": {
    "ExecuteTime": {
     "end_time": "2019-11-21T10:10:14.218246Z",
     "start_time": "2019-11-21T10:10:14.212675Z"
    },
    "slideshow": {
     "slide_type": "fragment"
    }
   },
   "outputs": [],
   "source": [
    "False == (not True)"
   ]
  },
  {
   "cell_type": "code",
   "execution_count": null,
   "metadata": {
    "ExecuteTime": {
     "end_time": "2019-11-21T10:10:16.443379Z",
     "start_time": "2019-11-21T10:10:16.437927Z"
    },
    "scrolled": true,
    "slideshow": {
     "slide_type": "fragment"
    }
   },
   "outputs": [],
   "source": [
    "1.41 < 2.71 and 2.71 < 3.14"
   ]
  },
  {
   "cell_type": "code",
   "execution_count": null,
   "metadata": {
    "ExecuteTime": {
     "end_time": "2019-11-21T10:10:16.904953Z",
     "start_time": "2019-11-21T10:10:16.896651Z"
    },
    "slideshow": {
     "slide_type": "-"
    }
   },
   "outputs": [],
   "source": [
    "# It's equivalent to\n",
    "1.41 < 2.71 < 3.14"
   ]
  },
  {
   "cell_type": "markdown",
   "metadata": {
    "slideshow": {
     "slide_type": "subslide"
    }
   },
   "source": [
    "## Type conversion (casting)"
   ]
  },
  {
   "cell_type": "code",
   "execution_count": null,
   "metadata": {
    "ExecuteTime": {
     "end_time": "2019-11-21T10:10:21.287446Z",
     "start_time": "2019-11-21T10:10:21.281084Z"
    },
    "scrolled": true,
    "slideshow": {
     "slide_type": "fragment"
    }
   },
   "outputs": [],
   "source": [
    "a = 1\n",
    "type(a)"
   ]
  },
  {
   "cell_type": "code",
   "execution_count": null,
   "metadata": {
    "ExecuteTime": {
     "end_time": "2019-11-21T10:10:21.484031Z",
     "start_time": "2019-11-21T10:10:21.478061Z"
    },
    "scrolled": true,
    "slideshow": {
     "slide_type": "-"
    }
   },
   "outputs": [],
   "source": [
    "b = float(a)\n",
    "type(b)"
   ]
  },
  {
   "cell_type": "code",
   "execution_count": null,
   "metadata": {
    "ExecuteTime": {
     "end_time": "2019-11-21T10:10:22.126786Z",
     "start_time": "2019-11-21T10:10:22.120046Z"
    },
    "scrolled": true,
    "slideshow": {
     "slide_type": "-"
    }
   },
   "outputs": [],
   "source": [
    "str(b)"
   ]
  },
  {
   "cell_type": "code",
   "execution_count": null,
   "metadata": {
    "ExecuteTime": {
     "end_time": "2019-11-21T10:10:25.590978Z",
     "start_time": "2019-11-21T10:10:25.585617Z"
    },
    "slideshow": {
     "slide_type": "fragment"
    }
   },
   "outputs": [],
   "source": [
    "bool(b)\n",
    "# All non-zero, non empty objects are casted to boolean as True (more later)"
   ]
  },
  {
   "cell_type": "code",
   "execution_count": null,
   "metadata": {
    "ExecuteTime": {
     "end_time": "2019-11-21T10:11:05.941419Z",
     "start_time": "2019-11-21T10:11:05.937265Z"
    },
    "slideshow": {
     "slide_type": "-"
    }
   },
   "outputs": [],
   "source": [
    "bool(1-1)"
   ]
  },
  {
   "cell_type": "markdown",
   "metadata": {
    "slideshow": {
     "slide_type": "slide"
    }
   },
   "source": [
    "#  Containers\n",
    "\n",
    "Python provides many efficient types of containers, in which collections of objects can be stored. \n",
    "\n",
    "The main ones are `list`, `tuple`, `set` and `dict` (but there are many others...)"
   ]
  },
  {
   "cell_type": "markdown",
   "metadata": {
    "slideshow": {
     "slide_type": "subslide"
    }
   },
   "source": [
    "## Tuples"
   ]
  },
  {
   "cell_type": "code",
   "execution_count": null,
   "metadata": {
    "ExecuteTime": {
     "end_time": "2019-11-21T10:12:04.208710Z",
     "start_time": "2019-11-21T10:12:04.203933Z"
    },
    "scrolled": false,
    "slideshow": {
     "slide_type": "fragment"
    }
   },
   "outputs": [],
   "source": [
    "tt = ('truc', 3.14, \"truc\")\n",
    "tt"
   ]
  },
  {
   "cell_type": "code",
   "execution_count": null,
   "metadata": {
    "ExecuteTime": {
     "end_time": "2019-11-21T10:12:04.541219Z",
     "start_time": "2019-11-21T10:12:04.536827Z"
    },
    "scrolled": false,
    "slideshow": {
     "slide_type": "-"
    }
   },
   "outputs": [],
   "source": [
    "tt[1]"
   ]
  },
  {
   "cell_type": "markdown",
   "metadata": {
    "slideshow": {
     "slide_type": "fragment"
    }
   },
   "source": [
    "You can't change a tuple, we say that it's *immutable*"
   ]
  },
  {
   "cell_type": "code",
   "execution_count": null,
   "metadata": {
    "ExecuteTime": {
     "end_time": "2019-11-21T10:12:06.879628Z",
     "start_time": "2019-11-21T10:12:06.870825Z"
    },
    "slideshow": {
     "slide_type": "-"
    }
   },
   "outputs": [],
   "source": [
    "tt[0] = 1"
   ]
  },
  {
   "cell_type": "markdown",
   "metadata": {
    "slideshow": {
     "slide_type": "subslide"
    }
   },
   "source": [
    "Three ways of doing the same thing"
   ]
  },
  {
   "cell_type": "code",
   "execution_count": null,
   "metadata": {
    "ExecuteTime": {
     "end_time": "2019-11-21T10:10:34.596199Z",
     "start_time": "2019-11-21T10:10:34.584629Z"
    },
    "slideshow": {
     "slide_type": "-"
    }
   },
   "outputs": [],
   "source": [
    "# Method 1\n",
    "tuple([1, 2, 3])"
   ]
  },
  {
   "cell_type": "code",
   "execution_count": null,
   "metadata": {
    "ExecuteTime": {
     "end_time": "2019-11-21T10:10:34.776815Z",
     "start_time": "2019-11-21T10:10:34.767000Z"
    },
    "scrolled": true,
    "slideshow": {
     "slide_type": "-"
    }
   },
   "outputs": [],
   "source": [
    "# Method 2\n",
    "1, 2, 3"
   ]
  },
  {
   "cell_type": "code",
   "execution_count": null,
   "metadata": {
    "ExecuteTime": {
     "end_time": "2019-11-21T10:10:34.964289Z",
     "start_time": "2019-11-21T10:10:34.957798Z"
    },
    "scrolled": true,
    "slideshow": {
     "slide_type": "-"
    }
   },
   "outputs": [],
   "source": [
    "# Method 3\n",
    "(1, 2, 3)"
   ]
  },
  {
   "cell_type": "markdown",
   "metadata": {
    "slideshow": {
     "slide_type": "-"
    }
   },
   "source": [
    "**Simpler is better in Python**, so usually you want to use Method 2."
   ]
  },
  {
   "cell_type": "code",
   "execution_count": null,
   "metadata": {
    "ExecuteTime": {
     "end_time": "2019-11-21T10:10:37.739944Z",
     "start_time": "2019-11-21T10:10:37.729516Z"
    },
    "scrolled": false,
    "slideshow": {
     "slide_type": "fragment"
    }
   },
   "outputs": [],
   "source": [
    "toto = 1, 2, 3\n",
    "toto"
   ]
  },
  {
   "cell_type": "markdown",
   "metadata": {
    "slideshow": {
     "slide_type": "-"
    }
   },
   "source": [
    "- This is serious !"
   ]
  },
  {
   "cell_type": "markdown",
   "metadata": {
    "slideshow": {
     "slide_type": "subslide"
    }
   },
   "source": [
    "## The Zen of Python easter's egg"
   ]
  },
  {
   "cell_type": "code",
   "execution_count": null,
   "metadata": {
    "ExecuteTime": {
     "end_time": "2019-11-21T10:10:40.895240Z",
     "start_time": "2019-11-21T10:10:40.888217Z"
    },
    "scrolled": false,
    "slideshow": {
     "slide_type": "-"
    }
   },
   "outputs": [],
   "source": [
    "import this"
   ]
  },
  {
   "cell_type": "markdown",
   "metadata": {
    "slideshow": {
     "slide_type": "subslide"
    }
   },
   "source": [
    "## Lists\n",
    "\n",
    "A list is an ordered collection of objects. These objects may have different types. For example:"
   ]
  },
  {
   "cell_type": "code",
   "execution_count": null,
   "metadata": {
    "ExecuteTime": {
     "end_time": "2019-11-21T10:12:15.082475Z",
     "start_time": "2019-11-21T10:12:15.079137Z"
    },
    "slideshow": {
     "slide_type": "-"
    }
   },
   "outputs": [],
   "source": [
    "colors = ['red', 'blue', 'green', 'black', 'white']"
   ]
  },
  {
   "cell_type": "code",
   "execution_count": null,
   "metadata": {
    "ExecuteTime": {
     "end_time": "2019-11-21T10:12:15.454676Z",
     "start_time": "2019-11-21T10:12:15.449910Z"
    },
    "scrolled": false,
    "slideshow": {
     "slide_type": "-"
    }
   },
   "outputs": [],
   "source": [
    "type(colors)"
   ]
  },
  {
   "cell_type": "markdown",
   "metadata": {
    "slideshow": {
     "slide_type": "fragment"
    }
   },
   "source": [
    "**Indexing:** accessing individual objects contained in the list"
   ]
  },
  {
   "cell_type": "code",
   "execution_count": null,
   "metadata": {
    "ExecuteTime": {
     "end_time": "2019-11-21T10:12:17.191313Z",
     "start_time": "2019-11-21T10:12:17.186883Z"
    },
    "slideshow": {
     "slide_type": "-"
    }
   },
   "outputs": [],
   "source": [
    "colors[2]"
   ]
  },
  {
   "cell_type": "code",
   "execution_count": null,
   "metadata": {
    "ExecuteTime": {
     "end_time": "2019-11-21T10:12:17.803173Z",
     "start_time": "2019-11-21T10:12:17.797772Z"
    },
    "slideshow": {
     "slide_type": "-"
    }
   },
   "outputs": [],
   "source": [
    "colors[2] = 3.14\n",
    "colors"
   ]
  },
  {
   "cell_type": "markdown",
   "metadata": {
    "slideshow": {
     "slide_type": "subslide"
    }
   },
   "source": [
    "**Warning.** Indexing **starts at 0** (as in C), not at 1 (as in Fortran or Matlab) for any *iterable* object in Python.\n",
    "\n",
    "Counting from the end with negative indices:"
   ]
  },
  {
   "cell_type": "code",
   "execution_count": null,
   "metadata": {
    "ExecuteTime": {
     "end_time": "2019-11-21T10:12:26.646383Z",
     "start_time": "2019-11-21T10:12:26.640749Z"
    },
    "scrolled": true,
    "slideshow": {
     "slide_type": "-"
    }
   },
   "outputs": [],
   "source": [
    "colors[-2]"
   ]
  },
  {
   "cell_type": "markdown",
   "metadata": {
    "slideshow": {
     "slide_type": "fragment"
    }
   },
   "source": [
    "Index must remain in the range of the list"
   ]
  },
  {
   "cell_type": "code",
   "execution_count": null,
   "metadata": {
    "ExecuteTime": {
     "end_time": "2019-11-21T10:12:28.229725Z",
     "start_time": "2019-11-21T10:12:28.217991Z"
    },
    "scrolled": true,
    "slideshow": {
     "slide_type": "-"
    }
   },
   "outputs": [],
   "source": [
    "colors[10]"
   ]
  },
  {
   "cell_type": "code",
   "execution_count": null,
   "metadata": {
    "ExecuteTime": {
     "end_time": "2019-11-21T10:12:30.087335Z",
     "start_time": "2019-11-21T10:12:30.080821Z"
    },
    "slideshow": {
     "slide_type": "subslide"
    }
   },
   "outputs": [],
   "source": [
    "colors"
   ]
  },
  {
   "cell_type": "code",
   "execution_count": null,
   "metadata": {
    "ExecuteTime": {
     "end_time": "2019-11-21T10:12:30.282401Z",
     "start_time": "2019-11-21T10:12:30.275281Z"
    }
   },
   "outputs": [],
   "source": [
    "tt"
   ]
  },
  {
   "cell_type": "code",
   "execution_count": null,
   "metadata": {
    "ExecuteTime": {
     "end_time": "2019-11-21T10:12:30.450343Z",
     "start_time": "2019-11-21T10:12:30.444069Z"
    },
    "slideshow": {
     "slide_type": "-"
    }
   },
   "outputs": [],
   "source": [
    "colors.append(tt)\n",
    "colors"
   ]
  },
  {
   "cell_type": "code",
   "execution_count": null,
   "metadata": {
    "ExecuteTime": {
     "end_time": "2019-11-21T10:12:30.884366Z",
     "start_time": "2019-11-21T10:12:30.878763Z"
    },
    "scrolled": true,
    "slideshow": {
     "slide_type": "-"
    }
   },
   "outputs": [],
   "source": [
    "len(colors)"
   ]
  },
  {
   "cell_type": "markdown",
   "metadata": {
    "slideshow": {
     "slide_type": "subslide"
    }
   },
   "source": [
    "## Slicing: obtaining sublists of regularly-spaced elements\n",
    "\n",
    "This work with anything iterable whenever it makes sense (`list`, `str`, `tuple`, etc.)"
   ]
  },
  {
   "cell_type": "code",
   "execution_count": null,
   "metadata": {
    "ExecuteTime": {
     "end_time": "2019-11-21T10:13:15.156767Z",
     "start_time": "2019-11-21T10:13:15.151028Z"
    },
    "slideshow": {
     "slide_type": "fragment"
    }
   },
   "outputs": [],
   "source": [
    "colors"
   ]
  },
  {
   "cell_type": "code",
   "execution_count": null,
   "metadata": {
    "ExecuteTime": {
     "end_time": "2019-11-21T10:13:15.593491Z",
     "start_time": "2019-11-21T10:13:15.584735Z"
    },
    "slideshow": {
     "slide_type": "-"
    }
   },
   "outputs": [],
   "source": [
    "list(reversed(colors))"
   ]
  },
  {
   "cell_type": "code",
   "execution_count": null,
   "metadata": {
    "ExecuteTime": {
     "end_time": "2019-11-21T10:13:16.046280Z",
     "start_time": "2019-11-21T10:13:16.037517Z"
    },
    "scrolled": true,
    "slideshow": {
     "slide_type": "-"
    }
   },
   "outputs": [],
   "source": [
    "colors[::-1]"
   ]
  },
  {
   "cell_type": "markdown",
   "metadata": {
    "slideshow": {
     "slide_type": "-"
    }
   },
   "source": [
    "**Slicing syntax**: ``colors[start:stop:stride]``\n",
    "\n",
    "NB: All slicing parameters are optional"
   ]
  },
  {
   "cell_type": "code",
   "execution_count": null,
   "metadata": {
    "ExecuteTime": {
     "end_time": "2019-11-21T10:13:19.056934Z",
     "start_time": "2019-11-21T10:13:19.048459Z"
    },
    "slideshow": {
     "slide_type": "subslide"
    }
   },
   "outputs": [],
   "source": [
    "colors"
   ]
  },
  {
   "cell_type": "code",
   "execution_count": null,
   "metadata": {
    "ExecuteTime": {
     "end_time": "2019-11-21T10:13:19.343959Z",
     "start_time": "2019-11-21T10:13:19.337571Z"
    },
    "slideshow": {
     "slide_type": "-"
    }
   },
   "outputs": [],
   "source": [
    "colors[3:]"
   ]
  },
  {
   "cell_type": "code",
   "execution_count": null,
   "metadata": {
    "ExecuteTime": {
     "end_time": "2019-11-21T10:13:19.490353Z",
     "start_time": "2019-11-21T10:13:19.484171Z"
    },
    "slideshow": {
     "slide_type": "-"
    }
   },
   "outputs": [],
   "source": [
    "colors[:3]"
   ]
  },
  {
   "cell_type": "code",
   "execution_count": null,
   "metadata": {
    "ExecuteTime": {
     "end_time": "2019-11-21T10:13:19.641047Z",
     "start_time": "2019-11-21T10:13:19.631989Z"
    },
    "scrolled": true,
    "slideshow": {
     "slide_type": "-"
    }
   },
   "outputs": [],
   "source": [
    "colors[1::2]"
   ]
  },
  {
   "cell_type": "code",
   "execution_count": null,
   "metadata": {
    "ExecuteTime": {
     "end_time": "2019-11-21T10:13:20.551202Z",
     "start_time": "2019-11-21T10:13:20.541702Z"
    },
    "slideshow": {
     "slide_type": "-"
    }
   },
   "outputs": [],
   "source": [
    "colors[::-1]"
   ]
  },
  {
   "cell_type": "markdown",
   "metadata": {
    "slideshow": {
     "slide_type": "subslide"
    }
   },
   "source": [
    "## Strings\n",
    "\n",
    "Different string syntaxes (simple, double or triple quotes):"
   ]
  },
  {
   "cell_type": "code",
   "execution_count": null,
   "metadata": {
    "ExecuteTime": {
     "end_time": "2019-11-21T10:13:28.143927Z",
     "start_time": "2019-11-21T10:13:28.136666Z"
    },
    "slideshow": {
     "slide_type": "fragment"
    }
   },
   "outputs": [],
   "source": [
    "s = 'tintin'\n",
    "type(s)"
   ]
  },
  {
   "cell_type": "code",
   "execution_count": null,
   "metadata": {
    "ExecuteTime": {
     "end_time": "2019-11-21T10:13:28.833051Z",
     "start_time": "2019-11-21T10:13:28.827663Z"
    },
    "scrolled": true,
    "slideshow": {
     "slide_type": "-"
    }
   },
   "outputs": [],
   "source": [
    "s"
   ]
  },
  {
   "cell_type": "code",
   "execution_count": null,
   "metadata": {
    "ExecuteTime": {
     "end_time": "2019-11-21T10:13:29.368905Z",
     "start_time": "2019-11-21T10:13:29.364057Z"
    },
    "slideshow": {
     "slide_type": "fragment"
    }
   },
   "outputs": [],
   "source": [
    "s = \"\"\"         Bonjour,\n",
    "Je m'appelle Stephane.\n",
    "Je vous souhaite une bonne journée.\n",
    "Salut.       \n",
    "\"\"\"\n",
    "s"
   ]
  },
  {
   "cell_type": "code",
   "execution_count": null,
   "metadata": {
    "ExecuteTime": {
     "end_time": "2019-11-21T10:13:30.170441Z",
     "start_time": "2019-11-21T10:13:30.165282Z"
    },
    "slideshow": {
     "slide_type": "-"
    }
   },
   "outputs": [],
   "source": [
    "s.strip()"
   ]
  },
  {
   "cell_type": "code",
   "execution_count": null,
   "metadata": {
    "ExecuteTime": {
     "end_time": "2019-11-21T10:13:33.466206Z",
     "start_time": "2019-11-21T10:13:33.461578Z"
    },
    "scrolled": true,
    "slideshow": {
     "slide_type": "subslide"
    }
   },
   "outputs": [],
   "source": [
    "print(s.strip())"
   ]
  },
  {
   "cell_type": "code",
   "execution_count": null,
   "metadata": {
    "ExecuteTime": {
     "end_time": "2019-11-21T10:13:33.639915Z",
     "start_time": "2019-11-21T10:13:33.635166Z"
    },
    "scrolled": false,
    "slideshow": {
     "slide_type": "-"
    }
   },
   "outputs": [],
   "source": [
    "len(s)"
   ]
  },
  {
   "cell_type": "code",
   "execution_count": null,
   "metadata": {
    "ExecuteTime": {
     "end_time": "2019-11-21T10:13:35.073510Z",
     "start_time": "2019-11-21T10:13:35.068522Z"
    },
    "scrolled": true,
    "slideshow": {
     "slide_type": "fragment"
    }
   },
   "outputs": [],
   "source": [
    "# Casting to a list\n",
    "list(s.strip()[:15])"
   ]
  },
  {
   "cell_type": "code",
   "execution_count": null,
   "metadata": {
    "ExecuteTime": {
     "end_time": "2019-11-21T10:13:36.735273Z",
     "start_time": "2019-11-21T10:13:36.730544Z"
    },
    "scrolled": true,
    "slideshow": {
     "slide_type": "fragment"
    }
   },
   "outputs": [],
   "source": [
    "# Arithmetics\n",
    "print('Bonjour' * 2)\n",
    "print('Hello' + ' all')"
   ]
  },
  {
   "cell_type": "code",
   "execution_count": null,
   "metadata": {
    "ExecuteTime": {
     "end_time": "2019-11-21T10:13:37.314403Z",
     "start_time": "2019-11-21T10:13:37.309696Z"
    },
    "slideshow": {
     "slide_type": "-"
    }
   },
   "outputs": [],
   "source": [
    "sss = 'A'\n",
    "sss += 'bc'\n",
    "sss += 'dE'\n",
    "sss.lower()"
   ]
  },
  {
   "cell_type": "code",
   "execution_count": null,
   "metadata": {
    "ExecuteTime": {
     "end_time": "2019-11-21T10:13:39.991630Z",
     "start_time": "2019-11-21T10:13:39.986470Z"
    },
    "scrolled": true,
    "slideshow": {
     "slide_type": "subslide"
    }
   },
   "outputs": [],
   "source": [
    "ss = s.strip()\n",
    "print(ss[:10] + ss[24:28])"
   ]
  },
  {
   "cell_type": "code",
   "execution_count": null,
   "metadata": {
    "ExecuteTime": {
     "end_time": "2019-11-21T10:13:40.328064Z",
     "start_time": "2019-11-21T10:13:40.323006Z"
    },
    "scrolled": false,
    "slideshow": {
     "slide_type": "-"
    }
   },
   "outputs": [],
   "source": [
    "s.strip().split('\\n')"
   ]
  },
  {
   "cell_type": "code",
   "execution_count": null,
   "metadata": {
    "ExecuteTime": {
     "end_time": "2019-11-21T10:13:40.579368Z",
     "start_time": "2019-11-21T10:13:40.574477Z"
    },
    "scrolled": false,
    "slideshow": {
     "slide_type": "-"
    }
   },
   "outputs": [],
   "source": [
    "s[::3]"
   ]
  },
  {
   "cell_type": "code",
   "execution_count": null,
   "metadata": {
    "ExecuteTime": {
     "end_time": "2019-11-21T10:13:41.146715Z",
     "start_time": "2019-11-21T10:13:41.141666Z"
    },
    "scrolled": false,
    "slideshow": {
     "slide_type": "-"
    }
   },
   "outputs": [],
   "source": [
    "s[3:10]"
   ]
  },
  {
   "cell_type": "code",
   "execution_count": null,
   "metadata": {
    "ExecuteTime": {
     "end_time": "2019-11-21T10:13:43.909482Z",
     "start_time": "2019-11-21T10:13:43.904601Z"
    },
    "slideshow": {
     "slide_type": "fragment"
    }
   },
   "outputs": [],
   "source": [
    "' '.join(['Il', 'fait', 'super', 'beau', \"aujourd'hui\"])"
   ]
  },
  {
   "cell_type": "markdown",
   "metadata": {
    "slideshow": {
     "slide_type": "subslide"
    }
   },
   "source": [
    "### Important\n",
    "\n",
    "A string is **immutable** !!"
   ]
  },
  {
   "cell_type": "code",
   "execution_count": null,
   "metadata": {
    "ExecuteTime": {
     "end_time": "2019-11-21T10:13:45.567167Z",
     "start_time": "2019-11-21T10:13:45.563866Z"
    },
    "slideshow": {
     "slide_type": "-"
    }
   },
   "outputs": [],
   "source": [
    "s = 'I am an immutable guy'"
   ]
  },
  {
   "cell_type": "code",
   "execution_count": null,
   "metadata": {
    "ExecuteTime": {
     "end_time": "2019-11-21T10:13:46.128198Z",
     "start_time": "2019-11-21T10:13:46.120013Z"
    },
    "scrolled": false,
    "slideshow": {
     "slide_type": "-"
    }
   },
   "outputs": [],
   "source": [
    "s[2] = 's'"
   ]
  },
  {
   "cell_type": "code",
   "execution_count": null,
   "metadata": {
    "ExecuteTime": {
     "end_time": "2019-11-21T10:13:47.351891Z",
     "start_time": "2019-11-21T10:13:47.347548Z"
    },
    "slideshow": {
     "slide_type": "fragment"
    }
   },
   "outputs": [],
   "source": [
    "id(s)"
   ]
  },
  {
   "cell_type": "code",
   "execution_count": null,
   "metadata": {
    "ExecuteTime": {
     "end_time": "2019-11-21T10:13:47.608307Z",
     "start_time": "2019-11-21T10:13:47.601497Z"
    },
    "scrolled": true
   },
   "outputs": [],
   "source": [
    "print(s + ' for sure')\n",
    "id(s), id(s + ' for sure')"
   ]
  },
  {
   "cell_type": "markdown",
   "metadata": {
    "slideshow": {
     "slide_type": "subslide"
    }
   },
   "source": [
    "### Extra stuff with strings"
   ]
  },
  {
   "cell_type": "code",
   "execution_count": null,
   "metadata": {
    "ExecuteTime": {
     "end_time": "2019-11-21T10:13:48.928900Z",
     "start_time": "2019-11-21T10:13:48.924313Z"
    },
    "slideshow": {
     "slide_type": "-"
    }
   },
   "outputs": [],
   "source": [
    "'square of 2 is ' + str(2 ** 2)"
   ]
  },
  {
   "cell_type": "code",
   "execution_count": null,
   "metadata": {
    "ExecuteTime": {
     "end_time": "2019-11-21T10:13:49.122328Z",
     "start_time": "2019-11-21T10:13:49.117524Z"
    },
    "slideshow": {
     "slide_type": "-"
    }
   },
   "outputs": [],
   "source": [
    "'square of 2 is %d' % 2 ** 2"
   ]
  },
  {
   "cell_type": "code",
   "execution_count": null,
   "metadata": {
    "ExecuteTime": {
     "end_time": "2019-11-21T10:13:49.314787Z",
     "start_time": "2019-11-21T10:13:49.310029Z"
    },
    "slideshow": {
     "slide_type": "-"
    }
   },
   "outputs": [],
   "source": [
    "'square of 2 is {}'.format(2 ** 2)"
   ]
  },
  {
   "cell_type": "code",
   "execution_count": null,
   "metadata": {
    "ExecuteTime": {
     "end_time": "2019-11-21T10:13:49.629300Z",
     "start_time": "2019-11-21T10:13:49.623878Z"
    },
    "scrolled": true,
    "slideshow": {
     "slide_type": "-"
    }
   },
   "outputs": [],
   "source": [
    "'square of 2 is {square}'.format(square=2 ** 2)"
   ]
  },
  {
   "cell_type": "code",
   "execution_count": null,
   "metadata": {
    "ExecuteTime": {
     "end_time": "2019-11-21T10:13:50.985642Z",
     "start_time": "2019-11-21T10:13:50.979767Z"
    },
    "slideshow": {
     "slide_type": "fragment"
    }
   },
   "outputs": [],
   "source": [
    "# And since Python 3.6 you can use an `f-string`\n",
    "number = 2\n",
    "square = number ** 2\n",
    "\n",
    "f'square of {number} is {square}'"
   ]
  },
  {
   "cell_type": "markdown",
   "metadata": {
    "slideshow": {
     "slide_type": "subslide"
    }
   },
   "source": [
    "### The `in` keyword\n",
    "\n",
    "You can use the `in` keyword with any container, whenever it makes sense"
   ]
  },
  {
   "cell_type": "code",
   "execution_count": null,
   "metadata": {
    "ExecuteTime": {
     "end_time": "2019-11-21T10:13:54.685962Z",
     "start_time": "2019-11-21T10:13:54.680746Z"
    },
    "scrolled": true,
    "slideshow": {
     "slide_type": "fragment"
    }
   },
   "outputs": [],
   "source": [
    "print(s)\n",
    "print('Salut' in s)"
   ]
  },
  {
   "cell_type": "code",
   "execution_count": null,
   "metadata": {
    "ExecuteTime": {
     "end_time": "2019-11-21T10:13:54.970508Z",
     "start_time": "2019-11-21T10:13:54.965543Z"
    },
    "scrolled": true,
    "slideshow": {
     "slide_type": "-"
    }
   },
   "outputs": [],
   "source": [
    "print(tt)\n",
    "print('truc' in tt)"
   ]
  },
  {
   "cell_type": "code",
   "execution_count": null,
   "metadata": {
    "ExecuteTime": {
     "end_time": "2019-11-21T10:13:56.379806Z",
     "start_time": "2019-11-21T10:13:56.374079Z"
    },
    "scrolled": true,
    "slideshow": {
     "slide_type": "fragment"
    }
   },
   "outputs": [],
   "source": [
    "print(colors)\n",
    "print('truc' in colors)"
   ]
  },
  {
   "cell_type": "code",
   "execution_count": null,
   "metadata": {
    "ExecuteTime": {
     "end_time": "2019-11-21T10:13:57.086964Z",
     "start_time": "2019-11-21T10:13:57.079305Z"
    },
    "scrolled": true
   },
   "outputs": [],
   "source": [
    "('truc', 3.14, 'truc') in colors"
   ]
  },
  {
   "cell_type": "markdown",
   "metadata": {
    "slideshow": {
     "slide_type": "subslide"
    }
   },
   "source": [
    "### Brain-f**king\n",
    "\n",
    "Explain this weird behaviour:"
   ]
  },
  {
   "cell_type": "code",
   "execution_count": null,
   "metadata": {
    "ExecuteTime": {
     "end_time": "2019-11-21T10:13:58.614642Z",
     "start_time": "2019-11-21T10:13:58.607656Z"
    },
    "scrolled": false,
    "slideshow": {
     "slide_type": "-"
    }
   },
   "outputs": [],
   "source": [
    "5 in [1, 2, 3, 4] == False"
   ]
  },
  {
   "cell_type": "code",
   "execution_count": null,
   "metadata": {
    "ExecuteTime": {
     "end_time": "2019-11-21T10:13:58.828820Z",
     "start_time": "2019-11-21T10:13:58.820983Z"
    },
    "scrolled": false,
    "slideshow": {
     "slide_type": "-"
    }
   },
   "outputs": [],
   "source": [
    "5 not in [1, 2, 3, 4]"
   ]
  },
  {
   "cell_type": "code",
   "execution_count": null,
   "metadata": {
    "ExecuteTime": {
     "end_time": "2019-11-21T10:13:58.993240Z",
     "start_time": "2019-11-21T10:13:58.986132Z"
    },
    "scrolled": true,
    "slideshow": {
     "slide_type": "-"
    }
   },
   "outputs": [],
   "source": [
    "(5 in [1, 2, 3, 4]) == False"
   ]
  },
  {
   "cell_type": "code",
   "execution_count": null,
   "metadata": {
    "ExecuteTime": {
     "end_time": "2019-11-21T10:14:00.081025Z",
     "start_time": "2019-11-21T10:14:00.072624Z"
    },
    "slideshow": {
     "slide_type": "fragment"
    }
   },
   "outputs": [],
   "source": [
    "# ANSWER.\n",
    "# This is a chained comparison. We have seen that \n",
    "1 < 2 < 3\n",
    "# is equivalent to\n",
    "(1 < 2) and (2 < 3)\n",
    "# so that\n",
    "5 in [1, 2, 3, 4] == False\n",
    "# is equivalent to\n",
    "(5 in [1, 2, 3, 4]) and ([1, 2, 3, 4] == False)"
   ]
  },
  {
   "cell_type": "markdown",
   "metadata": {
    "slideshow": {
     "slide_type": "subslide"
    }
   },
   "source": [
    "## Dictionaries\n",
    "\n",
    "- A dictionary is basically an efficient table that **maps keys to values**.\n",
    "- The **MOST** important container in Python. \n",
    "- Many things are actually a `dict` under the hood in `Python`"
   ]
  },
  {
   "cell_type": "code",
   "execution_count": null,
   "metadata": {
    "ExecuteTime": {
     "end_time": "2019-11-21T10:15:51.335453Z",
     "start_time": "2019-11-21T10:15:51.329462Z"
    },
    "slideshow": {
     "slide_type": "fragment"
    }
   },
   "outputs": [],
   "source": [
    "tel = {'emmanuelle': 5752, 'sebastian': 5578}\n",
    "print(tel)\n",
    "print(type(tel))"
   ]
  },
  {
   "cell_type": "code",
   "execution_count": null,
   "metadata": {
    "ExecuteTime": {
     "end_time": "2019-11-21T10:15:53.128698Z",
     "start_time": "2019-11-21T10:15:53.121617Z"
    },
    "scrolled": true,
    "slideshow": {
     "slide_type": "fragment"
    }
   },
   "outputs": [],
   "source": [
    "tel['emmanuelle'], tel['sebastian']"
   ]
  },
  {
   "cell_type": "code",
   "execution_count": null,
   "metadata": {
    "ExecuteTime": {
     "end_time": "2019-11-21T10:15:53.362016Z",
     "start_time": "2019-11-21T10:15:53.355236Z"
    }
   },
   "outputs": [],
   "source": [
    "tel['francis'] = '5919'\n",
    "tel"
   ]
  },
  {
   "cell_type": "code",
   "execution_count": null,
   "metadata": {
    "ExecuteTime": {
     "end_time": "2019-11-21T10:15:53.563703Z",
     "start_time": "2019-11-21T10:15:53.557487Z"
    },
    "scrolled": true
   },
   "outputs": [],
   "source": [
    "len(tel)"
   ]
  },
  {
   "cell_type": "markdown",
   "metadata": {
    "slideshow": {
     "slide_type": "subslide"
    }
   },
   "source": [
    "### Important remarks\n",
    "\n",
    "- Keys can be of different types\n",
    "- A key must be of **immutable** type"
   ]
  },
  {
   "cell_type": "code",
   "execution_count": null,
   "metadata": {
    "ExecuteTime": {
     "end_time": "2019-11-21T10:15:55.524993Z",
     "start_time": "2019-11-21T10:15:55.517465Z"
    },
    "scrolled": true
   },
   "outputs": [],
   "source": [
    "tel[7162453] = [1, 3, 2]\n",
    "tel[3.14] = 'bidule'\n",
    "tel[('jaouad', 2)] = 1234\n",
    "tel"
   ]
  },
  {
   "cell_type": "code",
   "execution_count": null,
   "metadata": {
    "ExecuteTime": {
     "end_time": "2019-11-21T10:15:55.969599Z",
     "start_time": "2019-11-21T10:15:55.959240Z"
    }
   },
   "outputs": [],
   "source": [
    "# A list is immutable\n",
    "tel[['jaouad']] = '5678'"
   ]
  },
  {
   "cell_type": "code",
   "execution_count": null,
   "metadata": {
    "ExecuteTime": {
     "end_time": "2019-11-21T10:15:58.364816Z",
     "start_time": "2019-11-21T10:15:58.356247Z"
    },
    "scrolled": false,
    "slideshow": {
     "slide_type": "subslide"
    }
   },
   "outputs": [],
   "source": [
    "tel = {'emmanuelle': 5752, 'sebastian' : 5578, 'jaouad' : 1234}\n",
    "print(tel.keys())\n",
    "print(tel.values())\n",
    "print(tel.items())"
   ]
  },
  {
   "cell_type": "code",
   "execution_count": null,
   "metadata": {
    "ExecuteTime": {
     "end_time": "2019-11-21T10:15:59.777794Z",
     "start_time": "2019-11-21T10:15:59.771275Z"
    },
    "slideshow": {
     "slide_type": "fragment"
    }
   },
   "outputs": [],
   "source": [
    "'emmanuelle' in tel"
   ]
  },
  {
   "cell_type": "code",
   "execution_count": null,
   "metadata": {
    "ExecuteTime": {
     "end_time": "2019-11-21T10:16:00.253057Z",
     "start_time": "2019-11-21T10:16:00.242730Z"
    },
    "scrolled": false
   },
   "outputs": [],
   "source": [
    "5919 in tel.values()"
   ]
  },
  {
   "cell_type": "markdown",
   "metadata": {
    "slideshow": {
     "slide_type": "subslide"
    }
   },
   "source": [
    "You can swap values like this"
   ]
  },
  {
   "cell_type": "code",
   "execution_count": null,
   "metadata": {
    "ExecuteTime": {
     "end_time": "2019-11-21T10:16:01.925464Z",
     "start_time": "2019-11-21T10:16:01.918476Z"
    },
    "scrolled": true
   },
   "outputs": [],
   "source": [
    "print(tel)\n",
    "tel['emmanuelle'], tel['sebastian'] = tel['sebastian'], tel['emmanuelle']\n",
    "print(tel)"
   ]
  },
  {
   "cell_type": "code",
   "execution_count": null,
   "metadata": {
    "ExecuteTime": {
     "end_time": "2019-11-21T10:16:02.592171Z",
     "start_time": "2019-11-21T10:16:02.583868Z"
    },
    "scrolled": true
   },
   "outputs": [],
   "source": [
    "# It works, since\n",
    "a, b = 2.71, 3.14\n",
    "a, b = b, a\n",
    "a, b"
   ]
  },
  {
   "cell_type": "markdown",
   "metadata": {
    "slideshow": {
     "slide_type": "subslide"
    }
   },
   "source": [
    "### Exercice 1\n",
    "\n",
    "Get keys of `tel` sorted by decreasing order"
   ]
  },
  {
   "cell_type": "code",
   "execution_count": null,
   "metadata": {
    "ExecuteTime": {
     "end_time": "2019-11-21T10:16:05.319742Z",
     "start_time": "2019-11-21T10:16:05.315733Z"
    },
    "slideshow": {
     "slide_type": "-"
    }
   },
   "outputs": [],
   "source": [
    "tel = {'emmanuelle': 5752, 'sebastian' : 5578, 'jaouad' : 1234}"
   ]
  },
  {
   "cell_type": "markdown",
   "metadata": {
    "slideshow": {
     "slide_type": "fragment"
    }
   },
   "source": [
    "#### Answer"
   ]
  },
  {
   "cell_type": "code",
   "execution_count": null,
   "metadata": {
    "ExecuteTime": {
     "end_time": "2019-11-21T10:16:07.147037Z",
     "start_time": "2019-11-21T10:16:07.137621Z"
    },
    "scrolled": true
   },
   "outputs": [],
   "source": [
    "sorted(tel, reverse=True)"
   ]
  },
  {
   "cell_type": "markdown",
   "metadata": {
    "slideshow": {
     "slide_type": "subslide"
    }
   },
   "source": [
    "### Exercice 2\n",
    "\n",
    "Get keys of `tel` sorted by increasing values\n"
   ]
  },
  {
   "cell_type": "code",
   "execution_count": null,
   "metadata": {
    "ExecuteTime": {
     "end_time": "2019-11-21T10:16:08.903914Z",
     "start_time": "2019-11-21T10:16:08.899599Z"
    }
   },
   "outputs": [],
   "source": [
    "tel = {'emmanuelle': 5752, 'sebastian' : 5578, 'jaouad' : 1234}"
   ]
  },
  {
   "cell_type": "markdown",
   "metadata": {
    "slideshow": {
     "slide_type": "fragment"
    }
   },
   "source": [
    "#### Answer"
   ]
  },
  {
   "cell_type": "code",
   "execution_count": null,
   "metadata": {
    "ExecuteTime": {
     "end_time": "2019-11-21T10:16:09.898778Z",
     "start_time": "2019-11-21T10:16:09.892174Z"
    },
    "slideshow": {
     "slide_type": "-"
    }
   },
   "outputs": [],
   "source": [
    "sorted(tel, key=tel.get)"
   ]
  },
  {
   "cell_type": "markdown",
   "metadata": {
    "slideshow": {
     "slide_type": "subslide"
    }
   },
   "source": [
    "### Exercice 3\n",
    "\n",
    "Obtain a sorted-by-key version of `tel`"
   ]
  },
  {
   "cell_type": "code",
   "execution_count": null,
   "metadata": {
    "ExecuteTime": {
     "end_time": "2019-11-21T10:17:42.783690Z",
     "start_time": "2019-11-21T10:17:42.779176Z"
    }
   },
   "outputs": [],
   "source": [
    "tel = {'emmanuelle': 5752, 'sebastian' : 5578, 'jaouad' : 1234}"
   ]
  },
  {
   "cell_type": "markdown",
   "metadata": {
    "slideshow": {
     "slide_type": "fragment"
    }
   },
   "source": [
    "#### Answer\n",
    "\n",
    "- A dict is inherently **orderless**\n",
    "- Only a representation of a dict can be ordered"
   ]
  },
  {
   "cell_type": "code",
   "execution_count": null,
   "metadata": {
    "ExecuteTime": {
     "end_time": "2019-11-21T10:17:46.605702Z",
     "start_time": "2019-11-21T10:17:46.598461Z"
    },
    "scrolled": false,
    "slideshow": {
     "slide_type": "fragment"
    }
   },
   "outputs": [],
   "source": [
    "# Simplest is through a list\n",
    "sorted(tel.items())"
   ]
  },
  {
   "cell_type": "markdown",
   "metadata": {
    "slideshow": {
     "slide_type": "subslide"
    }
   },
   "source": [
    "If you really want an ordered dict `OrderDict` memorizes order of insertion in it"
   ]
  },
  {
   "cell_type": "code",
   "execution_count": null,
   "metadata": {
    "ExecuteTime": {
     "end_time": "2019-11-21T10:17:48.252057Z",
     "start_time": "2019-11-21T10:17:48.245425Z"
    },
    "scrolled": false
   },
   "outputs": [],
   "source": [
    "from collections import OrderedDict\n",
    "\n",
    "OrderedDict(sorted(tel.items()))"
   ]
  },
  {
   "cell_type": "markdown",
   "metadata": {
    "slideshow": {
     "slide_type": "subslide"
    }
   },
   "source": [
    "## Sets\n",
    "\n",
    "A set is an unordered container, containing unique elements"
   ]
  },
  {
   "cell_type": "code",
   "execution_count": null,
   "metadata": {
    "ExecuteTime": {
     "end_time": "2019-11-21T10:17:50.378472Z",
     "start_time": "2019-11-21T10:17:50.369911Z"
    },
    "scrolled": true
   },
   "outputs": [],
   "source": [
    "ss = {1, 2, 2, 2, 3, 3, 'tintin', 'tintin', 'toto'}\n",
    "ss"
   ]
  },
  {
   "cell_type": "code",
   "execution_count": null,
   "metadata": {
    "ExecuteTime": {
     "end_time": "2019-11-21T10:17:50.898059Z",
     "start_time": "2019-11-21T10:17:50.891285Z"
    },
    "scrolled": false
   },
   "outputs": [],
   "source": [
    "s = 'truc truc bidule truc'\n",
    "set(s)"
   ]
  },
  {
   "cell_type": "code",
   "execution_count": null,
   "metadata": {
    "ExecuteTime": {
     "end_time": "2019-11-21T10:17:52.726593Z",
     "start_time": "2019-11-21T10:17:52.718267Z"
    },
    "slideshow": {
     "slide_type": "fragment"
    }
   },
   "outputs": [],
   "source": [
    "{1, 5, 2, 1, 1}.union({1, 2, 3})"
   ]
  },
  {
   "cell_type": "code",
   "execution_count": null,
   "metadata": {
    "ExecuteTime": {
     "end_time": "2019-11-21T10:17:52.949442Z",
     "start_time": "2019-11-21T10:17:52.941154Z"
    }
   },
   "outputs": [],
   "source": [
    "set([1, 5, 2, 1, 1]).intersection(set([1, 2, 3]))"
   ]
  },
  {
   "cell_type": "code",
   "execution_count": null,
   "metadata": {
    "ExecuteTime": {
     "end_time": "2019-11-21T10:17:54.329719Z",
     "start_time": "2019-11-21T10:17:54.322488Z"
    }
   },
   "outputs": [],
   "source": [
    "ss.add('tintin')\n",
    "ss"
   ]
  },
  {
   "cell_type": "markdown",
   "metadata": {
    "slideshow": {
     "slide_type": "subslide"
    }
   },
   "source": [
    "You can combine all containers together"
   ]
  },
  {
   "cell_type": "code",
   "execution_count": null,
   "metadata": {
    "ExecuteTime": {
     "end_time": "2019-11-21T10:17:56.461975Z",
     "start_time": "2019-11-21T10:17:56.453524Z"
    },
    "scrolled": true
   },
   "outputs": [],
   "source": [
    "dd = {\n",
    "    'truc': [1, 2, 3], \n",
    "    5: (1, 4, 2),\n",
    "    (1, 3): {'hello', 'world'}\n",
    "}\n",
    "dd"
   ]
  },
  {
   "cell_type": "markdown",
   "metadata": {
    "slideshow": {
     "slide_type": "slide"
    }
   },
   "source": [
    "# Assigments in `Python` is name binding\n",
    "\n",
    "## Everything is either mutable or immutable"
   ]
  },
  {
   "cell_type": "code",
   "execution_count": null,
   "metadata": {
    "ExecuteTime": {
     "end_time": "2019-11-21T10:18:16.958142Z",
     "start_time": "2019-11-21T10:18:16.951832Z"
    },
    "slideshow": {
     "slide_type": "subslide"
    }
   },
   "outputs": [],
   "source": [
    "ss = {1, 2, 3}\n",
    "sss = ss\n",
    "sss, ss"
   ]
  },
  {
   "cell_type": "code",
   "execution_count": null,
   "metadata": {
    "ExecuteTime": {
     "end_time": "2019-11-21T10:18:17.622773Z",
     "start_time": "2019-11-21T10:18:17.615125Z"
    },
    "scrolled": true,
    "slideshow": {
     "slide_type": "-"
    }
   },
   "outputs": [],
   "source": [
    "sss.add(4)"
   ]
  },
  {
   "cell_type": "markdown",
   "metadata": {
    "slideshow": {
     "slide_type": "-"
    }
   },
   "source": [
    "**Question.** What is in `ss` ?"
   ]
  },
  {
   "cell_type": "code",
   "execution_count": null,
   "metadata": {
    "ExecuteTime": {
     "end_time": "2019-11-21T10:18:21.414168Z",
     "start_time": "2019-11-21T10:18:21.407105Z"
    },
    "scrolled": true,
    "slideshow": {
     "slide_type": "fragment"
    }
   },
   "outputs": [],
   "source": [
    "ss, sss"
   ]
  },
  {
   "cell_type": "markdown",
   "metadata": {
    "slideshow": {
     "slide_type": "fragment"
    }
   },
   "source": [
    "`ss` and `sss` are names for the same object"
   ]
  },
  {
   "cell_type": "code",
   "execution_count": null,
   "metadata": {
    "ExecuteTime": {
     "end_time": "2019-11-21T10:18:23.054033Z",
     "start_time": "2019-11-21T10:18:23.046911Z"
    },
    "scrolled": false,
    "slideshow": {
     "slide_type": "-"
    }
   },
   "outputs": [],
   "source": [
    "id(ss), id(sss)"
   ]
  },
  {
   "cell_type": "code",
   "execution_count": null,
   "metadata": {
    "ExecuteTime": {
     "end_time": "2019-11-21T10:18:23.555440Z",
     "start_time": "2019-11-21T10:18:23.547814Z"
    },
    "slideshow": {
     "slide_type": "-"
    }
   },
   "outputs": [],
   "source": [
    "ss is sss"
   ]
  },
  {
   "cell_type": "markdown",
   "metadata": {
    "slideshow": {
     "slide_type": "subslide"
    }
   },
   "source": [
    "## About assigments\n",
    "\n",
    "- Python never copies an object\n",
    "- Unless you ask him to\n",
    "\n",
    "When you code\n",
    "```python\n",
    "x = [1, 2, 3]\n",
    "y = x\n",
    "```\n",
    "you just\n",
    "- **bind** the variable name `x` to a list `[1, 2, 3]`\n",
    "- give another name `y` to the same object"
   ]
  },
  {
   "cell_type": "markdown",
   "metadata": {
    "slideshow": {
     "slide_type": "subslide"
    }
   },
   "source": [
    "**Important remarks**\n",
    "\n",
    "- **Everything** is an object in Python\n",
    "- Either **immutable** or **mutable**"
   ]
  },
  {
   "cell_type": "code",
   "execution_count": null,
   "metadata": {
    "ExecuteTime": {
     "end_time": "2019-11-21T10:18:28.084163Z",
     "start_time": "2019-11-21T10:18:28.074570Z"
    },
    "scrolled": false
   },
   "outputs": [],
   "source": [
    "id(1), id(1+1), id(2)"
   ]
  },
  {
   "cell_type": "markdown",
   "metadata": {
    "slideshow": {
     "slide_type": "fragment"
    }
   },
   "source": [
    "**A `list` is mutable**"
   ]
  },
  {
   "cell_type": "code",
   "execution_count": null,
   "metadata": {
    "ExecuteTime": {
     "end_time": "2019-11-21T10:18:29.393236Z",
     "start_time": "2019-11-21T10:18:29.383501Z"
    },
    "scrolled": true,
    "slideshow": {
     "slide_type": "-"
    }
   },
   "outputs": [],
   "source": [
    "x = [1, 2, 3]\n",
    "print(id(x), x)\n",
    "x[0] += 42; x.append(3.14)\n",
    "print(id(x), x)"
   ]
  },
  {
   "cell_type": "markdown",
   "metadata": {
    "slideshow": {
     "slide_type": "subslide"
    }
   },
   "source": [
    "**A `str` is immutable**\n",
    "\n",
    "In order to \"change\" an **immutable** object, Python creates a new one"
   ]
  },
  {
   "cell_type": "code",
   "execution_count": null,
   "metadata": {
    "ExecuteTime": {
     "end_time": "2019-11-21T10:18:30.808151Z",
     "start_time": "2019-11-21T10:18:30.802137Z"
    },
    "scrolled": false
   },
   "outputs": [],
   "source": [
    "s = 'to'\n",
    "print(id(s), s)\n",
    "s += 'to'\n",
    "print(id(s), s)"
   ]
  },
  {
   "cell_type": "markdown",
   "metadata": {
    "slideshow": {
     "slide_type": "subslide"
    }
   },
   "source": [
    "**Once again, a `list` is mutable**"
   ]
  },
  {
   "cell_type": "code",
   "execution_count": null,
   "metadata": {
    "ExecuteTime": {
     "end_time": "2019-11-21T10:18:38.608868Z",
     "start_time": "2019-11-21T10:18:38.602979Z"
    },
    "scrolled": false,
    "slideshow": {
     "slide_type": "-"
    }
   },
   "outputs": [],
   "source": [
    "super_list = [3.14, (1, 2, 3), 'tintin']\n",
    "other_list = super_list\n",
    "id(other_list), id(super_list)"
   ]
  },
  {
   "cell_type": "markdown",
   "metadata": {
    "slideshow": {
     "slide_type": "-"
    }
   },
   "source": [
    "- `other_list` and `super_list` are the same list\n",
    "- If you change one, you change the other.\n",
    "- `id` returns the identity of an object. Two objects with the same idendity are the same (not only the same type, but the same instance)"
   ]
  },
  {
   "cell_type": "code",
   "execution_count": null,
   "metadata": {
    "ExecuteTime": {
     "end_time": "2019-11-21T10:18:39.420373Z",
     "start_time": "2019-11-21T10:18:39.414570Z"
    }
   },
   "outputs": [],
   "source": [
    "other_list[1] = 'youps'\n",
    "other_list, super_list"
   ]
  },
  {
   "cell_type": "markdown",
   "metadata": {
    "slideshow": {
     "slide_type": "subslide"
    }
   },
   "source": [
    "## If you want a copy, to need to ask for one"
   ]
  },
  {
   "cell_type": "code",
   "execution_count": null,
   "metadata": {
    "ExecuteTime": {
     "end_time": "2019-11-21T10:18:41.823878Z",
     "start_time": "2019-11-21T10:18:41.818556Z"
    }
   },
   "outputs": [],
   "source": [
    "other_list = super_list.copy()\n",
    "id(other_list), id(super_list)"
   ]
  },
  {
   "cell_type": "code",
   "execution_count": null,
   "metadata": {
    "ExecuteTime": {
     "end_time": "2019-11-21T10:18:42.310114Z",
     "start_time": "2019-11-21T10:18:42.304960Z"
    }
   },
   "outputs": [],
   "source": [
    "other_list[1] = 'copy'\n",
    "other_list, super_list"
   ]
  },
  {
   "cell_type": "markdown",
   "metadata": {},
   "source": [
    "Only `other_list` is modified. "
   ]
  },
  {
   "cell_type": "markdown",
   "metadata": {
    "slideshow": {
     "slide_type": "subslide"
    }
   },
   "source": [
    "But... what if you have a `list` of `list` ? (or a mutable object containing mutable objects)"
   ]
  },
  {
   "cell_type": "code",
   "execution_count": null,
   "metadata": {
    "ExecuteTime": {
     "end_time": "2019-11-21T10:18:47.692971Z",
     "start_time": "2019-11-21T10:18:47.687206Z"
    },
    "slideshow": {
     "slide_type": "fragment"
    }
   },
   "outputs": [],
   "source": [
    "l1, l2 = [1, 2, 3], [4, 5, 6]\n",
    "list_list = [l1, l2]\n",
    "list_list"
   ]
  },
  {
   "cell_type": "markdown",
   "metadata": {},
   "source": [
    "Let's make a copy of `list_list`"
   ]
  },
  {
   "cell_type": "code",
   "execution_count": null,
   "metadata": {
    "ExecuteTime": {
     "end_time": "2019-11-21T10:18:48.976640Z",
     "start_time": "2019-11-21T10:18:48.971987Z"
    }
   },
   "outputs": [],
   "source": [
    "copy_list = list_list.copy()\n",
    "copy_list.append('super')\n",
    "list_list, copy_list"
   ]
  },
  {
   "cell_type": "markdown",
   "metadata": {},
   "source": [
    "OK, only `copy_list` is modified, as expected"
   ]
  },
  {
   "cell_type": "markdown",
   "metadata": {
    "slideshow": {
     "slide_type": "subslide"
    }
   },
   "source": [
    "But now..."
   ]
  },
  {
   "cell_type": "code",
   "execution_count": null,
   "metadata": {
    "ExecuteTime": {
     "end_time": "2019-11-21T10:18:50.452187Z",
     "start_time": "2019-11-21T10:18:50.446725Z"
    }
   },
   "outputs": [],
   "source": [
    "copy_list[0][1] = 'oups'\n",
    "copy_list, list_list"
   ]
  },
  {
   "cell_type": "markdown",
   "metadata": {
    "slideshow": {
     "slide_type": "fragment"
    }
   },
   "source": [
    "**Question.** What happened ?!?"
   ]
  },
  {
   "cell_type": "markdown",
   "metadata": {
    "slideshow": {
     "slide_type": "fragment"
    }
   },
   "source": [
    "- The `list_list` object is copied\n",
    "- But NOT what it's containing !\n",
    "- By default `copy` does a *shallow* copy, not a *deep* copy\n",
    "- It does not build copies of what is contained\n",
    "- If you want to copy an object and all that is contained in it, you need to use `deepcopy`."
   ]
  },
  {
   "cell_type": "code",
   "execution_count": null,
   "metadata": {
    "ExecuteTime": {
     "end_time": "2019-11-21T10:18:53.463975Z",
     "start_time": "2019-11-21T10:18:53.458217Z"
    }
   },
   "outputs": [],
   "source": [
    "from copy import deepcopy\n",
    "\n",
    "copy_list = deepcopy(list_list)\n",
    "copy_list[0][1] = 'incredible !'\n",
    "list_list, copy_list"
   ]
  },
  {
   "cell_type": "markdown",
   "metadata": {
    "slideshow": {
     "slide_type": "subslide"
    }
   },
   "source": [
    "## Final remarks"
   ]
  },
  {
   "cell_type": "code",
   "execution_count": null,
   "metadata": {
    "ExecuteTime": {
     "end_time": "2019-11-21T10:19:19.968213Z",
     "start_time": "2019-11-21T10:19:19.962831Z"
    }
   },
   "outputs": [],
   "source": [
    "tt = ([1, 2, 3], [4, 5, 6])\n",
    "print(id(tt), tt)\n",
    "print(list(map(id, tt)))"
   ]
  },
  {
   "cell_type": "code",
   "execution_count": null,
   "metadata": {
    "ExecuteTime": {
     "end_time": "2019-11-21T10:19:21.191415Z",
     "start_time": "2019-11-21T10:19:21.187003Z"
    },
    "scrolled": true
   },
   "outputs": [],
   "source": [
    "tt[0][1] = '42'\n",
    "print(id(tt), tt)\n",
    "print(list(map(id, tt)))"
   ]
  },
  {
   "cell_type": "markdown",
   "metadata": {
    "slideshow": {
     "slide_type": "slide"
    }
   },
   "source": [
    "# Control flow and other stuff...\n",
    "\n",
    "Namely tests, loops, again booleans, etc."
   ]
  },
  {
   "cell_type": "code",
   "execution_count": null,
   "metadata": {
    "ExecuteTime": {
     "end_time": "2019-11-21T10:19:31.624202Z",
     "start_time": "2019-11-21T10:19:31.617741Z"
    },
    "slideshow": {
     "slide_type": "subslide"
    }
   },
   "outputs": [],
   "source": [
    "if 2 ** 2 == 5:\n",
    "    print('Obvious')\n",
    "else:\n",
    "    print('YES')\n",
    "print('toujours')"
   ]
  },
  {
   "cell_type": "markdown",
   "metadata": {
    "slideshow": {
     "slide_type": "subslide"
    }
   },
   "source": [
    "## Blocks are delimited by indentation!"
   ]
  },
  {
   "cell_type": "code",
   "execution_count": null,
   "metadata": {
    "ExecuteTime": {
     "end_time": "2019-11-21T10:19:34.084030Z",
     "start_time": "2019-11-21T10:19:34.078230Z"
    }
   },
   "outputs": [],
   "source": [
    "a = 3\n",
    "if a > 0:\n",
    "    if a == 1:\n",
    "        print(1)\n",
    "    elif a == 2:\n",
    "        print(2)\n",
    "elif a == 2:\n",
    "    print(2)\n",
    "elif a == 3:\n",
    "    print(3)\n",
    "else:\n",
    "    print(a)"
   ]
  },
  {
   "cell_type": "markdown",
   "metadata": {
    "slideshow": {
     "slide_type": "subslide"
    }
   },
   "source": [
    "## Anything can be understood as a boolean\n",
    "\n",
    "For example, don't do this to test if a list is empty"
   ]
  },
  {
   "cell_type": "code",
   "execution_count": null,
   "metadata": {
    "ExecuteTime": {
     "end_time": "2019-11-21T10:19:36.075166Z",
     "start_time": "2019-11-21T10:19:36.068218Z"
    }
   },
   "outputs": [],
   "source": [
    "l2 = ['hello', 'everybody']\n",
    "\n",
    "if len(l2) > 0:\n",
    "    print(l2[0])"
   ]
  },
  {
   "cell_type": "markdown",
   "metadata": {},
   "source": [
    "but this"
   ]
  },
  {
   "cell_type": "code",
   "execution_count": null,
   "metadata": {
    "ExecuteTime": {
     "end_time": "2019-11-21T10:19:39.210456Z",
     "start_time": "2019-11-21T10:19:39.204853Z"
    }
   },
   "outputs": [],
   "source": [
    "if l2:\n",
    "    print(l2[0])"
   ]
  },
  {
   "cell_type": "markdown",
   "metadata": {
    "slideshow": {
     "slide_type": "subslide"
    }
   },
   "source": [
    "**Some poetry**\n",
    "\n",
    "- An empty `dict` is `False`\n",
    "- An empty `string` is `False`\n",
    "- An empty `list` is `False`\n",
    "- An empty `tuple` is `False`\n",
    "- An empty `set` is `False`\n",
    "- `0` is `False`\n",
    "- `.0` is `False`\n",
    "- etc...\n",
    "- everything else is `True`"
   ]
  },
  {
   "cell_type": "markdown",
   "metadata": {
    "slideshow": {
     "slide_type": "subslide"
    }
   },
   "source": [
    "## While loops"
   ]
  },
  {
   "cell_type": "code",
   "execution_count": null,
   "metadata": {
    "ExecuteTime": {
     "end_time": "2019-11-21T10:19:43.903981Z",
     "start_time": "2019-11-21T10:19:43.892103Z"
    }
   },
   "outputs": [],
   "source": [
    "a = 10\n",
    "b = 1\n",
    "while b < a:\n",
    "    b = b + 1\n",
    "    print(b)"
   ]
  },
  {
   "cell_type": "markdown",
   "metadata": {
    "slideshow": {
     "slide_type": "subslide"
    }
   },
   "source": [
    "Compute the decimals of Pi using the Wallis formula\n",
    "\n",
    "$$\n",
    "\\pi = 2 \\prod_{i=1}^{100} \\frac{4i^2}{4i^2 - 1}\n",
    "$$"
   ]
  },
  {
   "cell_type": "code",
   "execution_count": null,
   "metadata": {
    "ExecuteTime": {
     "end_time": "2019-11-21T10:20:03.607782Z",
     "start_time": "2019-11-21T10:20:03.508505Z"
    }
   },
   "outputs": [],
   "source": [
    "pi = 2\n",
    "eps = 1e-10\n",
    "dif = 2 * eps\n",
    "i = 1\n",
    "while dif > eps:\n",
    "    pi, i, old_pi = pi * 4 * i ** 2 / (4 * i ** 2 - 1), i + 1, pi\n",
    "    dif = pi - old_pi"
   ]
  },
  {
   "cell_type": "code",
   "execution_count": null,
   "metadata": {
    "ExecuteTime": {
     "end_time": "2019-11-21T10:20:04.054508Z",
     "start_time": "2019-11-21T10:20:04.048400Z"
    }
   },
   "outputs": [],
   "source": [
    "pi"
   ]
  },
  {
   "cell_type": "code",
   "execution_count": null,
   "metadata": {
    "ExecuteTime": {
     "end_time": "2019-11-21T10:20:05.153791Z",
     "start_time": "2019-11-21T10:20:05.147516Z"
    }
   },
   "outputs": [],
   "source": [
    "from math import pi\n",
    "\n",
    "pi"
   ]
  },
  {
   "cell_type": "markdown",
   "metadata": {
    "slideshow": {
     "slide_type": "subslide"
    }
   },
   "source": [
    "##  `for` loop with `range`\n",
    "- Iteration with an index, with a list, with many things !\n",
    "- `range` has the same parameters as with slicing `start:end:stride`, all parameters being optional"
   ]
  },
  {
   "cell_type": "code",
   "execution_count": null,
   "metadata": {
    "ExecuteTime": {
     "end_time": "2019-11-21T10:20:10.196986Z",
     "start_time": "2019-11-21T10:20:10.189782Z"
    },
    "scrolled": true
   },
   "outputs": [],
   "source": [
    "for i in range(7, 1, -1):\n",
    "    print(i)"
   ]
  },
  {
   "cell_type": "code",
   "execution_count": null,
   "metadata": {
    "ExecuteTime": {
     "end_time": "2019-11-21T10:20:14.370627Z",
     "start_time": "2019-11-21T10:20:14.356534Z"
    },
    "slideshow": {
     "slide_type": "subslide"
    }
   },
   "outputs": [],
   "source": [
    "for i in range(4):\n",
    "    print(i + 1)\n",
    "print('-')\n",
    "\n",
    "for i in range(1, 5):\n",
    "    print(i)\n",
    "print('-')\n",
    "\n",
    "for i in range(1, 10, 3):\n",
    "    print(i)"
   ]
  },
  {
   "cell_type": "markdown",
   "metadata": {
    "slideshow": {
     "slide_type": "subslide"
    }
   },
   "source": [
    "**Something for nerds**. You can use `else` in a `for` loop"
   ]
  },
  {
   "cell_type": "code",
   "execution_count": null,
   "metadata": {
    "ExecuteTime": {
     "end_time": "2019-11-21T10:20:21.890339Z",
     "start_time": "2019-11-21T10:20:21.884290Z"
    }
   },
   "outputs": [],
   "source": [
    "names = ['stephane', 'mokhtar', 'jaouad', 'simon', 'yiyang']\n",
    "\n",
    "for name in names:\n",
    "    if name.startswith('u'):\n",
    "        print(name)\n",
    "        break\n",
    "else:\n",
    "    print('Not found.')"
   ]
  },
  {
   "cell_type": "code",
   "execution_count": null,
   "metadata": {
    "ExecuteTime": {
     "end_time": "2019-11-21T10:20:27.053451Z",
     "start_time": "2019-11-21T10:20:27.047279Z"
    }
   },
   "outputs": [],
   "source": [
    "names = ['stephane', 'mokhtar', 'jaouad', 'ulysse', 'simon', 'yiyang']\n",
    "\n",
    "for name in names:\n",
    "    if name.startswith('u'):\n",
    "        print(name)\n",
    "        break\n",
    "else:\n",
    "    print('Not found.')"
   ]
  },
  {
   "cell_type": "markdown",
   "metadata": {
    "slideshow": {
     "slide_type": "subslide"
    }
   },
   "source": [
    "## For loops over iterable objects\n",
    "\n",
    "You can iterate using `for` over any container: `list`, `tuple`, `dict`, `str`, `set` among others..."
   ]
  },
  {
   "cell_type": "code",
   "execution_count": null,
   "metadata": {
    "ExecuteTime": {
     "end_time": "2019-11-21T10:20:28.830489Z",
     "start_time": "2019-11-21T10:20:28.826929Z"
    }
   },
   "outputs": [],
   "source": [
    "colors = ['red', 'blue', 'black', 'white']\n",
    "peoples = ['stephane', 'jaouad', 'mokhtar', 'yiyang']"
   ]
  },
  {
   "cell_type": "code",
   "execution_count": null,
   "metadata": {
    "ExecuteTime": {
     "end_time": "2019-11-21T10:20:29.203691Z",
     "start_time": "2019-11-21T10:20:29.196099Z"
    },
    "scrolled": true
   },
   "outputs": [],
   "source": [
    "# This is stupid\n",
    "for i in range(len(colors)):\n",
    "    print(colors[i])\n",
    "    \n",
    "# This is better\n",
    "for color in colors:\n",
    "    print(color)"
   ]
  },
  {
   "cell_type": "markdown",
   "metadata": {
    "slideshow": {
     "slide_type": "subslide"
    }
   },
   "source": [
    "To iterate over several sequences at the same time, use `zip`"
   ]
  },
  {
   "cell_type": "code",
   "execution_count": null,
   "metadata": {
    "ExecuteTime": {
     "end_time": "2019-11-21T10:20:36.709005Z",
     "start_time": "2019-11-21T10:20:36.703275Z"
    }
   },
   "outputs": [],
   "source": [
    "for color, people in zip(colors, peoples):\n",
    "    print(color, people)"
   ]
  },
  {
   "cell_type": "code",
   "execution_count": null,
   "metadata": {
    "ExecuteTime": {
     "end_time": "2019-11-21T10:20:37.135003Z",
     "start_time": "2019-11-21T10:20:37.128970Z"
    },
    "scrolled": true,
    "slideshow": {
     "slide_type": "fragment"
    }
   },
   "outputs": [],
   "source": [
    "l = [\"Bonjour\", {'francis': 5214, 'stephane': 5123}, ('truc', 3)]\n",
    "for e in l:\n",
    "    print(e, len(e))"
   ]
  },
  {
   "cell_type": "markdown",
   "metadata": {
    "slideshow": {
     "slide_type": "subslide"
    }
   },
   "source": [
    "**Loop over a `str`**"
   ]
  },
  {
   "cell_type": "code",
   "execution_count": null,
   "metadata": {
    "ExecuteTime": {
     "end_time": "2019-11-21T10:20:38.430349Z",
     "start_time": "2019-11-21T10:20:38.424586Z"
    },
    "scrolled": true
   },
   "outputs": [],
   "source": [
    "s = 'Bonjour'\n",
    "for c in s:\n",
    "    print(c)"
   ]
  },
  {
   "cell_type": "markdown",
   "metadata": {
    "slideshow": {
     "slide_type": "subslide"
    }
   },
   "source": [
    "**Loop over a `dict`**"
   ]
  },
  {
   "cell_type": "code",
   "execution_count": null,
   "metadata": {
    "ExecuteTime": {
     "end_time": "2019-11-21T10:20:39.861726Z",
     "start_time": "2019-11-21T10:20:39.854314Z"
    },
    "scrolled": true
   },
   "outputs": [],
   "source": [
    "dd = {(1, 3): {'hello', 'world'}, 'truc': [1, 2, 3], 5: (1, 4, 2)}\n",
    "\n",
    "# Default is to loop over keys\n",
    "for key in dd:\n",
    "    print(key)"
   ]
  },
  {
   "cell_type": "code",
   "execution_count": null,
   "metadata": {
    "ExecuteTime": {
     "end_time": "2019-11-21T10:20:40.220270Z",
     "start_time": "2019-11-21T10:20:40.214737Z"
    },
    "scrolled": true
   },
   "outputs": [],
   "source": [
    "# Loop over values\n",
    "for e in dd.values():\n",
    "    print(e)"
   ]
  },
  {
   "cell_type": "code",
   "execution_count": null,
   "metadata": {
    "ExecuteTime": {
     "end_time": "2019-11-21T10:20:40.625192Z",
     "start_time": "2019-11-21T10:20:40.617231Z"
    }
   },
   "outputs": [],
   "source": [
    "# Loop over items (key, value) pairs\n",
    "for key, val in dd.items():\n",
    "    print(key, val)"
   ]
  },
  {
   "cell_type": "markdown",
   "metadata": {
    "slideshow": {
     "slide_type": "subslide"
    }
   },
   "source": [
    "## Comprehensions\n",
    "\n",
    "You can construct a `list`, `dict`, `set` and others using the **comprehension** syntax\n",
    "\n",
    "**`list` comprehension**"
   ]
  },
  {
   "cell_type": "code",
   "execution_count": null,
   "metadata": {
    "ExecuteTime": {
     "end_time": "2019-11-21T10:20:42.079070Z",
     "start_time": "2019-11-21T10:20:42.069194Z"
    }
   },
   "outputs": [],
   "source": [
    "print(colors)\n",
    "print(peoples)\n",
    "\n",
    "# The list of people with favorite color that has no more than 4 characters\n",
    "[people for color, people in zip(colors, peoples) if len(color) <= 4]"
   ]
  },
  {
   "cell_type": "markdown",
   "metadata": {
    "slideshow": {
     "slide_type": "subslide"
    }
   },
   "source": [
    "**`dict` comprehension**"
   ]
  },
  {
   "cell_type": "code",
   "execution_count": null,
   "metadata": {
    "ExecuteTime": {
     "end_time": "2019-11-21T10:20:43.928166Z",
     "start_time": "2019-11-21T10:20:43.918224Z"
    },
    "scrolled": true
   },
   "outputs": [],
   "source": [
    "{people: color for color, people in zip(colors, peoples) if len(color) <= 4}"
   ]
  },
  {
   "cell_type": "code",
   "execution_count": null,
   "metadata": {
    "ExecuteTime": {
     "end_time": "2019-11-21T10:20:45.524032Z",
     "start_time": "2019-11-21T10:20:45.518445Z"
    },
    "slideshow": {
     "slide_type": "fragment"
    }
   },
   "outputs": [],
   "source": [
    "# Allows to build a dict from two lists (for keys and values)\n",
    "{key: value for (key, value) in zip(peoples, colors)}"
   ]
  },
  {
   "cell_type": "code",
   "execution_count": null,
   "metadata": {
    "ExecuteTime": {
     "end_time": "2019-11-21T10:20:46.440820Z",
     "start_time": "2019-11-21T10:20:46.432841Z"
    }
   },
   "outputs": [],
   "source": [
    "# But it's simpler (so better) to use\n",
    "dict(zip(peoples, colors))"
   ]
  },
  {
   "cell_type": "markdown",
   "metadata": {
    "slideshow": {
     "slide_type": "subslide"
    }
   },
   "source": [
    "Something very convenient is `enumerate`"
   ]
  },
  {
   "cell_type": "code",
   "execution_count": null,
   "metadata": {
    "ExecuteTime": {
     "end_time": "2019-11-21T10:20:48.066841Z",
     "start_time": "2019-11-21T10:20:48.059487Z"
    }
   },
   "outputs": [],
   "source": [
    "for i, color in enumerate(colors):\n",
    "    print(i, color)"
   ]
  },
  {
   "cell_type": "code",
   "execution_count": null,
   "metadata": {
    "ExecuteTime": {
     "end_time": "2019-11-21T10:20:48.993913Z",
     "start_time": "2019-11-21T10:20:48.988018Z"
    }
   },
   "outputs": [],
   "source": [
    "list(enumerate(colors))"
   ]
  },
  {
   "cell_type": "code",
   "execution_count": null,
   "metadata": {
    "ExecuteTime": {
     "end_time": "2019-11-21T10:20:50.026784Z",
     "start_time": "2019-11-21T10:20:50.022169Z"
    },
    "slideshow": {
     "slide_type": "fragment"
    }
   },
   "outputs": [],
   "source": [
    "print(dict(enumerate(s)))"
   ]
  },
  {
   "cell_type": "code",
   "execution_count": null,
   "metadata": {
    "ExecuteTime": {
     "end_time": "2019-11-21T10:20:50.261134Z",
     "start_time": "2019-11-21T10:20:50.252724Z"
    }
   },
   "outputs": [],
   "source": [
    "s = 'Hey everyone'\n",
    "{c: i for i, c in enumerate(s)}"
   ]
  },
  {
   "cell_type": "markdown",
   "metadata": {
    "slideshow": {
     "slide_type": "slide"
    }
   },
   "source": [
    "## About functional programming\n",
    "\n",
    "We can use `lambda` to define **anonymous** functions, and use them in the `map` and `reduce` functions"
   ]
  },
  {
   "cell_type": "code",
   "execution_count": null,
   "metadata": {
    "ExecuteTime": {
     "end_time": "2019-11-30T14:56:30.184092Z",
     "start_time": "2019-11-30T14:56:30.178404Z"
    },
    "scrolled": true
   },
   "outputs": [],
   "source": [
    "square = lambda x: x ** 2\n",
    "square(2)"
   ]
  },
  {
   "cell_type": "code",
   "execution_count": null,
   "metadata": {
    "ExecuteTime": {
     "end_time": "2019-11-30T14:56:30.947686Z",
     "start_time": "2019-11-30T14:56:30.941495Z"
    }
   },
   "outputs": [],
   "source": [
    "sum2 = lambda a, b: a + b\n",
    "print(sum2('Hello', ' world'))\n",
    "print(sum2(1, 2))"
   ]
  },
  {
   "cell_type": "markdown",
   "metadata": {},
   "source": [
    "Intended for short and one-line function. \n",
    "\n",
    "More complex functions use `def` (see below)"
   ]
  },
  {
   "cell_type": "markdown",
   "metadata": {
    "slideshow": {
     "slide_type": "subslide"
    }
   },
   "source": [
    "## Exercice\n",
    "\n",
    "Print the squares of even numbers between 0 et 15\n",
    "\n",
    "1. Using a list comprehension as before\n",
    "2. Using `map`"
   ]
  },
  {
   "cell_type": "code",
   "execution_count": null,
   "metadata": {
    "ExecuteTime": {
     "end_time": "2019-11-30T14:58:11.708755Z",
     "start_time": "2019-11-30T14:58:11.698102Z"
    },
    "scrolled": false,
    "slideshow": {
     "slide_type": "fragment"
    }
   },
   "outputs": [],
   "source": [
    "# Answer to 1.\n",
    "[i ** 2 for i in range(15) if i % 2 == 0]"
   ]
  },
  {
   "cell_type": "code",
   "execution_count": null,
   "metadata": {
    "ExecuteTime": {
     "end_time": "2019-11-30T14:58:11.834519Z",
     "start_time": "2019-11-30T14:58:11.827842Z"
    },
    "scrolled": false,
    "slideshow": {
     "slide_type": "fragment"
    }
   },
   "outputs": [],
   "source": [
    "# Answer to 2. \n",
    "list(map(lambda x: x ** 2, range(0, 15, 2)))"
   ]
  },
  {
   "cell_type": "markdown",
   "metadata": {
    "slideshow": {
     "slide_type": "subslide"
    }
   },
   "source": [
    "**Remark**. We will see later why we need to use `list` above"
   ]
  },
  {
   "cell_type": "code",
   "execution_count": null,
   "metadata": {
    "ExecuteTime": {
     "end_time": "2019-11-30T14:58:12.102153Z",
     "start_time": "2019-11-30T14:58:12.094922Z"
    }
   },
   "outputs": [],
   "source": [
    "map(lambda x: x ** 2, range(0, 15, 2))"
   ]
  },
  {
   "cell_type": "markdown",
   "metadata": {
    "slideshow": {
     "slide_type": "subslide"
    }
   },
   "source": [
    "Now, to get the sum of these squares, we can use `sum`"
   ]
  },
  {
   "cell_type": "code",
   "execution_count": null,
   "metadata": {
    "ExecuteTime": {
     "end_time": "2019-11-30T14:58:12.371593Z",
     "start_time": "2019-11-30T14:58:12.364147Z"
    },
    "scrolled": true
   },
   "outputs": [],
   "source": [
    "sum(map(lambda x: x ** 2, range(0, 15, 2)))"
   ]
  },
  {
   "cell_type": "markdown",
   "metadata": {
    "slideshow": {
     "slide_type": "fragment"
    }
   },
   "source": [
    "We can also use `reduce` (not a good idea here, but it's good to know that it exists)"
   ]
  },
  {
   "cell_type": "code",
   "execution_count": null,
   "metadata": {
    "ExecuteTime": {
     "end_time": "2019-11-30T14:58:13.582702Z",
     "start_time": "2019-11-30T14:58:13.575314Z"
    },
    "scrolled": false
   },
   "outputs": [],
   "source": [
    "from functools import reduce\n",
    "\n",
    "reduce(lambda a, b: a + b, map(lambda x: x ** 2, range(0, 15, 2)))"
   ]
  },
  {
   "cell_type": "markdown",
   "metadata": {
    "slideshow": {
     "slide_type": "subslide"
    }
   },
   "source": [
    "There is also something that can be useful in `functool` called `partial`\n",
    "\n",
    "It allows to **simplify** functions by freezing some arguments"
   ]
  },
  {
   "cell_type": "code",
   "execution_count": null,
   "metadata": {
    "ExecuteTime": {
     "end_time": "2019-11-30T15:00:02.277570Z",
     "start_time": "2019-11-30T15:00:02.269734Z"
    },
    "slideshow": {
     "slide_type": "-"
    }
   },
   "outputs": [],
   "source": [
    "from functools import partial\n",
    "\n",
    "def mult(a, b):\n",
    "    return a * b\n",
    "\n",
    "double = partial(mult, b=2)\n",
    "double(2) "
   ]
  },
  {
   "cell_type": "markdown",
   "metadata": {
    "slideshow": {
     "slide_type": "subslide"
    }
   },
   "source": [
    "## Brain-f**king\n",
    "\n",
    "What is the output of\n",
    "\n",
    "```python\n",
    "reduce(lambda a, b: a + b[0] * b[1], enumerate('abcde'), 'A')\n",
    "```"
   ]
  },
  {
   "cell_type": "code",
   "execution_count": null,
   "metadata": {
    "ExecuteTime": {
     "end_time": "2019-11-21T10:21:29.188960Z",
     "start_time": "2019-11-21T10:21:29.176718Z"
    },
    "scrolled": true,
    "slideshow": {
     "slide_type": "fragment"
    }
   },
   "outputs": [],
   "source": [
    "reduce(lambda a, b: a + b[0] * b[1], enumerate('abcde'), 'A')"
   ]
  },
  {
   "cell_type": "markdown",
   "metadata": {
    "slideshow": {
     "slide_type": "fragment"
    }
   },
   "source": [
    "This does the following"
   ]
  },
  {
   "cell_type": "code",
   "execution_count": null,
   "metadata": {
    "ExecuteTime": {
     "end_time": "2019-11-21T10:21:30.785674Z",
     "start_time": "2019-11-21T10:21:30.775358Z"
    }
   },
   "outputs": [],
   "source": [
    "((((('A' + 0 * 'a') + 1 * 'b') + 2 * 'c') + 3 * 'd') + 4 * 'e')"
   ]
  },
  {
   "cell_type": "markdown",
   "metadata": {
    "slideshow": {
     "slide_type": "slide"
    }
   },
   "source": [
    "# Generators"
   ]
  },
  {
   "cell_type": "code",
   "execution_count": null,
   "metadata": {
    "ExecuteTime": {
     "end_time": "2019-11-30T15:11:11.011800Z",
     "start_time": "2019-11-30T15:11:10.779348Z"
    },
    "scrolled": false,
    "slideshow": {
     "slide_type": "subslide"
    }
   },
   "outputs": [],
   "source": [
    "import matplotlib.pyplot as plt\n",
    "%matplotlib inline\n",
    "\n",
    "plt.figure(figsize=(6, 6))\n",
    "plt.plot([sys.getsizeof(list(range(i))) for i in range(100)], lw=3)\n",
    "plt.plot([sys.getsizeof(range(i)) for i in range(100)], lw=3)\n",
    "plt.xlabel('Number of elements (value of i)', fontsize=14)\n",
    "plt.ylabel('Size (in bytes)', fontsize=14)\n",
    "_ = plt.legend(['list(range(i))', 'range(i)'], fontsize=16)"
   ]
  },
  {
   "cell_type": "markdown",
   "metadata": {
    "slideshow": {
     "slide_type": "subslide"
    }
   },
   "source": [
    "## Why generators ?\n",
    "\n",
    "The memory used by `range(i)` does not scale linearly with `i`\n",
    "\n",
    "What is happening ?\n",
    "\n",
    "- `range(n)` does not allocate a list of `n` elements ! \n",
    "- It **generates on the fly** the list of required integers\n",
    "- We say that such an object behaves like a **generator** in `Python`\n",
    "- Many things in the `Python` standard library behaves like this\n",
    "\n",
    "\n",
    "**Warning.** Getting the real memory footprint of a `Python` object is difficult. \n",
    "Note that `sizeof` calls the `__sizeof__` method of `r`, which does not give in general the actual memory used by an object. But nevermind here."
   ]
  },
  {
   "cell_type": "markdown",
   "metadata": {
    "ExecuteTime": {
     "end_time": "2019-11-30T14:38:20.466174Z",
     "start_time": "2019-11-30T14:38:20.461164Z"
    },
    "slideshow": {
     "slide_type": "subslide"
    }
   },
   "source": [
    "The following computation has no memory footprint:"
   ]
  },
  {
   "cell_type": "code",
   "execution_count": null,
   "metadata": {
    "ExecuteTime": {
     "end_time": "2019-11-30T15:25:00.126691Z",
     "start_time": "2019-11-30T15:24:59.013328Z"
    },
    "scrolled": true,
    "slideshow": {
     "slide_type": "-"
    }
   },
   "outputs": [],
   "source": [
    "sum(range(10**8))"
   ]
  },
  {
   "cell_type": "code",
   "execution_count": null,
   "metadata": {
    "ExecuteTime": {
     "end_time": "2019-11-30T15:25:00.137007Z",
     "start_time": "2019-11-30T15:25:00.129013Z"
    },
    "scrolled": false
   },
   "outputs": [],
   "source": [
    "map(lambda x: x**2, range(10**7))"
   ]
  },
  {
   "cell_type": "markdown",
   "metadata": {
    "slideshow": {
     "slide_type": "-"
    }
   },
   "source": [
    "`map` does not return a `list` for the same reason"
   ]
  },
  {
   "cell_type": "code",
   "execution_count": null,
   "metadata": {
    "ExecuteTime": {
     "end_time": "2019-11-30T15:25:02.947058Z",
     "start_time": "2019-11-30T15:25:02.719308Z"
    }
   },
   "outputs": [],
   "source": [
    "sum(map(lambda x: x**2, range(10**6)))"
   ]
  },
  {
   "cell_type": "markdown",
   "metadata": {
    "slideshow": {
     "slide_type": "subslide"
    }
   },
   "source": [
    "## Generator expression\n",
    "\n",
    "Namely generators defined through comprehensions.\n",
    "Just replace `[]` by `()` in the comprehension.\n",
    "\n",
    "A generator can be iterated on only **once**"
   ]
  },
  {
   "cell_type": "code",
   "execution_count": null,
   "metadata": {
    "ExecuteTime": {
     "end_time": "2019-11-30T15:25:09.298512Z",
     "start_time": "2019-11-30T15:25:09.290429Z"
    }
   },
   "outputs": [],
   "source": [
    "from itertools import product\n",
    "\n",
    "gene = (i + j for i, j in product(range(3), range(3)))\n",
    "gene"
   ]
  },
  {
   "cell_type": "code",
   "execution_count": null,
   "metadata": {
    "ExecuteTime": {
     "end_time": "2019-11-30T15:25:10.077158Z",
     "start_time": "2019-11-30T15:25:10.067316Z"
    }
   },
   "outputs": [],
   "source": [
    "print(list(gene))\n",
    "print(list(gene))"
   ]
  },
  {
   "cell_type": "markdown",
   "metadata": {
    "slideshow": {
     "slide_type": "subslide"
    }
   },
   "source": [
    "## `yield`\n",
    "\n",
    "Something very powerful"
   ]
  },
  {
   "cell_type": "code",
   "execution_count": null,
   "metadata": {
    "ExecuteTime": {
     "end_time": "2019-11-30T15:25:35.696426Z",
     "start_time": "2019-11-30T15:25:35.690331Z"
    }
   },
   "outputs": [],
   "source": [
    "def startswith(words, letter):\n",
    "    for word in words:\n",
    "        if word.startswith(letter):\n",
    "            yield word"
   ]
  },
  {
   "cell_type": "code",
   "execution_count": null,
   "metadata": {
    "ExecuteTime": {
     "end_time": "2019-11-30T15:25:47.086775Z",
     "start_time": "2019-11-30T15:25:47.079280Z"
    }
   },
   "outputs": [],
   "source": [
    "words = ['Python', \"is\", 'awesome', 'in', 'particular', 'generators', 'are', 'really', 'cool']\n",
    "list(startswith(words, letter='a'))"
   ]
  },
  {
   "cell_type": "markdown",
   "metadata": {
    "slideshow": {
     "slide_type": "subslide"
    }
   },
   "source": [
    "But also with a `for` loop"
   ]
  },
  {
   "cell_type": "code",
   "execution_count": null,
   "metadata": {
    "ExecuteTime": {
     "end_time": "2019-11-30T15:25:53.183169Z",
     "start_time": "2019-11-30T15:25:53.175418Z"
    },
    "scrolled": true
   },
   "outputs": [],
   "source": [
    "for word in startswith(words, letter='a'):\n",
    "    print(word)"
   ]
  },
  {
   "cell_type": "markdown",
   "metadata": {
    "slideshow": {
     "slide_type": "slide"
    }
   },
   "source": [
    "# A glimpse at the ` collections` module\n",
    "\n",
    "(This is where the good stuff hides)"
   ]
  },
  {
   "cell_type": "code",
   "execution_count": null,
   "metadata": {
    "ExecuteTime": {
     "end_time": "2019-11-21T10:21:33.360664Z",
     "start_time": "2019-11-21T10:21:33.350236Z"
    },
    "slideshow": {
     "slide_type": "subslide"
    }
   },
   "outputs": [],
   "source": [
    "texte = \"\"\"\n",
    "Bonjour,\n",
    "Python c'est super.\n",
    "Python ca a l'air quand même un peu compliqué.\n",
    "Mais bon, ca a l'air pratique.\n",
    "Peut-être que je pourrais m'en servir pour faire des trucs super.\n",
    "\"\"\"\n",
    "texte"
   ]
  },
  {
   "cell_type": "code",
   "execution_count": null,
   "metadata": {
    "ExecuteTime": {
     "end_time": "2019-11-21T10:21:33.659053Z",
     "start_time": "2019-11-21T10:21:33.648372Z"
    },
    "scrolled": true
   },
   "outputs": [],
   "source": [
    "print(texte)"
   ]
  },
  {
   "cell_type": "code",
   "execution_count": null,
   "metadata": {
    "ExecuteTime": {
     "end_time": "2019-11-21T10:21:37.199796Z",
     "start_time": "2019-11-21T10:21:37.193338Z"
    },
    "slideshow": {
     "slide_type": "subslide"
    }
   },
   "outputs": [],
   "source": [
    "# Some basic text preprocessing \n",
    "new_text = texte.strip()\\\n",
    "    .replace('\\n', ' ')\\\n",
    "    .replace(',', ' ')\\\n",
    "    .replace('.', ' ')\n",
    "\n",
    "print(new_text)\n",
    "print('-' * 8)\n",
    "\n",
    "words = new_text.split()\n",
    "print(words)"
   ]
  },
  {
   "cell_type": "markdown",
   "metadata": {
    "slideshow": {
     "slide_type": "subslide"
    }
   },
   "source": [
    "## Exercice \n",
    "\n",
    "Count the number of occurences of all the words in `words`. \n",
    "\n",
    "Output must be a dictionary containg ``word: count``"
   ]
  },
  {
   "cell_type": "code",
   "execution_count": null,
   "metadata": {
    "ExecuteTime": {
     "end_time": "2019-11-21T10:21:39.500553Z",
     "start_time": "2019-11-21T10:21:39.493398Z"
    }
   },
   "outputs": [],
   "source": [
    "print(words)"
   ]
  },
  {
   "cell_type": "markdown",
   "metadata": {
    "slideshow": {
     "slide_type": "subslide"
    }
   },
   "source": [
    "### Solution 1: hand-made"
   ]
  },
  {
   "cell_type": "code",
   "execution_count": null,
   "metadata": {
    "ExecuteTime": {
     "end_time": "2019-11-21T10:21:40.629041Z",
     "start_time": "2019-11-21T10:21:40.622367Z"
    },
    "slideshow": {
     "slide_type": "-"
    }
   },
   "outputs": [],
   "source": [
    "words_counts = {}\n",
    "for word in words:\n",
    "    if word in words_counts:\n",
    "        words_counts[word] += 1\n",
    "    else:\n",
    "        words_counts[word] = 1\n",
    "\n",
    "print(words_counts)"
   ]
  },
  {
   "cell_type": "markdown",
   "metadata": {
    "slideshow": {
     "slide_type": "subslide"
    }
   },
   "source": [
    "### Solution 2: using `defaultdict`"
   ]
  },
  {
   "cell_type": "code",
   "execution_count": null,
   "metadata": {
    "ExecuteTime": {
     "end_time": "2019-11-21T10:21:42.845043Z",
     "start_time": "2019-11-21T10:21:42.838966Z"
    },
    "scrolled": true,
    "slideshow": {
     "slide_type": "-"
    }
   },
   "outputs": [],
   "source": [
    "from collections import defaultdict\n",
    "\n",
    "words_counts = defaultdict(int)\n",
    "for word in words:\n",
    "    words_counts[word] += 1\n",
    "\n",
    "print(words_counts)"
   ]
  },
  {
   "cell_type": "markdown",
   "metadata": {
    "slideshow": {
     "slide_type": "fragment"
    }
   },
   "source": [
    "- `defaultdict` can be extremely useful\n",
    "- A dict with a default value: here an `int` is created (defaults to 0) if key is not found\n",
    "- Allows to avoid a test"
   ]
  },
  {
   "cell_type": "markdown",
   "metadata": {
    "slideshow": {
     "slide_type": "subslide"
    }
   },
   "source": [
    "### About `defaultdict`\n",
    "\n",
    "- the argument must be a \"callable\" (something that can be called)\n",
    "- Beware: as soon as a key is searched, a default value is added to the `defaultdict`"
   ]
  },
  {
   "cell_type": "code",
   "execution_count": null,
   "metadata": {
    "ExecuteTime": {
     "end_time": "2019-11-21T10:21:44.168096Z",
     "start_time": "2019-11-21T10:21:44.162209Z"
    }
   },
   "outputs": [],
   "source": [
    "addresses = defaultdict(lambda: 'unknown')\n",
    "addresses['huyen']\n",
    "addresses['stephane'] = '8 place Aurelie Nemours'\n",
    "print(addresses)"
   ]
  },
  {
   "cell_type": "code",
   "execution_count": null,
   "metadata": {
    "ExecuteTime": {
     "end_time": "2019-11-21T10:21:44.527239Z",
     "start_time": "2019-11-21T10:21:44.520106Z"
    }
   },
   "outputs": [],
   "source": [
    "# Somewhat nasty...\n",
    "print('jean-francois' in addresses)\n",
    "print(addresses['jean-francois'])\n",
    "print('jean-francois' in addresses)"
   ]
  },
  {
   "cell_type": "markdown",
   "metadata": {
    "slideshow": {
     "slide_type": "subslide"
    }
   },
   "source": [
    "### Solution 3. Don't do it by hand ! Use `counter`"
   ]
  },
  {
   "cell_type": "code",
   "execution_count": null,
   "metadata": {
    "ExecuteTime": {
     "end_time": "2019-11-21T10:22:15.288122Z",
     "start_time": "2019-11-21T10:22:15.283090Z"
    },
    "slideshow": {
     "slide_type": "-"
    }
   },
   "outputs": [],
   "source": [
    "from collections import Counter\n",
    "\n",
    "print(dict(Counter(words)))"
   ]
  },
  {
   "cell_type": "markdown",
   "metadata": {},
   "source": [
    "`Counter` counts the number of occurences of all objects in an iterable"
   ]
  },
  {
   "cell_type": "markdown",
   "metadata": {
    "slideshow": {
     "slide_type": "fragment"
    }
   },
   "source": [
    "**Question.** Which one do you prefer ?\n",
    "\n",
    "- The `Counter` one right ?"
   ]
  },
  {
   "cell_type": "markdown",
   "metadata": {
    "slideshow": {
     "slide_type": "subslide"
    }
   },
   "source": [
    "### Morality\n",
    "\n",
    "- When you need to do something, assume that there is a tool to do it directly \n",
    "\n",
    "- If you can't find it, ask `google` or `stackoverflow`\n",
    "\n",
    "- Otherwise, try to do it as simply as possible"
   ]
  },
  {
   "cell_type": "markdown",
   "metadata": {
    "slideshow": {
     "slide_type": "subslide"
    }
   },
   "source": [
    "## Exercice \n",
    "\n",
    "Compute the number of occurences AND the length of each word in `words`.\n",
    "\n",
    "Output must be a dictionary containing ``word: (count, length)``"
   ]
  },
  {
   "cell_type": "markdown",
   "metadata": {
    "slideshow": {
     "slide_type": "subslide"
    }
   },
   "source": [
    "### Solution"
   ]
  },
  {
   "cell_type": "code",
   "execution_count": null,
   "metadata": {
    "ExecuteTime": {
     "end_time": "2019-11-21T10:22:51.468794Z",
     "start_time": "2019-11-21T10:22:51.457181Z"
    },
    "slideshow": {
     "slide_type": "-"
    }
   },
   "outputs": [],
   "source": [
    "from collections import Counter\n",
    "\n",
    "{word: (count, len(word)) for word, count in Counter(words).items()}"
   ]
  },
  {
   "cell_type": "markdown",
   "metadata": {
    "slideshow": {
     "slide_type": "subslide"
    }
   },
   "source": [
    "## The `namedtuple`\n",
    "\n",
    "There is also the `namedtuple`. It's a `tuple` but with named attributes"
   ]
  },
  {
   "cell_type": "code",
   "execution_count": null,
   "metadata": {
    "ExecuteTime": {
     "end_time": "2019-11-21T10:22:54.348368Z",
     "start_time": "2019-11-21T10:22:54.339215Z"
    }
   },
   "outputs": [],
   "source": [
    "from collections import namedtuple\n",
    "\n",
    "Jedi = namedtuple('Jedi', ['firstname', 'lastname', 'age', 'color'])\n",
    "yoda = Jedi('Minch', 'Yoda', 900, 'green')\n",
    "yoda"
   ]
  },
  {
   "cell_type": "code",
   "execution_count": null,
   "metadata": {
    "ExecuteTime": {
     "end_time": "2019-11-21T10:22:54.792285Z",
     "start_time": "2019-11-21T10:22:54.785239Z"
    }
   },
   "outputs": [],
   "source": [
    "yoda.firstname"
   ]
  },
  {
   "cell_type": "code",
   "execution_count": null,
   "metadata": {
    "ExecuteTime": {
     "end_time": "2019-11-21T10:22:55.244801Z",
     "start_time": "2019-11-21T10:22:55.233042Z"
    }
   },
   "outputs": [],
   "source": [
    "yoda[1]"
   ]
  },
  {
   "cell_type": "markdown",
   "metadata": {
    "slideshow": {
     "slide_type": "fragment"
    }
   },
   "source": [
    "**Remark.** A better alternative since `Python 3.7` is dataclasses. We will talk about it later"
   ]
  },
  {
   "cell_type": "markdown",
   "metadata": {
    "slideshow": {
     "slide_type": "slide"
    }
   },
   "source": [
    "# I/O, reading and writing files\n",
    "\n",
    "Next, we assume that you have a text file `miserables.txt` in the folder containing \n",
    "this notebook. \n",
    "\n",
    "If you don't, simply run the next cell that downloads it from my webpage and saves it in a file."
   ]
  },
  {
   "cell_type": "code",
   "execution_count": null,
   "metadata": {
    "ExecuteTime": {
     "end_time": "2019-11-21T10:23:01.543594Z",
     "start_time": "2019-11-21T10:23:01.437511Z"
    }
   },
   "outputs": [],
   "source": [
    "import requests\n",
    "\n",
    "url = 'https://stephanegaiffas.github.io/files/miserables.txt'\n",
    "r = requests.get(url)\n",
    "\n",
    "with open('miserables.txt', 'wb') as f:\n",
    "    f.write(r.content)"
   ]
  },
  {
   "cell_type": "markdown",
   "metadata": {
    "slideshow": {
     "slide_type": "subslide"
    }
   },
   "source": [
    "In `jupyter` and `ipython` you can run terminal command lines using `!`\n",
    "\n",
    "Let's count number of lines and number of words with the `wc` command-line tool (linux or mac only, don't ask me how on windows)"
   ]
  },
  {
   "cell_type": "code",
   "execution_count": null,
   "metadata": {
    "ExecuteTime": {
     "end_time": "2019-11-21T10:23:10.238974Z",
     "start_time": "2019-11-21T10:23:09.652790Z"
    },
    "slideshow": {
     "slide_type": "-"
    }
   },
   "outputs": [],
   "source": [
    "# Lines count\n",
    "!wc -l miserables.txt"
   ]
  },
  {
   "cell_type": "code",
   "execution_count": null,
   "metadata": {
    "ExecuteTime": {
     "end_time": "2019-11-21T10:23:11.205741Z",
     "start_time": "2019-11-21T10:23:10.624667Z"
    }
   },
   "outputs": [],
   "source": [
    "# Word count\n",
    "!wc -w miserables.txt"
   ]
  },
  {
   "cell_type": "markdown",
   "metadata": {
    "slideshow": {
     "slide_type": "subslide"
    }
   },
   "source": [
    "## Exercice\n",
    "\n",
    "Count the number of occurences of each word in the text file `miserables.txt`.\n",
    "We use a `open` *context* and the `Counter` from before."
   ]
  },
  {
   "cell_type": "markdown",
   "metadata": {
    "ExecuteTime": {
     "end_time": "2019-11-21T09:51:10.947633Z",
     "start_time": "2019-11-21T09:51:10.944348Z"
    },
    "slideshow": {
     "slide_type": "fragment"
    }
   },
   "source": [
    "### Solution"
   ]
  },
  {
   "cell_type": "code",
   "execution_count": null,
   "metadata": {
    "ExecuteTime": {
     "end_time": "2019-11-21T10:24:12.099137Z",
     "start_time": "2019-11-21T10:24:11.710219Z"
    },
    "scrolled": false,
    "slideshow": {
     "slide_type": "-"
    }
   },
   "outputs": [],
   "source": [
    "counter = Counter()\n",
    "\n",
    "with open('miserables.txt', encoding='utf8') as f:\n",
    "    for line in f:\n",
    "        line = line.strip().replace('\\n', ' ')\\\n",
    "            .replace(',', ' ')\\\n",
    "            .replace('.', ' ')\\\n",
    "            .replace('»', ' ')\\\n",
    "            .replace('-', ' ')\\\n",
    "            .replace('!', ' ')\\\n",
    "            .replace('(', ' ')\\\n",
    "            .replace(')', ' ')\\\n",
    "            .replace('?', ' ').split()\n",
    "        \n",
    "        counter.update(line)"
   ]
  },
  {
   "cell_type": "code",
   "execution_count": null,
   "metadata": {
    "ExecuteTime": {
     "end_time": "2019-11-21T10:25:57.301045Z",
     "start_time": "2019-11-21T10:25:57.273549Z"
    },
    "scrolled": false,
    "slideshow": {
     "slide_type": "subslide"
    }
   },
   "outputs": [],
   "source": [
    "counter"
   ]
  },
  {
   "cell_type": "code",
   "execution_count": null,
   "metadata": {
    "ExecuteTime": {
     "end_time": "2019-11-21T10:26:06.804090Z",
     "start_time": "2019-11-21T10:26:06.791065Z"
    },
    "scrolled": true,
    "slideshow": {
     "slide_type": "subslide"
    }
   },
   "outputs": [],
   "source": [
    "counter.most_common(50)"
   ]
  },
  {
   "cell_type": "markdown",
   "metadata": {
    "slideshow": {
     "slide_type": "subslide"
    }
   },
   "source": [
    "## Contexts \n",
    "\n",
    "- A *context* in Python is something that we use with the `with` keyword.\n",
    "\n",
    "- It allows to deal automatically with the opening and the closing of the file."
   ]
  },
  {
   "cell_type": "markdown",
   "metadata": {
    "slideshow": {
     "slide_type": "-"
    }
   },
   "source": [
    "Note the for loop:\n",
    "```python\n",
    "for line in f:\n",
    "    ...\n",
    "```\n",
    "You loop directly over the lines of the open file from **within** the `open` context"
   ]
  },
  {
   "cell_type": "markdown",
   "metadata": {
    "slideshow": {
     "slide_type": "subslide"
    }
   },
   "source": [
    "## About `pickle`\n",
    "\n",
    "You can save your computation with `pickle`. \n",
    "\n",
    "- `pickle` is a way of saving **almost anything** with Python.\n",
    "- It serializes the object in a binary format, and is usually the simplest and fastest way to go."
   ]
  },
  {
   "cell_type": "code",
   "execution_count": null,
   "metadata": {
    "ExecuteTime": {
     "end_time": "2019-11-21T09:52:05.489053Z",
     "start_time": "2019-11-21T09:52:05.446242Z"
    }
   },
   "outputs": [],
   "source": [
    "import pickle as pkl\n",
    "\n",
    "# Let's save it\n",
    "with open('miserable_word_counts.pkl', 'wb') as f:\n",
    "    pkl.dump(counter, f)\n",
    "\n",
    "# And read it again\n",
    "with open('miserable_word_counts.pkl', 'rb') as f:\n",
    "    counter = pkl.load(f)"
   ]
  },
  {
   "cell_type": "code",
   "execution_count": null,
   "metadata": {
    "ExecuteTime": {
     "end_time": "2019-11-21T09:52:09.475964Z",
     "start_time": "2019-11-21T09:52:09.465016Z"
    },
    "scrolled": true
   },
   "outputs": [],
   "source": [
    "counter.most_common(10)"
   ]
  },
  {
   "cell_type": "markdown",
   "metadata": {
    "slideshow": {
     "slide_type": "slide"
    }
   },
   "source": [
    "# Defining functions\n",
    "\n",
    "You **must** use function to order and reuse code"
   ]
  },
  {
   "cell_type": "markdown",
   "metadata": {
    "slideshow": {
     "slide_type": "subslide"
    }
   },
   "source": [
    "## Function definition\n",
    "\n",
    "Function blocks must be indented as other control-flow blocks."
   ]
  },
  {
   "cell_type": "code",
   "execution_count": null,
   "metadata": {
    "ExecuteTime": {
     "end_time": "2019-11-21T10:26:41.701835Z",
     "start_time": "2019-11-21T10:26:41.695858Z"
    }
   },
   "outputs": [],
   "source": [
    "def test():\n",
    "    return 'in test function'\n",
    "\n",
    "test()"
   ]
  },
  {
   "cell_type": "markdown",
   "metadata": {
    "slideshow": {
     "slide_type": "subslide"
    }
   },
   "source": [
    "## Return statement\n",
    "\n",
    "Functions can *optionally* return values.\n",
    "By default, functions return ``None``.\n",
    "\n",
    "The syntax to define a function:\n",
    "\n",
    "- the ``def`` keyword;\n",
    "- is followed by the function's **name**, then\n",
    "- the arguments of the function are given between parentheses followed by a colon\n",
    "- the function body;\n",
    "- and ``return object`` for optionally returning values."
   ]
  },
  {
   "cell_type": "code",
   "execution_count": null,
   "metadata": {
    "ExecuteTime": {
     "end_time": "2019-11-21T10:26:43.985230Z",
     "start_time": "2019-11-21T10:26:43.977747Z"
    }
   },
   "outputs": [],
   "source": [
    "def f(x):\n",
    "    return x + 10\n",
    "f(20)"
   ]
  },
  {
   "cell_type": "markdown",
   "metadata": {
    "slideshow": {
     "slide_type": "subslide"
    }
   },
   "source": [
    "A function that returns several elements returns a `tuple`"
   ]
  },
  {
   "cell_type": "code",
   "execution_count": null,
   "metadata": {
    "ExecuteTime": {
     "end_time": "2019-11-21T10:26:46.629381Z",
     "start_time": "2019-11-21T10:26:46.623134Z"
    }
   },
   "outputs": [],
   "source": [
    "def f(x):\n",
    "    return x + 1, x + 4\n",
    "\n",
    "f(5)"
   ]
  },
  {
   "cell_type": "code",
   "execution_count": null,
   "metadata": {
    "ExecuteTime": {
     "end_time": "2019-11-21T10:26:47.000849Z",
     "start_time": "2019-11-21T10:26:46.994615Z"
    }
   },
   "outputs": [],
   "source": [
    "type(f(5))"
   ]
  },
  {
   "cell_type": "markdown",
   "metadata": {
    "slideshow": {
     "slide_type": "subslide"
    }
   },
   "source": [
    "## Parameters\n",
    "\n",
    "Mandatory parameters (positional arguments)\n"
   ]
  },
  {
   "cell_type": "code",
   "execution_count": null,
   "metadata": {
    "ExecuteTime": {
     "end_time": "2019-11-21T10:26:48.859552Z",
     "start_time": "2019-11-21T10:26:48.853776Z"
    }
   },
   "outputs": [],
   "source": [
    "def double_it(x):\n",
    "    return x * 2\n",
    "\n",
    "double_it(2)"
   ]
  },
  {
   "cell_type": "code",
   "execution_count": null,
   "metadata": {
    "ExecuteTime": {
     "end_time": "2019-11-21T10:26:49.252737Z",
     "start_time": "2019-11-21T10:26:49.229303Z"
    }
   },
   "outputs": [],
   "source": [
    "double_it()"
   ]
  },
  {
   "cell_type": "markdown",
   "metadata": {
    "slideshow": {
     "slide_type": "subslide"
    }
   },
   "source": [
    "Optimal parameters"
   ]
  },
  {
   "cell_type": "code",
   "execution_count": null,
   "metadata": {
    "ExecuteTime": {
     "end_time": "2019-11-21T10:26:51.220555Z",
     "start_time": "2019-11-21T10:26:51.213745Z"
    },
    "slideshow": {
     "slide_type": "-"
    }
   },
   "outputs": [],
   "source": [
    "def double_it(x=2):\n",
    "    return x * 2\n",
    "\n",
    "double_it()"
   ]
  },
  {
   "cell_type": "code",
   "execution_count": null,
   "metadata": {
    "ExecuteTime": {
     "end_time": "2019-11-21T10:26:51.571396Z",
     "start_time": "2019-11-21T10:26:51.564780Z"
    }
   },
   "outputs": [],
   "source": [
    "double_it(3)"
   ]
  },
  {
   "cell_type": "code",
   "execution_count": null,
   "metadata": {
    "ExecuteTime": {
     "end_time": "2019-11-21T10:26:52.913326Z",
     "start_time": "2019-11-21T10:26:52.908137Z"
    },
    "slideshow": {
     "slide_type": "subslide"
    }
   },
   "outputs": [],
   "source": [
    "def f(x, y=2, z=10):\n",
    "    print(x, '+', y, '+', z, '=', x + y + z)"
   ]
  },
  {
   "cell_type": "code",
   "execution_count": null,
   "metadata": {
    "ExecuteTime": {
     "end_time": "2019-11-21T10:26:53.117341Z",
     "start_time": "2019-11-21T10:26:53.112096Z"
    }
   },
   "outputs": [],
   "source": [
    "f(5)"
   ]
  },
  {
   "cell_type": "code",
   "execution_count": null,
   "metadata": {
    "ExecuteTime": {
     "end_time": "2019-11-21T10:26:53.319926Z",
     "start_time": "2019-11-21T10:26:53.313925Z"
    }
   },
   "outputs": [],
   "source": [
    "f(5, -2)"
   ]
  },
  {
   "cell_type": "code",
   "execution_count": null,
   "metadata": {
    "ExecuteTime": {
     "end_time": "2019-11-21T10:26:53.534103Z",
     "start_time": "2019-11-21T10:26:53.526919Z"
    }
   },
   "outputs": [],
   "source": [
    "f(5, -2, 8)"
   ]
  },
  {
   "cell_type": "code",
   "execution_count": null,
   "metadata": {
    "ExecuteTime": {
     "end_time": "2019-11-21T10:26:53.775045Z",
     "start_time": "2019-11-21T10:26:53.764079Z"
    }
   },
   "outputs": [],
   "source": [
    "f(z=5, x=-2, y=8)"
   ]
  },
  {
   "cell_type": "markdown",
   "metadata": {
    "slideshow": {
     "slide_type": "subslide"
    }
   },
   "source": [
    "## Argument unpacking and keyword argument unpacking\n",
    "You can do stuff like this, using unpacking `*` notation"
   ]
  },
  {
   "cell_type": "code",
   "execution_count": null,
   "metadata": {
    "ExecuteTime": {
     "end_time": "2019-11-21T10:26:55.377181Z",
     "start_time": "2019-11-21T10:26:55.367956Z"
    }
   },
   "outputs": [],
   "source": [
    "a, *b, c = 1, 2, 3, 4, 5\n",
    "a, b, c"
   ]
  },
  {
   "cell_type": "markdown",
   "metadata": {},
   "source": [
    "Back to function `f` you can unpack a `tuple` as positional arguments"
   ]
  },
  {
   "cell_type": "code",
   "execution_count": null,
   "metadata": {
    "ExecuteTime": {
     "end_time": "2019-11-21T10:26:55.833861Z",
     "start_time": "2019-11-21T10:26:55.825818Z"
    },
    "scrolled": true,
    "slideshow": {
     "slide_type": "-"
    }
   },
   "outputs": [],
   "source": [
    "tt = (1, 2, 3)\n",
    "f(*tt)"
   ]
  },
  {
   "cell_type": "code",
   "execution_count": null,
   "metadata": {
    "ExecuteTime": {
     "end_time": "2019-11-21T10:26:56.026017Z",
     "start_time": "2019-11-21T10:26:56.021473Z"
    }
   },
   "outputs": [],
   "source": [
    "dd = {'y': 10, 'z': -5}"
   ]
  },
  {
   "cell_type": "code",
   "execution_count": null,
   "metadata": {
    "ExecuteTime": {
     "end_time": "2019-11-21T10:26:56.226349Z",
     "start_time": "2019-11-21T10:26:56.218676Z"
    }
   },
   "outputs": [],
   "source": [
    "f(3, **dd)"
   ]
  },
  {
   "cell_type": "code",
   "execution_count": null,
   "metadata": {
    "ExecuteTime": {
     "end_time": "2019-11-21T10:26:57.814676Z",
     "start_time": "2019-11-21T10:26:57.809380Z"
    },
    "slideshow": {
     "slide_type": "subslide"
    }
   },
   "outputs": [],
   "source": [
    "def g(x, z, y, t=1, u=2):\n",
    "    print(x, '+', y, '+', z, '+', t, '+', \n",
    "          u, '=', x + y + z + t + u)"
   ]
  },
  {
   "cell_type": "code",
   "execution_count": null,
   "metadata": {
    "ExecuteTime": {
     "end_time": "2019-11-21T10:26:58.008445Z",
     "start_time": "2019-11-21T10:26:58.000371Z"
    },
    "scrolled": true
   },
   "outputs": [],
   "source": [
    "tt = (1, -4, 2)\n",
    "dd = {'t': 10, 'u': -5}\n",
    "g(*tt, **dd)"
   ]
  },
  {
   "cell_type": "markdown",
   "metadata": {
    "collapsed": true,
    "slideshow": {
     "slide_type": "subslide"
    }
   },
   "source": [
    "## The prototype of all functions in `Python`"
   ]
  },
  {
   "cell_type": "code",
   "execution_count": null,
   "metadata": {
    "ExecuteTime": {
     "end_time": "2019-11-21T10:26:59.346835Z",
     "start_time": "2019-11-21T10:26:59.339489Z"
    },
    "slideshow": {
     "slide_type": "-"
    }
   },
   "outputs": [],
   "source": [
    "def f(*args, **kwargs):\n",
    "    print('args=', args)\n",
    "    print('kwargs=', kwargs)\n",
    "\n",
    "f(1, 2, 'truc', lastname='gaiffas', firstname='stephane')"
   ]
  },
  {
   "cell_type": "markdown",
   "metadata": {},
   "source": [
    "- Uses `*` for **argument unpacking** and `**` for **keyword argument unpacking**\n",
    "- The names `args` and `kwargs` are a convention, not mandatory \n",
    "- (but you are fired if you name these arguments otherwise)"
   ]
  },
  {
   "cell_type": "code",
   "execution_count": null,
   "metadata": {
    "ExecuteTime": {
     "end_time": "2019-11-21T10:27:01.253737Z",
     "start_time": "2019-11-21T10:27:01.246321Z"
    },
    "slideshow": {
     "slide_type": "fragment"
    }
   },
   "outputs": [],
   "source": [
    "# How to get fired\n",
    "def f(*aaa, **bbb):\n",
    "    print('args=', aaa)\n",
    "    print('kwargs=', bbb)\n",
    "f(1, 2, 'truc', lastname='gaiffas', firstname='stephane')    "
   ]
  },
  {
   "cell_type": "markdown",
   "metadata": {
    "slideshow": {
     "slide_type": "subslide"
    }
   },
   "source": [
    "**Remark**. A function is a regular an object... you can add attributes on it !"
   ]
  },
  {
   "cell_type": "code",
   "execution_count": null,
   "metadata": {
    "ExecuteTime": {
     "end_time": "2019-11-21T10:27:02.642717Z",
     "start_time": "2019-11-21T10:27:02.638097Z"
    }
   },
   "outputs": [],
   "source": [
    "f.truc = 4"
   ]
  },
  {
   "cell_type": "code",
   "execution_count": null,
   "metadata": {
    "ExecuteTime": {
     "end_time": "2019-11-21T10:27:02.849544Z",
     "start_time": "2019-11-21T10:27:02.842598Z"
    },
    "scrolled": true
   },
   "outputs": [],
   "source": [
    "f(1, 3)"
   ]
  },
  {
   "cell_type": "code",
   "execution_count": null,
   "metadata": {
    "ExecuteTime": {
     "end_time": "2019-11-21T10:27:03.473989Z",
     "start_time": "2019-11-21T10:27:03.466786Z"
    },
    "scrolled": false
   },
   "outputs": [],
   "source": [
    "f(3, -2, y='truc')"
   ]
  },
  {
   "cell_type": "markdown",
   "metadata": {
    "slideshow": {
     "slide_type": "slide"
    }
   },
   "source": [
    "# Object-oriented programming (OOP)\n",
    "\n",
    "Python supports object-oriented programming (OOP). The goals of OOP are:\n",
    "\n",
    "- to organize the code, and\n",
    "- to re-use code in similar contexts.\n",
    "\n",
    "Here is a small example: we create a `Student` class, which is an object\n",
    "gathering several custom functions (called *methods*) and variables \n",
    "(called *attributes*)."
   ]
  },
  {
   "cell_type": "code",
   "execution_count": null,
   "metadata": {
    "ExecuteTime": {
     "end_time": "2019-11-21T10:27:09.957536Z",
     "start_time": "2019-11-21T10:27:09.948161Z"
    },
    "scrolled": false,
    "slideshow": {
     "slide_type": "subslide"
    }
   },
   "outputs": [],
   "source": [
    "class Student(object):\n",
    "\n",
    "    def __init__(self, name, birthyear, major='computer science'):\n",
    "        self.name = name\n",
    "        self.birthyear = birthyear\n",
    "        self.major = major\n",
    "\n",
    "    def __repr__(self):\n",
    "        return \"Student(name='{name}', birthyear={birthyear}, major='{major}')\"\\\n",
    "                .format(name=self.name, birthyear=self.birthyear, major=self.major)\n",
    "\n",
    "anna = Student('anna', 1987)\n",
    "anna"
   ]
  },
  {
   "cell_type": "markdown",
   "metadata": {},
   "source": [
    "The `__repr__` is what we call a 'magic method' in Python, that allows \n",
    "to display an object as a string easily. There is a very large number of such magic methods.\n",
    "There are used to implement **interfaces**"
   ]
  },
  {
   "cell_type": "markdown",
   "metadata": {
    "slideshow": {
     "slide_type": "subslide"
    }
   },
   "source": [
    "## Exercice \n",
    "Add a `age` method to the Student class that computes the age of the student. \n",
    "- You  can (and should) use the `datetime` module. \n",
    "- Since we only know about the birth year, let's assume that the day of the birth is January, 1st."
   ]
  },
  {
   "cell_type": "markdown",
   "metadata": {
    "ExecuteTime": {
     "end_time": "2019-11-21T09:56:11.495547Z",
     "start_time": "2019-11-21T09:56:11.492137Z"
    }
   },
   "source": [
    "### Correction"
   ]
  },
  {
   "cell_type": "code",
   "execution_count": null,
   "metadata": {
    "ExecuteTime": {
     "end_time": "2019-11-21T10:27:13.622624Z",
     "start_time": "2019-11-21T10:27:13.612281Z"
    }
   },
   "outputs": [],
   "source": [
    "from datetime import datetime\n",
    "\n",
    "class Student(object):\n",
    "\n",
    "    def __init__(self, name, birthyear, major='computer science'):\n",
    "        self.name = name\n",
    "        self.birthyear = birthyear\n",
    "        self.major = major\n",
    "\n",
    "    def __repr__(self):\n",
    "        return \"Student(name='{name}', birthyear={birthyear}, major='{major}')\"\\\n",
    "                .format(name=self.name, birthyear=self.birthyear, major=self.major)\n",
    "\n",
    "    def age(self):\n",
    "        return datetime.now().year - self.birthyear\n",
    "        \n",
    "anna = Student('anna', 1987)\n",
    "anna.age()"
   ]
  },
  {
   "cell_type": "markdown",
   "metadata": {
    "slideshow": {
     "slide_type": "subslide"
    }
   },
   "source": [
    "## Properties\n",
    "\n",
    "We can make methods look like attributes using **properties**, as shown below"
   ]
  },
  {
   "cell_type": "code",
   "execution_count": null,
   "metadata": {
    "ExecuteTime": {
     "end_time": "2019-11-21T09:56:23.425263Z",
     "start_time": "2019-11-21T09:56:23.416649Z"
    }
   },
   "outputs": [],
   "source": [
    "class Student(object):\n",
    "\n",
    "    def __init__(self, name, birthyear, major='computer science'):\n",
    "        self.name = name\n",
    "        self.birthyear = birthyear\n",
    "        self.major = major\n",
    "\n",
    "    def __repr__(self):\n",
    "        return \"Student(name='{name}', birthyear={birthyear}, major='{major}')\"\\\n",
    "                .format(name=self.name, birthyear=self.birthyear, major=self.major)\n",
    "\n",
    "    @property\n",
    "    def age(self):\n",
    "        return datetime.now().year - self.birthyear\n",
    "        \n",
    "anna = Student('anna', 1987)\n",
    "anna.age"
   ]
  },
  {
   "cell_type": "markdown",
   "metadata": {
    "slideshow": {
     "slide_type": "subslide"
    }
   },
   "source": [
    "## Inheritance \n",
    "\n",
    "A `MasterStudent` is a `Student` with a new extra mandatory `internship` attribute"
   ]
  },
  {
   "cell_type": "code",
   "execution_count": null,
   "metadata": {},
   "outputs": [],
   "source": [
    "class MasterStudent(Student):\n",
    "    \n",
    "    def __init__(self, name, age, internship, major='computer science'):\n",
    "        Student.__init__(self, name, age, major)\n",
    "        self.internship = internship\n",
    "\n",
    "    def __repr__(self):\n",
    "        return \"MasterStudent(name='{name}', internship='{internship}'\" \\\n",
    "               \", birthyear={birthyear}, major='{major}')\"\\\n",
    "                .format(name=self.name, internship=self.internship,\n",
    "                        birthyear=self.birthyear, major=self.major)\n",
    "    \n",
    "MasterStudent('djalil', 22, 'pwc')"
   ]
  },
  {
   "cell_type": "markdown",
   "metadata": {
    "ExecuteTime": {
     "end_time": "2019-11-21T09:58:34.108939Z",
     "start_time": "2019-11-21T09:58:34.103118Z"
    },
    "slideshow": {
     "slide_type": "subslide"
    }
   },
   "source": [
    "## Monkey patching\n",
    "\n",
    "- Classes in `Python`  are `objects` and actually `dict`s under the hood...\n",
    "- Therefore classes are objects that can be changed on the fly"
   ]
  },
  {
   "cell_type": "code",
   "execution_count": null,
   "metadata": {
    "ExecuteTime": {
     "end_time": "2019-11-21T10:03:49.347066Z",
     "start_time": "2019-11-21T10:03:49.337862Z"
    }
   },
   "outputs": [],
   "source": [
    "class C(object):\n",
    "    \n",
    "    def __init__(self, name):\n",
    "        self.name = name\n",
    "\n",
    "    def monkey(self):\n",
    "        print(\"Old monkey %s\" % self.name)\n",
    "\n",
    "def monkey(self):\n",
    "    print(\"New monkey %s\" % self.name)\n",
    "\n",
    "c = C(\"Baloo\")\n",
    "c.monkey()\n",
    "\n",
    "C.monkey = monkey\n",
    "c.monkey()"
   ]
  },
  {
   "cell_type": "markdown",
   "metadata": {
    "slideshow": {
     "slide_type": "subslide"
    }
   },
   "source": [
    "## Data classes\n",
    "\n",
    "Since `Python 3.7` you can use a dataclass for this\n",
    "\n",
    "Does a lot of work for you (produces the `__repr__` among many other things for you)"
   ]
  },
  {
   "cell_type": "code",
   "execution_count": null,
   "metadata": {
    "ExecuteTime": {
     "end_time": "2019-11-21T10:03:57.932066Z",
     "start_time": "2019-11-21T10:03:57.918380Z"
    }
   },
   "outputs": [],
   "source": [
    "from dataclasses import dataclass\n",
    "\n",
    "@dataclass\n",
    "class Student(object):\n",
    "    name: str\n",
    "    birthyear: int\n",
    "    major: str = 'computer science'\n",
    "\n",
    "    @property\n",
    "    def age(self):\n",
    "        return datetime.now().year - self.birthyear\n",
    "        \n",
    "anna = Student('anna', 1987)\n",
    "anna"
   ]
  },
  {
   "cell_type": "code",
   "execution_count": null,
   "metadata": {
    "ExecuteTime": {
     "end_time": "2019-11-21T10:03:59.171785Z",
     "start_time": "2019-11-21T10:03:59.166414Z"
    }
   },
   "outputs": [],
   "source": [
    "print(anna.age)"
   ]
  },
  {
   "cell_type": "markdown",
   "metadata": {
    "collapsed": true,
    "slideshow": {
     "slide_type": "slide"
    }
   },
   "source": [
    "# Most common mistakes\n",
    "\n",
    "- Let us wrap this up with the most common mistakes with `Python`\n",
    "\n",
    "First, best way to learn and practice:\n",
    "\n",
    "- Start with the official tutorial https://docs.python.org/fr/3/tutorial/index.html\n",
    "\n",
    "- Look at https://python-3-for-scientists.readthedocs.io/en/latest/index.html\n",
    "\n",
    "- Continue with the documentation at https://docs.python.org/fr/3/index.html and work!"
   ]
  },
  {
   "cell_type": "markdown",
   "metadata": {
    "slideshow": {
     "slide_type": "subslide"
    }
   },
   "source": [
    "## Using a mutable value as a default value"
   ]
  },
  {
   "cell_type": "code",
   "execution_count": null,
   "metadata": {
    "ExecuteTime": {
     "end_time": "2019-11-21T10:27:38.574216Z",
     "start_time": "2019-11-21T10:27:38.564894Z"
    }
   },
   "outputs": [],
   "source": [
    "def foo(bar=[]):\n",
    "    bar.append('oops')\n",
    "    return bar\n",
    "\n",
    "print(foo())\n",
    "print(foo())\n",
    "print(foo())\n",
    "\n",
    "print('-' * 8)\n",
    "print(foo(['Ah ah']))\n",
    "print(foo([]))"
   ]
  },
  {
   "cell_type": "markdown",
   "metadata": {},
   "source": [
    "- The default value for a function argument is evaluated once, when the function is defined\n",
    "- `the` bar argument is initialized to its default (i.e., an empty list) only when foo() is first defined\n",
    "- successive calls to `foo()` (with no a `bar` argument specified) use the same list!"
   ]
  },
  {
   "cell_type": "markdown",
   "metadata": {
    "slideshow": {
     "slide_type": "subslide"
    }
   },
   "source": [
    "One should use instead"
   ]
  },
  {
   "cell_type": "code",
   "execution_count": null,
   "metadata": {
    "ExecuteTime": {
     "end_time": "2019-11-21T10:27:59.241806Z",
     "start_time": "2019-11-21T10:27:59.229328Z"
    },
    "slideshow": {
     "slide_type": "-"
    }
   },
   "outputs": [],
   "source": [
    "def foo(bar=None):\n",
    "    if bar is None:\n",
    "        bar = []\n",
    "    bar.append('oops')\n",
    "    return bar\n",
    "\n",
    "print(foo())\n",
    "print(foo())\n",
    "print(foo())\n",
    "print(foo(['OK']))"
   ]
  },
  {
   "cell_type": "markdown",
   "metadata": {
    "slideshow": {
     "slide_type": "subslide"
    }
   },
   "source": [
    "No problem with immutable types"
   ]
  },
  {
   "cell_type": "code",
   "execution_count": null,
   "metadata": {
    "ExecuteTime": {
     "end_time": "2019-11-21T10:28:09.640784Z",
     "start_time": "2019-11-21T10:28:09.635339Z"
    }
   },
   "outputs": [],
   "source": [
    "def foo(bar=()):\n",
    "    bar += ('oops',)\n",
    "    return bar\n",
    "\n",
    "print(foo())\n",
    "print(foo())\n",
    "print(foo())"
   ]
  },
  {
   "cell_type": "markdown",
   "metadata": {
    "slideshow": {
     "slide_type": "subslide"
    }
   },
   "source": [
    "## Class attributes VS object attributes"
   ]
  },
  {
   "cell_type": "code",
   "execution_count": null,
   "metadata": {
    "ExecuteTime": {
     "end_time": "2019-11-21T10:28:18.067123Z",
     "start_time": "2019-11-21T10:28:18.058533Z"
    }
   },
   "outputs": [],
   "source": [
    "class A(object):\n",
    "    x = 1\n",
    "\n",
    "    def __init__(self):\n",
    "        self.y = 2\n",
    "\n",
    "class B(A):\n",
    "    def __init__(self):\n",
    "        super().__init__()\n",
    "\n",
    "class C(A):\n",
    "    def __init__(self):\n",
    "        super().__init__()\n",
    "\n",
    "a, b, c = A(), B(), C()"
   ]
  },
  {
   "cell_type": "code",
   "execution_count": null,
   "metadata": {
    "ExecuteTime": {
     "end_time": "2019-11-21T10:28:18.590771Z",
     "start_time": "2019-11-21T10:28:18.583761Z"
    },
    "scrolled": true
   },
   "outputs": [],
   "source": [
    "print(a.x, b.x, c.x)\n",
    "print(a.y, b.y, c.y)"
   ]
  },
  {
   "cell_type": "code",
   "execution_count": null,
   "metadata": {
    "ExecuteTime": {
     "end_time": "2019-11-21T10:28:22.009575Z",
     "start_time": "2019-11-21T10:28:22.003155Z"
    },
    "scrolled": true,
    "slideshow": {
     "slide_type": "subslide"
    }
   },
   "outputs": [],
   "source": [
    "a.y = 3\n",
    "print(a.y, b.y, c.y)"
   ]
  },
  {
   "cell_type": "code",
   "execution_count": null,
   "metadata": {
    "ExecuteTime": {
     "end_time": "2019-11-21T10:28:22.216585Z",
     "start_time": "2019-11-21T10:28:22.209682Z"
    },
    "scrolled": true
   },
   "outputs": [],
   "source": [
    "a.x = 3  # Adds a new attribute named x in object a\n",
    "print(a.x, b.x, c.x)"
   ]
  },
  {
   "cell_type": "code",
   "execution_count": null,
   "metadata": {
    "ExecuteTime": {
     "end_time": "2019-11-21T10:28:22.410500Z",
     "start_time": "2019-11-21T10:28:22.403822Z"
    },
    "scrolled": true
   },
   "outputs": [],
   "source": [
    "A.x = 3 # Changes the class attribute x of class A\n",
    "print(a.x, b.x, c.x)"
   ]
  },
  {
   "cell_type": "markdown",
   "metadata": {},
   "source": [
    "- Attribute `x` is not an **attribute** of `b` nor `c`\n",
    "- It is also not a **class attribute** of classes `B` and `C`\n",
    "- So, it is is looked up in the base class `A`, which contains a **class attribute** `x`"
   ]
  },
  {
   "cell_type": "markdown",
   "metadata": {
    "slideshow": {
     "slide_type": "subslide"
    }
   },
   "source": [
    "Classes and objects contain a hidden `dict` to store their attributes, and are accessed following a method resolution order (MRO)"
   ]
  },
  {
   "cell_type": "code",
   "execution_count": null,
   "metadata": {
    "ExecuteTime": {
     "end_time": "2019-11-21T10:28:33.023397Z",
     "start_time": "2019-11-21T10:28:33.016794Z"
    },
    "slideshow": {
     "slide_type": "-"
    }
   },
   "outputs": [],
   "source": [
    "a.__dict__, b.__dict__, c.__dict__"
   ]
  },
  {
   "cell_type": "code",
   "execution_count": null,
   "metadata": {
    "ExecuteTime": {
     "end_time": "2019-11-21T10:28:33.584482Z",
     "start_time": "2019-11-21T10:28:33.576556Z"
    }
   },
   "outputs": [],
   "source": [
    "A.__dict__, B.__dict__, C.__dict__"
   ]
  },
  {
   "cell_type": "markdown",
   "metadata": {},
   "source": [
    "This can lead to **nasty** errors when using class attributes: learn more about this"
   ]
  },
  {
   "cell_type": "markdown",
   "metadata": {
    "slideshow": {
     "slide_type": "subslide"
    }
   },
   "source": [
    "## Python scope rules"
   ]
  },
  {
   "cell_type": "code",
   "execution_count": null,
   "metadata": {
    "ExecuteTime": {
     "end_time": "2019-11-21T10:28:42.845361Z",
     "start_time": "2019-11-21T10:28:42.840680Z"
    }
   },
   "outputs": [],
   "source": [
    "ints = [1]\n",
    "\n",
    "def foo1():\n",
    "    ints.append(2)\n",
    "    return ints\n",
    "\n",
    "def foo2():\n",
    "    ints += [2]\n",
    "    return ints"
   ]
  },
  {
   "cell_type": "code",
   "execution_count": null,
   "metadata": {
    "ExecuteTime": {
     "end_time": "2019-11-21T10:28:46.893081Z",
     "start_time": "2019-11-21T10:28:46.886635Z"
    }
   },
   "outputs": [],
   "source": [
    "foo1()"
   ]
  },
  {
   "cell_type": "code",
   "execution_count": null,
   "metadata": {
    "ExecuteTime": {
     "end_time": "2019-11-21T10:28:49.909576Z",
     "start_time": "2019-11-21T10:28:49.896569Z"
    },
    "scrolled": true,
    "slideshow": {
     "slide_type": "-"
    }
   },
   "outputs": [],
   "source": [
    "foo2()"
   ]
  },
  {
   "cell_type": "markdown",
   "metadata": {
    "slideshow": {
     "slide_type": "subslide"
    }
   },
   "source": [
    "### What the hell ?\n",
    "\n",
    "- An assignment to a variable in a scope assumes that the variable is local to that scope \n",
    "- and shadows any similarly named variable in any outer scope\n",
    "\n",
    "```python\n",
    "ints += [2]\n",
    "```\n",
    "\n",
    "means\n",
    "```python\n",
    "ints = ints + [2]\n",
    "```\n",
    "\n",
    "which is an assigment: `ints` must be defined in the local scope, but it is not, while\n",
    "```python\n",
    "ints.append(2)\n",
    "```\n",
    "\n",
    "is not an assignemnt"
   ]
  },
  {
   "cell_type": "markdown",
   "metadata": {
    "slideshow": {
     "slide_type": "subslide"
    }
   },
   "source": [
    "## Modify a `list` while iterating over it"
   ]
  },
  {
   "cell_type": "code",
   "execution_count": null,
   "metadata": {
    "ExecuteTime": {
     "end_time": "2019-11-21T10:29:24.172233Z",
     "start_time": "2019-11-21T10:29:24.158048Z"
    }
   },
   "outputs": [],
   "source": [
    "odd = lambda x: bool(x % 2)\n",
    "numbers = list(range(10))\n",
    "\n",
    "for i in range(len(numbers)):\n",
    "    if odd(numbers[i]):\n",
    "        del numbers[i]"
   ]
  },
  {
   "cell_type": "markdown",
   "metadata": {
    "slideshow": {
     "slide_type": "fragment"
    }
   },
   "source": [
    "Typically an example where one should use a list comprehension"
   ]
  },
  {
   "cell_type": "code",
   "execution_count": null,
   "metadata": {
    "ExecuteTime": {
     "end_time": "2019-11-21T10:29:27.183471Z",
     "start_time": "2019-11-21T10:29:27.177473Z"
    }
   },
   "outputs": [],
   "source": [
    "[number for number in numbers if not odd(number)]"
   ]
  },
  {
   "cell_type": "markdown",
   "metadata": {
    "slideshow": {
     "slide_type": "subslide"
    }
   },
   "source": [
    "## No docstrings\n",
    "\n",
    "Accept to spend time to write clean docstrings (my favourite is the `numpydoc` style)"
   ]
  },
  {
   "cell_type": "code",
   "execution_count": null,
   "metadata": {
    "ExecuteTime": {
     "end_time": "2019-11-21T10:29:47.929434Z",
     "start_time": "2019-11-21T10:29:47.923679Z"
    }
   },
   "outputs": [],
   "source": [
    "def create_student(name, age, address, major='computer science'):\n",
    "    \"\"\"Add a student in the database\n",
    "    \n",
    "    Parameters\n",
    "    ----------\n",
    "    name: `str`\n",
    "        Name of the student\n",
    "    \n",
    "    age: `int`\n",
    "        Age of the student\n",
    "    \n",
    "    address: `str`\n",
    "        Address of the student\n",
    "    \n",
    "    major: `str`, default='computer science'\n",
    "        The major chosen by the student\n",
    "    \n",
    "    Returns\n",
    "    -------\n",
    "    output: `Student`\n",
    "        A fresh student\n",
    "    \"\"\"\n",
    "    pass"
   ]
  },
  {
   "cell_type": "markdown",
   "metadata": {
    "slideshow": {
     "slide_type": "subslide"
    }
   },
   "source": [
    "## Not using available methods and/or the simplest solution"
   ]
  },
  {
   "cell_type": "code",
   "execution_count": null,
   "metadata": {
    "ExecuteTime": {
     "end_time": "2019-11-21T10:29:55.922021Z",
     "start_time": "2019-11-21T10:29:55.912241Z"
    }
   },
   "outputs": [],
   "source": [
    "dd = {'stephane': 1234, 'gael': 4567, 'gontran': 891011}\n",
    "\n",
    "# Bad\n",
    "for key in dd.keys():\n",
    "    print(key, dd[key])\n",
    "\n",
    "print('-' * 8)\n",
    "\n",
    "# Good\n",
    "for key, value in dd.items():\n",
    "    print(key, value)"
   ]
  },
  {
   "cell_type": "code",
   "execution_count": null,
   "metadata": {
    "ExecuteTime": {
     "end_time": "2019-11-21T10:30:04.821816Z",
     "start_time": "2019-11-21T10:30:04.813126Z"
    },
    "slideshow": {
     "slide_type": "subslide"
    }
   },
   "outputs": [],
   "source": [
    "colors = ['black', 'yellow', 'brown', 'red', 'pink']\n",
    "\n",
    "# Bad\n",
    "for i in range(len(colors)):\n",
    "    print(i, colors[i])\n",
    "\n",
    "print('-' * 8)\n",
    "\n",
    "# Good\n",
    "for i, color in enumerate(colors):\n",
    "    print(i, color)"
   ]
  },
  {
   "cell_type": "markdown",
   "metadata": {
    "slideshow": {
     "slide_type": "subslide"
    }
   },
   "source": [
    "## Not using the standard library \n",
    "\n",
    "While it's **always** better than a hand-made solution"
   ]
  },
  {
   "cell_type": "code",
   "execution_count": null,
   "metadata": {
    "ExecuteTime": {
     "end_time": "2019-11-21T10:30:08.787549Z",
     "start_time": "2019-11-21T10:30:08.776605Z"
    }
   },
   "outputs": [],
   "source": [
    "list1 = [1, 2]\n",
    "list2 = [3, 4]\n",
    "list3 = [5, 6, 7]\n",
    "\n",
    "for a in list1:\n",
    "    for b in list2:\n",
    "        for c in list3:\n",
    "            print(a, b, c)"
   ]
  },
  {
   "cell_type": "code",
   "execution_count": null,
   "metadata": {
    "ExecuteTime": {
     "end_time": "2019-11-21T10:30:10.169182Z",
     "start_time": "2019-11-21T10:30:10.161112Z"
    },
    "slideshow": {
     "slide_type": "subslide"
    }
   },
   "outputs": [],
   "source": [
    "from itertools import product\n",
    "\n",
    "for a, b, c in product(list1, list2, list3):\n",
    "    print(a, b, c)"
   ]
  },
  {
   "cell_type": "markdown",
   "metadata": {
    "slideshow": {
     "slide_type": "slide"
    }
   },
   "source": [
    "# That's it for now !"
   ]
  }
 ],
 "metadata": {
  "celltoolbar": "Slideshow",
  "kernelspec": {
   "display_name": "Python 3",
   "language": "python",
   "name": "python3"
  },
  "language_info": {
   "codemirror_mode": {
    "name": "ipython",
    "version": 3
   },
   "file_extension": ".py",
   "mimetype": "text/x-python",
   "name": "python",
   "nbconvert_exporter": "python",
   "pygments_lexer": "ipython3",
   "version": "3.6.9"
  },
  "toc": {
   "base_numbering": 1,
   "nav_menu": {},
   "number_sections": true,
   "sideBar": true,
   "skip_h1_title": false,
   "title_cell": "Table of Contents",
   "title_sidebar": "Contents",
   "toc_cell": false,
   "toc_position": {
    "height": "calc(100% - 180px)",
    "left": "10px",
    "top": "150px",
    "width": "377.625px"
   },
   "toc_section_display": true,
   "toc_window_display": false
  }
 },
 "nbformat": 4,
 "nbformat_minor": 1
}
