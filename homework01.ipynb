{
 "cells": [
  {
   "cell_type": "markdown",
   "metadata": {
    "slideshow": {
     "slide_type": "slide"
    }
   },
   "source": [
    "# The `Titanic` dataset\n",
    "\n",
    "Go to the following `kaggle` webpage [https://www.kaggle.com/c/titanic/data](https://www.kaggle.com/c/titanic/data)\n",
    "\n",
    "If you don't have a `kaggle` account, create one.\n",
    "\n",
    "Download the `train.csv` dataset.\n",
    "\n",
    "Answer the following questions using the libraries `pandas`, `seaborn` and/or any other library that you like.\n",
    "We expect you to produce **nice looking plots**, at least **readable** and perform the required computations\n",
    " as concisely as possible using the `pandas` API. This is the way we will evaluate this homework.\n",
    "\n",
    "Before boarding on the homework, import (install them if needed)\n",
    "the next modules.\n",
    "\n",
    "\n"
   ]
  },
  {
   "cell_type": "code",
   "execution_count": null,
   "metadata": {
    "ExecuteTime": {
     "end_time": "2020-02-23T18:08:55.416417Z",
     "start_time": "2020-02-23T18:08:54.048292Z"
    },
    "autoscroll": "auto",
    "options": {
     "caption": false,
     "complete": true,
     "display_data": true,
     "display_stream": true,
     "dpi": 200,
     "echo": true,
     "evaluate": false,
     "f_env": null,
     "f_pos": "htpb",
     "f_size": [
      6,
      4
     ],
     "f_spines": true,
     "fig": true,
     "include": true,
     "name": null,
     "option_string": "evaluate=False",
     "results": "verbatim",
     "term": false,
     "wrap": "output"
    },
    "scrolled": true,
    "slideshow": {
     "slide_type": "subslide"
    }
   },
   "outputs": [],
   "source": [
    "import numpy as np\n",
    "import pandas as pd\n",
    "\n",
    "%matplotlib inline\n",
    "import matplotlib.pyplot as plt\n",
    "import seaborn as sns\n",
    "import pdpipe as pdp\n",
    "\n",
    "import requests\n",
    "\n",
    "import regex\n",
    "import re\n",
    "import os\n",
    "from collections import namedtuple\n",
    "from collections import abc\n",
    "from statsmodels.graphics.mosaicplot import mosaic\n",
    "\n",
    "sns.set_context(\"notebook\", font_scale=1.2)"
   ]
  },
  {
   "cell_type": "markdown",
   "metadata": {
    "slideshow": {
     "slide_type": "slide"
    }
   },
   "source": [
    "The first thing to do is to read the description of\n",
    "the columns and understand what the dataset is about and what it contains.\n",
    "\n",
    "## Question : inspecting a DataFrame\n",
    "\n",
    "Open the dataframe with `pandas`, check the first lines of the dataset\n",
    "\n",
    "### Answer"
   ]
  },
  {
   "cell_type": "code",
   "execution_count": null,
   "metadata": {
    "ExecuteTime": {
     "end_time": "2020-02-23T18:08:55.466076Z",
     "start_time": "2020-02-23T18:08:55.419923Z"
    },
    "autoscroll": "auto",
    "options": {
     "caption": false,
     "complete": true,
     "display_data": true,
     "display_stream": true,
     "dpi": 200,
     "echo": true,
     "evaluate": false,
     "f_env": null,
     "f_pos": "htpb",
     "f_size": [
      6,
      4
     ],
     "f_spines": true,
     "fig": true,
     "include": true,
     "name": null,
     "option_string": "evaluate=False",
     "results": "verbatim",
     "term": false,
     "wrap": "output"
    },
    "scrolled": true,
    "slideshow": {
     "slide_type": "subslide"
    }
   },
   "outputs": [],
   "source": [
    "train = pd.read_csv(\"train.csv\")\n",
    "train.head()"
   ]
  },
  {
   "cell_type": "markdown",
   "metadata": {
    "slideshow": {
     "slide_type": "subslide"
    }
   },
   "source": [
    "\n",
    "Method `info`  print a a concise summary of a `DataFrame`.\n",
    "With optional parameter `memory_usage`, you can get an estimate\n",
    "of the amount of memory used by the `DataFrame`. Beware that\n",
    "the resulting estimate depends on the argument fed.\n",
    "\n"
   ]
  },
  {
   "cell_type": "code",
   "execution_count": null,
   "metadata": {
    "ExecuteTime": {
     "end_time": "2020-02-23T18:08:55.546200Z",
     "start_time": "2020-02-23T18:08:55.470757Z"
    },
    "autoscroll": "auto",
    "options": {
     "caption": false,
     "complete": true,
     "display_data": true,
     "display_stream": true,
     "dpi": 200,
     "echo": true,
     "evaluate": false,
     "f_env": null,
     "f_pos": "htpb",
     "f_size": [
      6,
      4
     ],
     "f_spines": true,
     "fig": true,
     "include": true,
     "name": null,
     "option_string": "evaluate=False",
     "results": "verbatim",
     "term": false,
     "wrap": "output"
    },
    "scrolled": true,
    "slideshow": {
     "slide_type": "subslide"
    }
   },
   "outputs": [],
   "source": [
    "train.info(memory_usage=True)"
   ]
  },
  {
   "cell_type": "markdown",
   "metadata": {
    "slideshow": {
     "slide_type": "slide"
    }
   },
   "source": [
    "\n",
    "## Question: Checking the types of columns\n",
    "\n",
    "Check the types of the columns.\n",
    "\n",
    "- How do you obtain the type of a column?\n",
    "- How do you obtain the datatype (`dtype`) of elements of a column?\n",
    "\n",
    "### Answer\n",
    "\n"
   ]
  },
  {
   "cell_type": "code",
   "execution_count": null,
   "metadata": {
    "ExecuteTime": {
     "end_time": "2020-02-23T18:08:55.671521Z",
     "start_time": "2020-02-23T18:08:55.551914Z"
    },
    "autoscroll": "auto",
    "options": {
     "caption": false,
     "complete": true,
     "display_data": true,
     "display_stream": true,
     "dpi": 200,
     "echo": true,
     "evaluate": false,
     "f_env": null,
     "f_pos": "htpb",
     "f_size": [
      6,
      4
     ],
     "f_spines": true,
     "fig": true,
     "include": true,
     "name": null,
     "option_string": "evaluate=False",
     "results": "verbatim",
     "term": false,
     "wrap": "output"
    },
    "scrolled": true,
    "slideshow": {
     "slide_type": "subslide"
    }
   },
   "outputs": [],
   "source": [
    "train.dtypes\n"
   ]
  },
  {
   "cell_type": "markdown",
   "metadata": {
    "slideshow": {
     "slide_type": "slide"
    }
   },
   "source": [
    "## Question: selecting columns according to datatype\n",
    "\n",
    "Project (in the SQL sense)  the DataFrame on columns with a specified datatype.\n",
    "For example, project (as in the SQL `SELECT`)\n",
    "the Titanic `DataFrame` on the  numerical columns.\n",
    "\n",
    "Hint: method `select_dtypes`\n",
    "\n",
    "### Answer\n"
   ]
  },
  {
   "cell_type": "code",
   "execution_count": null,
   "metadata": {
    "ExecuteTime": {
     "end_time": "2020-02-23T18:08:55.791349Z",
     "start_time": "2020-02-23T18:08:55.675853Z"
    },
    "scrolled": true
   },
   "outputs": [],
   "source": [
    "train.select_dtypes(np.number)"
   ]
  },
  {
   "cell_type": "markdown",
   "metadata": {
    "slideshow": {
     "slide_type": "slide"
    }
   },
   "source": [
    "\n",
    "## Question: computing number of distinct values in each column\n",
    "\n",
    "For each column with non-numerical datatype compute the number of unique values\n",
    "in the column.\n",
    "\n",
    "### Answer\n",
    "\n"
   ]
  },
  {
   "cell_type": "code",
   "execution_count": null,
   "metadata": {
    "ExecuteTime": {
     "end_time": "2020-02-23T18:08:55.911196Z",
     "start_time": "2020-02-23T18:08:55.794889Z"
    },
    "autoscroll": "auto",
    "options": {
     "caption": false,
     "complete": true,
     "display_data": true,
     "display_stream": true,
     "dpi": 200,
     "echo": true,
     "evaluate": false,
     "f_env": null,
     "f_pos": "htpb",
     "f_size": [
      6,
      4
     ],
     "f_spines": true,
     "fig": true,
     "include": true,
     "name": null,
     "option_string": "evaluate=False",
     "results": "verbatim",
     "term": false,
     "wrap": "output"
    },
    "scrolled": true,
    "slideshow": {
     "slide_type": "subslide"
    }
   },
   "outputs": [],
   "source": [
    "nn = train.select_dtypes(exclude=np.number)\n",
    "for i in nn:\n",
    "    print(i + \" \" + str(len(train[i].unique())))"
   ]
  },
  {
   "cell_type": "markdown",
   "metadata": {
    "slideshow": {
     "slide_type": "slide"
    }
   },
   "source": [
    "\n",
    "## Question: spotting categorical columns\n",
    "\n",
    "What are the indices and column names of columns\n",
    "with less than `10` distinct vakues ?\n",
    "\n",
    "### Answer\n",
    "\n"
   ]
  },
  {
   "cell_type": "code",
   "execution_count": null,
   "metadata": {
    "ExecuteTime": {
     "end_time": "2020-02-23T18:08:56.019859Z",
     "start_time": "2020-02-23T18:08:55.914238Z"
    },
    "autoscroll": "auto",
    "options": {
     "caption": false,
     "complete": true,
     "display_data": true,
     "display_stream": true,
     "dpi": 200,
     "echo": true,
     "evaluate": false,
     "f_env": null,
     "f_pos": "htpb",
     "f_size": [
      6,
      4
     ],
     "f_spines": true,
     "fig": true,
     "include": true,
     "name": null,
     "option_string": "evaluate=False",
     "results": "verbatim",
     "term": false,
     "wrap": "output"
    },
    "scrolled": true,
    "slideshow": {
     "slide_type": "subslide"
    }
   },
   "outputs": [],
   "source": [
    "for col in train.columns:\n",
    "    if len(train[col].unique()) <= 10:\n",
    "        print(col, train.columns.get_loc(col))"
   ]
  },
  {
   "cell_type": "markdown",
   "metadata": {
    "slideshow": {
     "slide_type": "slide"
    }
   },
   "source": [
    "\n",
    "## Question: coercing column datatypes\n",
    "\n",
    "- `Name` should be of type `string`\n",
    "- `Sex` is a categorical variable with values `Female, Male, None`\n",
    "- `Embarked` is a categorical variable with values `Cherbourg, Southampton, ..., None`\n",
    "- `Ticket` should be a string\n",
    "- `Cabin` should be a string\n",
    "- `Survived` should be of type `bool`\n",
    "- `Pclass` is a categorical variable (ordered)\n",
    "- `Sibsp` could a categorical variable (ordered)\n",
    "- `Parch` could a categorical variable (ordered)\n",
    "\n",
    "Attempt to automatically infer better types fails.\n",
    "\n"
   ]
  },
  {
   "cell_type": "markdown",
   "metadata": {
    "slideshow": {
     "slide_type": "subslide"
    }
   },
   "source": [
    "\n",
    "### Answer\n",
    "\n"
   ]
  },
  {
   "cell_type": "code",
   "execution_count": null,
   "metadata": {
    "ExecuteTime": {
     "end_time": "2020-02-23T18:08:56.116059Z",
     "start_time": "2020-02-23T18:08:56.024601Z"
    },
    "autoscroll": "auto",
    "options": {
     "caption": false,
     "complete": true,
     "display_data": true,
     "display_stream": true,
     "dpi": 200,
     "echo": true,
     "evaluate": false,
     "f_env": null,
     "f_pos": "htpb",
     "f_size": [
      6,
      4
     ],
     "f_spines": true,
     "fig": true,
     "include": true,
     "name": null,
     "option_string": "evaluate=False",
     "results": "verbatim",
     "term": false,
     "wrap": "output"
    },
    "scrolled": true,
    "slideshow": {
     "slide_type": "subslide"
    }
   },
   "outputs": [],
   "source": [
    "train['Survived'] = train['Survived'].astype(bool)\n",
    "#train[['Name','Ticket','Cabin']] = train[['Name','Ticket','Cabin']].astype('str')\n",
    "\n",
    "train[['Sex', 'Embarked']] = train[['Sex', 'Embarked']].apply(lambda x: x.astype('category'))\n",
    "\n",
    "for i in ['Pclass','SibSp','Parch']:\n",
    "    train[i] = pd.Categorical(train[i], ordered = True)\n",
    "\n",
    "\n",
    "print(train.dtypes)\n",
    "\n",
    "print(train['SibSp'].cat.categories)\n",
    "\n",
    "train['SibSp'].cat.ordered"
   ]
  },
  {
   "cell_type": "markdown",
   "metadata": {
    "slideshow": {
     "slide_type": "slide"
    }
   },
   "source": [
    "\n",
    "## Question: coercing column datatypes\n",
    "\n",
    "All suspicious columns could be converted to `category`.\n",
    "Some of the categories have to be ordered.\n",
    "\n",
    "\n",
    "### Answer\n"
   ]
  },
  {
   "cell_type": "code",
   "execution_count": null,
   "metadata": {
    "autoscroll": "auto",
    "options": {
     "caption": false,
     "complete": true,
     "display_data": true,
     "display_stream": true,
     "dpi": 200,
     "echo": true,
     "evaluate": false,
     "f_env": null,
     "f_pos": "htpb",
     "f_size": [
      6,
      4
     ],
     "f_spines": true,
     "fig": true,
     "include": true,
     "name": null,
     "option_string": "evaluate=False",
     "results": "verbatim",
     "term": false,
     "wrap": "output"
    },
    "scrolled": true,
    "slideshow": {
     "slide_type": "subslide"
    }
   },
   "outputs": [],
   "source": [
    "\n"
   ]
  },
  {
   "cell_type": "markdown",
   "metadata": {
    "slideshow": {
     "slide_type": "slide"
    }
   },
   "source": [
    "\n",
    "## Question: categorizing columns using functions\n",
    "\n",
    "Define a function that takes as arguments a `Dataframe` and a list of\n",
    "of column names and attempts to cast the corresponding columns to 'category'.\n",
    "\n",
    "### Answer\n",
    "\n",
    "\n"
   ]
  },
  {
   "cell_type": "code",
   "execution_count": null,
   "metadata": {
    "ExecuteTime": {
     "end_time": "2020-02-23T18:08:56.209722Z",
     "start_time": "2020-02-23T18:08:56.119747Z"
    },
    "autoscroll": "auto",
    "options": {
     "caption": false,
     "complete": true,
     "display_data": true,
     "display_stream": true,
     "dpi": 200,
     "echo": true,
     "evaluate": false,
     "f_env": null,
     "f_pos": "htpb",
     "f_size": [
      6,
      4
     ],
     "f_spines": true,
     "fig": true,
     "include": true,
     "name": null,
     "option_string": "evaluate=False",
     "results": "verbatim",
     "term": false,
     "wrap": "output"
    },
    "scrolled": true,
    "slideshow": {
     "slide_type": "subslide"
    }
   },
   "outputs": [],
   "source": [
    "def categoriseur(df, names):\n",
    "    for i in (names):\n",
    "        df[i] = df[i].astype('category')\n",
    "\n",
    "#categoriseur(train,['Sex'])      \n"
   ]
  },
  {
   "cell_type": "markdown",
   "metadata": {
    "slideshow": {
     "slide_type": "slide"
    }
   },
   "source": [
    "\n",
    "## Question: enforcing datatypes at loading time\n",
    "\n",
    "\n",
    "Function `read_csv` from `Pandas` has many optional keyword arguments that\n",
    "can be used to tweak the resulting `Dataframe` during (or just after load).\n",
    "\n",
    "Improve your import of the data: for instance,\n",
    "categorical columns (a column with a small number of modalities)\n",
    "should have the `category` type.\n",
    "\n",
    "### Answer\n"
   ]
  },
  {
   "cell_type": "code",
   "execution_count": null,
   "metadata": {
    "ExecuteTime": {
     "end_time": "2020-02-23T18:08:56.388879Z",
     "start_time": "2020-02-23T18:08:56.212830Z"
    },
    "autoscroll": "auto",
    "options": {
     "caption": false,
     "complete": true,
     "display_data": true,
     "display_stream": true,
     "dpi": 200,
     "echo": true,
     "evaluate": false,
     "f_env": null,
     "f_pos": "htpb",
     "f_size": [
      6,
      4
     ],
     "f_spines": true,
     "fig": true,
     "include": true,
     "name": null,
     "option_string": "evaluate=False",
     "results": "verbatim",
     "term": false,
     "wrap": "output"
    },
    "scrolled": true,
    "slideshow": {
     "slide_type": "subslide"
    }
   },
   "outputs": [],
   "source": [
    "new_dtypes = {'Sex': 'category', 'Embarked': 'category','Pclass': 'category',\n",
    "              'SibSp': 'category','Parch': 'category'}\n",
    "    \n",
    "df = pd.read_csv(\"train.csv\", dtype=new_dtypes)\n",
    "df.dtypes"
   ]
  },
  {
   "cell_type": "markdown",
   "metadata": {
    "slideshow": {
     "slide_type": "slide"
    }
   },
   "source": [
    "## Question: Count the number of missing values in each column\n",
    "\n",
    "Display the distribution of `Pclass`  and `Cabin == NaN` in\n",
    "the subpopulation defined by the missingness of `Age`.\n",
    "\n",
    "Hint: you may use function `mosaic` from package `statsmodels`. See \n",
    "`from statsmodels.graphics.mosaicplot import mosaic`\n",
    "\n",
    "### Answer"
   ]
  },
  {
   "cell_type": "code",
   "execution_count": null,
   "metadata": {
    "ExecuteTime": {
     "end_time": "2020-02-23T18:08:56.814892Z",
     "start_time": "2020-02-23T18:08:56.392599Z"
    },
    "autoscroll": "auto",
    "options": {
     "caption": false,
     "complete": true,
     "display_data": true,
     "display_stream": true,
     "dpi": 200,
     "echo": true,
     "evaluate": false,
     "f_env": null,
     "f_pos": "htpb",
     "f_size": [
      6,
      4
     ],
     "f_spines": true,
     "fig": true,
     "include": true,
     "name": null,
     "option_string": "evaluate=False",
     "results": "verbatim",
     "term": false,
     "wrap": "output"
    },
    "scrolled": false,
    "slideshow": {
     "slide_type": "subslide"
    }
   },
   "outputs": [],
   "source": [
    "\n",
    "mosaic(train[train['Age'].isna()].assign(Cabin_NaN=train['Cabin'].isna()).sort_values(by='Pclass'), ['Pclass', 'Cabin_NaN'], gap=0.01)\n",
    "\n",
    "plt.title(' Distribution of Pclass and Cabin and Age are missing ')\n",
    "plt.show() "
   ]
  },
  {
   "cell_type": "markdown",
   "metadata": {
    "slideshow": {
     "slide_type": "slide"
    }
   },
   "source": [
    "\n",
    "\n",
    "## Question: number of missing values per row\n",
    "\n",
    "It is also possible to determine the number of NA values per row.\n",
    "List the rows with at least two missing values. Can you complete\n",
    "some dots?\n",
    "\n",
    "### Answer"
   ]
  },
  {
   "cell_type": "code",
   "execution_count": null,
   "metadata": {
    "ExecuteTime": {
     "end_time": "2020-02-23T18:08:56.842656Z",
     "start_time": "2020-02-23T18:08:56.818287Z"
    },
    "autoscroll": "auto",
    "options": {
     "caption": false,
     "complete": true,
     "display_data": true,
     "display_stream": true,
     "dpi": 200,
     "echo": true,
     "evaluate": false,
     "f_env": null,
     "f_pos": "htpb",
     "f_size": [
      6,
      4
     ],
     "f_spines": true,
     "fig": true,
     "include": true,
     "name": null,
     "option_string": "evaluate=False",
     "results": "verbatim",
     "term": false,
     "wrap": "output"
    },
    "scrolled": true,
    "slideshow": {
     "slide_type": "subslide"
    }
   },
   "outputs": [],
   "source": [
    "ln = train.isna().sum(axis=1)\n",
    "\n",
    "ln = ln[ln>=2].index.values\n",
    "\n",
    "na_2r = train.iloc[ln]\n",
    "\n",
    "#Proportion of passengers with 2 NA or more per class\n",
    "print(na_2r['Pclass'].value_counts()/train['Pclass'].value_counts())\n",
    "\n",
    "\n",
    "#the 3rd class passengers are overrepresented\n"
   ]
  },
  {
   "cell_type": "markdown",
   "metadata": {
    "slideshow": {
     "slide_type": "slide"
    }
   },
   "source": [
    "\n",
    "\n",
    "## Question: describe, showing quintiles\n",
    "\n",
    "For each numerical column, show the *quintiles* (from $20\\%$ up to $80\\%$).\n",
    "\n",
    "### Answer\n",
    "\n"
   ]
  },
  {
   "cell_type": "code",
   "execution_count": null,
   "metadata": {
    "ExecuteTime": {
     "end_time": "2020-02-23T18:08:56.944740Z",
     "start_time": "2020-02-23T18:08:56.845681Z"
    },
    "autoscroll": "auto",
    "options": {
     "caption": false,
     "complete": true,
     "display_data": true,
     "display_stream": true,
     "dpi": 200,
     "echo": true,
     "evaluate": false,
     "f_env": null,
     "f_pos": "htpb",
     "f_size": [
      6,
      4
     ],
     "f_spines": true,
     "fig": true,
     "include": true,
     "name": null,
     "option_string": "evaluate=False",
     "results": "verbatim",
     "term": false,
     "wrap": "output"
    },
    "scrolled": true,
    "slideshow": {
     "slide_type": "subslide"
    }
   },
   "outputs": [],
   "source": [
    "train.quantile([0.2,0.8], numeric_only=True)"
   ]
  },
  {
   "cell_type": "markdown",
   "metadata": {
    "slideshow": {
     "slide_type": "slide"
    }
   },
   "source": [
    "\n",
    "\n",
    "## Question: binning the `Age` column\n",
    "\n",
    "Create a new categorical column named `Status`.\n",
    "\n",
    "The value should be should depend on the `Age`\n",
    "column with bins  `[0,17], (17, 40], (40, 60], (60, 100]`\n",
    "(`np.nan` for passengers whose age is unknown).\n",
    "\n",
    "### Answer\n",
    "\n",
    "\n"
   ]
  },
  {
   "cell_type": "code",
   "execution_count": null,
   "metadata": {
    "ExecuteTime": {
     "end_time": "2020-02-23T18:08:57.088077Z",
     "start_time": "2020-02-23T18:08:56.948070Z"
    },
    "autoscroll": "auto",
    "options": {
     "caption": false,
     "complete": true,
     "display_data": true,
     "display_stream": true,
     "dpi": 200,
     "echo": true,
     "evaluate": false,
     "f_env": null,
     "f_pos": "htpb",
     "f_size": [
      6,
      4
     ],
     "f_spines": true,
     "fig": true,
     "include": true,
     "name": null,
     "option_string": "evaluate=False",
     "results": "verbatim",
     "term": false,
     "wrap": "output"
    },
    "scrolled": false,
    "slideshow": {
     "slide_type": "subslide"
    }
   },
   "outputs": [],
   "source": [
    "Status = ''\n",
    "\n",
    "b3 = train['Status']  = np.where(train['Age']<=100,\"(60,100]\", np.nan)\n",
    "b2 = train['Status']  = np.where(train['Age']<=60,\"(40,60]\", b3)\n",
    "b1 = train['Status']  = np.where(train['Age']<=40,\"(17,40]\", b2)\n",
    "train['Status']  = np.where(train['Age']<=17,\"(0,17]\",b1)\n",
    "\n",
    "\n",
    "categoriseur(train,['Status']) \n",
    "\n",
    "train.head(n=10)\n"
   ]
  },
  {
   "cell_type": "markdown",
   "metadata": {
    "slideshow": {
     "slide_type": "subslide"
    }
   },
   "source": [
    "\n",
    "## Question: \n",
    "\n",
    "Draw a `countplot` for each categorical column, arrange the `countplot`s in a grid \n",
    "with two rows and three columns.\n",
    "\n",
    "### Answer"
   ]
  },
  {
   "cell_type": "code",
   "execution_count": null,
   "metadata": {
    "ExecuteTime": {
     "end_time": "2020-02-23T18:08:58.550397Z",
     "start_time": "2020-02-23T18:08:57.090709Z"
    },
    "autoscroll": "auto",
    "options": {
     "caption": false,
     "complete": true,
     "display_data": true,
     "display_stream": true,
     "dpi": 200,
     "echo": true,
     "evaluate": false,
     "f_env": null,
     "f_pos": "htpb",
     "f_size": [
      6,
      4
     ],
     "f_spines": true,
     "fig": true,
     "include": true,
     "name": null,
     "option_string": "evaluate=False",
     "results": "verbatim",
     "term": false,
     "wrap": "output"
    },
    "scrolled": false,
    "slideshow": {
     "slide_type": "subslide"
    }
   },
   "outputs": [],
   "source": [
    "fig, axes = plt.subplots(nrows=3, ncols=2, figsize=(12, 10))\n",
    "columns = train.select_dtypes(\"category\")\n",
    "\n",
    "for i, colname in enumerate(columns):\n",
    "    sns.countplot(colname, data=train, ax=fig.axes[i])\n",
    "    fig.axes[i].set_title('distribution of '+colname)\n",
    "plt.tight_layout()\n"
   ]
  },
  {
   "cell_type": "markdown",
   "metadata": {
    "slideshow": {
     "slide_type": "slide"
    }
   },
   "source": [
    "\n",
    "## Question: plotting the distribution of numerical columns\n",
    "\n",
    "For each column for which it makes sense, display its distribution using `seaborn`:\n",
    "choose the most relevant type of plot for each column and display it.\n",
    "\n",
    "**Remark.** Note that the `Age` column contains missing values:\n",
    "show the number of missing / non-missing values in this column, and show the distribution of non-missing ages in a different plot.\n",
    "Also, note that there is a `notna()` method for dataframes...\n",
    "\n",
    "### Answer\n"
   ]
  },
  {
   "cell_type": "code",
   "execution_count": null,
   "metadata": {
    "ExecuteTime": {
     "end_time": "2020-02-23T18:08:59.508718Z",
     "start_time": "2020-02-23T18:08:58.553648Z"
    },
    "autoscroll": "auto",
    "options": {
     "caption": false,
     "complete": true,
     "display_data": true,
     "display_stream": true,
     "dpi": 200,
     "echo": true,
     "evaluate": false,
     "f_env": null,
     "f_pos": "htpb",
     "f_size": [
      6,
      4
     ],
     "f_spines": true,
     "fig": true,
     "include": true,
     "name": null,
     "option_string": "evaluate=False",
     "results": "verbatim",
     "term": false,
     "wrap": "output"
    },
    "scrolled": false,
    "slideshow": {
     "slide_type": "subslide"
    }
   },
   "outputs": [],
   "source": [
    "fig, axes = plt.subplots(ncols=3, figsize=(16, 8))\n",
    "\n",
    "sns.distplot(train['Age'][train['Age'].notna()], ax=fig.axes[0])\n",
    "sns.countplot(train['Age'].isna(),ax=fig.axes[1]).set_xticklabels(['not NaN', 'NaN'])\n",
    "sns.distplot(train['Fare'], ax=fig.axes[2])\n",
    "fig.axes[0].set_title('Distribution of Age')\n",
    "fig.axes[2].set_title('Distribution of Fare')\n",
    "\n",
    "plt.show()\n",
    "\n",
    "#count plot notna() age"
   ]
  },
  {
   "cell_type": "markdown",
   "metadata": {
    "slideshow": {
     "slide_type": "slide"
    }
   },
   "source": [
    "\n",
    "\n",
    "## Question: plot numerical columuns according to categorical columns\n",
    "\n",
    "Do the same as in Question 4,\n",
    "but **differentiate** the plots\n",
    "for passengers the passengers that survived and the ones who did not.\n",
    "You can use the `hue` option,\n",
    "you can use a `FacetGrid`.\n",
    "Look at the `seaborn` documentation and choose the best option.\n",
    "\n",
    "### Answer\n",
    "\n",
    "#### Facets\n",
    "\n"
   ]
  },
  {
   "cell_type": "code",
   "execution_count": null,
   "metadata": {
    "ExecuteTime": {
     "end_time": "2020-02-23T18:09:04.000577Z",
     "start_time": "2020-02-23T18:08:59.511990Z"
    },
    "autoscroll": "auto",
    "options": {
     "caption": false,
     "complete": true,
     "display_data": true,
     "display_stream": true,
     "dpi": 200,
     "echo": true,
     "evaluate": false,
     "f_env": null,
     "f_pos": "htpb",
     "f_size": [
      6,
      4
     ],
     "f_spines": true,
     "fig": true,
     "include": true,
     "name": null,
     "option_string": "evaluate=False",
     "results": "verbatim",
     "term": false,
     "wrap": "output"
    },
    "scrolled": false,
    "slideshow": {
     "slide_type": "subslide"
    }
   },
   "outputs": [],
   "source": [
    "\n",
    "for colonne in train.select_dtypes(\"category\"):\n",
    "\n",
    "    sns.catplot(data = train.sort_values(by=col), col =\"Survived\", x=colonne, hue=colonne, kind=\"count\")\n"
   ]
  },
  {
   "cell_type": "markdown",
   "metadata": {
    "slideshow": {
     "slide_type": "subslide"
    }
   },
   "source": [
    "#### Boxplot"
   ]
  },
  {
   "cell_type": "code",
   "execution_count": null,
   "metadata": {
    "ExecuteTime": {
     "end_time": "2020-02-23T18:09:11.820761Z",
     "start_time": "2020-02-23T18:09:04.003640Z"
    },
    "scrolled": false
   },
   "outputs": [],
   "source": [
    "fig, axes = plt.subplots(nrows=6 , ncols=2, figsize=(15, 40))\n",
    "for i,col in enumerate(train.select_dtypes(\"category\")):\n",
    "    sns.boxplot(y=\"Age\", x=\"Survived\" , hue =col, data=train, ax=fig.axes[2*i])\n",
    "    sns.boxplot(y=\"Fare\", x=\"Survived\", hue =col ,data=train, ax=fig.axes[2*i+1]).set_yscale(\"log\")\n",
    "plt.plot()"
   ]
  },
  {
   "cell_type": "markdown",
   "metadata": {
    "slideshow": {
     "slide_type": "subslide"
    }
   },
   "source": [
    "#### Catplot"
   ]
  },
  {
   "cell_type": "code",
   "execution_count": null,
   "metadata": {
    "ExecuteTime": {
     "end_time": "2020-02-23T18:09:18.027895Z",
     "start_time": "2020-02-23T18:09:11.823622Z"
    },
    "autoscroll": "auto",
    "options": {
     "caption": false,
     "complete": true,
     "display_data": true,
     "display_stream": true,
     "dpi": 200,
     "echo": true,
     "evaluate": false,
     "f_env": null,
     "f_pos": "htpb",
     "f_size": [
      6,
      4
     ],
     "f_spines": true,
     "fig": true,
     "include": true,
     "name": null,
     "option_string": "evaluate=False",
     "results": "verbatim",
     "term": false,
     "wrap": "output"
    },
    "scrolled": false,
    "slideshow": {
     "slide_type": "subslide"
    }
   },
   "outputs": [],
   "source": [
    "fig, axes = plt.subplots(nrows=6 , ncols=2, figsize=(15, 40))\n",
    "for i,col in enumerate(train.select_dtypes(\"category\")):\n",
    "    sns.violinplot(y=\"Age\", x=\"Survived\" , hue =col, data=train, ax=fig.axes[2*i])\n",
    "    sns.violinplot(y=\"Fare\", x=\"Survived\", hue =col ,data=train, ax=fig.axes[2*i+1])\n",
    "plt.show()"
   ]
  },
  {
   "cell_type": "markdown",
   "metadata": {
    "slideshow": {
     "slide_type": "slide"
    }
   },
   "source": [
    "\n",
    "\n",
    "\n",
    "## Question: categorical plots, barplots\n",
    "\n",
    "The `Titanic`  dataset may be compared with datasets generated by\n",
    "*surveys* (*questionnaires*). In such datasets, each row correspond\n",
    "to an individual. An individual is described by *demographic* variables\n",
    "and *attitudinal/response* variables. Here, `Age, Sex, Pclass, Embarked, ...`\n",
    "are considered as demographic variables while `Survived` is\n",
    "regarded as an attitudinal/response variable. It is desirable to plot the response\n",
    "variable as a function of (some of) the demographic variables.\n",
    "All variables are categorical.\n",
    "\n",
    "### Answer\n",
    "\n"
   ]
  },
  {
   "cell_type": "code",
   "execution_count": null,
   "metadata": {
    "ExecuteTime": {
     "end_time": "2020-02-23T18:09:30.748026Z",
     "start_time": "2020-02-23T18:09:18.032121Z"
    },
    "autoscroll": "auto",
    "options": {
     "caption": false,
     "complete": true,
     "display_data": true,
     "display_stream": true,
     "dpi": 200,
     "echo": true,
     "evaluate": false,
     "f_env": null,
     "f_pos": "htpb",
     "f_size": [
      6,
      4
     ],
     "f_spines": true,
     "fig": true,
     "include": true,
     "name": null,
     "option_string": "evaluate=False",
     "results": "verbatim",
     "term": false,
     "wrap": "output"
    },
    "scrolled": false,
    "slideshow": {
     "slide_type": "subslide"
    }
   },
   "outputs": [],
   "source": [
    "fig, axes = plt.subplots(nrows=6 , ncols=2, figsize=(15, 30))\n",
    "fig.suptitle('Barplot or Age and Fare facet by survival')    \n",
    "for i,col in enumerate(train.select_dtypes(\"category\")):\n",
    "    sns.barplot(y=\"Age\", x=\"Survived\" , hue =col, data=train, ax=axes[i,0])\n",
    "    sns.barplot(y=\"Fare\", x=\"Survived\", hue =col ,data=train, ax=axes[i,1])\n",
    "plt.show()"
   ]
  },
  {
   "cell_type": "markdown",
   "metadata": {
    "slideshow": {
     "slide_type": "slide"
    }
   },
   "source": [
    "\n",
    "Barplots do not give us hints about the size of the different sub-populations.\n",
    "\n",
    "\n",
    "## Question: categorical plots, mosaicplots\n",
    "\n",
    "\n",
    "\n",
    "You have drawn a `boxplot` of `Age` with respect to passenger class (`Pclass`).\n",
    "It would be nice to complement the plot with an indication of the number of missing values.\n",
    "It would also make sense to indicate the number of individuals in each subsample.\n",
    "\n",
    "Mosaicplot as delivered by module `statsmodels` is a very\n",
    "powerful tool to visualize *contingency tables*.\n",
    "\n",
    "A *two-way contingency table* and the associated `mosaicplot` reveal that\n",
    "the passengers who boarded in the three harbors (Southampton, Cherbourg, Q)\n",
    "did not buy the same kind of tickets. Half of the passengers embarked at Cherbourg\n",
    "travelled first class while at most one fourth of the passengers embarked\n",
    "at Southampton did.\n",
    "\n",
    "### Answer\n",
    "\n"
   ]
  },
  {
   "cell_type": "code",
   "execution_count": null,
   "metadata": {
    "ExecuteTime": {
     "end_time": "2020-02-23T18:09:31.807043Z",
     "start_time": "2020-02-23T18:09:30.751419Z"
    },
    "autoscroll": "auto",
    "options": {
     "caption": false,
     "complete": true,
     "display_data": true,
     "display_stream": true,
     "dpi": 200,
     "echo": true,
     "evaluate": false,
     "f_env": null,
     "f_pos": "htpb",
     "f_size": [
      6,
      4
     ],
     "f_spines": true,
     "fig": true,
     "include": true,
     "name": null,
     "option_string": "evaluate=False",
     "results": "verbatim",
     "term": false,
     "wrap": "output"
    },
    "scrolled": false,
    "slideshow": {
     "slide_type": "subslide"
    }
   },
   "outputs": [],
   "source": [
    "fig, axes = plt.subplots(nrows = 2, figsize=(10, 16))\n",
    "\n",
    "nan_ticks =[\"Na =\"] + train[train['Age'].isna()].groupby(['Survived','Pclass'])['PassengerId'].count().to_list()\n",
    "n_ticks = [\"n =\"] + train[train['Age'].notna()].groupby(['Survived','Pclass'])['PassengerId'].count().to_list()\n",
    "\n",
    "    \n",
    "for i, tick in enumerate(nan_ticks):\n",
    "    posx=0.25*(i-2)\n",
    "    if i>3: posx+=0.25\n",
    "    axes[0].text(posx, -2, tick, fontsize=10, color='red')\n",
    "    axes[0].text(posx, +5, n_ticks[i], fontsize=12, color = 'blue')\n",
    "\n",
    "\n",
    "bxp = sns.boxplot(y=\"Age\", x=\"Survived\" , hue = \"Pclass\", data=train, ax=fig.axes[0])\n",
    "fig.axes[0].set_title(\"boxplot of age by Pclasse and survival\")\n",
    "\n",
    "mosaic(train,['Pclass', 'Embarked'], gap=0.02, ax=fig.axes[1],title='Class by emarkment port', axes_label=True)\n",
    "plt.show()"
   ]
  },
  {
   "cell_type": "markdown",
   "metadata": {
    "slideshow": {
     "slide_type": "slide"
    }
   },
   "source": [
    "\n",
    "## Question: three-way mosaicplots\n",
    "\n",
    "A three-way contingency illustrate the association between `Sex`, `Pclass`\n",
    "and `Survived`.\n",
    "\n",
    "### Answer\n",
    "\n"
   ]
  },
  {
   "cell_type": "code",
   "execution_count": null,
   "metadata": {
    "ExecuteTime": {
     "end_time": "2020-02-23T18:09:32.560625Z",
     "start_time": "2020-02-23T18:09:31.809902Z"
    },
    "autoscroll": "auto",
    "options": {
     "caption": false,
     "complete": true,
     "display_data": true,
     "display_stream": true,
     "dpi": 200,
     "echo": true,
     "evaluate": false,
     "f_env": null,
     "f_pos": "htpb",
     "f_size": [
      6,
      4
     ],
     "f_spines": true,
     "fig": true,
     "include": true,
     "name": null,
     "option_string": "evaluate=False",
     "results": "verbatim",
     "term": false,
     "wrap": "output"
    },
    "scrolled": false,
    "slideshow": {
     "slide_type": "subslide"
    }
   },
   "outputs": [],
   "source": [
    "fig, axes = plt.subplots(figsize=(12, 10))\n",
    "\n",
    "mosaic(train,['Pclass', 'Sex', 'Survived'], gap =0.02, ax=axes, title='contingency of Pclass, Sex, Survived')\n",
    "plt.show()"
   ]
  },
  {
   "cell_type": "markdown",
   "metadata": {
    "slideshow": {
     "slide_type": "slide"
    }
   },
   "source": [
    "\n",
    "## Question: roommates\n",
    "\n",
    "For each passenger, compute the number of passengers in the same cabin (including himself).\n",
    "Add a column called `Roommates` that contain this information.\n",
    "When the cabin information is missing, then the `Roommates` is missing as well.\n",
    "You will need to use `groupby` and `join` operations.\n",
    "\n",
    "\n",
    "\n",
    "**Warning.** You should not `reset_index` after the `groupby` operation if you `join` with the resulting dataframe.\n",
    "\n",
    "\n",
    "We may proceed by projecting on columns\n",
    "`PassengerId,  and `Cabin` while filtering (selecting) the rows\n",
    "where `Cabin` is available. This is the `df_cabin` dataframe below.\n",
    "\n",
    "\n"
   ]
  },
  {
   "cell_type": "markdown",
   "metadata": {
    "slideshow": {
     "slide_type": "slide"
    }
   },
   "source": [
    "\n",
    "- Plot `Roommates` according to `Pclass`\n",
    "- Plot `Roommates` according to `Embarkment`\n",
    "- Plot `Roommates` according to `Sex`\n",
    "\n",
    "### Answer"
   ]
  },
  {
   "cell_type": "code",
   "execution_count": null,
   "metadata": {
    "ExecuteTime": {
     "end_time": "2020-02-23T18:09:51.299758Z",
     "start_time": "2020-02-23T18:09:51.285657Z"
    },
    "autoscroll": "auto",
    "options": {
     "caption": false,
     "complete": true,
     "display_data": true,
     "display_stream": true,
     "dpi": 200,
     "echo": true,
     "evaluate": false,
     "f_env": null,
     "f_pos": "htpb",
     "f_size": [
      6,
      4
     ],
     "f_spines": true,
     "fig": true,
     "include": true,
     "name": null,
     "option_string": "evaluate=False",
     "results": "verbatim",
     "term": false,
     "wrap": "output"
    },
    "scrolled": true,
    "slideshow": {
     "slide_type": "subslide"
    }
   },
   "outputs": [],
   "source": [
    "\n",
    "cab = train.groupby(\"Cabin\", as_index=False)[\"PassengerId\"].count()\n",
    "cab.columns =[\"Cabin\", \"Roommates\"]\n",
    "cab.head()\n",
    "\n",
    "if 'Roommates' not in train:\n",
    "    train = train.join(cab.set_index(\"Cabin\"), on=\"Cabin\")\n"
   ]
  },
  {
   "cell_type": "code",
   "execution_count": null,
   "metadata": {
    "ExecuteTime": {
     "end_time": "2020-02-23T18:09:32.713592Z",
     "start_time": "2020-02-23T18:09:32.591051Z"
    },
    "scrolled": true
   },
   "outputs": [],
   "source": [
    "train.head()"
   ]
  },
  {
   "cell_type": "markdown",
   "metadata": {
    "slideshow": {
     "slide_type": "slide"
    }
   },
   "source": [
    "\n",
    "\n",
    "## Question: plotting  `RoomMates` column.\n",
    "\n",
    "\n",
    "### Answer\n",
    "\n"
   ]
  },
  {
   "cell_type": "code",
   "execution_count": null,
   "metadata": {
    "ExecuteTime": {
     "end_time": "2020-02-23T18:13:25.574876Z",
     "start_time": "2020-02-23T18:13:22.862576Z"
    },
    "autoscroll": "auto",
    "options": {
     "caption": false,
     "complete": true,
     "display_data": true,
     "display_stream": true,
     "dpi": 200,
     "echo": true,
     "evaluate": false,
     "f_env": null,
     "f_pos": "htpb",
     "f_size": [
      6,
      4
     ],
     "f_spines": true,
     "fig": true,
     "include": true,
     "name": null,
     "option_string": "evaluate=False",
     "results": "verbatim",
     "term": false,
     "wrap": "output"
    },
    "scrolled": false,
    "slideshow": {
     "slide_type": "subslide"
    }
   },
   "outputs": [],
   "source": [
    "fig, axes = plt.subplots(nrows=3 , ncols=2, figsize=(15, 20))\n",
    "cols = ['Pclass', 'Sex', 'Embarked']\n",
    "\n",
    "plt.suptitle('Distribution of Roomates by Category')\n",
    "\n",
    "for i,c in enumerate(cols):\n",
    "    sns.countplot(data=train, x=c, hue='Roommates', ax=axes[i,0])\n",
    "    sns.countplot(data=train, hue=c, x='Roommates', ax=axes[i,1])\n"
   ]
  },
  {
   "cell_type": "markdown",
   "metadata": {
    "slideshow": {
     "slide_type": "slide"
    }
   },
   "source": [
    "\n",
    "\n",
    "## Question: surviving together\n",
    "\n",
    "Is there a cabin where some passengers survived while others did not?\n",
    "\n",
    "\n",
    "### Answer\n",
    "\n"
   ]
  },
  {
   "cell_type": "code",
   "execution_count": null,
   "metadata": {
    "ExecuteTime": {
     "end_time": "2020-02-23T18:09:35.108087Z",
     "start_time": "2020-02-23T18:09:35.080288Z"
    },
    "autoscroll": "auto",
    "options": {
     "caption": false,
     "complete": true,
     "display_data": true,
     "display_stream": true,
     "dpi": 200,
     "echo": true,
     "evaluate": false,
     "f_env": null,
     "f_pos": "htpb",
     "f_size": [
      6,
      4
     ],
     "f_spines": true,
     "fig": true,
     "include": true,
     "name": null,
     "option_string": "evaluate=False",
     "results": "verbatim",
     "term": false,
     "wrap": "output"
    },
    "scrolled": true,
    "slideshow": {
     "slide_type": "subslide"
    }
   },
   "outputs": [],
   "source": [
    "surv = train.groupby('Cabin')['Survived'].value_counts().unstack().fillna(0)\n",
    "surv.columns =[\"False\", \"True\"]\n",
    "\n",
    "#find cabins with survivors and non surivors\n",
    "surv[(surv['True']>0) & (surv['False']>0)]"
   ]
  },
  {
   "cell_type": "markdown",
   "metadata": {
    "slideshow": {
     "slide_type": "slide"
    }
   },
   "source": [
    "\n",
    "\n",
    "## Question: Missing `Cabin`  value and `Age`\n",
    "\n",
    "\n",
    "The `Cabin` column is `NaN` for many rows, how are\n",
    "those missing data distributed acrross the classes?\n",
    "\n",
    "Plot the age distribution with\n",
    "respect to the availability of the `Cabin` column (`Cabin.isna()`).\n",
    "\n",
    "### Answer\n"
   ]
  },
  {
   "cell_type": "code",
   "execution_count": null,
   "metadata": {
    "ExecuteTime": {
     "end_time": "2020-02-23T18:15:49.097475Z",
     "start_time": "2020-02-23T18:15:48.553450Z"
    },
    "autoscroll": "auto",
    "options": {
     "caption": false,
     "complete": true,
     "display_data": true,
     "display_stream": true,
     "dpi": 200,
     "echo": true,
     "evaluate": false,
     "f_env": null,
     "f_pos": "htpb",
     "f_size": [
      6,
      4
     ],
     "f_spines": true,
     "fig": true,
     "include": true,
     "name": null,
     "option_string": "evaluate=False",
     "results": "verbatim",
     "term": false,
     "wrap": "output"
    },
    "scrolled": false,
    "slideshow": {
     "slide_type": "subslide"
    }
   },
   "outputs": [],
   "source": [
    "fig, axes = plt.subplots(ncols=2, figsize=(12, 8))\n",
    "fig.suptitle('Age distribution according to the availability of cabins')\n",
    "nan_cabin = train[train['Cabin'].isna()]\n",
    "\n",
    "sns.countplot(\"Pclass\", data= nan_cabin, ax=fig.axes[0])\n",
    "sns.distplot(nan_cabin[\"Age\"][nan_cabin['Age'].notna()], ax=fig.axes[1])\n",
    "plt.show()"
   ]
  },
  {
   "cell_type": "markdown",
   "metadata": {
    "slideshow": {
     "slide_type": "slide"
    }
   },
   "source": [
    "\n",
    "\n",
    "## Question: Milking the `Name` column\n",
    "\n",
    "Column `Name` gathers different kind of information pertaining\n",
    "to a passenger: name, civility,\n",
    "and given name(s). For some female passengers, the apparent given names\n",
    "are actually the husband's name and the maidens name is indicated between\n",
    "parentheses.\n",
    "\n",
    "The information contained in the `Name` column Has to be extracted in a proper way:\n",
    "The string should be into three parts: the first one containing the name,\n",
    "the second one containing the civility  and, the last one\n",
    "possibly containing given names or given names plus maiden names. Passing is\n",
    "facilitated by the next observation: the name is followed by a comma, the\n",
    "civility is followed by a period. You may use regular expressions\n",
    "as providede by  module `re`  or module `regex`.\n",
    "\n",
    "\n",
    "- Split the information contained in `Name` into three columns `Name`, `Given_names`, and `Civility`.\n",
    "- Go one step further. Extract the *maiden name* and actual *given names* when information available.\n",
    "\n",
    "At the end of the day, column `Name` should contain the *maiden name* for married female passengers\n",
    "Column `Given_Names` should contain the real given names of the passenger, not the ones of the spouse.\n",
    "\n",
    "To learn more about Regular Expressions see the documentation\n",
    "of the [`re` module](https://docs.python.org/3/library/re.html#module-re)\n",
    "and the tutorial [Howto](https://docs.python.org/3/howto/regex.html#regex-howto)\n",
    "\n",
    "Understand the difference between a `string` and a `raw string`.\n",
    "\n"
   ]
  },
  {
   "cell_type": "code",
   "execution_count": null,
   "metadata": {
    "ExecuteTime": {
     "end_time": "2020-02-23T18:09:36.044342Z",
     "start_time": "2020-02-23T18:09:36.038571Z"
    },
    "autoscroll": "auto",
    "options": {
     "caption": false,
     "complete": true,
     "display_data": true,
     "display_stream": true,
     "dpi": 200,
     "echo": true,
     "evaluate": false,
     "f_env": null,
     "f_pos": "htpb",
     "f_size": [
      6,
      4
     ],
     "f_spines": true,
     "fig": true,
     "include": true,
     "name": null,
     "option_string": "evaluate=False",
     "results": "verbatim",
     "term": false,
     "wrap": "output"
    },
    "scrolled": true,
    "slideshow": {
     "slide_type": "subslide"
    }
   },
   "outputs": [],
   "source": [
    "print(r\"\\n is not a newline\", \"\\nis a newline\\n\", \"\\\\\\\\n is not a newline\\n\")"
   ]
  },
  {
   "cell_type": "markdown",
   "metadata": {
    "slideshow": {
     "slide_type": "subslide"
    }
   },
   "source": [
    "\n",
    "### Answer\n",
    "\n"
   ]
  },
  {
   "cell_type": "code",
   "execution_count": null,
   "metadata": {
    "ExecuteTime": {
     "end_time": "2020-02-23T18:09:36.194978Z",
     "start_time": "2020-02-23T18:09:36.047910Z"
    },
    "autoscroll": "auto",
    "options": {
     "caption": false,
     "complete": true,
     "display_data": true,
     "display_stream": true,
     "dpi": 200,
     "echo": true,
     "evaluate": false,
     "f_env": null,
     "f_pos": "htpb",
     "f_size": [
      6,
      4
     ],
     "f_spines": true,
     "fig": true,
     "include": true,
     "name": null,
     "option_string": "evaluate=False",
     "results": "verbatim",
     "term": false,
     "wrap": "output"
    },
    "scrolled": true,
    "slideshow": {
     "slide_type": "subslide"
    }
   },
   "outputs": [],
   "source": [
    "def parse_name(s):\n",
    "    \"\"\"Parse name field in Titanic data frame.\n",
    "\n",
    "    ACHTUNG: there are some outliers with given names containing parenthsized items. Some people travelled under pseudonyms (see [Henry Samuel Morley](https://www.encyclopedia-titanica.org/titanic-victim/henry-samuel-morley.html)).\n",
    "    \"\"\"\n",
    "    name = s\n",
    "    civility, Spouse_name, Maiden_name, pseudonym, given_names = None, None, None, None, None\n",
    "    \n",
    "    # TODO:\n",
    "    civility = regex.search(r'\\,\\s(.*?)\\.', s)[0].strip(\", \")\n",
    "    name = regex.search(r'(.*?)\\,', s)[0].strip(\",\")\n",
    "    prth = regex.search(r'\\((.*?)\\)', s)\n",
    "    \n",
    "    pseudo =  regex.search(r'\\\"(.*?)\\\"', s)\n",
    "    if pseudo:\n",
    "        pseudonym = pseudo[0]\n",
    "    \n",
    "    if prth:\n",
    "        if not regex.search(r'\\(\\\"(.*?)\\\"\\)', prth[0]):\n",
    "            Maiden_name = prth[0].strip(\"()\").split(\" \")[-1]\n",
    "            given_names = \" \".join(prth[0].strip(\"()\").split(\" \")[:-1])\n",
    "            Spouse_name = name\n",
    "            name += \" \" + given_names\n",
    "        else:\n",
    "            given_names = regex.search(r'\\.(.+?)\\(', s)[0].strip(\". (\") + \" \" + pseudonym\n",
    "            name += \" \" + given_names\n",
    "        \n",
    "    else:\n",
    "        given_names = regex.search(r'\\.(.+?)$', s)[0].strip(\". (\") \n",
    "        name += \" \" + given_names\n",
    "        \n",
    "        \n",
    "    return {'Name': name,\n",
    "            'Civility': civility,\n",
    "            'Given_names': given_names,\n",
    "            'Spouse_name': Spouse_name,\n",
    "            'Maiden_name': Maiden_name}\n",
    "\n"
   ]
  },
  {
   "cell_type": "markdown",
   "metadata": {
    "slideshow": {
     "slide_type": "slide"
    }
   },
   "source": [
    "\n",
    "## Question: about `map` objects\n",
    "\n",
    "What is a `map object`? Is it a sequence (list, tuple, etc)? Is it\n",
    "an `Iterable`? Something else? You may use function `isinstance` and\n",
    "submodule `collections.abc` to settle these questions?\n",
    "\n",
    "### Answer\n",
    "\n"
   ]
  },
  {
   "cell_type": "code",
   "execution_count": null,
   "metadata": {
    "ExecuteTime": {
     "end_time": "2020-02-23T18:09:36.312556Z",
     "start_time": "2020-02-23T18:09:36.197884Z"
    },
    "autoscroll": "auto",
    "options": {
     "caption": false,
     "complete": true,
     "display_data": true,
     "display_stream": true,
     "dpi": 200,
     "echo": true,
     "evaluate": false,
     "f_env": null,
     "f_pos": "htpb",
     "f_size": [
      6,
      4
     ],
     "f_spines": true,
     "fig": true,
     "include": true,
     "name": null,
     "option_string": "evaluate=False",
     "results": "verbatim",
     "term": false,
     "wrap": "output"
    },
    "scrolled": true,
    "slideshow": {
     "slide_type": "subslide"
    }
   },
   "outputs": [],
   "source": [
    "\n",
    "ex = (1, 2, 3)\n",
    "def double(n):\n",
    "    n=n*2\n",
    "    \n",
    "m = map(double, ex)\n",
    "print(m)\n",
    "\n",
    "print(\"Iterable ?\", isinstance(m, abc.Iterable))\n",
    "print(\"Sequence ?\", isinstance(m, abc.Sequence))\n"
   ]
  },
  {
   "cell_type": "markdown",
   "metadata": {
    "slideshow": {
     "slide_type": "slide"
    }
   },
   "source": [
    "\n",
    "## Question: aristocrats on board\n",
    "\n",
    "Some passengers were of noble extraction, or officers in some Army.\n",
    "Point them.\n",
    "\n",
    "### Answer\n",
    "\n"
   ]
  },
  {
   "cell_type": "code",
   "execution_count": null,
   "metadata": {
    "ExecuteTime": {
     "end_time": "2020-02-23T18:09:36.460661Z",
     "start_time": "2020-02-23T18:09:36.317404Z"
    },
    "scrolled": true
   },
   "outputs": [],
   "source": [
    "parsed_names = pd.DataFrame(list(train[\"Name\"].map(parse_name)))\n",
    "civ_grouped = parsed_names.groupby(['Civility'])['Name'].count()\n",
    "civ_grouped"
   ]
  },
  {
   "cell_type": "code",
   "execution_count": null,
   "metadata": {
    "ExecuteTime": {
     "end_time": "2020-02-23T18:09:36.517543Z",
     "start_time": "2020-02-23T18:09:36.464507Z"
    }
   },
   "outputs": [],
   "source": [
    "#nobles\n",
    "parsed_names[parsed_names[\"Civility\"].isin(['Don.', 'Lady.', 'Sir.', 'the Countess.', 'Jonkheer.'])]"
   ]
  },
  {
   "cell_type": "code",
   "execution_count": null,
   "metadata": {
    "ExecuteTime": {
     "end_time": "2020-02-23T18:09:36.617712Z",
     "start_time": "2020-02-23T18:09:36.520668Z"
    }
   },
   "outputs": [],
   "source": [
    "#army\n",
    "parsed_names[parsed_names[\"Civility\"].isin([ 'Major.' ,'Col.', 'Capt.'])]"
   ]
  },
  {
   "cell_type": "code",
   "execution_count": null,
   "metadata": {
    "ExecuteTime": {
     "end_time": "2020-02-23T18:09:36.731755Z",
     "start_time": "2020-02-23T18:09:36.620725Z"
    }
   },
   "outputs": [],
   "source": [
    "#other titles Doctor and Reverend\n",
    "parsed_names[parsed_names[\"Civility\"].isin(['Rev.', 'Dr.'])] "
   ]
  },
  {
   "cell_type": "markdown",
   "metadata": {
    "slideshow": {
     "slide_type": "slide"
    }
   },
   "source": [
    "\n",
    "## Question: How many people are given Civility 'Mrs', 'Miss', 'Mr', 'Master'?\n",
    "\n",
    "\n",
    "### Answer\n",
    "\n"
   ]
  },
  {
   "cell_type": "code",
   "execution_count": null,
   "metadata": {
    "ExecuteTime": {
     "end_time": "2020-02-23T18:09:36.875727Z",
     "start_time": "2020-02-23T18:09:36.734770Z"
    },
    "autoscroll": "auto",
    "options": {
     "caption": false,
     "complete": true,
     "display_data": true,
     "display_stream": true,
     "dpi": 200,
     "echo": true,
     "evaluate": false,
     "f_env": null,
     "f_pos": "htpb",
     "f_size": [
      6,
      4
     ],
     "f_spines": true,
     "fig": true,
     "include": true,
     "name": null,
     "option_string": "evaluate=False",
     "results": "verbatim",
     "term": false,
     "wrap": "output"
    },
    "scrolled": true,
    "slideshow": {
     "slide_type": "subslide"
    }
   },
   "outputs": [],
   "source": [
    "civ_grouped = parsed_names.groupby(['Civility'])['Name'].count()\n",
    "civ_grouped[['Mrs.','Mr.','Miss.','Master.']]"
   ]
  },
  {
   "cell_type": "markdown",
   "metadata": {
    "slideshow": {
     "slide_type": "subslide"
    }
   },
   "source": [
    "\n",
    "ACHTUNG: there are some outliers with given names containing parenthsized items. Some people travelled under pseudonyms (see [Henry Samuel Morley](https://www.encyclopedia-titanica.org/titanic-victim/henry-samuel-morley.html)).\n",
    "\n"
   ]
  },
  {
   "cell_type": "code",
   "execution_count": null,
   "metadata": {
    "autoscroll": "auto",
    "options": {
     "caption": false,
     "complete": true,
     "display_data": true,
     "display_stream": true,
     "dpi": 200,
     "echo": true,
     "evaluate": false,
     "f_env": null,
     "f_pos": "htpb",
     "f_size": [
      6,
      4
     ],
     "f_spines": true,
     "fig": true,
     "include": true,
     "name": null,
     "option_string": "evaluate=False",
     "results": "verbatim",
     "term": false,
     "wrap": "output"
    },
    "scrolled": true,
    "slideshow": {
     "slide_type": "subslide"
    }
   },
   "outputs": [],
   "source": []
  },
  {
   "cell_type": "markdown",
   "metadata": {
    "slideshow": {
     "slide_type": "slide"
    }
   },
   "source": [
    "\n",
    "\n",
    "## Question:  For each embarkment and sex, visualize the survival ratio.\n",
    "\n",
    "\n",
    "### Answer\n",
    "\n"
   ]
  },
  {
   "cell_type": "code",
   "execution_count": null,
   "metadata": {
    "ExecuteTime": {
     "end_time": "2020-02-23T18:18:19.261138Z",
     "start_time": "2020-02-23T18:18:18.672627Z"
    },
    "autoscroll": "auto",
    "options": {
     "caption": false,
     "complete": true,
     "display_data": true,
     "display_stream": true,
     "dpi": 200,
     "echo": true,
     "evaluate": false,
     "f_env": null,
     "f_pos": "htpb",
     "f_size": [
      6,
      4
     ],
     "f_spines": true,
     "fig": true,
     "include": true,
     "name": null,
     "option_string": "evaluate=False",
     "results": "verbatim",
     "term": false,
     "wrap": "output"
    },
    "scrolled": false,
    "slideshow": {
     "slide_type": "subslide"
    }
   },
   "outputs": [],
   "source": [
    "\n",
    "fig, ax = plt.subplots(ncols = 2, figsize=(10,7))\n",
    "fig.suptitle(' survival ratio, according to embarkment and sex')\n",
    "train.groupby('Survived')['Sex'].value_counts().unstack().apply(lambda x : x/sum(x)).stack().unstack('Survived').plot(ax=fig.axes[0], kind='bar', stacked=True)\n",
    "train.groupby('Survived')['Embarked'].value_counts().unstack().apply(lambda x : x/sum(x)).stack().unstack('Survived').plot(ax=fig.axes[1], kind='bar', stacked=True)"
   ]
  },
  {
   "cell_type": "code",
   "execution_count": null,
   "metadata": {
    "ExecuteTime": {
     "end_time": "2020-02-23T18:09:38.302654Z",
     "start_time": "2020-02-23T18:09:37.734731Z"
    }
   },
   "outputs": [],
   "source": [
    "tt = train.groupby(['Sex','Embarked','Survived'])[\"PassengerId\"].count()\n",
    "tt = tt.unstack('Sex').unstack('Embarked')\n",
    "tt=tt.apply(lambda x : x/sum(x)).stack('Embarked').unstack('Survived')\n",
    "\n",
    "fig, ax = plt.subplots(ncols = 2, figsize=(10,7))\n",
    "\n",
    "cols = train['Sex'].unique()\n",
    "\n",
    "for i in range(len(cols)):\n",
    "    tt[cols[i]].plot.bar(stacked=True, ax=fig.axes[i], title = cols[i])\n"
   ]
  },
  {
   "cell_type": "markdown",
   "metadata": {
    "slideshow": {
     "slide_type": "slide"
    }
   },
   "source": [
    "\n",
    "## Question: for each `Pclass` and `Sex`, visualize the survival ratio,\n",
    "\n",
    "### Answer\n",
    "\n"
   ]
  },
  {
   "cell_type": "code",
   "execution_count": null,
   "metadata": {
    "ExecuteTime": {
     "end_time": "2020-02-23T18:18:36.686800Z",
     "start_time": "2020-02-23T18:18:36.112094Z"
    },
    "autoscroll": "auto",
    "options": {
     "caption": false,
     "complete": true,
     "display_data": true,
     "display_stream": true,
     "dpi": 200,
     "echo": true,
     "evaluate": false,
     "f_env": null,
     "f_pos": "htpb",
     "f_size": [
      6,
      4
     ],
     "f_spines": true,
     "fig": true,
     "include": true,
     "name": null,
     "option_string": "evaluate=False",
     "results": "verbatim",
     "term": false,
     "wrap": "output"
    },
    "scrolled": true,
    "slideshow": {
     "slide_type": "subslide"
    }
   },
   "outputs": [],
   "source": [
    "\n",
    "fig, ax = plt.subplots(ncols = 2, figsize=(10,7))\n",
    "fig.suptitle(' survival ratio, according to Pclass and sex')\n",
    "train.groupby('Survived')['Sex'].value_counts().unstack().apply(lambda x : x/sum(x)).stack().unstack('Survived').plot(ax=fig.axes[0], kind='bar', stacked=True)\n",
    "train.groupby('Survived')['Pclass'].value_counts().unstack().apply(lambda x : x/sum(x)).stack().unstack('Survived').plot(ax=fig.axes[1], kind='bar', stacked=True)"
   ]
  },
  {
   "cell_type": "code",
   "execution_count": null,
   "metadata": {
    "ExecuteTime": {
     "end_time": "2020-02-23T18:09:39.527735Z",
     "start_time": "2020-02-23T18:09:38.863660Z"
    }
   },
   "outputs": [],
   "source": [
    "tt = train.groupby(['Sex','Pclass','Survived'])[\"PassengerId\"].count()\n",
    "tt = tt.unstack('Sex').unstack('Pclass')\n",
    "tt=tt.apply(lambda x : x/sum(x)).stack('Pclass').unstack('Survived')\n",
    "\n",
    "fig, ax = plt.subplots(ncols = 2, figsize=(10,7))\n",
    "\n",
    "cols = train['Sex'].unique()\n",
    "\n",
    "for i in range(len(cols)):\n",
    "    tt[cols[i]].plot.bar(stacked=True, ax=fig.axes[i], title = cols[i])"
   ]
  },
  {
   "cell_type": "markdown",
   "metadata": {
    "slideshow": {
     "slide_type": "slide"
    }
   },
   "source": [
    "\n",
    "\n",
    "## Question: compute pairwise correlations between numerical columns.\n",
    "\n",
    "\n",
    "### Answer\n",
    "\n"
   ]
  },
  {
   "cell_type": "code",
   "execution_count": null,
   "metadata": {
    "ExecuteTime": {
     "end_time": "2020-02-23T18:34:31.408128Z",
     "start_time": "2020-02-23T18:34:26.912498Z"
    },
    "autoscroll": "auto",
    "options": {
     "caption": false,
     "complete": true,
     "display_data": true,
     "display_stream": true,
     "dpi": 200,
     "echo": true,
     "evaluate": false,
     "f_env": null,
     "f_pos": "htpb",
     "f_size": [
      6,
      4
     ],
     "f_spines": true,
     "fig": true,
     "include": true,
     "name": null,
     "option_string": "evaluate=False",
     "results": "verbatim",
     "term": false,
     "wrap": "output"
    },
    "scrolled": false,
    "slideshow": {
     "slide_type": "subslide"
    }
   },
   "outputs": [],
   "source": [
    "tmp = train[['Age','Fare','Pclass', 'Roommates']][(train.isna().sum(axis=1) == 0) & (train['Fare'] >= 1)]\n",
    "\n",
    "tmp['Fare']=tmp['Fare'].apply(np.log10)\n",
    "\n",
    "x= sns.pairplot(tmp,  height=4)\n",
    "x.fig.suptitle('correlations between numerical columns', fontsize = 16)\n",
    "plt.tight_layout()"
   ]
  },
  {
   "cell_type": "markdown",
   "metadata": {
    "slideshow": {
     "slide_type": "slide"
    }
   },
   "source": [
    "\n",
    "\n",
    "## Pandas and SQL\n",
    "\n",
    "A systematic comparison between Pandas and SQL querying can be found\n",
    "at\n",
    "[https://pandas.pydata.org/pandas-docs/stable/getting_started/comparison/comparison_with_sql.html](https://pandas.pydata.org/pandas-docs/stable/getting_started/comparison/comparison_with_sql.html)\n",
    "\n",
    "\n",
    "## Pandas pipeliness\n",
    "\n",
    "Loading and transforming datasets is a cumbersome task. It is very likely that\n",
    "the sequence of transformations you have performed on the `train.csv`  dataset will\n",
    "be carried out on other datasets (just think about `test.csv`). For the sake of\n",
    "reproducibility, it is convenient to build a *transformation pipeline*.\n",
    "The `pipe` method for `DataFrame` class provides us with a means to do that.\n",
    "\n",
    "Pipelining DataFrame methods is easy, it is enough to write:\n",
    "\n"
   ]
  },
  {
   "cell_type": "code",
   "execution_count": null,
   "metadata": {
    "ExecuteTime": {
     "end_time": "2020-02-23T18:09:47.510096Z",
     "start_time": "2020-02-23T18:09:47.507221Z"
    },
    "autoscroll": "auto",
    "options": {
     "caption": false,
     "complete": true,
     "display_data": true,
     "display_stream": true,
     "dpi": 200,
     "echo": true,
     "evaluate": false,
     "f_env": null,
     "f_pos": "htpb",
     "f_size": [
      6,
      4
     ],
     "f_spines": true,
     "fig": true,
     "include": true,
     "name": null,
     "option_string": "evaluate=False",
     "results": "verbatim",
     "term": false,
     "wrap": "output"
    },
    "scrolled": true,
    "slideshow": {
     "slide_type": "subslide"
    }
   },
   "outputs": [],
   "source": [
    "# df.meth1(arg11, arg12)\\\n",
    "#   .meth2(arg21)\\\n",
    "#   .meth3(arg31, arg32, arg33)\\\n",
    "#   ...\n"
   ]
  },
  {
   "cell_type": "markdown",
   "metadata": {
    "slideshow": {
     "slide_type": "slide"
    }
   },
   "source": [
    "\n",
    "### `pipe` method for class `DataFrame`\n",
    "\n",
    "\n",
    "The `pipe` method allows us to chain transformations implemented by functions.\n",
    "Pipelining ordinary functions can be done using the `pipe` method of\n",
    "class `DataFrame`.\n",
    "\n"
   ]
  },
  {
   "cell_type": "code",
   "execution_count": null,
   "metadata": {
    "autoscroll": "auto",
    "options": {
     "caption": false,
     "complete": true,
     "display_data": true,
     "display_stream": true,
     "dpi": 200,
     "echo": true,
     "evaluate": true,
     "f_env": null,
     "f_pos": "htpb",
     "f_size": [
      6,
      4
     ],
     "f_spines": true,
     "fig": true,
     "include": true,
     "name": null,
     "option_string": "",
     "results": "verbatim",
     "term": false,
     "wrap": "output"
    },
    "scrolled": true,
    "slideshow": {
     "slide_type": "subslide"
    }
   },
   "outputs": [],
   "source": []
  },
  {
   "cell_type": "markdown",
   "metadata": {
    "slideshow": {
     "slide_type": "slide"
    }
   },
   "source": [
    "\n",
    "\n",
    "### Module `pdpipe`\n",
    "\n",
    "Module [`pdpipe`](https://pdpipe.github.io/pdpipe/) is more ambitious.\n",
    "\n",
    "A *transformation pipeline* defines a sequence of operations that should be applied\n",
    "to a dataframe. In the `pdpipe` framework, it is an instance of class `pdpipe.PdPipeLine`\n",
    "\n"
   ]
  },
  {
   "cell_type": "markdown",
   "metadata": {
    "slideshow": {
     "slide_type": "slide"
    }
   },
   "source": [
    "\n",
    "\n",
    "## Question: use `pdpipe`\n",
    "\n",
    "Build a pipeline of transformatioms\n",
    "using the [pdpipe](https://pdpipe.github.io/pdpipe/doc/pdpipe/) module.\n",
    "\n",
    "### Answer\n",
    "\n"
   ]
  },
  {
   "cell_type": "markdown",
   "metadata": {
    "slideshow": {
     "slide_type": "slide"
    }
   },
   "source": [
    "\n",
    "\n",
    "## Miscellanea\n",
    "\n",
    "Browse the `seaborn` documentation in order to make up your\n",
    "mind on the following questions.\n",
    "\n",
    "1. What is a *hue*?\n",
    "1. Is the *colorPalette* part of style?\n",
    "1. What is a saturation channel?\n",
    "1. What is a saturation channel made for?\n",
    "1. What is an *aesthetic parameter*?\n",
    "1. What is the type of `seaborn.FacetGrid`?\n",
    "\n",
    "\n"
   ]
  },
  {
   "cell_type": "code",
   "execution_count": null,
   "metadata": {
    "ExecuteTime": {
     "end_time": "2020-02-23T18:09:47.715443Z",
     "start_time": "2020-02-23T18:09:47.513493Z"
    },
    "scrolled": true
   },
   "outputs": [],
   "source": [
    "\n",
    "\"\"\"\n",
    "1. we use a hue to determine which column in the dataframe should be used for colour encoding. \n",
    "It is used as a grouping variable that will produce points with different colors. It can be either categorical \n",
    "or numeric, although color mapping will behave differently in latter case.\n",
    "\n",
    "2. There is a default value for sns.color_palette() (or sns.set_palette()), if we don't specify a set of color.\n",
    "But we can also create our own color palette by choosing a list of colors in any valid Matplotlib format.\n",
    "\n",
    "3.  All possible colors can be specified according to hue, saturation, and brightness in an RGB model, for every pixel.\n",
    "Saturation is an expression for the relative bandwidth of the visible output from a light source.\n",
    "\n",
    "4. When saturation increases, colors appear more pure, we can use the desaturate(color, prop) function of seaborn\n",
    "to decrease the saturation by \"prop\" percent.\n",
    "And when it decreases, colors appear more faded.\n",
    "\n",
    "5. The aesthetic parameter allows us to control the style and to scale the plot of our figures.\n",
    "We can set the style by setting some parameters (style, palette, font, font_scale, color_codes)\n",
    "\n",
    "6. The type of seaborn.FacetGrid is 'seaborn.axisgrid.FacetGrid'\n",
    "\"\"\"\n",
    "\n",
    "k = sns.FacetGrid(data=train)\n",
    "plt.close()\n",
    "type(k)\n"
   ]
  }
 ],
 "metadata": {
  "celltoolbar": "Slideshow",
  "kernel_info": {
   "name": "python3"
  },
  "kernelspec": {
   "display_name": "Python 3",
   "language": "python",
   "name": "python3"
  },
  "language_info": {
   "codemirror_mode": {
    "name": "ipython",
    "version": 3
   },
   "file_extension": ".py",
   "mimetype": "text/x-python",
   "name": "python",
   "nbconvert_exporter": "python",
   "pygments_lexer": "ipython3",
   "version": "3.7.5"
  },
  "nteract": {
   "version": "0.15.0"
  },
  "toc": {
   "base_numbering": 1,
   "nav_menu": {},
   "number_sections": true,
   "sideBar": true,
   "skip_h1_title": false,
   "title_cell": "Table of Contents",
   "title_sidebar": "Contents",
   "toc_cell": false,
   "toc_position": {},
   "toc_section_display": true,
   "toc_window_display": false
  }
 },
 "nbformat": 4,
 "nbformat_minor": 4
}
