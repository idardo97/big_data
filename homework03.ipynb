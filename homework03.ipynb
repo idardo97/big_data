{
 "cells": [
  {
   "cell_type": "markdown",
   "metadata": {
    "nteract": {
     "transient": {
      "deleting": false
     }
    }
   },
   "source": [
    "# New York taxis trips\n",
    "\n",
    "This homework is about New York taxi trips. Here is something from [Todd Schneider](https://toddwschneider.com/posts/analyzing-1-1-billion-nyc-taxi-and-uber-trips-with-a-vengeance/):\n",
    "\n",
    "> The New York City Taxi & Limousine Commission has released a  detailed historical dataset covering over 1 billion individual taxi trips in the city from January 2009 through December 2019. \n",
    "Taken as a whole, the detailed trip-level data is more than just a vast list of taxi pickup and drop off coordinates: it's a story of a City. \n",
    "How bad is the rush hour traffic from Midtown to JFK? \n",
    "Where does the Bridge and Tunnel crowd hang out on Saturday nights?\n",
    "What time do investment bankers get to work? How has Uber changed the landscape for taxis?\n",
    "The dataset addresses all of these questions and many more.\n",
    "\n",
    "The NY taxi trips dataset has been plowed by series of distinguished data scientists.\n",
    "The dataset is available from on Amazon S3 (Amazon's cloud storage service).\n",
    "The link for each file has the following form:\n",
    "\n",
    "    https://s3.amazonaws.com/nyc-tlc/trip+data/yellow_tripdata_{year}-{month}.csv\n",
    "\n",
    "There is one CSV file for each NY taxi service (`yellow`, `green`, `fhv`) and each calendar month (replacing `{year}` and `{month}` by the desired ones).\n",
    "Each file is moderately large, a few gigabytes. \n",
    "The full dataset is relatively large if it has to be handled on a laptop (several hundred gigabytes).\n",
    "\n",
    "You will focus on the `yellow` taxi service and a pair of months, from year 2015 and from year 2018. \n",
    "Between those two years, for hire vehicles services have taken off and carved a huge marketshare.\n",
    "\n",
    "Whatever the framework you use, `CSV` files prove hard to handle. \n",
    "After downloading the appropriate files (this takes time, but this is routine), a first step will consist in converting the csv files into a more Spark friendly format such as `parquet`.\n",
    "\n",
    "Saving into one of those formats require decisions about bucketing, partitioning and so on. Such decisions influence performance. It is your call.\n",
    "Many people have been working on this dataset, to cite but a few:\n",
    "\n",
    "\n",
    "- [1 billion trips with a vengeance](https://toddwschneider.com/posts/analyzing-1-1-billion-nyc-taxi-and-uber-trips-with-a-vengeance/)\n",
    "- [1 billion trips with R and SQL ](http://freerangestats.info/blog/2019/12/22/nyc-taxis-sql)\n",
    "- [1 billion trips with redshift](https://tech.marksblogg.com/billion-nyc-taxi-rides-redshift.html)\n",
    "- [nyc-taxi](https://github.com/fmaletski/nyc-taxi-map)"
   ]
  },
  {
   "cell_type": "markdown",
   "metadata": {},
   "source": [
    "Depending on your internet connection, **download the files** corresponding to **\"yellow\" taxis** for the years 2015 and 2018. Download **at least one month** (the same) for 2015 and 2018, if you can download all of them.\n",
    "\n",
    "**Hint.** The 12 csv for 2015 are about 23GB in total, but the corresponding parquet file, if you can create it for all 12 months, is only about 3GB."
   ]
  },
  {
   "cell_type": "markdown",
   "metadata": {},
   "source": [
    "You **might** need the following stuff in order to work with GPS coordinates and to plot things easily."
   ]
  },
  {
   "cell_type": "code",
   "execution_count": null,
   "metadata": {
    "ExecuteTime": {
     "end_time": "2020-06-04T14:25:24.977898Z",
     "start_time": "2020-06-04T14:25:17.546552Z"
    }
   },
   "outputs": [],
   "source": [
    "!pip install geojson geopandas plotly geopy"
   ]
  },
  {
   "cell_type": "code",
   "execution_count": null,
   "metadata": {
    "ExecuteTime": {
     "end_time": "2020-06-04T14:25:27.689673Z",
     "start_time": "2020-06-04T14:25:24.985724Z"
    },
    "scrolled": true
   },
   "outputs": [],
   "source": [
    "!pip install ipyleaflet"
   ]
  },
  {
   "cell_type": "markdown",
   "metadata": {},
   "source": [
    "For this homework **we will let you decide on the tools to use** (expected for Spark) and to **find out information all by yourself** (but don't hesitate to ask questions on the `slack` channel)."
   ]
  },
  {
   "cell_type": "markdown",
   "metadata": {
    "nteract": {
     "transient": {
      "deleting": false
     }
    }
   },
   "source": [
    "# Loading data as parquet files\n",
    "\n",
    "We want to organize the data on a per year and per service basis. \n",
    "We want to end up with one `parquet` file for each year and each taxi service, since parquet is much better than CSV files.\n",
    "\n",
    "**Hint.** Depending on your internet connection and your laptop, you can use only the \"yellow\" service and use one month of 2015 and 2018\n",
    "\n",
    "CSV files can contain corrupted lines. You may have to work in order to perform ETL (Extract-Transform-Load) in order obtain a properly typed data frame.\n",
    "\n",
    "You are invited to proceed as follows:\n",
    "\n",
    "1. Try to read the CSV file without imposing a schema. \n",
    "1. Inspect the inferred schema. Do you agree with Spark's typing decision?\n",
    "1. Eventually correct the schema and read again the data\n",
    "1. Save the data into parquet files\n",
    "1. In the rest of your work, **you will only use the parquet files you created**, not the csv files (don't forget to choose a partitioning column and a number of partitions when creating the parquet files).\n",
    "\n",
    "**Hint.** Don't forget to ask `Spark` to use all the memory and ressources from your computer.\n",
    "\n",
    "**Hint.** Don't foreget that you should specify a partitioning column and a number of partitions when creating the parquet files.\n",
    "\n",
    "**Hint.** Note that the schemas of the 2015 and 2018 data are different...\n",
    "\n",
    "**Hint.** When working on this, ask you and answer to the following questions:\n",
    "\n",
    "1. What is the `StorageLevel` of the dataframe after reading the csv files?\n",
    "1. What is the number of partitions of the dataframe? \n",
    "1. Is it possible to tune this number at loading time? \n",
    "1. Why would we want to modify the number of partitions when creating the parquet files?"
   ]
  },
  {
   "cell_type": "code",
   "execution_count": null,
   "metadata": {
    "ExecuteTime": {
     "end_time": "2020-06-04T18:32:58.252316Z",
     "start_time": "2020-06-04T18:32:53.590794Z"
    }
   },
   "outputs": [],
   "source": [
    "# import the usual suspects\n",
    "import pandas as pd\n",
    "import numpy as np\n",
    "import matplotlib.pyplot as plt\n",
    "import os\n",
    "from pathlib import Path\n",
    "import sys\n",
    "import timeit\n",
    "\n",
    "%matplotlib inline\n",
    "import seaborn as sns\n",
    "\n",
    "sns.set_context(\"notebook\", font_scale=1.2)"
   ]
  },
  {
   "cell_type": "code",
   "execution_count": null,
   "metadata": {
    "ExecuteTime": {
     "end_time": "2020-06-04T18:32:58.678123Z",
     "start_time": "2020-06-04T18:32:58.258613Z"
    }
   },
   "outputs": [],
   "source": [
    "# spark\n",
    "from pyspark import SparkConf, SparkContext\n",
    "from pyspark.sql import SparkSession\n",
    "from pyspark.sql import Window\n",
    "from pyspark.sql.functions import col\n",
    "import pyspark.sql.functions as fn\n",
    "from pyspark.sql.catalog import Catalog\n",
    "from pyspark.sql.types import StructType, StructField\n",
    "from pyspark.sql.types import IntegerType, StringType"
   ]
  },
  {
   "cell_type": "code",
   "execution_count": null,
   "metadata": {
    "ExecuteTime": {
     "end_time": "2020-06-04T18:33:15.830681Z",
     "start_time": "2020-06-04T18:32:58.681852Z"
    }
   },
   "outputs": [],
   "source": [
    "#Start the SparkSession\n",
    "\n",
    "conf = SparkConf().setAppName(\"Spark SQL Course\")\n",
    "conf.set(\"spark.executor.memory\", \"5g\")\n",
    "conf.set(\"spark.driver.memory\", \"5g\")\n",
    "conf.set(\"spark.cores.max\", \"4\")\n",
    "conf.set(\"spark.executor.cores\", \"4\")\n",
    "sc = SparkContext(conf=conf)\n",
    "\n",
    "spark = (SparkSession\n",
    "    .builder\n",
    "    .appName(\"homework 3\")\n",
    "    .getOrCreate()\n",
    ")\n"
   ]
  },
  {
   "cell_type": "code",
   "execution_count": null,
   "metadata": {},
   "outputs": [],
   "source": [
    "sc.getConf().getAll()"
   ]
  },
  {
   "cell_type": "code",
   "execution_count": null,
   "metadata": {
    "ExecuteTime": {
     "end_time": "2020-06-04T14:31:04.044615Z",
     "start_time": "2020-06-04T14:25:49.313541Z"
    },
    "scrolled": true
   },
   "outputs": [],
   "source": [
    "df_15_03 = spark.read\\\n",
    "             .format('csv')\\\n",
    "             .option(\"header\", \"true\")\\\n",
    "             .option(\"mode\", \"FAILFAST\")\\\n",
    "             .option(\"inferSchema\", \"true\")\\\n",
    "             .option(\"sep\", \",\")\\\n",
    "             .load(\"nyc_taxi/yellow_tripdata_2015-03.csv\")\n",
    "\n",
    "df_15_03.printSchema()"
   ]
  },
  {
   "cell_type": "code",
   "execution_count": null,
   "metadata": {
    "ExecuteTime": {
     "start_time": "2020-06-04T14:25:17.570Z"
    }
   },
   "outputs": [],
   "source": [
    "df_18_03 = spark.read\\\n",
    "             .format('csv')\\\n",
    "             .option(\"header\", \"true\")\\\n",
    "             .option(\"mode\", \"FAILFAST\")\\\n",
    "             .option(\"inferSchema\", \"true\")\\\n",
    "             .option(\"sep\", \",\")\\\n",
    "             .load(\"nyc_taxi/yellow_tripdata_2018-03.csv\")\n",
    "\n",
    "df_18_03.printSchema()"
   ]
  },
  {
   "cell_type": "code",
   "execution_count": null,
   "metadata": {
    "ExecuteTime": {
     "start_time": "2020-06-04T14:25:17.574Z"
    }
   },
   "outputs": [],
   "source": [
    "df_15_03.groupBy('store_and_fwd_flag').agg(fn.count(col(\"VendorID\"))).show(20)\n"
   ]
  },
  {
   "cell_type": "code",
   "execution_count": null,
   "metadata": {
    "ExecuteTime": {
     "start_time": "2020-06-04T14:25:17.577Z"
    }
   },
   "outputs": [],
   "source": [
    "#df_15_03.groupBy('payment_type').agg(fn.count(col(\"VendorID\"))).show(20)\n",
    "\n",
    "df_18_03.show(5)\n",
    "#df_18_03.select('PULocationID').show(5)"
   ]
  },
  {
   "cell_type": "code",
   "execution_count": null,
   "metadata": {
    "ExecuteTime": {
     "end_time": "2020-06-04T18:33:15.867557Z",
     "start_time": "2020-06-04T18:33:15.841930Z"
    }
   },
   "outputs": [],
   "source": [
    "#We correct the schema:\n",
    "\n",
    "from pyspark.sql.types import *\n",
    "\n",
    "schema_15 = StructType([\n",
    "    StructField(\"VendorID\", IntegerType(), True),\n",
    "    StructField(\"tpep_pickup_datetime\", TimestampType(), True),\n",
    "    StructField(\"tpep_dropoff_datetime\", TimestampType(), True),\n",
    "    StructField(\"passenger_count\", IntegerType(), True),\n",
    "    StructField(\"trip_distance\", DoubleType(), True),\n",
    "    StructField(\"pickup_longitude\", DoubleType(), True),\n",
    "    StructField(\"pickup_latitude\", DoubleType(), True),\n",
    "    StructField(\"RateCodeID\", IntegerType(), True),\n",
    "    StructField(\"store_and_fwd_flag\", StringType(), True),\n",
    "    StructField(\"dropoff_longitude\", DoubleType(), True),\n",
    "    StructField(\"dropoff_latitude\", DoubleType(), True),\n",
    "    StructField(\"payment_type\", IntegerType(), True),\n",
    "    StructField(\"fare_amount\", DoubleType(), True),\n",
    "    StructField(\"extra\", DoubleType(), True),\n",
    "    StructField(\"mta_tax\", DoubleType(), True),\n",
    "    StructField(\"tip_amount\", DoubleType(), True),\n",
    "    StructField(\"tolls_amount\", DoubleType(), True),\n",
    "    StructField(\"improvement_surcharge\", DoubleType(), True),\n",
    "    StructField(\"total_amount\", DoubleType(), True)\n",
    "])\n",
    "\n",
    "schema_18 = StructType([\n",
    "    StructField(\"VendorID\", IntegerType(), True),\n",
    "    StructField(\"tpep_pickup_datetime\", TimestampType(), True),\n",
    "    StructField(\"tpep_dropoff_datetime\", TimestampType(), True),\n",
    "    StructField(\"passenger_count\", IntegerType(), True),\n",
    "    StructField(\"trip_distance\", DoubleType(), True),\n",
    "    StructField(\"RateCodeID\", IntegerType(), True),\n",
    "    StructField(\"store_and_fwd_flag\", StringType(), True),\n",
    "    StructField(\"PULocationID\", IntegerType(), True),\n",
    "    StructField(\"DOLocationID\", IntegerType(), True),\n",
    "    StructField(\"payment_type\", IntegerType(), True),\n",
    "    StructField(\"fare_amount\", DoubleType(), True),\n",
    "    StructField(\"extra\", DoubleType(), True),\n",
    "    StructField(\"mta_tax\", DoubleType(), True),\n",
    "    StructField(\"tip_amount\", DoubleType(), True),\n",
    "    StructField(\"tolls_amount\", DoubleType(), True),\n",
    "    StructField(\"improvement_surcharge\", DoubleType(), True),\n",
    "    StructField(\"total_amount\", DoubleType(), True)\n",
    "])\n"
   ]
  },
  {
   "cell_type": "code",
   "execution_count": null,
   "metadata": {
    "ExecuteTime": {
     "end_time": "2020-06-04T18:33:19.806184Z",
     "start_time": "2020-06-04T18:33:15.871708Z"
    }
   },
   "outputs": [],
   "source": [
    "df_15_03 = spark.read\\\n",
    "             .format('csv')\\\n",
    "             .option(\"header\", \"true\")\\\n",
    "             .option(\"mode\", \"FAILFAST\")\\\n",
    "             .option(\"sep\", \",\")\\\n",
    "             .schema(schema_15)\\\n",
    "             .load(\"nyc_taxi/yellow_tripdata_2015-03.csv\")\n",
    "\n",
    "df_15_03.printSchema()\n",
    "\n",
    "\n",
    "\n",
    "df_18_03 = spark.read\\\n",
    "             .format('csv')\\\n",
    "             .option(\"header\", \"true\")\\\n",
    "             .option(\"mode\", \"FAILFAST\")\\\n",
    "             .option(\"sep\", \",\")\\\n",
    "             .schema(schema_18)\\\n",
    "             .load(\"nyc_taxi/yellow_tripdata_2018-03.csv\")\n",
    "\n",
    "df_18_03.printSchema()"
   ]
  },
  {
   "cell_type": "code",
   "execution_count": null,
   "metadata": {
    "ExecuteTime": {
     "start_time": "2020-06-04T14:25:17.589Z"
    }
   },
   "outputs": [],
   "source": [
    "#number of partitions of the dataframe:\n",
    "\n",
    "print(df_15_03.rdd.getNumPartitions())\n",
    "\n",
    "print(df_18_03.rdd.getNumPartitions())\n",
    "\n",
    "#k = sc.parallelize(df_15_03)"
   ]
  },
  {
   "cell_type": "code",
   "execution_count": null,
   "metadata": {
    "ExecuteTime": {
     "end_time": "2020-06-04T18:38:42.847918Z",
     "start_time": "2020-06-04T18:33:19.814840Z"
    }
   },
   "outputs": [],
   "source": [
    "\n",
    "df_15_03.write.format(\"parquet\").mode(\"overwrite\").save('data/yellow_tripdata_2015-03.parquet')\n",
    "df_18_03.write.format(\"parquet\").mode(\"overwrite\").save('data/yellow_tripdata_2018-03.parquet')\n"
   ]
  },
  {
   "cell_type": "markdown",
   "metadata": {
    "nteract": {
     "transient": {
      "deleting": false
     }
    }
   },
   "source": [
    "# Investigate (at least) one month of data in 2015\n",
    "\n",
    "From now on, you will be using **the parquet files you created for 2015**.\n",
    "\n",
    "We shall visualize several features of taxi traffic during one calendar month\n",
    "in 2015 and the same calendar month in 2018.\n",
    "\n",
    "**Hint.** In order to build appealing graphics, you may stick to `matplotlib + seaborn`, you can use also\n",
    "`plotly`, which is used a lot to build interactive graphics, but you can use whatever you want."
   ]
  },
  {
   "cell_type": "markdown",
   "metadata": {},
   "source": [
    "The following longitudes and lattitudes encompass Newark and JFK airports, Northern Manhattan and Verazzano bridge."
   ]
  },
  {
   "cell_type": "code",
   "execution_count": null,
   "metadata": {
    "ExecuteTime": {
     "end_time": "2020-06-04T18:38:43.651492Z",
     "start_time": "2020-06-04T18:38:42.850623Z"
    }
   },
   "outputs": [],
   "source": [
    "\n",
    "df_mar15 = spark.read.parquet('data/yellow_tripdata_2015-03.parquet')\n",
    "\n",
    "df_mar15 = df_mar15.filter(col(\"tpep_pickup_datetime\") >= \"2015-01-01 00:00\")\\\n",
    "                .filter(col(\"tpep_pickup_datetime\") < \"2016-01-01 00:00\")\n",
    "df_mar15.count()\n"
   ]
  },
  {
   "cell_type": "code",
   "execution_count": null,
   "metadata": {},
   "outputs": [],
   "source": [
    "df_mar18 = spark.read.parquet('data/yellow_tripdata_2018-03.parquet')\n",
    "\n",
    "df_mar18 = df_mar18.filter(col(\"tpep_pickup_datetime\") >= \"2018-01-01 00:00\")\\\n",
    "                .filter(col(\"tpep_pickup_datetime\") < \"2019-01-01 00:00\")"
   ]
  },
  {
   "cell_type": "code",
   "execution_count": null,
   "metadata": {
    "ExecuteTime": {
     "end_time": "2020-06-04T18:38:44.776978Z",
     "start_time": "2020-06-04T18:38:43.657000Z"
    },
    "jupyter": {
     "outputs_hidden": false,
     "source_hidden": false
    },
    "nteract": {
     "transient": {
      "deleting": false
     }
    }
   },
   "outputs": [],
   "source": [
    "long_min = -74.10\n",
    "long_max = -73.70\n",
    "lat_min = 40.58\n",
    "lat_max = 40.90\n",
    "\n",
    "start = time.time()\n",
    "\n",
    "\n",
    "mar15_filtred = df_mar15.where(col('pickup_longitude').between(long_min, long_max))\\\n",
    "                    .where(col('pickup_latitude').between(lat_min, lat_max))\\\n",
    "                    .where(col('dropoff_longitude').between(long_min, long_max))\\\n",
    "                    .where(col('dropoff_latitude').between(lat_min, lat_max))\n",
    "\n",
    "end = time.time()\n",
    "print(end - start)"
   ]
  },
  {
   "cell_type": "markdown",
   "metadata": {},
   "source": [
    "1. Using these boundaries, **filter the 2015 data** (using pickup and dropoff longitude and latitude) and count the number of trips for each value of `passenger_count` and make a plot of that."
   ]
  },
  {
   "cell_type": "code",
   "execution_count": null,
   "metadata": {
    "ExecuteTime": {
     "end_time": "2020-06-04T14:51:30.167492Z",
     "start_time": "2020-06-04T14:51:22.948645Z"
    }
   },
   "outputs": [],
   "source": [
    "mar15_psgr = mar15_filtred.groupBy(col('passenger_count')).count()\n",
    "\n",
    "        \n",
    "mar15_psgr.show()\n",
    "\n",
    "sns.set()\n",
    "\n",
    "g = sns.lineplot(x = \"passenger_count\",\n",
    "                 y = \"count\",\n",
    "                 data = mar15_psgr.toPandas()).set_title(\"Number of trips for each value of passenger_count\")\n",
    "\n",
    "plt.show()"
   ]
  },
  {
   "cell_type": "markdown",
   "metadata": {
    "nteract": {
     "transient": {
      "deleting": false
     }
    }
   },
   "source": [
    "Trips with $0$ or larger than $7$ passengers are pretty rare.\n",
    "We suspect these to be outliers. \n",
    "We need to explore these trips further in order to understand what might be wrong\n",
    "with them\n",
    "\n",
    "1. What's special with trips with zero passengers?\n",
    "\n",
    "It's the time it takes for the driver to find/begin a new ride.\n",
    "\n",
    "1. What's special with trips with more than $6$ passengers?\n",
    "\n",
    "\n",
    "\n",
    "1. What is the largest distance travelled during this month? Is it the first taxi on the moon?\n",
    "\n",
    "1.5420061E7\n",
    "\n",
    "1. Plot the distribution of the `trip_distance` (using an histogram for instance) during year 2015. Focus on trips with non-zero trip distance and trip distance less than 30 miles."
   ]
  },
  {
   "cell_type": "code",
   "execution_count": null,
   "metadata": {
    "ExecuteTime": {
     "end_time": "2020-06-04T14:51:32.736449Z",
     "start_time": "2020-06-04T14:51:30.437958Z"
    }
   },
   "outputs": [],
   "source": [
    "mar15_0_psgr = mar15_filtred.where(col('passenger_count')==0)\\\n",
    "                            .orderBy(mar15_filtred.trip_distance.desc())\n",
    "#mar15_0_psgr.show(5)\n",
    "\n",
    "#largest distance with 0 passengers: 24.1\n",
    "\n",
    "\n",
    "mar15_6_psgr = mar15_filtred.where(col('passenger_count')>=6)\\\n",
    "                            \n",
    "#mar15_6_psgr.show(5)\n",
    "\n",
    "#largest distance with more than 6 passengers: 61.75\n",
    "\n",
    "largest_dist_15 = mar15_filtred.orderBy(mar15_filtred.trip_distance.desc())\\\n",
    "                    .limit(1)\n",
    "#largest_dist_15.show()\n",
    "\n",
    "nb_0dist_6 =mar15_filtred.where(col('passenger_count')>=6).where(col('trip_distance')==0).count()\n",
    "nb_0dist_6"
   ]
  },
  {
   "cell_type": "code",
   "execution_count": null,
   "metadata": {
    "ExecuteTime": {
     "end_time": "2020-06-04T14:51:40.163978Z",
     "start_time": "2020-06-04T14:51:34.364424Z"
    }
   },
   "outputs": [],
   "source": [
    "mar15_trip_dist = mar15_filtred.where(col('trip_distance').between(0, 30))\\\n",
    "                                .groupBy(col('trip_distance'))\\\n",
    "                                .count()\n",
    "\n",
    "sns.set()\n",
    "\n",
    "g = sns.lineplot(x = \"trip_distance\",\n",
    "                 y = \"count\",\n",
    "                 data = mar15_trip_dist.toPandas()).set_title(\"Distribution of the trip_distance during year 2015\")\n",
    "\n",
    "plt.show()\n",
    "\n",
    "#ax = mar15_trip_dist.toPandas().plot.hist(by='trip_distance',bins=15).set_title(\"Distribution of the trip_distance during year 2015\")\n"
   ]
  },
  {
   "cell_type": "markdown",
   "metadata": {},
   "source": [
    "Let's look at what Spark does for these computations\n",
    "\n",
    "1. Use the `explain` method or have a look at the [Spark UI](http://localhost:4040/SQL/) to analyze the job. You should be able to assess \n",
    "    - Parsed Logical Plan\n",
    "    - Analyzed Logical Plan\n",
    "    - Optimized Logical Plan\n",
    "    - Physical Plan\n",
    "1. Do the Analyzed Logical Plan and Optimized Logical Plan differ? Spot the differences if any. How would a RDBMS proceed with such a query?\n",
    "\n",
    "The Analyzed Logical Plan and Optimized Logical Plan differ with teh type of the elments. Indeed, in the Analyzed Logical Plan, there is all the columns of the dataframe with their types before the rest of the the logical plan. In the optimized logical plan, Spark does optimization itself.\n",
    "\n",
    "1. How does the physical plan differ from the Optimized Logical Plan? What are the keywords you would not expect in a RDBMS? What is their meaning? \n",
    "\n",
    "A logical plan is a tree that represents both schema and data. These trees are manipulated and optimized by catalyst framework. The optimized logical plan is converted to a physical plan for further execution. These plans lie inside the DataFrame API. Spark will check up multiple physical plans and decide the best optimal physical plan. And finally the Best Physical Plan runs in our cluster. Physical Plan is responsible for deciding the type of join, sequence of the execution of filter, where, groupBy clause, etc.\n",
    "\n",
    "1. Inspect the stages on [Spark UI](http://localhost:4040/stages/stage). How many *stages* are necessary to complete the Spark job? What are the roles of `HashAggregate` and `Exchange hashpartitioning`?\n",
    "\n",
    "29\n",
    "\n",
    "HashAggregateExec is a unary physical operator for hash-based aggregation that is created indirectly when Aggregation execution planning strategy selects the aggregate physical operator for an Aggregate logical operator.\n",
    "\n",
    "1. Does the physical plan perform `shuffle` operations? If yes how many?\n",
    "5 shuffle write and 7 shuffle read\n",
    "1. What are tasks with respect to stages (in Spark language)? How many tasks are your stages made of?"
   ]
  },
  {
   "cell_type": "code",
   "execution_count": null,
   "metadata": {
    "ExecuteTime": {
     "start_time": "2020-06-04T14:25:17.619Z"
    }
   },
   "outputs": [],
   "source": [
    "df_mar15.explain(extended = True)\n",
    "#df_mar18.explain(extended = True)\n",
    "\n",
    "#mar15_filtred.explain(extended = True)"
   ]
  },
  {
   "cell_type": "markdown",
   "metadata": {
    "nteract": {
     "transient": {
      "deleting": false
     }
    }
   },
   "source": [
    "Now, compute the following and produce relevant plots:\n",
    "\n",
    "1. Break down the trip distance distribution for each day of week\n",
    "1. Count the number of distinct pickup location\n",
    "1. Compute and display tips and profits as a function of the pickup location"
   ]
  },
  {
   "cell_type": "code",
   "execution_count": null,
   "metadata": {
    "ExecuteTime": {
     "start_time": "2020-06-04T14:25:17.624Z"
    }
   },
   "outputs": [],
   "source": [
    "#Trip distance distribution for each day of week :\n",
    "\n",
    "from pyspark.sql.functions import dayofweek\n",
    "from pyspark.sql.functions import date_format\n",
    "from pyspark.sql.functions import col\n",
    "\n",
    "mar15_days = df_mar15.withColumn(\"week_day\", date_format(col(\"tpep_pickup_datetime\"), \"EEEE\"))\\\n",
    "                        .where(col('trip_distance').between(0, 30))\\\n",
    "                        .groupBy(col('trip_distance'),col('week_day'))\\\n",
    "                        .count()\n",
    "\n",
    "mar15_days = mar15_days.orderBy(mar15_days.week_day.desc())\n",
    "#mar15_days.show(20)\n",
    "\n",
    "sns.set()\n",
    "\n",
    "g = sns.FacetGrid(mar15_days.toPandas(), col=\"week_day\", col_wrap=5)\n",
    "g = g.map(sns.lineplot, \"trip_distance\", \"count\")\n",
    "\n",
    "g.fig.suptitle(\"Distribution of the trip_distance during year 2015, by day of week\", y=1.05)\n",
    "\n",
    "plt.show()"
   ]
  },
  {
   "cell_type": "code",
   "execution_count": null,
   "metadata": {
    "ExecuteTime": {
     "end_time": "2020-06-04T18:51:31.856297Z",
     "start_time": "2020-06-04T18:50:06.801032Z"
    }
   },
   "outputs": [],
   "source": [
    "#The number of distinct pickup location :\n",
    "\n",
    "import pyspark.sql.functions as func\n",
    "from pyspark.sql.functions import countDistinct\n",
    "from pyspark.sql.functions import col\n",
    "from pyspark.sql.functions import udf\n",
    "\n",
    "\n",
    "def concat_str(a,b):\n",
    "  return str(a) + str(b)\n",
    "spark.udf.register(\"concat_str\", concat_str)\n",
    "first_udf = udf(concat_str)\n",
    "\n",
    "df = df_mar15.select(\"pickup_longitude\",\"pickup_latitude\", first_udf(\"pickup_longitude\",\"pickup_latitude\").alias(\"tuple\"))\n",
    "\n",
    "gr = df.agg(countDistinct('tuple'))\n",
    "gr.show()\n",
    "\n",
    "#9934537"
   ]
  },
  {
   "cell_type": "code",
   "execution_count": null,
   "metadata": {
    "ExecuteTime": {
     "end_time": "2020-06-04T19:24:10.953938Z",
     "start_time": "2020-06-04T19:21:46.895783Z"
    }
   },
   "outputs": [],
   "source": [
    "#Tips as a function of the pickup location :\n",
    "\n",
    "import pyspark.sql.functions as func\n",
    "from pyspark.sql.functions import col\n",
    "from matplotlib import pyplot\n",
    "\n",
    "\n",
    "df_location = mar15_filtred.where(col('tip_amount').between(0,100))\\\n",
    "                    .withColumn('pickup_longitude',func.round(mar15_filtred['pickup_longitude'],3))\\\n",
    "                    .withColumn('pickup_latitude',func.round(mar15_filtred['pickup_latitude'],3))\\\n",
    "                    .groupBy(col('pickup_longitude'),col('pickup_latitude'),col('tip_amount')).count()\n",
    "\n",
    "df_location.show(4)\n",
    "\n",
    "\n",
    "fig, ax = plt.subplots(figsize=(11.7, 8.27))\n",
    "\n",
    "sns.set()\n",
    "\n",
    "\n",
    "k = sns.scatterplot(x='pickup_longitude',\n",
    "                    y='pickup_latitude',\n",
    "                    hue='tip_amount',\n",
    "                    size='tip_amount',\n",
    "                    data=df_location.toPandas(),\n",
    "                   ax=ax).set_title(\"Tips as a function of the pickup location during year 2015\")\n",
    "\n",
    "plt.show()\n"
   ]
  },
  {
   "cell_type": "code",
   "execution_count": null,
   "metadata": {
    "ExecuteTime": {
     "end_time": "2020-06-04T19:38:37.511299Z",
     "start_time": "2020-06-04T19:34:33.176313Z"
    }
   },
   "outputs": [],
   "source": [
    "#Profits as a function of the pickup location:\n",
    "\n",
    "import pyspark.sql.functions as func\n",
    "from pyspark.sql.functions import col\n",
    "from matplotlib import pyplot\n",
    "\n",
    "\n",
    "df_tupless = mar15_filtred.withColumn(\"profits\", col(\"total_amount\")-(col(\"mta_tax\")+col(\"tolls_amount\")))\\\n",
    "                    .where(col('profits').between(-20,100))\\\n",
    "                    .withColumn('pickup_longitude',func.round(mar15_filtred['pickup_longitude'],3))\\\n",
    "                    .withColumn('pickup_latitude',func.round(mar15_filtred['pickup_latitude'],3))\\\n",
    "                    .groupBy(col('pickup_longitude'),col('pickup_latitude'),col('profits')).count()\n",
    "\n",
    "df_tupless.show(4)\n",
    "\n",
    "\n",
    "fig, ax = plt.subplots(figsize=(11.7, 8.27))\n",
    "\n",
    "sns.set()\n",
    "\n",
    "\n",
    "k = sns.scatterplot(x='pickup_longitude',\n",
    "                    y='pickup_latitude',\n",
    "                    hue='profits',\n",
    "                    size='profits',\n",
    "                    data=df_tupless.toPandas(),\n",
    "                   ax=ax).set_title(\"Profits as a function of the pickup location during year 2015\")\n",
    "\n",
    "plt.show()\n"
   ]
  },
  {
   "cell_type": "markdown",
   "metadata": {
    "nteract": {
     "transient": {
      "deleting": false
     }
    }
   },
   "source": [
    "# Investigate one month of trips data in 2015 and 2018\n",
    "\n",
    " Consider one month of trips data from `yellow` taxis for each year\n",
    "\n",
    "1. Filter and cache/persist the result\n",
    "\n",
    "## Assessing seasonalities and looking at time series\n",
    "\n",
    "Compute and plot the following time series indexed by day of the week and hour of day:\n",
    "\n",
    "1. The number of pickups\n",
    "1. The average fare\n",
    "1. The average trip duration\n",
    "1. Plot the average number of ongoing trips\n",
    "\n"
   ]
  },
  {
   "cell_type": "code",
   "execution_count": null,
   "metadata": {},
   "outputs": [],
   "source": [
    "import plotly.graph_objects as go\n",
    "import plotly.express as px\n",
    "from pyspark.sql.functions import date_format\n",
    "from shapely.geometry import Polygon\n"
   ]
  },
  {
   "cell_type": "code",
   "execution_count": null,
   "metadata": {},
   "outputs": [],
   "source": [
    "def group_weekday(df): \n",
    "    return df.select('fare_amount',\n",
    "                          (fn.unix_timestamp('tpep_dropoff_datetime')- fn.unix_timestamp('tpep_pickup_datetime')).alias('duration'), \n",
    "                          date_format('tpep_pickup_datetime', 'E').alias('week_day'), \n",
    "                          date_format('tpep_pickup_datetime', 'HH').cast(IntegerType()).alias('hour'),\n",
    "                          date_format('tpep_pickup_datetime', 'YYYY').alias('year'))\n",
    "                            \n",
    "\n",
    "start = time.time()\n",
    "\n",
    "df_grp = group_weekday(df_mar18).union(group_weekday(mar15_filtred))\n",
    "\n",
    "df_grp = df_grp.groupBy(col('hour'), col('week_day'), col('year')).agg(fn.round(fn.mean('duration'),1).alias('average_duration'),\n",
    "                                                                   fn.round(fn.mean('fare_amount'),2).alias('average_fare'),\n",
    "                                                                   fn.count('fare_amount').alias('nb_trips'))\n",
    "df_grp.orderBy('year').show(10)\n",
    "\n",
    "end = time.time()\n",
    "print(end - start)"
   ]
  },
  {
   "cell_type": "code",
   "execution_count": null,
   "metadata": {},
   "outputs": [],
   "source": [
    "pd_grp = df_grp.orderBy('hour').toPandas()\n",
    "\n",
    "#pd_grp = pd_grp.drop(columns=['year']).pivot(index='hour', columns='week_day', values=['average_duration', 'nb_trips', 'average_fare'])"
   ]
  },
  {
   "cell_type": "code",
   "execution_count": null,
   "metadata": {},
   "outputs": [],
   "source": [
    "def plot_by_hour(data, column, ytitle):\n",
    "    fig = px.line(data, x=\"hour\", y=column, color=\"week_day\",\n",
    "                  facet_col=\"year\", hover_name=\"year\")\n",
    "\n",
    "    fig.for_each_annotation(lambda a: a.update(text=a.text.split(\"=\")[-1]))\n",
    "    fig.update_layout(\n",
    "        autosize=False,\n",
    "        width=900,\n",
    "        height=600\n",
    "    )\n",
    "\n",
    "    fig.update_yaxes(title_text=ytitle)\n",
    "    fig.update_xaxes(showticklabels=True)\n",
    "    fig.show()"
   ]
  },
  {
   "cell_type": "code",
   "execution_count": null,
   "metadata": {},
   "outputs": [],
   "source": [
    "plot_by_hour(pd_grp, \"average_duration\", 'Average duration')"
   ]
  },
  {
   "cell_type": "code",
   "execution_count": null,
   "metadata": {},
   "outputs": [],
   "source": [
    "plot_by_hour(pd_grp, \"average_fare\", 'Average fare')"
   ]
  },
  {
   "cell_type": "code",
   "execution_count": null,
   "metadata": {},
   "outputs": [],
   "source": [
    "plot_by_hour(pd_grp, \"nb_trips\", 'Total trips')"
   ]
  },
  {
   "cell_type": "markdown",
   "metadata": {},
   "source": [
    "## Rides to the airports\n",
    "\n",
    "In order to find the longitude and lattitude of JFK and Newark airport as well as the longitude and magnitudes \n",
    "of Manhattan, you can use a service like [geojson.io](http://geojson.io/).\n",
    "Plot the following time series, indexed the day of the week and hour of the day\n",
    "\n",
    "1. Median duration of taxi trip leaving Midtown (Southern Manhattan) headed for JFK Airport\n",
    "1. Median taxi duration of trip leaving from JFK Airport to Midtown (Southern Manhattan)"
   ]
  },
  {
   "cell_type": "code",
   "execution_count": null,
   "metadata": {},
   "outputs": [],
   "source": [
    "manhattan = Polygon([(-73.971, 40.727),\n",
    "                     (-74.013, 40.742),\n",
    "                     (-73.996, 40.773),\n",
    "                     (-73.958, 40.758),\n",
    "                     (-73.971, 40.727)])\n",
    "\n",
    "jfk = Polygon([(-73.82,40.659),\n",
    "               (-73.819,40.648),\n",
    "               (-73.769,40.626),\n",
    "               (-73.754,40.646),\n",
    "               (-73.79,40.665),\n",
    "               (-73.82,40.659)])"
   ]
  },
  {
   "cell_type": "code",
   "execution_count": null,
   "metadata": {},
   "outputs": [],
   "source": [
    "start = time.time()\n",
    "df_mar15_geo = df_mar15.limit(1000000).select((fn.unix_timestamp('tpep_dropoff_datetime')- fn.unix_timestamp('tpep_pickup_datetime')).alias('duration'),\n",
    "                'pickup_longitude',\n",
    "                'pickup_latitude',\n",
    "                'dropoff_longitude',\n",
    "                'dropoff_latitude')\n",
    "mid = time.time()\n",
    "\n",
    "df_geo = df_mar15_geo.toPandas()\n",
    "\n",
    "end = time.time()\n",
    "print(mid-start, end-mid)\n",
    "df_geo"
   ]
  },
  {
   "cell_type": "code",
   "execution_count": null,
   "metadata": {},
   "outputs": [],
   "source": [
    "gdf_pu = geopandas.GeoDataFrame(df_geo.copy(), \n",
    "                             geometry=geopandas.points_from_xy(df_geo.pickup_longitude, df_geo.pickup_latitude))\n",
    "\n",
    "gdf_do = geopandas.GeoDataFrame(df_geo.copy(), \n",
    "                             geometry=geopandas.points_from_xy(df_geo.dropoff_longitude, df_geo.dropoff_latitude))"
   ]
  },
  {
   "cell_type": "code",
   "execution_count": null,
   "metadata": {},
   "outputs": [],
   "source": [
    "pu_ma_to_jfk = gdf_pu[gdf_pu.geometry.within(manhattan) & gdf_do.geometry.within(jfk)]\n",
    "\n",
    "pu_ma_to_jfk['duration'].median()"
   ]
  },
  {
   "cell_type": "code",
   "execution_count": null,
   "metadata": {},
   "outputs": [],
   "source": [
    "pu_jfkto_ma = gdf_pu[gdf_pu.geometry.within(jfk) & gdf_do.geometry.within(manhattan)]\n",
    "\n",
    "pu_jfkto_ma['duration'].median()"
   ]
  },
  {
   "cell_type": "markdown",
   "metadata": {},
   "source": [
    "\n",
    "\n",
    "## Geographic information\n",
    "\n",
    "For this, you will need to find tools to display maps and to build choropeth maps.\n",
    "We let you look and find relevant tools to do this.\n",
    "\n",
    "1. Build a heatmap where color is a function of\n",
    "    1. number of `pickups`\n",
    "    2. number of `dropoffs`\n",
    "    3. number of `pickups` with dropoff at some airport (JFK, LaGuardia, Newark)\n",
    "2. Build a choropeth map where color is a function of\n",
    "    1. number of pickups in the area\n",
    "    1. ratio of number of payments by card/number of cash payments for pickups in the area\n",
    "    2. ratio of total fare/trip duration for dropoff in the area\n",
    "3. Build an interactive chorophet with a slider allowing the user to select an `hour of day` and where the color is a function of\n",
    "    1. average number of dropoffs in the area during that hour the day\n",
    "    2. average ratio of tip over total fare amount for pickups in the area at given hour of the day"
   ]
  },
  {
   "cell_type": "code",
   "execution_count": null,
   "metadata": {},
   "outputs": [],
   "source": []
  }
 ],
 "metadata": {
  "kernelspec": {
   "display_name": "Python 3",
   "language": "python",
   "name": "python3"
  },
  "language_info": {
   "codemirror_mode": {
    "name": "ipython",
    "version": 3
   },
   "file_extension": ".py",
   "mimetype": "text/x-python",
   "name": "python",
   "nbconvert_exporter": "python",
   "pygments_lexer": "ipython3",
   "version": "3.6.9"
  },
  "toc": {
   "base_numbering": 1,
   "nav_menu": {},
   "number_sections": true,
   "sideBar": true,
   "skip_h1_title": false,
   "title_cell": "Table of Contents",
   "title_sidebar": "Contents",
   "toc_cell": false,
   "toc_position": {
    "height": "576.317px",
    "left": "22px",
    "top": "111.483px",
    "width": "165px"
   },
   "toc_section_display": true,
   "toc_window_display": true
  }
 },
 "nbformat": 4,
 "nbformat_minor": 1
}
