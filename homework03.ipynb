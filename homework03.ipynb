{
 "cells": [
  {
   "cell_type": "markdown",
   "metadata": {
    "nteract": {
     "transient": {
      "deleting": false
     }
    }
   },
   "source": [
    "# New York taxis trips\n",
    "\n",
    "This homework is about New York taxi trips. Here is something from [Todd Schneider](https://toddwschneider.com/posts/analyzing-1-1-billion-nyc-taxi-and-uber-trips-with-a-vengeance/):\n",
    "\n",
    "> The New York City Taxi & Limousine Commission has released a  detailed historical dataset covering over 1 billion individual taxi trips in the city from January 2009 through December 2019. \n",
    "Taken as a whole, the detailed trip-level data is more than just a vast list of taxi pickup and drop off coordinates: it's a story of a City. \n",
    "How bad is the rush hour traffic from Midtown to JFK? \n",
    "Where does the Bridge and Tunnel crowd hang out on Saturday nights?\n",
    "What time do investment bankers get to work? How has Uber changed the landscape for taxis?\n",
    "The dataset addresses all of these questions and many more.\n",
    "\n",
    "The NY taxi trips dataset has been plowed by series of distinguished data scientists.\n",
    "The dataset is available from on Amazon S3 (Amazon's cloud storage service).\n",
    "The link for each file has the following form:\n",
    "\n",
    "    https://s3.amazonaws.com/nyc-tlc/trip+data/yellow_tripdata_{year}-{month}.csv\n",
    "\n",
    "There is one CSV file for each NY taxi service (`yellow`, `green`, `fhv`) and each calendar month (replacing `{year}` and `{month}` by the desired ones).\n",
    "Each file is moderately large, a few gigabytes. \n",
    "The full dataset is relatively large if it has to be handled on a laptop (several hundred gigabytes).\n",
    "\n",
    "You will focus on the `yellow` taxi service and a pair of months, from year 2015 and from year 2018. \n",
    "Between those two years, for hire vehicles services have taken off and carved a huge marketshare.\n",
    "\n",
    "Whatever the framework you use, `CSV` files prove hard to handle. \n",
    "After downloading the appropriate files (this takes time, but this is routine), a first step will consist in converting the csv files into a more Spark friendly format such as `parquet`.\n",
    "\n",
    "Saving into one of those formats require decisions about bucketing, partitioning and so on. Such decisions influence performance. It is your call.\n",
    "Many people have been working on this dataset, to cite but a few:\n",
    "\n",
    "\n",
    "- [1 billion trips with a vengeance](https://toddwschneider.com/posts/analyzing-1-1-billion-nyc-taxi-and-uber-trips-with-a-vengeance/)\n",
    "- [1 billion trips with R and SQL ](http://freerangestats.info/blog/2019/12/22/nyc-taxis-sql)\n",
    "- [1 billion trips with redshift](https://tech.marksblogg.com/billion-nyc-taxi-rides-redshift.html)\n",
    "- [nyc-taxi](https://github.com/fmaletski/nyc-taxi-map)"
   ]
  },
  {
   "cell_type": "markdown",
   "metadata": {},
   "source": [
    "Depending on your internet connection, **download the files** corresponding to **\"yellow\" taxis** for the years 2015 and 2018. Download **at least one month** (the same) for 2015 and 2018, if you can download all of them.\n",
    "\n",
    "**Hint.** The 12 csv for 2015 are about 23GB in total, but the corresponding parquet file, if you can create it for all 12 months, is only about 3GB."
   ]
  },
  {
   "cell_type": "markdown",
   "metadata": {},
   "source": [
    "You **might** need the following stuff in order to work with GPS coordinates and to plot things easily."
   ]
  },
  {
   "cell_type": "code",
   "execution_count": null,
   "metadata": {
    "ExecuteTime": {
     "end_time": "2020-06-04T14:25:24.977898Z",
     "start_time": "2020-06-04T14:25:17.546552Z"
    }
   },
   "outputs": [],
   "source": [
    "!pip install geojson geopandas plotly geopy"
   ]
  },
  {
   "cell_type": "code",
   "execution_count": null,
   "metadata": {
    "ExecuteTime": {
     "end_time": "2020-06-04T14:25:27.689673Z",
     "start_time": "2020-06-04T14:25:24.985724Z"
    },
    "scrolled": false
   },
   "outputs": [],
   "source": [
    "!pip install ipyleaflet descartes mapclassify"
   ]
  },
  {
   "cell_type": "markdown",
   "metadata": {},
   "source": [
    "For this homework **we will let you decide on the tools to use** (expected for Spark) and to **find out information all by yourself** (but don't hesitate to ask questions on the `slack` channel)."
   ]
  },
  {
   "cell_type": "markdown",
   "metadata": {
    "nteract": {
     "transient": {
      "deleting": false
     }
    }
   },
   "source": [
    "# Loading data as parquet files\n",
    "\n",
    "We want to organize the data on a per year and per service basis. \n",
    "We want to end up with one `parquet` file for each year and each taxi service, since parquet is much better than CSV files.\n",
    "\n",
    "**Hint.** Depending on your internet connection and your laptop, you can use only the \"yellow\" service and use one month of 2015 and 2018\n",
    "\n",
    "CSV files can contain corrupted lines. You may have to work in order to perform ETL (Extract-Transform-Load) in order obtain a properly typed data frame.\n",
    "\n",
    "You are invited to proceed as follows:\n",
    "\n",
    "1. Try to read the CSV file without imposing a schema. \n",
    "1. Inspect the inferred schema. Do you agree with Spark's typing decision?\n",
    "1. Eventually correct the schema and read again the data\n",
    "1. Save the data into parquet files\n",
    "1. In the rest of your work, **you will only use the parquet files you created**, not the csv files (don't forget to choose a partitioning column and a number of partitions when creating the parquet files).\n",
    "\n",
    "**Hint.** Don't forget to ask `Spark` to use all the memory and ressources from your computer.\n",
    "\n",
    "**Hint.** Don't foreget that you should specify a partitioning column and a number of partitions when creating the parquet files.\n",
    "\n",
    "**Hint.** Note that the schemas of the 2015 and 2018 data are different...\n",
    "\n",
    "**Hint.** When working on this, ask you and answer to the following questions:\n",
    "\n",
    "1. What is the `StorageLevel` of the dataframe after reading the csv files?\n",
    "1. What is the number of partitions of the dataframe? \n",
    "1. Is it possible to tune this number at loading time? \n",
    "1. Why would we want to modify the number of partitions when creating the parquet files?"
   ]
  },
  {
   "cell_type": "code",
   "execution_count": null,
   "metadata": {
    "ExecuteTime": {
     "end_time": "2020-06-05T03:14:39.167730Z",
     "start_time": "2020-06-05T03:14:26.270253Z"
    }
   },
   "outputs": [],
   "source": [
    "# import the usual suspects\n",
    "import pandas as pd\n",
    "import numpy as np\n",
    "import matplotlib.pyplot as plt\n",
    "import os\n",
    "from pathlib import Path\n",
    "import sys\n",
    "import time\n",
    "\n",
    "%matplotlib inline\n",
    "import seaborn as sns\n",
    "\n",
    "sns.set_context(\"notebook\", font_scale=1.2)"
   ]
  },
  {
   "cell_type": "code",
   "execution_count": null,
   "metadata": {
    "ExecuteTime": {
     "end_time": "2020-06-05T03:14:43.037023Z",
     "start_time": "2020-06-05T03:14:39.169999Z"
    },
    "scrolled": true
   },
   "outputs": [],
   "source": [
    "# spark\n",
    "from pyspark import SparkConf, SparkContext\n",
    "from pyspark.sql import SparkSession\n",
    "from pyspark.sql import Window\n",
    "import pyspark.sql.functions as fn\n",
    "from pyspark.sql.catalog import Catalog\n",
    "\n",
    "import plotly.graph_objects as go\n",
    "import plotly.express as px\n",
    "from pyspark.sql.functions import date_format, countDistinct\n",
    "from shapely.geometry import Point, Polygon\n",
    "from pyspark.sql.functions import col, pandas_udf, struct, PandasUDFType, udf\n",
    "from pyspark.sql.types import *\n",
    "\n",
    "import geopandas as gpd\n",
    "from matplotlib.colors import LogNorm\n",
    "import geojson"
   ]
  },
  {
   "cell_type": "code",
   "execution_count": null,
   "metadata": {
    "ExecuteTime": {
     "end_time": "2020-06-05T03:14:58.029675Z",
     "start_time": "2020-06-05T03:14:43.038885Z"
    },
    "scrolled": true
   },
   "outputs": [],
   "source": [
    "conf = SparkConf().setAppName(\"Spark SQL Course\")\n",
    "conf.set(\"spark.executor.memory\", \"5g\")\n",
    "conf.set(\"spark.driver.memory\", \"5g\")\n",
    "conf.set(\"spark.cores.max\", \"4\")\n",
    "conf.set(\"spark.executor.cores\", \"4\")\n",
    "sc = SparkContext(conf=conf)\n",
    "\n",
    "spark = (SparkSession\n",
    "    .builder\n",
    "    .appName(\"homework 3\")\n",
    "    .getOrCreate()\n",
    ")\n",
    "\n"
   ]
  },
  {
   "cell_type": "code",
   "execution_count": null,
   "metadata": {
    "ExecuteTime": {
     "end_time": "2020-06-04T11:02:41.669201Z",
     "start_time": "2020-06-04T11:02:41.639390Z"
    }
   },
   "outputs": [],
   "source": [
    "sc.getConf().getAll()"
   ]
  },
  {
   "cell_type": "code",
   "execution_count": null,
   "metadata": {
    "ExecuteTime": {
     "end_time": "2020-06-04T14:31:04.044615Z",
     "start_time": "2020-06-04T14:25:49.313541Z"
    },
    "scrolled": true
   },
   "outputs": [],
   "source": [
    "df_15_03 = spark.read\\\n",
    "             .format('csv')\\\n",
    "             .option(\"header\", \"true\")\\\n",
    "             .option(\"mode\", \"FAILFAST\")\\\n",
    "             .option(\"inferSchema\", \"true\")\\\n",
    "             .option(\"sep\", \",\")\\\n",
    "             .load(\"nyc_taxi/yellow_tripdata_2015-03.csv\")\n",
    "\n",
    "df_15_03.printSchema()"
   ]
  },
  {
   "cell_type": "code",
   "execution_count": null,
   "metadata": {
    "ExecuteTime": {
     "start_time": "2020-06-04T14:25:17.570Z"
    }
   },
   "outputs": [],
   "source": [
    "df_18_03 = spark.read\\\n",
    "             .format('csv')\\\n",
    "             .option(\"header\", \"true\")\\\n",
    "             .option(\"mode\", \"FAILFAST\")\\\n",
    "             .option(\"inferSchema\", \"true\")\\\n",
    "             .option(\"sep\", \",\")\\\n",
    "             .load(\"nyc_taxi/yellow_tripdata_2018-03.csv\")\n",
    "\n",
    "df_18_03.printSchema()"
   ]
  },
  {
   "cell_type": "code",
   "execution_count": null,
   "metadata": {
    "ExecuteTime": {
     "start_time": "2020-06-03T23:49:27.508Z"
    },
    "scrolled": true
   },
   "outputs": [],
   "source": [
    "df_15_03.groupBy('store_and_fwd_flag').agg(fn.count(col(\"VendorID\"))).show(20)\n"
   ]
  },
  {
   "cell_type": "code",
   "execution_count": null,
   "metadata": {
    "ExecuteTime": {
     "start_time": "2020-06-03T23:49:27.509Z"
    },
    "scrolled": true
   },
   "outputs": [],
   "source": [
    "#df_15_03.groupBy('payment_type').agg(fn.count(col(\"VendorID\"))).show(20)\n",
    "df_18_03.show(5)\n",
    "#df_18_03.select('PULocationID').show(5)"
   ]
  },
  {
   "cell_type": "code",
   "execution_count": null,
   "metadata": {
    "ExecuteTime": {
     "end_time": "2020-06-04T10:40:44.626401Z",
     "start_time": "2020-06-04T10:40:44.614177Z"
    },
    "scrolled": true
   },
   "outputs": [],
   "source": [
    "\n",
    "schema_15 = StructType([\n",
    "    StructField(\"VendorID\", IntegerType(), True),\n",
    "    StructField(\"tpep_pickup_datetime\", TimestampType(), True),\n",
    "    StructField(\"tpep_dropoff_datetime\", TimestampType(), True),\n",
    "    StructField(\"passenger_count\", IntegerType(), True),\n",
    "    StructField(\"trip_distance\", DoubleType(), True),\n",
    "    StructField(\"pickup_longitude\", DoubleType(), True),\n",
    "    StructField(\"pickup_latitude\", DoubleType(), True),\n",
    "    StructField(\"RateCodeID\", IntegerType(), True),\n",
    "    StructField(\"store_and_fwd_flag\", StringType(), True),\n",
    "    StructField(\"dropoff_longitude\", DoubleType(), True),\n",
    "    StructField(\"dropoff_latitude\", DoubleType(), True),\n",
    "    StructField(\"payment_type\", IntegerType(), True),\n",
    "    StructField(\"fare_amount\", DoubleType(), True),\n",
    "    StructField(\"extra\", DoubleType(), True),\n",
    "    StructField(\"mta_tax\", DoubleType(), True),\n",
    "    StructField(\"tip_amount\", DoubleType(), True),\n",
    "    StructField(\"tolls_amount\", DoubleType(), True),\n",
    "    StructField(\"improvement_surcharge\", DoubleType(), True),\n",
    "    StructField(\"total_amount\", DoubleType(), True)\n",
    "])\n",
    "\n",
    "schema_18 = StructType([\n",
    "    StructField(\"VendorID\", IntegerType(), True),\n",
    "    StructField(\"tpep_pickup_datetime\", TimestampType(), True),\n",
    "    StructField(\"tpep_dropoff_datetime\", TimestampType(), True),\n",
    "    StructField(\"passenger_count\", IntegerType(), True),\n",
    "    StructField(\"trip_distance\", DoubleType(), True),\n",
    "    StructField(\"RateCodeID\", IntegerType(), True),\n",
    "    StructField(\"store_and_fwd_flag\", StringType(), True),\n",
    "    StructField(\"PULocationID\", IntegerType(), True),\n",
    "    StructField(\"DOLocationID\", IntegerType(), True),\n",
    "    StructField(\"payment_type\", IntegerType(), True),\n",
    "    StructField(\"fare_amount\", DoubleType(), True),\n",
    "    StructField(\"extra\", DoubleType(), True),\n",
    "    StructField(\"mta_tax\", DoubleType(), True),\n",
    "    StructField(\"tip_amount\", DoubleType(), True),\n",
    "    StructField(\"tolls_amount\", DoubleType(), True),\n",
    "    StructField(\"improvement_surcharge\", DoubleType(), True),\n",
    "    StructField(\"total_amount\", DoubleType(), True)\n",
    "])\n"
   ]
  },
  {
   "cell_type": "code",
   "execution_count": null,
   "metadata": {
    "ExecuteTime": {
     "end_time": "2020-06-04T18:33:19.806184Z",
     "start_time": "2020-06-04T18:33:15.871708Z"
    }
   },
   "outputs": [],
   "source": [
    "df_15_03 = spark.read\\\n",
    "             .format('csv')\\\n",
    "             .option(\"header\", \"true\")\\\n",
    "             .option(\"mode\", \"FAILFAST\")\\\n",
    "             .option(\"sep\", \",\")\\\n",
    "             .schema(schema_15)\\\n",
    "             .load(\"nyc_taxi/yellow_tripdata_2015-03.csv\")\n",
    "\n",
    "df_15_03.printSchema()\n",
    "\n",
    "\n",
    "\n",
    "df_18_03 = spark.read\\\n",
    "             .format('csv')\\\n",
    "             .option(\"header\", \"true\")\\\n",
    "             .option(\"mode\", \"FAILFAST\")\\\n",
    "             .option(\"sep\", \",\")\\\n",
    "             .schema(schema_18)\\\n",
    "             .load(\"nyc_taxi/yellow_tripdata_2018-03.csv\")\n",
    "\n",
    "df_18_03.printSchema()"
   ]
  },
  {
   "cell_type": "code",
   "execution_count": null,
   "metadata": {
    "ExecuteTime": {
     "start_time": "2020-06-04T14:25:17.589Z"
    }
   },
   "outputs": [],
   "source": [
    "#number of partitions of the dataframe:\n",
    "\n",
    "print(df_15_03.rdd.getNumPartitions())\n",
    "\n",
    "print(df_18_03.rdd.getNumPartitions())\n",
    "\n",
    "#k = sc.parallelize(df_15_03)"
   ]
  },
  {
   "cell_type": "code",
   "execution_count": null,
   "metadata": {
    "ExecuteTime": {
     "end_time": "2020-06-04T18:38:42.847918Z",
     "start_time": "2020-06-04T18:33:19.814840Z"
    }
   },
   "outputs": [],
   "source": [
    "\n",
    "df_15_03.write.format(\"parquet\").mode(\"overwrite\").save('data/yellow_tripdata_2015-03.parquet')\n",
    "df_18_03.write.format(\"parquet\").mode(\"overwrite\").save('data/yellow_tripdata_2018-03.parquet')\n"
   ]
  },
  {
   "cell_type": "markdown",
   "metadata": {
    "nteract": {
     "transient": {
      "deleting": false
     }
    }
   },
   "source": [
    "# Investigate (at least) one month of data in 2015\n",
    "\n",
    "From now on, you will be using **the parquet files you created for 2015**.\n",
    "\n",
    "We shall visualize several features of taxi traffic during one calendar month\n",
    "in 2015 and the same calendar month in 2018.\n",
    "\n",
    "**Hint.** In order to build appealing graphics, you may stick to `matplotlib + seaborn`, you can use also\n",
    "`plotly`, which is used a lot to build interactive graphics, but you can use whatever you want."
   ]
  },
  {
   "cell_type": "markdown",
   "metadata": {},
   "source": [
    "The following longitudes and lattitudes encompass Newark and JFK airports, Northern Manhattan and Verazzano bridge."
   ]
  },
  {
   "cell_type": "code",
   "execution_count": null,
   "metadata": {
    "ExecuteTime": {
     "end_time": "2020-06-05T03:15:03.280642Z",
     "start_time": "2020-06-05T03:14:58.035591Z"
    }
   },
   "outputs": [],
   "source": [
    "\n",
    "df_mar15 = spark.read.parquet('data/yellow_tripdata_2015-03.parquet')\n",
    "\n",
    "df_mar15 = df_mar15.filter(col(\"tpep_pickup_datetime\") >= \"2015-01-01 00:00\")\\\n",
    "                .filter(col(\"tpep_pickup_datetime\") < \"2016-01-01 00:00\")\n",
    "#df_mar15.count()"
   ]
  },
  {
   "cell_type": "code",
   "execution_count": null,
   "metadata": {
    "ExecuteTime": {
     "end_time": "2020-06-05T03:15:05.682444Z",
     "start_time": "2020-06-05T03:15:03.282083Z"
    }
   },
   "outputs": [],
   "source": [
    "df_mar18 = spark.read.parquet('data/yellow_tripdata_2018-03.parquet')\n",
    "\n",
    "df_mar18 = df_mar18.filter(col(\"tpep_pickup_datetime\") >= \"2018-01-01 00:00\")\\\n",
    "                .filter(col(\"tpep_pickup_datetime\") < \"2019-01-01 00:00\")\n",
    "\n",
    "df_mar18.select('PULocationID','DOLocationID').show(10)"
   ]
  },
  {
   "cell_type": "code",
   "execution_count": null,
   "metadata": {
    "ExecuteTime": {
     "end_time": "2020-06-05T03:18:36.418001Z",
     "start_time": "2020-06-05T03:18:36.338166Z"
    },
    "jupyter": {
     "outputs_hidden": false,
     "source_hidden": false
    },
    "nteract": {
     "transient": {
      "deleting": false
     }
    },
    "scrolled": true
   },
   "outputs": [],
   "source": [
    "long_min = -74.10\n",
    "long_max = -73.70\n",
    "lat_min = 40.58\n",
    "lat_max = 40.90\n",
    "\n",
    "\n",
    "\n",
    "df_mar15 = df_mar15.where(col('pickup_longitude').between(long_min, long_max))\\\n",
    "                    .where(col('pickup_latitude').between(lat_min, lat_max))\\\n",
    "                    .where(col('dropoff_longitude').between(long_min, long_max))\\\n",
    "                    .where(col('dropoff_latitude').between(lat_min, lat_max))\n"
   ]
  },
  {
   "cell_type": "markdown",
   "metadata": {},
   "source": [
    "1. Using these boundaries, **filter the 2015 data** (using pickup and dropoff longitude and latitude) and count the number of trips for each value of `passenger_count` and make a plot of that."
   ]
  },
  {
   "cell_type": "code",
   "execution_count": null,
   "metadata": {
    "ExecuteTime": {
     "end_time": "2020-06-05T03:19:01.064436Z",
     "start_time": "2020-06-05T03:18:40.168980Z"
    },
    "scrolled": true
   },
   "outputs": [],
   "source": [
    "mar15_psgr = df_mar15.groupBy(col('passenger_count')).count()\n",
    "\n",
    "        \n",
    "mar15_psgr.show()\n",
    "\n",
    "sns.set()\n",
    "\n",
    "g = sns.lineplot(x = \"passenger_count\",\n",
    "                 y = \"count\",\n",
    "                 data = mar15_psgr.toPandas()).set_title(\"Number of trips for each value of passenger_count\")\n",
    "\n",
    "plt.show()"
   ]
  },
  {
   "cell_type": "markdown",
   "metadata": {
    "nteract": {
     "transient": {
      "deleting": false
     }
    }
   },
   "source": [
    "Trips with $0$ or larger than $7$ passengers are pretty rare.\n",
    "We suspect these to be outliers. \n",
    "We need to explore these trips further in order to understand what might be wrong\n",
    "with them\n",
    "\n",
    "1. What's special with trips with zero passengers?\n",
    "\n",
    "It's the time it takes for the driver to find/begin a new ride.\n",
    "\n",
    "1. What's special with trips with more than $6$ passengers?\n",
    "\n",
    "\n",
    "\n",
    "1. What is the largest distance travelled during this month? Is it the first taxi on the moon?\n",
    "\n",
    "1.5420061E7\n",
    "\n",
    "1. Plot the distribution of the `trip_distance` (using an histogram for instance) during year 2015. Focus on trips with non-zero trip distance and trip distance less than 30 miles."
   ]
  },
  {
   "cell_type": "code",
   "execution_count": null,
   "metadata": {
    "scrolled": true
   },
   "outputs": [],
   "source": []
  },
  {
   "cell_type": "markdown",
   "metadata": {},
   "source": [
    "Let's look at what Spark does for these computations\n",
    "\n",
    "1. Use the `explain` method or have a look at the [Spark UI](http://localhost:4040/SQL/) to analyze the job. You should be able to assess \n",
    "    - Parsed Logical Plan\n",
    "    - Analyzed Logical Plan\n",
    "    - Optimized Logical Plan\n",
    "    - Physical Plan\n",
    "1. Do the Analyzed Logical Plan and Optimized Logical Plan differ? Spot the differences if any. How would a RDBMS proceed with such a query?\n",
    "\n",
    "The Analyzed Logical Plan and Optimized Logical Plan differ with teh type of the elments. Indeed, in the Analyzed Logical Plan, there is all the columns of the dataframe with their types before the rest of the the logical plan. In the optimized logical plan, Spark does optimization itself.\n",
    "\n",
    "1. How does the physical plan differ from the Optimized Logical Plan? What are the keywords you would not expect in a RDBMS? What is their meaning? \n",
    "\n",
    "A logical plan is a tree that represents both schema and data. These trees are manipulated and optimized by catalyst framework. The optimized logical plan is converted to a physical plan for further execution. These plans lie inside the DataFrame API. Spark will check up multiple physical plans and decide the best optimal physical plan. And finally the Best Physical Plan runs in our cluster. Physical Plan is responsible for deciding the type of join, sequence of the execution of filter, where, groupBy clause, etc.\n",
    "\n",
    "1. Inspect the stages on [Spark UI](http://localhost:4040/stages/stage). How many *stages* are necessary to complete the Spark job? What are the roles of `HashAggregate` and `Exchange hashpartitioning`?\n",
    "\n",
    "29\n",
    "\n",
    "HashAggregateExec is a unary physical operator for hash-based aggregation that is created indirectly when Aggregation execution planning strategy selects the aggregate physical operator for an Aggregate logical operator.\n",
    "\n",
    "1. Does the physical plan perform `shuffle` operations? If yes how many?\n",
    "5 shuffle write and 7 shuffle read\n",
    "1. What are tasks with respect to stages (in Spark language)? How many tasks are your stages made of?"
   ]
  },
  {
   "cell_type": "code",
   "execution_count": null,
   "metadata": {
    "ExecuteTime": {
     "start_time": "2020-06-04T14:25:17.619Z"
    }
   },
   "outputs": [],
   "source": [
    "df_mar15.explain(extended = True)\n",
    "#df_mar18.explain(extended = True)\n",
    "\n",
    "#mar15_filtred.explain(extended = True)"
   ]
  },
  {
   "cell_type": "markdown",
   "metadata": {
    "nteract": {
     "transient": {
      "deleting": false
     }
    }
   },
   "source": [
    "Now, compute the following and produce relevant plots:\n",
    "\n",
    "1. Break down the trip distance distribution for each day of week\n",
    "1. Count the number of distinct pickup location\n",
    "1. Compute and display tips and profits as a function of the pickup location"
   ]
  },
  {
   "cell_type": "code",
   "execution_count": null,
   "metadata": {
    "ExecuteTime": {
     "end_time": "2020-06-05T03:20:03.228448Z",
     "start_time": "2020-06-05T03:19:46.709202Z"
    }
   },
   "outputs": [],
   "source": [
    "#Trip distance distribution for each day of week :\n",
    "\n",
    "from pyspark.sql.functions import dayofweek\n",
    "\n",
    "\n",
    "mar15_days = df_mar15.limit(1000000).select('trip_distance',\n",
    "                            date_format(col(\"tpep_pickup_datetime\"), \"EEEE\").alias(\"week_day\"))\\\n",
    "                     .where(col('trip_distance').between(0, 30))\n",
    "\n",
    "#mar15_days = mar15_days.orderBy(mar15_days.week_day.desc())\n",
    "#mar15_days.show(20)\n",
    "\n",
    "sns.set()\n",
    "\n",
    "g = sns.FacetGrid(mar15_days.toPandas(), row=\"week_day\", height=1.7, aspect=4)\n",
    "g = g.map(sns.distplot, \"trip_distance\")\n",
    "\n",
    "g.fig.suptitle(\"Distribution of the trip_distance during year 2015, by day of week\", y=1.05)\n",
    "\n",
    "plt.show()"
   ]
  },
  {
   "cell_type": "code",
   "execution_count": null,
   "metadata": {
    "ExecuteTime": {
     "end_time": "2020-06-05T03:20:35.182416Z",
     "start_time": "2020-06-05T03:20:13.511940Z"
    }
   },
   "outputs": [],
   "source": [
    "#The number of distinct pickup location :\n",
    "\n",
    "def concat_str(a,b):\n",
    "    return str(a) + str(b)\n",
    "spark.udf.register(\"concat_str\", concat_str)\n",
    "first_udf = udf(concat_str)\n",
    "\n",
    "df = df_mar15.select(\"pickup_longitude\",\"pickup_latitude\", first_udf(\"pickup_longitude\",\"pickup_latitude\").alias(\"tuple\"))\n",
    "\n",
    "gr = df.agg(countDistinct('tuple'))\n",
    "gr.show()\n",
    "\n",
    "#9934537"
   ]
  },
  {
   "cell_type": "code",
   "execution_count": null,
   "metadata": {
    "ExecuteTime": {
     "end_time": "2020-06-05T03:25:09.211687Z",
     "start_time": "2020-06-05T03:24:55.432369Z"
    }
   },
   "outputs": [],
   "source": [
    "#Tips as a function of the pickup location :\n",
    "\n",
    "import pyspark.sql.functions as func\n",
    "\n",
    "\n",
    "\n",
    "df_location = df_mar15.where(col('tip_amount').between(0,100))\\\n",
    "                    .withColumn('pickup_longitude',fn.round(df_mar15['pickup_longitude'],3))\\\n",
    "                    .withColumn('pickup_latitude',fn.round(df_mar15['pickup_latitude'],3))\\\n",
    "                    .groupBy(col('pickup_longitude'),col('pickup_latitude'))\\\n",
    "                    .agg(fn.mean(col('tip_amount')).alias('tip_amount'))\n",
    "\n",
    "#df_location.show(4)\n",
    "\n",
    "\n",
    "fig, ax = plt.subplots(figsize=(11.7, 8.27))\n",
    "\n",
    "sns.set()\n",
    "\n",
    "\n",
    "k = sns.scatterplot(x='pickup_longitude',\n",
    "                    y='pickup_latitude',\n",
    "                    hue='tip_amount',\n",
    "                    size='tip_amount',\n",
    "                    data=df_location.toPandas(),\n",
    "                   ax=ax).set_title(\"Tips as a function of the pickup location during year 2015\")\n",
    "\n",
    "plt.show()\n"
   ]
  },
  {
   "cell_type": "code",
   "execution_count": null,
   "metadata": {
    "ExecuteTime": {
     "end_time": "2020-06-05T03:25:35.687597Z",
     "start_time": "2020-06-05T03:25:09.213708Z"
    }
   },
   "outputs": [],
   "source": [
    "#Profits as a function of the pickup location:\n",
    "\n",
    "\n",
    "\n",
    "df_tupless = df_mar15.withColumn(\"profits\", col(\"total_amount\")-(col(\"mta_tax\")+col(\"tolls_amount\")))\\\n",
    "                    .where(col('profits').between(-20,100))\\\n",
    "                    .withColumn('pickup_longitude',fn.round(df_mar15['pickup_longitude'],3))\\\n",
    "                    .withColumn('pickup_latitude',fn.round(df_mar15['pickup_latitude'],3))\\\n",
    "                    .groupBy(col('pickup_longitude'),col('pickup_latitude'))\\\n",
    "                    .agg(fn.mean(col('profits')).alias('profits'))\n",
    "\n",
    "df_tupless.show(4)\n",
    "\n",
    "\n",
    "fig, ax = plt.subplots(figsize=(11.7, 8.27))\n",
    "\n",
    "sns.set()\n",
    "\n",
    "\n",
    "k = sns.scatterplot(x='pickup_longitude',\n",
    "                    y='pickup_latitude',\n",
    "                    hue='profits',\n",
    "                    size='profits',\n",
    "                    data=df_tupless.toPandas(),\n",
    "                   ax=ax).set_title(\"Profits as a function of the pickup location during year 2015\")\n",
    "\n",
    "plt.show()\n"
   ]
  },
  {
   "cell_type": "markdown",
   "metadata": {},
   "source": [
    "# Investigate one month of trips data in 2015 and 2018\n",
    "\n",
    " Consider one month of trips data from `yellow` taxis for each year\n",
    "\n",
    "1. Filter and cache/persist the result"
   ]
  },
  {
   "cell_type": "code",
   "execution_count": null,
   "metadata": {
    "ExecuteTime": {
     "end_time": "2020-06-05T03:26:02.582103Z",
     "start_time": "2020-06-05T03:26:02.220139Z"
    }
   },
   "outputs": [],
   "source": [
    "df_mar15.cache()\n",
    "df_mar18.cache()"
   ]
  },
  {
   "cell_type": "markdown",
   "metadata": {
    "nteract": {
     "transient": {
      "deleting": false
     }
    }
   },
   "source": [
    "## Assessing seasonalities and looking at time series\n",
    "\n",
    "Compute and plot the following time series indexed by day of the week and hour of day:\n",
    "\n",
    "1. The number of pickups\n",
    "1. The average fare\n",
    "1. The average trip duration\n",
    "1. Plot the average number of ongoing trips\n",
    "\n"
   ]
  },
  {
   "cell_type": "code",
   "execution_count": null,
   "metadata": {
    "ExecuteTime": {
     "end_time": "2020-06-05T03:26:05.894384Z",
     "start_time": "2020-06-05T03:26:05.891580Z"
    }
   },
   "outputs": [],
   "source": [
    "import plotly.graph_objects as go\n",
    "import plotly.express as px\n",
    "from pyspark.sql.functions import date_format\n",
    "from shapely.geometry import Polygon\n"
   ]
  },
  {
   "cell_type": "code",
   "execution_count": null,
   "metadata": {
    "ExecuteTime": {
     "end_time": "2020-06-05T03:27:29.477564Z",
     "start_time": "2020-06-05T03:26:07.804955Z"
    }
   },
   "outputs": [],
   "source": [
    "def group_weekday(df): \n",
    "    return df.select('fare_amount',\n",
    "                          (fn.unix_timestamp('tpep_dropoff_datetime')- fn.unix_timestamp('tpep_pickup_datetime')).alias('duration'), \n",
    "                          date_format('tpep_pickup_datetime', 'E').alias('week_day'), \n",
    "                          date_format('tpep_pickup_datetime', 'HH').cast(IntegerType()).alias('hour'),\n",
    "                          date_format('tpep_pickup_datetime', 'YYYY').alias('year'))\n",
    "                            \n",
    "\n",
    "df_grp = group_weekday(df_mar18).union(group_weekday(df_mar15))\n",
    "\n",
    "df_grp = df_grp.groupBy(col('hour'), col('week_day'), col('year')).agg(fn.round(fn.mean('duration'),1).alias('average_duration'),\n",
    "                                                                   fn.round(fn.mean('fare_amount'),2).alias('average_fare'),\n",
    "                                                                   fn.count('fare_amount').alias('nb_trips'))\n",
    "df_grp.orderBy('year').show(10)\n"
   ]
  },
  {
   "cell_type": "code",
   "execution_count": null,
   "metadata": {
    "ExecuteTime": {
     "end_time": "2020-06-05T03:27:54.617495Z",
     "start_time": "2020-06-05T03:27:29.479801Z"
    }
   },
   "outputs": [],
   "source": [
    "pd_grp = df_grp.orderBy('hour').toPandas()\n",
    "\n",
    "#pd_grp = pd_grp.drop(columns=['year']).pivot(index='hour', columns='week_day', values=['average_duration', 'nb_trips', 'average_fare'])"
   ]
  },
  {
   "cell_type": "code",
   "execution_count": null,
   "metadata": {
    "ExecuteTime": {
     "end_time": "2020-06-05T03:27:54.634811Z",
     "start_time": "2020-06-05T03:27:54.619444Z"
    }
   },
   "outputs": [],
   "source": [
    "def plot_by_hour(data, column, ytitle):\n",
    "    fig = px.line(data, x=\"hour\", y=column, color=\"week_day\",\n",
    "                  facet_col=\"year\", hover_name=\"year\")\n",
    "\n",
    "    fig.for_each_annotation(lambda a: a.update(text=a.text.split(\"=\")[-1]))\n",
    "    fig.update_layout(\n",
    "        autosize=False,\n",
    "        width=900,\n",
    "        height=600\n",
    "    )\n",
    "\n",
    "    fig.update_yaxes(title_text=ytitle)\n",
    "    fig.update_xaxes(showticklabels=True)\n",
    "    fig.show()"
   ]
  },
  {
   "cell_type": "code",
   "execution_count": null,
   "metadata": {
    "ExecuteTime": {
     "end_time": "2020-06-05T03:28:02.826214Z",
     "start_time": "2020-06-05T03:27:54.636793Z"
    }
   },
   "outputs": [],
   "source": [
    "plot_by_hour(pd_grp, \"average_duration\", 'Average duration')"
   ]
  },
  {
   "cell_type": "code",
   "execution_count": null,
   "metadata": {
    "ExecuteTime": {
     "end_time": "2020-06-05T03:28:02.944590Z",
     "start_time": "2020-06-05T03:28:02.828412Z"
    }
   },
   "outputs": [],
   "source": [
    "plot_by_hour(pd_grp, \"average_fare\", 'Average fare')"
   ]
  },
  {
   "cell_type": "code",
   "execution_count": null,
   "metadata": {
    "ExecuteTime": {
     "end_time": "2020-06-05T03:28:03.746322Z",
     "start_time": "2020-06-05T03:28:02.946272Z"
    }
   },
   "outputs": [],
   "source": [
    "plot_by_hour(pd_grp, \"nb_trips\", 'Total trips')"
   ]
  },
  {
   "cell_type": "markdown",
   "metadata": {},
   "source": [
    "## Rides to the airports\n",
    "\n",
    "In order to find the longitude and lattitude of JFK and Newark airport as well as the longitude and magnitudes \n",
    "of Manhattan, you can use a service like [geojson.io](http://geojson.io/).\n",
    "Plot the following time series, indexed the day of the week and hour of the day\n",
    "\n",
    "1. Median duration of taxi trip leaving Midtown (Southern Manhattan) headed for JFK Airport\n",
    "1. Median taxi duration of trip leaving from JFK Airport to Midtown (Southern Manhattan)\n",
    "\n"
   ]
  },
  {
   "cell_type": "code",
   "execution_count": null,
   "metadata": {
    "ExecuteTime": {
     "end_time": "2020-06-05T03:28:39.772172Z",
     "start_time": "2020-06-05T03:28:38.250055Z"
    }
   },
   "outputs": [],
   "source": [
    "airport_list = gpd.read_file('airports.geojson')\n"
   ]
  },
  {
   "cell_type": "code",
   "execution_count": null,
   "metadata": {
    "ExecuteTime": {
     "end_time": "2020-06-05T03:28:39.791735Z",
     "start_time": "2020-06-05T03:28:39.779670Z"
    }
   },
   "outputs": [],
   "source": [
    "manhattan = airport_list.iloc[1].geometry\n",
    "\n",
    "jfk = airport_list.iloc[0].geometry\n",
    "\n",
    "newark = airport_list.iloc[2].geometry\n",
    "\n",
    "laguardia = airport_list.iloc[3].geometry\n",
    "     "
   ]
  },
  {
   "cell_type": "code",
   "execution_count": null,
   "metadata": {
    "ExecuteTime": {
     "end_time": "2020-06-05T03:28:42.291372Z",
     "start_time": "2020-06-05T03:28:42.228380Z"
    },
    "scrolled": true
   },
   "outputs": [],
   "source": [
    "\n",
    "\n",
    "#box restrinting to manhattan and jfk\n",
    "\n",
    "long_min = -74.02\n",
    "long_max = -73.75\n",
    "lat_min = 40.625\n",
    "lat_max = 40.776\n",
    "\n",
    "mar15_filtred_2 = df_mar15.where(col('pickup_longitude').between(long_min, long_max))\\\n",
    "                    .where(col('pickup_latitude').between(lat_min, lat_max))\\\n",
    "                    .where(col('dropoff_longitude').between(long_min, long_max))\\\n",
    "                    .where(col('dropoff_latitude').between(lat_min, lat_max))\n"
   ]
  },
  {
   "cell_type": "code",
   "execution_count": null,
   "metadata": {
    "ExecuteTime": {
     "end_time": "2020-06-05T03:28:55.730339Z",
     "start_time": "2020-06-05T03:28:47.884713Z"
    }
   },
   "outputs": [],
   "source": [
    "mar15_filtred_2 = mar15_filtred_2.limit(1000000).select(date_format('tpep_pickup_datetime', 'E').alias('week_day'), \n",
    "                               date_format('tpep_pickup_datetime', 'HH').cast(IntegerType()).alias('hour'),\n",
    "                               (fn.unix_timestamp('tpep_dropoff_datetime')- fn.unix_timestamp('tpep_pickup_datetime')).alias('duration'),\n",
    "                               'pickup_longitude',\n",
    "                               'pickup_latitude',\n",
    "                               'dropoff_longitude',\n",
    "                               'dropoff_latitude').na.drop()\n",
    "\n",
    "\n",
    "mar15_filtred_2.count()"
   ]
  },
  {
   "cell_type": "code",
   "execution_count": null,
   "metadata": {
    "ExecuteTime": {
     "end_time": "2020-06-05T03:28:55.738063Z",
     "start_time": "2020-06-05T03:28:55.732450Z"
    }
   },
   "outputs": [],
   "source": [
    "def midtown_to_jfk(x):\n",
    "    return Point(x[0],x[1]).within(manhattan) and Point(x[2],x[3]).within(jfk)\n",
    "\n",
    "mt_to_jfk = udf(midtown_to_jfk, BooleanType())\n",
    "\n",
    "\n",
    "def jfk_to_midtown(x):\n",
    "    return Point(x[0],x[1]).within(jfk) and Point(x[2],x[3]).within(manhattan)\n",
    "\n",
    "jfk_to_mt = udf(jfk_to_midtown, BooleanType())\n",
    "\n",
    "def median(values_list):\n",
    "    med = np.median(values_list)\n",
    "    return float(med)\n",
    "\n",
    "udf_median = udf(median, FloatType())"
   ]
  },
  {
   "cell_type": "code",
   "execution_count": null,
   "metadata": {
    "ExecuteTime": {
     "end_time": "2020-06-05T03:30:50.442899Z",
     "start_time": "2020-06-05T03:28:55.740229Z"
    }
   },
   "outputs": [],
   "source": [
    "def group_airport_trips(df, udf_filter, c_name):\n",
    "    return df.filter(udf_filter(struct('pickup_longitude', 'pickup_latitude', 'dropoff_longitude','dropoff_latitude')))\\\n",
    "             .select('week_day','hour','duration')\\\n",
    "             .groupBy('week_day','hour').agg(udf_median(fn.collect_list(col('duration'))).alias('time_'+c_name))\n",
    "    \n",
    "\n",
    "df_m_to_jfk = group_airport_trips(mar15_filtred_2, mt_to_jfk, 'to_jfk')\n",
    "\n",
    "df_jfk_to_m = group_airport_trips(mar15_filtred_2, jfk_to_mt, 'from_jfk')\n",
    "\n",
    "df_jfk_trips = df_m_to_jfk.join(df_jfk_to_m, ['week_day','hour'], how='full')\n",
    "\n",
    "\n",
    "pd_jfk_trips = df_jfk_trips.orderBy('hour').toPandas()"
   ]
  },
  {
   "cell_type": "code",
   "execution_count": null,
   "metadata": {
    "ExecuteTime": {
     "end_time": "2020-06-05T03:30:51.655098Z",
     "start_time": "2020-06-05T03:30:51.543882Z"
    }
   },
   "outputs": [],
   "source": [
    "#pd_jfk_ = pd_jfk_trips.melt(id_vars=['week_day','hour']).pivot_table(values='duration', index=['hour', 'direction'], columns=['week_day'])\n",
    "#pd_jfk_['Fri'].unstack('hour')\n",
    "\n",
    "\n",
    "pd_jfk = pd_jfk_trips.melt(id_vars=['week_day','hour'],var_name='direction', value_name='duration')\n",
    "\n",
    "\n",
    "\n",
    "fig = px.line(pd_jfk, x='hour', y='duration', color='direction', facet_row='week_day',\n",
    "                 category_orders={\"week_day\": [\"Mon\", \"Tue\",\"Wed\", \"Thu\", \"Fri\", \"Sat\", \"Sun\"]})\n",
    "fig.for_each_annotation(lambda a: a.update(text=a.text.split(\"=\")[-1]))\n",
    "fig.update_layout(\n",
    "    autosize=False,\n",
    "    width=1000,\n",
    "    height=1500\n",
    ")\n",
    "\n",
    "fig.update_yaxes(title_text='Median duration')\n",
    "fig.update_xaxes(showticklabels=True)\n",
    "fig.show()"
   ]
  },
  {
   "cell_type": "markdown",
   "metadata": {},
   "source": [
    "## Geographic information\n",
    "\n",
    "For this, you will need to find tools to display maps and to build choropeth maps.\n",
    "We let you look and find relevant tools to do this.\n",
    "\n",
    "1. Build a heatmap where color is a function of\n",
    "    1. number of `pickups`\n",
    "    2. number of `dropoffs`\n",
    "    3. number of `pickups` with dropoff at some airport (JFK, LaGuardia, Newark)\n"
   ]
  },
  {
   "cell_type": "code",
   "execution_count": null,
   "metadata": {
    "ExecuteTime": {
     "end_time": "2020-06-05T03:31:39.803953Z",
     "start_time": "2020-06-05T03:31:30.752982Z"
    }
   },
   "outputs": [],
   "source": [
    "def group_by_location(df,type_ = 'pickup'):\n",
    "    \n",
    "    return df.select('total_amount',\n",
    "                     fn.round(col(type_ + '_longitude'), 3).alias('longitude'),\n",
    "                     fn.round(col(type_ + '_latitude'), 3).alias('latitude'))\\\n",
    "                        .groupby('longitude','latitude').agg(fn.count('total_amount').alias('nb_trips'))\n",
    "\n",
    "df_pu = group_by_location(df_mar15).toPandas()\n",
    "df_do = group_by_location(df_mar15, 'dropoff').toPandas()"
   ]
  },
  {
   "cell_type": "code",
   "execution_count": null,
   "metadata": {
    "ExecuteTime": {
     "end_time": "2020-06-05T03:31:48.738561Z",
     "start_time": "2020-06-05T03:31:48.118595Z"
    },
    "scrolled": false
   },
   "outputs": [],
   "source": [
    "def heat_map(df, title):\n",
    "    a=10\n",
    "    plt.figure(figsize=(a*1.25,a))\n",
    "    ax = sns.heatmap(df.pivot('latitude','longitude',  'nb_trips'),\n",
    "                     cmap=\"YlGnBu\", \n",
    "                     xticklabels = False,\n",
    "                     yticklabels = False,\n",
    "                     cbar_kws={'ticks':[100,1000, 10000]},\n",
    "                     norm=LogNorm(vmin=df['nb_trips'].min(), vmax=df['nb_trips'].max()))\n",
    "    ax.invert_yaxis()\n",
    "    ax.set_ylabel('')    \n",
    "    ax.set_xlabel('')\n",
    "    ax.set_title(title+ ' heatmap')\n",
    "    \n",
    "    plt.show()\n",
    "    \n",
    "heat_map(df_pu,'Taxi pickup')\n"
   ]
  },
  {
   "cell_type": "code",
   "execution_count": null,
   "metadata": {
    "ExecuteTime": {
     "end_time": "2020-06-05T03:31:54.181680Z",
     "start_time": "2020-06-05T03:31:53.059678Z"
    }
   },
   "outputs": [],
   "source": [
    "heat_map(df_do,'Taxi dropoff')"
   ]
  },
  {
   "cell_type": "code",
   "execution_count": null,
   "metadata": {
    "ExecuteTime": {
     "end_time": "2020-06-05T03:33:50.425317Z",
     "start_time": "2020-06-05T03:31:59.911182Z"
    }
   },
   "outputs": [],
   "source": [
    "def in_airport_(x):\n",
    "    do = Point(x[0],x[1])\n",
    "    return do.within(jfk) or do.within(newark) or do.within(laguardia)\n",
    "\n",
    "\n",
    "\n",
    "in_airport = udf(in_airport_, BooleanType())\n",
    "\n",
    "du_airp = group_by_location(df_mar15.filter(in_airport(struct('dropoff_longitude', 'dropoff_latitude')))).toPandas()\n",
    "\n"
   ]
  },
  {
   "cell_type": "code",
   "execution_count": null,
   "metadata": {
    "ExecuteTime": {
     "end_time": "2020-06-05T03:33:51.247840Z",
     "start_time": "2020-06-05T03:33:50.430435Z"
    }
   },
   "outputs": [],
   "source": [
    "heat_map(du_airp,'Taxi dropoff at Airports (JKF, LGA, EWR)')"
   ]
  },
  {
   "cell_type": "markdown",
   "metadata": {},
   "source": [
    "2. Build a choropeth map where color is a function of\n",
    "    1. number of pickups in the area\n",
    "    1. ratio of number of payments by card/number of cash payments for pickups in the area\n",
    "    2. ratio of total fare/trip duration for dropoff in the area\n"
   ]
  },
  {
   "cell_type": "code",
   "execution_count": null,
   "metadata": {
    "ExecuteTime": {
     "end_time": "2020-06-05T03:34:13.926108Z",
     "start_time": "2020-06-05T03:34:11.594204Z"
    }
   },
   "outputs": [],
   "source": [
    "bor = gpd.read_file('nycb.geojson')\n",
    "\n",
    "def get_bor_(x):\n",
    "    borough = bor[bor.contains(Point(x[0],x[1]))]['boro_name']\n",
    "    if len(borough):\n",
    "        return borough.iloc[0]\n",
    "    else:\n",
    "        return None\n",
    "\n",
    "\n",
    "get_bor = udf(get_bor_, StringType())\n",
    "\n",
    "mar_15_bor = df_mar15.limit(10000).select('payment_type',\n",
    "                                 'total_amount',\n",
    "                                 (fn.unix_timestamp('tpep_dropoff_datetime')- fn.unix_timestamp('tpep_pickup_datetime')).alias('duration'),\n",
    "                                 get_bor(struct('dropoff_longitude', 'dropoff_latitude')).alias('dropoff'),\n",
    "                                 get_bor(struct('pickup_longitude', 'pickup_latitude')).alias('pickup'))\\\n",
    "                            .na.drop()\n",
    "\n",
    "\n",
    "mar_15_bor.cache()"
   ]
  },
  {
   "cell_type": "code",
   "execution_count": null,
   "metadata": {
    "ExecuteTime": {
     "end_time": "2020-06-05T03:45:27.020658Z",
     "start_time": "2020-06-05T03:34:13.930683Z"
    }
   },
   "outputs": [],
   "source": [
    "\n",
    "df_pu_trips = mar_15_bor.groupBy('pickup')\\\n",
    "                      .agg(fn.count('total_amount').alias('trips'))\\\n",
    "                      .toPandas()"
   ]
  },
  {
   "cell_type": "code",
   "execution_count": null,
   "metadata": {
    "ExecuteTime": {
     "end_time": "2020-06-05T03:45:32.583693Z",
     "start_time": "2020-06-05T03:45:27.059958Z"
    }
   },
   "outputs": [],
   "source": [
    "def plot_choropleth(df, col):\n",
    "    df = df.rename(columns={'pickup':'boro_name'})\n",
    "\n",
    "    a=10\n",
    "    fig, ax = plt.subplots(1, 1,figsize=(a*1.25,a))\n",
    "\n",
    "    bor.merge(df, on='boro_name', how='left').fillna(0).plot(column=col, scheme=\"fisherjenks\", ax=ax, legend = True)\n",
    "    plt.show()\n",
    "\n",
    "plot_choropleth(df_pu_trips, 'trips')"
   ]
  },
  {
   "cell_type": "code",
   "execution_count": null,
   "metadata": {
    "ExecuteTime": {
     "end_time": "2020-06-05T03:45:35.811513Z",
     "start_time": "2020-06-05T03:45:32.585854Z"
    }
   },
   "outputs": [],
   "source": [
    "def ratio_cash_card_(values_list):\n",
    "    return float(values_list.count(1)/values_list.count(2))\n",
    "\n",
    "\n",
    "ratio_cash_card = udf(ratio_cash_card_, FloatType())\n",
    "\n",
    "df_pu_paym = mar_15_bor.groupBy('pickup')\\\n",
    "                      .agg(ratio_cash_card(fn.collect_list(col('payment_type'))).alias('card/cash'))\\\n",
    "                      .toPandas()\n"
   ]
  },
  {
   "cell_type": "code",
   "execution_count": null,
   "metadata": {
    "ExecuteTime": {
     "end_time": "2020-06-05T03:45:36.367075Z",
     "start_time": "2020-06-05T03:45:35.817733Z"
    }
   },
   "outputs": [],
   "source": [
    "plot_choropleth(df_pu_paym, 'card/cash')"
   ]
  },
  {
   "cell_type": "code",
   "execution_count": null,
   "metadata": {
    "ExecuteTime": {
     "end_time": "2020-06-05T03:45:37.006944Z",
     "start_time": "2020-06-05T03:45:36.368957Z"
    }
   },
   "outputs": [],
   "source": [
    "\n",
    "df_pu_price = mar_15_bor.groupBy('pickup')\\\n",
    "                      .agg(fn.mean(col('total_amount')/col('duration')*60).alias('USD_Sec'))\\\n",
    "                      .toPandas()"
   ]
  },
  {
   "cell_type": "code",
   "execution_count": null,
   "metadata": {
    "ExecuteTime": {
     "end_time": "2020-06-05T03:45:37.583640Z",
     "start_time": "2020-06-05T03:45:37.009101Z"
    }
   },
   "outputs": [],
   "source": [
    "plot_choropleth(df_pu_price, 'USD_Sec')"
   ]
  },
  {
   "cell_type": "markdown",
   "metadata": {},
   "source": [
    "3. Build an interactive chorophet with a slider allowing the user to select an `hour of day` and where the color is a function of\n",
    "    1. average number of dropoffs in the area during that hour the day\n",
    "    2. average ratio of tip over total fare amount for pickups in the area at given hour of the day"
   ]
  },
  {
   "cell_type": "code",
   "execution_count": null,
   "metadata": {
    "ExecuteTime": {
     "end_time": "2020-06-05T01:45:40.785595Z",
     "start_time": "2020-06-05T01:45:40.781546Z"
    }
   },
   "outputs": [],
   "source": [
    "\n",
    "\n"
   ]
  },
  {
   "cell_type": "code",
   "execution_count": null,
   "metadata": {},
   "outputs": [],
   "source": []
  },
  {
   "cell_type": "code",
   "execution_count": null,
   "metadata": {
    "ExecuteTime": {
     "end_time": "2020-06-05T04:04:00.458639Z",
     "start_time": "2020-06-05T04:03:57.653500Z"
    }
   },
   "outputs": [],
   "source": [
    "spark.stop()"
   ]
  }
 ],
 "metadata": {
  "kernelspec": {
   "display_name": "Python 3",
   "language": "python",
   "name": "python3"
  },
  "language_info": {
   "codemirror_mode": {
    "name": "ipython",
    "version": 3
   },
   "file_extension": ".py",
   "mimetype": "text/x-python",
   "name": "python",
   "nbconvert_exporter": "python",
   "pygments_lexer": "ipython3",
   "version": "3.7.5"
  },
  "toc": {
   "base_numbering": 1,
   "nav_menu": {},
   "number_sections": true,
   "sideBar": true,
   "skip_h1_title": false,
   "title_cell": "Table of Contents",
   "title_sidebar": "Contents",
   "toc_cell": false,
   "toc_position": {
    "height": "576.317px",
    "left": "22px",
    "top": "111.483px",
    "width": "165px"
   },
   "toc_section_display": true,
   "toc_window_display": true
  }
 },
 "nbformat": 4,
 "nbformat_minor": 1
}
