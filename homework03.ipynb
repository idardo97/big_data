{
 "cells": [
  {
   "cell_type": "markdown",
   "metadata": {
    "nteract": {
     "transient": {
      "deleting": false
     }
    }
   },
   "source": [
    "# New York taxis trips\n",
    "\n",
    "This homework is about New York taxi trips. Here is something from [Todd Schneider](https://toddwschneider.com/posts/analyzing-1-1-billion-nyc-taxi-and-uber-trips-with-a-vengeance/):\n",
    "\n",
    "> The New York City Taxi & Limousine Commission has released a  detailed historical dataset covering over 1 billion individual taxi trips in the city from January 2009 through December 2019. \n",
    "Taken as a whole, the detailed trip-level data is more than just a vast list of taxi pickup and drop off coordinates: it's a story of a City. \n",
    "How bad is the rush hour traffic from Midtown to JFK? \n",
    "Where does the Bridge and Tunnel crowd hang out on Saturday nights?\n",
    "What time do investment bankers get to work? How has Uber changed the landscape for taxis?\n",
    "The dataset addresses all of these questions and many more.\n",
    "\n",
    "The NY taxi trips dataset has been plowed by series of distinguished data scientists.\n",
    "The dataset is available from on Amazon S3 (Amazon's cloud storage service).\n",
    "The link for each file has the following form:\n",
    "\n",
    "    https://s3.amazonaws.com/nyc-tlc/trip+data/yellow_tripdata_{year}-{month}.csv\n",
    "\n",
    "There is one CSV file for each NY taxi service (`yellow`, `green`, `fhv`) and each calendar month (replacing `{year}` and `{month}` by the desired ones).\n",
    "Each file is moderately large, a few gigabytes. \n",
    "The full dataset is relatively large if it has to be handled on a laptop (several hundred gigabytes).\n",
    "\n",
    "You will focus on the `yellow` taxi service and a pair of months, from year 2015 and from year 2018. \n",
    "Between those two years, for hire vehicles services have taken off and carved a huge marketshare.\n",
    "\n",
    "Whatever the framework you use, `CSV` files prove hard to handle. \n",
    "After downloading the appropriate files (this takes time, but this is routine), a first step will consist in converting the csv files into a more Spark friendly format such as `parquet`.\n",
    "\n",
    "Saving into one of those formats require decisions about bucketing, partitioning and so on. Such decisions influence performance. It is your call.\n",
    "Many people have been working on this dataset, to cite but a few:\n",
    "\n",
    "\n",
    "- [1 billion trips with a vengeance](https://toddwschneider.com/posts/analyzing-1-1-billion-nyc-taxi-and-uber-trips-with-a-vengeance/)\n",
    "- [1 billion trips with R and SQL ](http://freerangestats.info/blog/2019/12/22/nyc-taxis-sql)\n",
    "- [1 billion trips with redshift](https://tech.marksblogg.com/billion-nyc-taxi-rides-redshift.html)\n",
    "- [nyc-taxi](https://github.com/fmaletski/nyc-taxi-map)"
   ]
  },
  {
   "cell_type": "markdown",
   "metadata": {},
   "source": [
    "Depending on your internet connection, **download the files** corresponding to **\"yellow\" taxis** for the years 2015 and 2018. Download **at least one month** (the same) for 2015 and 2018, if you can download all of them.\n",
    "\n",
    "**Hint.** The 12 csv for 2015 are about 23GB in total, but the corresponding parquet file, if you can create it for all 12 months, is only about 3GB."
   ]
  },
  {
   "cell_type": "markdown",
   "metadata": {},
   "source": [
    "You **might** need the following stuff in order to work with GPS coordinates and to plot things easily."
   ]
  },
  {
   "cell_type": "code",
   "execution_count": null,
   "metadata": {
    "ExecuteTime": {
     "end_time": "2020-06-03T23:50:21.026331Z",
     "start_time": "2020-06-03T23:50:19.268519Z"
    },
    "scrolled": true
   },
   "outputs": [],
   "source": [
    "!pip install geojson geopandas plotly geopy"
   ]
  },
  {
   "cell_type": "code",
   "execution_count": null,
   "metadata": {
    "ExecuteTime": {
     "end_time": "2020-06-03T23:49:34.632765Z",
     "start_time": "2020-06-03T23:49:32.806707Z"
    },
    "scrolled": false
   },
   "outputs": [],
   "source": [
    "!pip install ipyleaflet"
   ]
  },
  {
   "cell_type": "markdown",
   "metadata": {},
   "source": [
    "For this homework **we will let you decide on the tools to use** (expected for Spark) and to **find out information all by yourself** (but don't hesitate to ask questions on the `slack` channel)."
   ]
  },
  {
   "cell_type": "markdown",
   "metadata": {
    "nteract": {
     "transient": {
      "deleting": false
     }
    }
   },
   "source": [
    "# Loading data as parquet files\n",
    "\n",
    "We want to organize the data on a per year and per service basis. \n",
    "We want to end up with one `parquet` file for each year and each taxi service, since parquet is much better than CSV files.\n",
    "\n",
    "**Hint.** Depending on your internet connection and your laptop, you can use only the \"yellow\" service and use one month of 2015 and 2018\n",
    "\n",
    "CSV files can contain corrupted lines. You may have to work in order to perform ETL (Extract-Transform-Load) in order obtain a properly typed data frame.\n",
    "\n",
    "You are invited to proceed as follows:\n",
    "\n",
    "1. Try to read the CSV file without imposing a schema. \n",
    "1. Inspect the inferred schema. Do you agree with Spark's typing decision?\n",
    "1. Eventually correct the schema and read again the data\n",
    "1. Save the data into parquet files\n",
    "1. In the rest of your work, **you will only use the parquet files you created**, not the csv files (don't forget to choose a partitioning column and a number of partitions when creating the parquet files).\n",
    "\n",
    "**Hint.** Don't forget to ask `Spark` to use all the memory and ressources from your computer.\n",
    "\n",
    "**Hint.** Don't foreget that you should specify a partitioning column and a number of partitions when creating the parquet files.\n",
    "\n",
    "**Hint.** Note that the schemas of the 2015 and 2018 data are different...\n",
    "\n",
    "**Hint.** When working on this, ask you and answer to the following questions:\n",
    "\n",
    "1. What is the `StorageLevel` of the dataframe after reading the csv files?\n",
    "1. What is the number of partitions of the dataframe? \n",
    "1. Is it possible to tune this number at loading time? \n",
    "1. Why would we want to modify the number of partitions when creating the parquet files?"
   ]
  },
  {
   "cell_type": "code",
   "execution_count": 1,
   "metadata": {
    "ExecuteTime": {
     "end_time": "2020-06-04T00:51:40.703257Z",
     "start_time": "2020-06-04T00:51:40.126507Z"
    },
    "scrolled": true
   },
   "outputs": [],
   "source": [
    "# import the usual suspects\n",
    "import pandas as pd\n",
    "import numpy as np\n",
    "import matplotlib.pyplot as plt\n",
    "import os\n",
    "from pathlib import Path\n",
    "import sys\n",
    "import time\n",
    "\n",
    "%matplotlib inline\n",
    "import seaborn as sns\n",
    "\n",
    "sns.set_context(\"notebook\", font_scale=1.2)"
   ]
  },
  {
   "cell_type": "code",
   "execution_count": 2,
   "metadata": {
    "ExecuteTime": {
     "end_time": "2020-06-04T00:51:42.461921Z",
     "start_time": "2020-06-04T00:51:42.356483Z"
    },
    "scrolled": true
   },
   "outputs": [],
   "source": [
    "# spark\n",
    "from pyspark import SparkConf, SparkContext\n",
    "from pyspark.sql import SparkSession\n",
    "from pyspark.sql import Window\n",
    "from pyspark.sql.functions import col\n",
    "import pyspark.sql.functions as fn\n",
    "from pyspark.sql.catalog import Catalog\n",
    "from pyspark.sql.types import StructType, StructField\n",
    "from pyspark.sql.types import IntegerType, StringType\n",
    "\n",
    "\n",
    "import geopandas"
   ]
  },
  {
   "cell_type": "code",
   "execution_count": 3,
   "metadata": {
    "ExecuteTime": {
     "end_time": "2020-06-04T00:51:47.068581Z",
     "start_time": "2020-06-04T00:51:44.378595Z"
    },
    "scrolled": true
   },
   "outputs": [],
   "source": [
    "conf = SparkConf().setAppName(\"Spark SQL Course\")\n",
    "conf.set(\"spark.executor.memory\", \"5g\")\n",
    "conf.set(\"spark.driver.memory\", \"5g\")\n",
    "conf.set(\"spark.cores.max\", \"4\")\n",
    "conf.set(\"spark.executor.cores\", \"4\")\n",
    "sc = SparkContext(conf=conf)\n",
    "\n",
    "spark = (SparkSession\n",
    "    .builder\n",
    "    .appName(\"homework 3\")\n",
    "    .getOrCreate()\n",
    ")\n",
    "\n"
   ]
  },
  {
   "cell_type": "code",
   "execution_count": 4,
   "metadata": {
    "ExecuteTime": {
     "end_time": "2020-06-04T00:51:48.067457Z",
     "start_time": "2020-06-04T00:51:48.030632Z"
    }
   },
   "outputs": [
    {
     "data": {
      "text/plain": [
       "[('spark.app.name', 'homework 3'),\n",
       " ('spark.app.id', 'local-1591231906268'),\n",
       " ('spark.driver.port', '35753'),\n",
       " ('spark.executor.id', 'driver'),\n",
       " ('spark.executor.memory', '5g'),\n",
       " ('spark.driver.memory', '5g'),\n",
       " ('spark.executor.cores', '4'),\n",
       " ('spark.cores.max', '4'),\n",
       " ('spark.driver.host', '8ee534198614'),\n",
       " ('spark.rdd.compress', 'True'),\n",
       " ('spark.serializer.objectStreamReset', '100'),\n",
       " ('spark.master', 'local[*]'),\n",
       " ('spark.submit.deployMode', 'client'),\n",
       " ('spark.ui.showConsoleProgress', 'true')]"
      ]
     },
     "execution_count": 4,
     "metadata": {},
     "output_type": "execute_result"
    }
   ],
   "source": [
    "sc.getConf().getAll()"
   ]
  },
  {
   "cell_type": "code",
   "execution_count": null,
   "metadata": {
    "ExecuteTime": {
     "start_time": "2020-06-03T23:49:27.505Z"
    },
    "scrolled": true
   },
   "outputs": [],
   "source": [
    "df_15_03 = spark.read\\\n",
    "             .format('csv')\\\n",
    "             .option(\"header\", \"true\")\\\n",
    "             .option(\"mode\", \"FAILFAST\")\\\n",
    "             .option(\"inferSchema\", \"true\")\\\n",
    "             .option(\"sep\", \",\")\\\n",
    "             .load(\"nyc_taxi/yellow_tripdata_2015-03.csv\")\n",
    "\n",
    "df_15_03.printSchema()"
   ]
  },
  {
   "cell_type": "code",
   "execution_count": null,
   "metadata": {
    "ExecuteTime": {
     "start_time": "2020-06-03T23:49:27.506Z"
    },
    "scrolled": true
   },
   "outputs": [],
   "source": [
    "df_18_03 = spark.read\\\n",
    "             .format('csv')\\\n",
    "             .option(\"header\", \"true\")\\\n",
    "             .option(\"mode\", \"FAILFAST\")\\\n",
    "             .option(\"inferSchema\", \"true\")\\\n",
    "             .option(\"sep\", \",\")\\\n",
    "             .load(\"nyc_taxi/yellow_tripdata_2018-03.csv\")\n",
    "\n",
    "df_18_03.printSchema()"
   ]
  },
  {
   "cell_type": "code",
   "execution_count": null,
   "metadata": {
    "ExecuteTime": {
     "start_time": "2020-06-03T23:49:27.508Z"
    },
    "scrolled": true
   },
   "outputs": [],
   "source": [
    "df_15_03.groupBy('store_and_fwd_flag').agg(fn.count(col(\"VendorID\"))).show(20)\n"
   ]
  },
  {
   "cell_type": "code",
   "execution_count": null,
   "metadata": {
    "ExecuteTime": {
     "start_time": "2020-06-03T23:49:27.509Z"
    },
    "scrolled": true
   },
   "outputs": [],
   "source": [
    "#df_15_03.groupBy('payment_type').agg(fn.count(col(\"VendorID\"))).show(20)\n",
    "\n",
    "df_18_03.show(10)\n",
    "#df_18_03.select('PULocationID').show(5)"
   ]
  },
  {
   "cell_type": "code",
   "execution_count": null,
   "metadata": {
    "ExecuteTime": {
     "end_time": "2020-06-03T23:50:35.176331Z",
     "start_time": "2020-06-03T23:50:35.145439Z"
    },
    "scrolled": true
   },
   "outputs": [],
   "source": [
    "from pyspark.sql.types import *\n",
    "\n",
    "schema_15 = StructType([\n",
    "    StructField(\"VendorID\", IntegerType(), True),\n",
    "    StructField(\"tpep_pickup_datetime\", TimestampType(), True),\n",
    "    StructField(\"tpep_dropoff_datetime\", TimestampType(), True),\n",
    "    StructField(\"passenger_count\", IntegerType(), True),\n",
    "    StructField(\"trip_distance\", DoubleType(), True),\n",
    "    StructField(\"pickup_longitude\", DoubleType(), True),\n",
    "    StructField(\"pickup_latitude\", DoubleType(), True),\n",
    "    StructField(\"RateCodeID\", IntegerType(), True),\n",
    "    StructField(\"store_and_fwd_flag\", StringType(), True),\n",
    "    StructField(\"dropoff_longitude\", DoubleType(), True),\n",
    "    StructField(\"dropoff_latitude\", DoubleType(), True),\n",
    "    StructField(\"payment_type\", IntegerType(), True),\n",
    "    StructField(\"fare_amount\", DoubleType(), True),\n",
    "    StructField(\"extra\", DoubleType(), True),\n",
    "    StructField(\"mta_tax\", DoubleType(), True),\n",
    "    StructField(\"tip_amount\", DoubleType(), True),\n",
    "    StructField(\"tolls_amount\", DoubleType(), True),\n",
    "    StructField(\"improvement_surcharge\", DoubleType(), True),\n",
    "    StructField(\"total_amount\", DoubleType(), True)\n",
    "])\n",
    "\n",
    "schema_18 = StructType([\n",
    "    StructField(\"VendorID\", IntegerType(), True),\n",
    "    StructField(\"tpep_pickup_datetime\", TimestampType(), True),\n",
    "    StructField(\"tpep_dropoff_datetime\", TimestampType(), True),\n",
    "    StructField(\"passenger_count\", IntegerType(), True),\n",
    "    StructField(\"trip_distance\", DoubleType(), True),\n",
    "    StructField(\"RateCodeID\", IntegerType(), True),\n",
    "    StructField(\"store_and_fwd_flag\", StringType(), True),\n",
    "    StructField(\"PULocationID\", IntegerType(), True),\n",
    "    StructField(\"DOLocationID\", IntegerType(), True),\n",
    "    StructField(\"payment_type\", IntegerType(), True),\n",
    "    StructField(\"fare_amount\", DoubleType(), True),\n",
    "    StructField(\"extra\", DoubleType(), True),\n",
    "    StructField(\"mta_tax\", DoubleType(), True),\n",
    "    StructField(\"tip_amount\", DoubleType(), True),\n",
    "    StructField(\"tolls_amount\", DoubleType(), True),\n",
    "    StructField(\"improvement_surcharge\", DoubleType(), True),\n",
    "    StructField(\"total_amount\", DoubleType(), True)\n",
    "])\n"
   ]
  },
  {
   "cell_type": "code",
   "execution_count": null,
   "metadata": {
    "ExecuteTime": {
     "start_time": "2020-06-03T23:49:27.513Z"
    },
    "scrolled": true
   },
   "outputs": [],
   "source": [
    "df_15_03 = spark.read\\\n",
    "             .format('csv')\\\n",
    "             .option(\"header\", \"true\")\\\n",
    "             .option(\"mode\", \"FAILFAST\")\\\n",
    "             .option(\"sep\", \",\")\\\n",
    "             .schema(schema_15)\\\n",
    "             .load(\"nyc_taxi/yellow_tripdata_2015-03.csv\")\n",
    "\n",
    "df_15_03.printSchema()\n",
    "\n",
    "\n",
    "\n",
    "df_18_03 = spark.read\\\n",
    "             .format('csv')\\\n",
    "             .option(\"header\", \"true\")\\\n",
    "             .option(\"mode\", \"FAILFAST\")\\\n",
    "             .option(\"sep\", \",\")\\\n",
    "             .schema(schema_18)\\\n",
    "             .load(\"nyc_taxi/yellow_tripdata_2018-03.csv\")\n",
    "\n",
    "df_18_03.printSchema()"
   ]
  },
  {
   "cell_type": "code",
   "execution_count": null,
   "metadata": {
    "ExecuteTime": {
     "start_time": "2020-06-03T23:49:27.514Z"
    },
    "scrolled": true
   },
   "outputs": [],
   "source": [
    "#number of partitions of the dataframe:\n",
    "\n",
    "print(df_15_03.rdd.getNumPartitions())\n",
    "\n",
    "print(df_18_03.rdd.getNumPartitions())\n",
    "\n",
    "#k = sc.parallelize(df_15_03)"
   ]
  },
  {
   "cell_type": "code",
   "execution_count": null,
   "metadata": {
    "ExecuteTime": {
     "start_time": "2020-06-03T23:49:27.516Z"
    },
    "scrolled": true
   },
   "outputs": [],
   "source": [
    "\n",
    "df_15_03.write.format(\"parquet\").mode(\"overwrite\").save('data/yellow_tripdata_2015-03.parquet')\n",
    "df_18_03.write.format(\"parquet\").mode(\"overwrite\").save('data/yellow_tripdata_2018-03.parquet')\n"
   ]
  },
  {
   "cell_type": "markdown",
   "metadata": {
    "nteract": {
     "transient": {
      "deleting": false
     }
    }
   },
   "source": [
    "# Investigate (at least) one month of data in 2015\n",
    "\n",
    "From now on, you will be using **the parquet files you created for 2015**.\n",
    "\n",
    "We shall visualize several features of taxi traffic during one calendar month\n",
    "in 2015 and the same calendar month in 2018.\n",
    "\n",
    "**Hint.** In order to build appealing graphics, you may stick to `matplotlib + seaborn`, you can use also\n",
    "`plotly`, which is used a lot to build interactive graphics, but you can use whatever you want."
   ]
  },
  {
   "cell_type": "markdown",
   "metadata": {},
   "source": [
    "The following longitudes and lattitudes encompass Newark and JFK airports, Northern Manhattan and Verazzano bridge."
   ]
  },
  {
   "cell_type": "code",
   "execution_count": 54,
   "metadata": {
    "ExecuteTime": {
     "end_time": "2020-06-04T01:53:56.554979Z",
     "start_time": "2020-06-04T01:53:48.775473Z"
    },
    "scrolled": true
   },
   "outputs": [
    {
     "data": {
      "text/plain": [
       "13351609"
      ]
     },
     "execution_count": 54,
     "metadata": {},
     "output_type": "execute_result"
    }
   ],
   "source": [
    "df_mar15 = spark.read.parquet('data/yellow_tripdata_2015-03.parquet')\n",
    "\n",
    "df_mar15 = df_mar15.filter(col(\"tpep_pickup_datetime\") >= \"2015-01-01 00:00\")\\\n",
    "                .filter(col(\"tpep_pickup_datetime\") < \"2016-01-01 00:00\")\n",
    "df_mar15.count()"
   ]
  },
  {
   "cell_type": "code",
   "execution_count": 6,
   "metadata": {
    "ExecuteTime": {
     "end_time": "2020-06-04T00:52:00.431141Z",
     "start_time": "2020-06-04T00:52:00.240066Z"
    }
   },
   "outputs": [],
   "source": [
    "df_mar18 = spark.read.parquet('data/yellow_tripdata_2018-03.parquet')\n",
    "\n",
    "df_mar18 = df_mar18.filter(col(\"tpep_pickup_datetime\") >= \"2018-01-01 00:00\")\\\n",
    "                .filter(col(\"tpep_pickup_datetime\") < \"2019-01-01 00:00\")"
   ]
  },
  {
   "cell_type": "code",
   "execution_count": 7,
   "metadata": {
    "ExecuteTime": {
     "end_time": "2020-06-04T00:52:02.475903Z",
     "start_time": "2020-06-04T00:52:02.406516Z"
    },
    "jupyter": {
     "outputs_hidden": false,
     "source_hidden": false
    },
    "nteract": {
     "transient": {
      "deleting": false
     }
    },
    "scrolled": true
   },
   "outputs": [
    {
     "name": "stdout",
     "output_type": "stream",
     "text": [
      "0.0635223388671875\n"
     ]
    }
   ],
   "source": [
    "long_min = -74.10\n",
    "long_max = -73.70\n",
    "lat_min = 40.58\n",
    "lat_max = 40.90\n",
    "\n",
    "start = time.time()\n",
    "\n",
    "\n",
    "mar15_filtred = df_mar15.where(col('pickup_longitude').between(long_min, long_max))\\\n",
    "                    .where(col('pickup_latitude').between(lat_min, lat_max))\\\n",
    "                    .where(col('dropoff_longitude').between(long_min, long_max))\\\n",
    "                    .where(col('dropoff_latitude').between(lat_min, lat_max))\n",
    "\n",
    "end = time.time()\n",
    "print(end - start)"
   ]
  },
  {
   "cell_type": "markdown",
   "metadata": {},
   "source": [
    "1. Using these boundaries, **filter the 2015 data** (using pickup and dropoff longitude and latitude) and count the number of trips for each value of `passenger_count` and make a plot of that."
   ]
  },
  {
   "cell_type": "code",
   "execution_count": null,
   "metadata": {
    "ExecuteTime": {
     "start_time": "2020-06-03T23:49:27.522Z"
    },
    "scrolled": true
   },
   "outputs": [],
   "source": [
    "mar15_psgr = mar15_filtred.groupBy(col('passenger_count')).count()\n",
    "\n",
    "        \n",
    "mar15_psgr.show()\n",
    "\n",
    "sns.set()\n",
    "\n",
    "g = sns.lineplot(x = \"passenger_count\",\n",
    "                 y = \"count\",\n",
    "                 data = mar15_psgr.toPandas()).set_title(\"Number of trips for each value of passenger_count\")\n",
    "\n",
    "plt.show()"
   ]
  },
  {
   "cell_type": "markdown",
   "metadata": {
    "nteract": {
     "transient": {
      "deleting": false
     }
    }
   },
   "source": [
    "Trips with $0$ or larger than $7$ passengers are pretty rare.\n",
    "We suspect these to be outliers. \n",
    "We need to explore these trips further in order order to understand what might be wrong\n",
    "with them\n",
    "\n",
    "1. What's special with trips with zero passengers?\n",
    "1. What's special with trips with more than $6$ passengers?\n",
    "1. What is the largest distance travelled during this month? Is it the first taxi on the moon?\n",
    "1. Plot the distribution of the `trip_distance` (using an histogram for instance) during year 2105. Focus on trips with non-zero trip distance and trip distance less than 30 miles."
   ]
  },
  {
   "cell_type": "code",
   "execution_count": null,
   "metadata": {
    "scrolled": true
   },
   "outputs": [],
   "source": []
  },
  {
   "cell_type": "markdown",
   "metadata": {},
   "source": [
    "Let's look at what Spark does for these computations\n",
    "\n",
    "1. Use the `explain` method or have a look at the [Spark UI](http://localhost:4040/SQL/) to analyze the job. You should be able to assess \n",
    "    - Parsed Logical Plan\n",
    "    - Analyzed Logical Plan\n",
    "    - Optimized Logical Plan\n",
    "    - Physical Plan\n",
    "1. Do the Analyzed Logical Plan and Optimized Logical Plan differ? Spot the differences if any. How would a RDBMS proceed with such a query?\n",
    "1. How does the physical plan differ from the Optimized Logical Plan? What are the keywords you would not expects in a RDBMS? What is their meaning? \n",
    "1. Inspect the stages on [Spark UI](http://localhost:4040/stages/stage). How many *stages* are necessary to complete the Spark job? What are the roles of `HashAggregate` and `Exchange hashpartitioning`?\n",
    "1. Does the physical plan perform `shuffle` operations? If yes how many?\n",
    "1. What are tasks with respect to stages (in Spark language)? How many tasks are your stages made of?"
   ]
  },
  {
   "cell_type": "markdown",
   "metadata": {
    "nteract": {
     "transient": {
      "deleting": false
     }
    }
   },
   "source": [
    "Now, compute the following and produce relevant plots:\n",
    "\n",
    "1. Break down the trip distance distribution for each day of week\n",
    "1. Count the number of distinct pickup location\n",
    "1. Compute and display tips and profits as a function of the pickup location"
   ]
  },
  {
   "cell_type": "markdown",
   "metadata": {},
   "source": [
    "# Investigate one month of trips data in 2015 and 2018\n",
    "\n",
    " Consider one month of trips data from `yellow` taxis for each year\n",
    "\n",
    "1. Filter and cache/persist the result"
   ]
  },
  {
   "cell_type": "markdown",
   "metadata": {
    "nteract": {
     "transient": {
      "deleting": false
     }
    }
   },
   "source": [
    "## Assessing seasonalities and looking at time series\n",
    "\n",
    "Compute and plot the following time series indexed by day of the week and hour of day:\n",
    "\n",
    "1. The number of pickups\n",
    "1. The average fare\n",
    "1. The average trip duration\n",
    "1. Plot the average number of ongoing trips\n"
   ]
  },
  {
   "cell_type": "code",
   "execution_count": 43,
   "metadata": {
    "ExecuteTime": {
     "end_time": "2020-06-04T01:30:07.396505Z",
     "start_time": "2020-06-04T01:30:07.391340Z"
    },
    "scrolled": true
   },
   "outputs": [],
   "source": [
    "import plotly.graph_objects as go\n",
    "import plotly.express as px\n",
    "from pyspark.sql.functions import date_format\n",
    "from shapely.geometry import Polygon"
   ]
  },
  {
   "cell_type": "code",
   "execution_count": 9,
   "metadata": {
    "ExecuteTime": {
     "end_time": "2020-06-04T00:52:53.861882Z",
     "start_time": "2020-06-04T00:52:10.018808Z"
    },
    "scrolled": true
   },
   "outputs": [
    {
     "name": "stdout",
     "output_type": "stream",
     "text": [
      "+----+--------+----+----------------+------------+--------+\n",
      "|hour|week_day|year|average_duration|average_fare|nb_trips|\n",
      "+----+--------+----+----------------+------------+--------+\n",
      "|  12|     Fri|2015|           987.1|       13.01|   83196|\n",
      "|  15|     Sun|2015|          1602.0|       13.38|  100403|\n",
      "|   5|     Thu|2015|           743.8|        14.8|   16932|\n",
      "|  13|     Fri|2015|           995.7|       13.07|   80085|\n",
      "|  10|     Wed|2015|           947.4|       12.31|   81219|\n",
      "|   8|     Tue|2015|           918.4|       11.92|  117659|\n",
      "|  17|     Wed|2015|          1071.2|       13.15|   82114|\n",
      "|  23|     Sat|2015|           902.9|       12.42|  116644|\n",
      "|   4|     Sun|2015|           821.9|       13.69|   56098|\n",
      "|  18|     Fri|2015|           933.8|       12.01|  106052|\n",
      "+----+--------+----+----------------+------------+--------+\n",
      "only showing top 10 rows\n",
      "\n",
      "43.83408069610596\n"
     ]
    }
   ],
   "source": [
    "def group_weekday(df): \n",
    "    return df.select('fare_amount',\n",
    "                          (fn.unix_timestamp('tpep_dropoff_datetime')- fn.unix_timestamp('tpep_pickup_datetime')).alias('duration'), \n",
    "                          date_format('tpep_pickup_datetime', 'E').alias('week_day'), \n",
    "                          date_format('tpep_pickup_datetime', 'HH').cast(IntegerType()).alias('hour'),\n",
    "                          date_format('tpep_pickup_datetime', 'YYYY').alias('year'))\n",
    "                            \n",
    "\n",
    "start = time.time()\n",
    "\n",
    "df_grp = group_weekday(df_mar18).union(group_weekday(mar15_filtred))\n",
    "\n",
    "df_grp = df_grp.groupBy(col('hour'), col('week_day'), col('year')).agg(fn.round(fn.mean('duration'),1).alias('average_duration'),\n",
    "                                                                   fn.round(fn.mean('fare_amount'),2).alias('average_fare'),\n",
    "                                                                   fn.count('fare_amount').alias('nb_trips'))\n",
    "df_grp.orderBy('year').show(10)\n",
    "\n",
    "end = time.time()\n",
    "print(end - start)"
   ]
  },
  {
   "cell_type": "code",
   "execution_count": null,
   "metadata": {
    "ExecuteTime": {
     "start_time": "2020-06-03T23:49:27.528Z"
    },
    "scrolled": true
   },
   "outputs": [],
   "source": [
    "\n",
    "pd_grp = df_grp.orderBy('hour').toPandas()\n",
    "\n",
    "#pd_grp = pd_grp.drop(columns=['year']).pivot(index='hour', columns='week_day', values=['average_duration', 'nb_trips', 'average_fare'])\n"
   ]
  },
  {
   "cell_type": "code",
   "execution_count": null,
   "metadata": {
    "ExecuteTime": {
     "start_time": "2020-06-03T23:49:27.529Z"
    },
    "scrolled": false
   },
   "outputs": [],
   "source": [
    "\n",
    "def plot_by_hour(data, column, ytitle):\n",
    "    fig = px.line(data, x=\"hour\", y=column, color=\"week_day\",\n",
    "                  facet_col=\"year\", hover_name=\"year\")\n",
    "\n",
    "    fig.for_each_annotation(lambda a: a.update(text=a.text.split(\"=\")[-1]))\n",
    "    fig.update_layout(\n",
    "        autosize=False,\n",
    "        width=900,\n",
    "        height=600\n",
    "    )\n",
    "\n",
    "    fig.update_yaxes(title_text=ytitle)\n",
    "    fig.update_xaxes(showticklabels=True)\n",
    "    fig.show()\n"
   ]
  },
  {
   "cell_type": "code",
   "execution_count": null,
   "metadata": {
    "ExecuteTime": {
     "start_time": "2020-06-03T23:49:27.531Z"
    },
    "scrolled": false
   },
   "outputs": [],
   "source": [
    "plot_by_hour(pd_grp, \"average_duration\", 'Average duration')"
   ]
  },
  {
   "cell_type": "code",
   "execution_count": null,
   "metadata": {
    "ExecuteTime": {
     "start_time": "2020-06-03T23:49:27.532Z"
    },
    "scrolled": false
   },
   "outputs": [],
   "source": [
    "plot_by_hour(pd_grp, \"average_fare\", 'Average fare')"
   ]
  },
  {
   "cell_type": "code",
   "execution_count": null,
   "metadata": {
    "ExecuteTime": {
     "start_time": "2020-06-03T23:49:27.534Z"
    },
    "scrolled": false
   },
   "outputs": [],
   "source": [
    "plot_by_hour(pd_grp, \"nb_trips\", 'Total trips')"
   ]
  },
  {
   "cell_type": "markdown",
   "metadata": {},
   "source": [
    "## Rides to the airports\n",
    "\n",
    "In order to find the longitude and lattitude of JFK and Newark airport as well as the longitude and magnitudes \n",
    "of Manhattan, you can use a service like [geojson.io](http://geojson.io/).\n",
    "Plot the following time series, indexed the day of the week and hour of the day\n",
    "\n",
    "1. Median duration of taxi trip leaving Midtown (Southern Manhattan) headed for JFK Airport\n",
    "1. Median taxi duration of trip leaving from JFK Airport to Midtown (Southern Manhattan)\n",
    "\n"
   ]
  },
  {
   "cell_type": "code",
   "execution_count": 49,
   "metadata": {
    "ExecuteTime": {
     "end_time": "2020-06-04T01:44:55.280053Z",
     "start_time": "2020-06-04T01:44:55.275697Z"
    },
    "scrolled": true
   },
   "outputs": [],
   "source": [
    "manhattan = Polygon([(-73.971, 40.727),\n",
    "                     (-74.013, 40.742),\n",
    "                     (-73.996, 40.773),\n",
    "                     (-73.958, 40.758),\n",
    "                     (-73.971, 40.727)])\n",
    "\n",
    "jfk = Polygon([(-73.82,40.659),\n",
    "               (-73.819,40.648),\n",
    "               (-73.769,40.626),\n",
    "               (-73.754,40.646),\n",
    "               (-73.79,40.665),\n",
    "               (-73.82,40.659)])"
   ]
  },
  {
   "cell_type": "code",
   "execution_count": 53,
   "metadata": {
    "ExecuteTime": {
     "end_time": "2020-06-04T01:53:22.305714Z",
     "start_time": "2020-06-04T01:53:10.049929Z"
    }
   },
   "outputs": [
    {
     "name": "stdout",
     "output_type": "stream",
     "text": [
      "0.019465923309326172 12.224045991897583\n"
     ]
    },
    {
     "data": {
      "text/html": [
       "<div>\n",
       "<style scoped>\n",
       "    .dataframe tbody tr th:only-of-type {\n",
       "        vertical-align: middle;\n",
       "    }\n",
       "\n",
       "    .dataframe tbody tr th {\n",
       "        vertical-align: top;\n",
       "    }\n",
       "\n",
       "    .dataframe thead th {\n",
       "        text-align: right;\n",
       "    }\n",
       "</style>\n",
       "<table border=\"1\" class=\"dataframe\">\n",
       "  <thead>\n",
       "    <tr style=\"text-align: right;\">\n",
       "      <th></th>\n",
       "      <th>duration</th>\n",
       "      <th>pickup_longitude</th>\n",
       "      <th>pickup_latitude</th>\n",
       "      <th>dropoff_longitude</th>\n",
       "      <th>dropoff_latitude</th>\n",
       "    </tr>\n",
       "  </thead>\n",
       "  <tbody>\n",
       "    <tr>\n",
       "      <td>0</td>\n",
       "      <td>1456</td>\n",
       "      <td>-73.945320</td>\n",
       "      <td>40.802132</td>\n",
       "      <td>-73.860855</td>\n",
       "      <td>40.825432</td>\n",
       "    </tr>\n",
       "    <tr>\n",
       "      <td>1</td>\n",
       "      <td>317</td>\n",
       "      <td>-73.972328</td>\n",
       "      <td>40.677029</td>\n",
       "      <td>-73.964287</td>\n",
       "      <td>40.686337</td>\n",
       "    </tr>\n",
       "    <tr>\n",
       "      <td>2</td>\n",
       "      <td>861</td>\n",
       "      <td>-73.988914</td>\n",
       "      <td>40.723026</td>\n",
       "      <td>-73.954887</td>\n",
       "      <td>40.734558</td>\n",
       "    </tr>\n",
       "    <tr>\n",
       "      <td>3</td>\n",
       "      <td>359</td>\n",
       "      <td>-73.988724</td>\n",
       "      <td>40.737186</td>\n",
       "      <td>-73.976898</td>\n",
       "      <td>40.747471</td>\n",
       "    </tr>\n",
       "    <tr>\n",
       "      <td>4</td>\n",
       "      <td>1219</td>\n",
       "      <td>-73.994537</td>\n",
       "      <td>40.746265</td>\n",
       "      <td>-73.955513</td>\n",
       "      <td>40.779617</td>\n",
       "    </tr>\n",
       "    <tr>\n",
       "      <td>...</td>\n",
       "      <td>...</td>\n",
       "      <td>...</td>\n",
       "      <td>...</td>\n",
       "      <td>...</td>\n",
       "      <td>...</td>\n",
       "    </tr>\n",
       "    <tr>\n",
       "      <td>999995</td>\n",
       "      <td>805</td>\n",
       "      <td>-73.987114</td>\n",
       "      <td>40.766132</td>\n",
       "      <td>-73.942818</td>\n",
       "      <td>40.799805</td>\n",
       "    </tr>\n",
       "    <tr>\n",
       "      <td>999996</td>\n",
       "      <td>1215</td>\n",
       "      <td>-74.006943</td>\n",
       "      <td>40.719154</td>\n",
       "      <td>-73.991982</td>\n",
       "      <td>40.686459</td>\n",
       "    </tr>\n",
       "    <tr>\n",
       "      <td>999997</td>\n",
       "      <td>336</td>\n",
       "      <td>-73.991997</td>\n",
       "      <td>40.726025</td>\n",
       "      <td>-73.981049</td>\n",
       "      <td>40.721085</td>\n",
       "    </tr>\n",
       "    <tr>\n",
       "      <td>999998</td>\n",
       "      <td>1406</td>\n",
       "      <td>-74.005089</td>\n",
       "      <td>40.729790</td>\n",
       "      <td>-73.915375</td>\n",
       "      <td>40.703724</td>\n",
       "    </tr>\n",
       "    <tr>\n",
       "      <td>999999</td>\n",
       "      <td>170</td>\n",
       "      <td>-73.965385</td>\n",
       "      <td>40.805859</td>\n",
       "      <td>-73.958153</td>\n",
       "      <td>40.811398</td>\n",
       "    </tr>\n",
       "  </tbody>\n",
       "</table>\n",
       "<p>1000000 rows × 5 columns</p>\n",
       "</div>"
      ],
      "text/plain": [
       "        duration  pickup_longitude  pickup_latitude  dropoff_longitude  \\\n",
       "0           1456        -73.945320        40.802132         -73.860855   \n",
       "1            317        -73.972328        40.677029         -73.964287   \n",
       "2            861        -73.988914        40.723026         -73.954887   \n",
       "3            359        -73.988724        40.737186         -73.976898   \n",
       "4           1219        -73.994537        40.746265         -73.955513   \n",
       "...          ...               ...              ...                ...   \n",
       "999995       805        -73.987114        40.766132         -73.942818   \n",
       "999996      1215        -74.006943        40.719154         -73.991982   \n",
       "999997       336        -73.991997        40.726025         -73.981049   \n",
       "999998      1406        -74.005089        40.729790         -73.915375   \n",
       "999999       170        -73.965385        40.805859         -73.958153   \n",
       "\n",
       "        dropoff_latitude  \n",
       "0              40.825432  \n",
       "1              40.686337  \n",
       "2              40.734558  \n",
       "3              40.747471  \n",
       "4              40.779617  \n",
       "...                  ...  \n",
       "999995         40.799805  \n",
       "999996         40.686459  \n",
       "999997         40.721085  \n",
       "999998         40.703724  \n",
       "999999         40.811398  \n",
       "\n",
       "[1000000 rows x 5 columns]"
      ]
     },
     "execution_count": 53,
     "metadata": {},
     "output_type": "execute_result"
    }
   ],
   "source": [
    "start = time.time()\n",
    "df_mar15_geo = df_mar15.limit(1000000).select((fn.unix_timestamp('tpep_dropoff_datetime')- fn.unix_timestamp('tpep_pickup_datetime')).alias('duration'),\n",
    "                'pickup_longitude',\n",
    "                'pickup_latitude',\n",
    "                'dropoff_longitude',\n",
    "                'dropoff_latitude')\n",
    "mid = time.time()\n",
    "\n",
    "df_geo = df_mar15_geo.toPandas()\n",
    "\n",
    "end = time.time()\n",
    "print(mid-start, end-mid)\n",
    "df_geo"
   ]
  },
  {
   "cell_type": "code",
   "execution_count": 55,
   "metadata": {
    "ExecuteTime": {
     "end_time": "2020-06-04T01:54:26.534433Z",
     "start_time": "2020-06-04T01:54:11.722058Z"
    }
   },
   "outputs": [],
   "source": [
    "gdf_pu = geopandas.GeoDataFrame(df_geo.copy(), \n",
    "                             geometry=geopandas.points_from_xy(df_geo.pickup_longitude, df_geo.pickup_latitude))\n",
    "\n",
    "gdf_do = geopandas.GeoDataFrame(df_geo.copy(), \n",
    "                             geometry=geopandas.points_from_xy(df_geo.dropoff_longitude, df_geo.dropoff_latitude))\n"
   ]
  },
  {
   "cell_type": "code",
   "execution_count": 58,
   "metadata": {
    "ExecuteTime": {
     "end_time": "2020-06-04T02:12:10.739793Z",
     "start_time": "2020-06-04T02:11:13.510796Z"
    }
   },
   "outputs": [
    {
     "data": {
      "text/plain": [
       "2689.0"
      ]
     },
     "execution_count": 58,
     "metadata": {},
     "output_type": "execute_result"
    }
   ],
   "source": [
    "pu_ma_to_jfk = gdf_pu[gdf_pu.geometry.within(manhattan) & gdf_do.geometry.within(jfk)]\n",
    "\n",
    "pu_ma_to_jfk['duration'].median()"
   ]
  },
  {
   "cell_type": "code",
   "execution_count": 59,
   "metadata": {
    "ExecuteTime": {
     "end_time": "2020-06-04T02:13:08.243695Z",
     "start_time": "2020-06-04T02:12:15.735820Z"
    }
   },
   "outputs": [
    {
     "data": {
      "text/plain": [
       "2744.0"
      ]
     },
     "execution_count": 59,
     "metadata": {},
     "output_type": "execute_result"
    }
   ],
   "source": [
    "pu_jfkto_ma = gdf_pu[gdf_pu.geometry.within(jfk) & gdf_do.geometry.within(manhattan)]\n",
    "\n",
    "pu_jfkto_ma['duration'].median()"
   ]
  },
  {
   "cell_type": "markdown",
   "metadata": {},
   "source": [
    "## Geographic information\n",
    "\n",
    "For this, you will need to find tools to display maps and to build choropeth maps.\n",
    "We let you look and find relevant tools to do this.\n",
    "\n",
    "1. Build a heatmap where color is a function of\n",
    "    1. number of `pickups`\n",
    "    2. number of `dropoffs`\n",
    "    3. number of `pickups` with dropoff at some airport (JFK, LaGuardia, Newark)\n",
    "2. Build a choropeth map where color is a function of\n",
    "    1. number of pickups in the area\n",
    "    1. ratio of number of payments by card/number of cash payments for pickups in the area\n",
    "    2. ratio of total fare/trip duration for dropoff in the area\n",
    "3. Build an interactive chorophet with a slider allowing the user to select an `hour of day` and where the color is a function of\n",
    "    1. average number of dropoffs in the area during that hour the day\n",
    "    2. average ratio of tip over total fare amount for pickups in the area at given hour of the day"
   ]
  },
  {
   "cell_type": "code",
   "execution_count": null,
   "metadata": {
    "scrolled": true
   },
   "outputs": [],
   "source": []
  }
 ],
 "metadata": {
  "kernelspec": {
   "display_name": "Python 3",
   "language": "python",
   "name": "python3"
  },
  "language_info": {
   "codemirror_mode": {
    "name": "ipython",
    "version": 3
   },
   "file_extension": ".py",
   "mimetype": "text/x-python",
   "name": "python",
   "nbconvert_exporter": "python",
   "pygments_lexer": "ipython3",
   "version": "3.7.5"
  },
  "toc": {
   "base_numbering": 1,
   "nav_menu": {},
   "number_sections": true,
   "sideBar": true,
   "skip_h1_title": false,
   "title_cell": "Table of Contents",
   "title_sidebar": "Contents",
   "toc_cell": false,
   "toc_position": {
    "height": "calc(100% - 180px)",
    "left": "10px",
    "top": "150px",
    "width": "165px"
   },
   "toc_section_display": true,
   "toc_window_display": true
  }
 },
 "nbformat": 4,
 "nbformat_minor": 1
}
