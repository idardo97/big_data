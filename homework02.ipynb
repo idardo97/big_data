{
 "cells": [
  {
   "cell_type": "markdown",
   "metadata": {
    "format": "text/markdown"
   },
   "source": [
    "\n",
    "\n",
    "# Propaganda, start the `spark` session\n",
    "\n",
    "> For SQL users, Spark SQL provides state-of-the-art SQL performance and maintains compatibility with Shark/Hive. In particular, like Shark, Spark SQL supports all existing Hive data formats, user-defined functions (UDF), and the Hive metastore.\n",
    "\n",
    "> For Spark users, Spark SQL becomes the narrow-waist for manipulating (semi-) structured data as well as ingesting data from sources that provide schema, such as JSON, Parquet, Hive, or EDWs. It truly unifies SQL and sophisticated analysis, allowing users to mix and match SQL and more imperative programming APIs for advanced analytics.\n",
    "\n",
    "> For open source hackers, Spark SQL proposes a novel, elegant way of building query planners. It is incredibly easy to add new optimizations under this framework.\n",
    "\n",
    "> Internally, a structured query is a Catalyst tree of (logical and physical) relational operators and expressions.\n",
    "\n",
    "\n"
   ]
  },
  {
   "cell_type": "code",
   "execution_count": 1,
   "metadata": {
    "ExecuteTime": {
     "end_time": "2020-04-03T16:45:10.724019Z",
     "start_time": "2020-04-03T16:45:05.875074Z"
    },
    "autoscroll": "auto",
    "options": {
     "caption": false,
     "complete": true,
     "display_data": true,
     "display_stream": true,
     "dpi": 200,
     "echo": true,
     "evaluate": false,
     "f_env": null,
     "f_pos": "htpb",
     "f_size": [
      6,
      4
     ],
     "f_spines": true,
     "fig": true,
     "include": true,
     "name": null,
     "option_string": "evaluate=False",
     "results": "verbatim",
     "term": false,
     "wrap": "output"
    }
   },
   "outputs": [],
   "source": [
    "# import the usual suspects\n",
    "import pandas as pd\n",
    "import numpy as np\n",
    "import matplotlib.pyplot as plt\n",
    "import os\n",
    "from pathlib import Path\n",
    "import sys\n",
    "import timeit\n",
    "\n",
    "%matplotlib inline\n",
    "import seaborn as sns\n",
    "\n",
    "sns.set_context(\"notebook\", font_scale=1.2)"
   ]
  },
  {
   "cell_type": "markdown",
   "metadata": {
    "format": "text/markdown"
   },
   "source": [
    "During the session, we will use classes and functions exported by `pyspark`\n"
   ]
  },
  {
   "cell_type": "code",
   "execution_count": 2,
   "metadata": {
    "ExecuteTime": {
     "end_time": "2020-04-03T16:45:11.102637Z",
     "start_time": "2020-04-03T16:45:10.729542Z"
    },
    "autoscroll": "auto",
    "options": {
     "caption": false,
     "complete": true,
     "display_data": true,
     "display_stream": true,
     "dpi": 200,
     "echo": true,
     "evaluate": false,
     "f_env": null,
     "f_pos": "htpb",
     "f_size": [
      6,
      4
     ],
     "f_spines": true,
     "fig": true,
     "include": true,
     "name": null,
     "option_string": "evaluate=False",
     "results": "verbatim",
     "term": false,
     "wrap": "output"
    }
   },
   "outputs": [],
   "source": [
    "# spark\n",
    "from pyspark import SparkConf, SparkContext\n",
    "from pyspark.sql import SparkSession\n",
    "from pyspark.sql import Window\n",
    "from pyspark.sql.functions import col\n",
    "import pyspark.sql.functions as fn\n",
    "from pyspark.sql.catalog import Catalog\n",
    "from pyspark.sql.types import StructType, StructField\n",
    "from pyspark.sql.types import IntegerType, StringType"
   ]
  },
  {
   "cell_type": "markdown",
   "metadata": {},
   "source": [
    "Start the `SparkSession`"
   ]
  },
  {
   "cell_type": "code",
   "execution_count": 3,
   "metadata": {
    "ExecuteTime": {
     "end_time": "2020-04-03T16:45:27.440392Z",
     "start_time": "2020-04-03T16:45:11.105694Z"
    },
    "autoscroll": "auto",
    "options": {
     "caption": false,
     "complete": true,
     "display_data": true,
     "display_stream": true,
     "dpi": 200,
     "echo": true,
     "evaluate": false,
     "f_env": null,
     "f_pos": "htpb",
     "f_size": [
      6,
      4
     ],
     "f_spines": true,
     "fig": true,
     "include": true,
     "name": null,
     "option_string": "evaluate=False",
     "results": "verbatim",
     "term": false,
     "wrap": "output"
    }
   },
   "outputs": [],
   "source": [
    "conf = SparkConf().setAppName(\"Spark SQL Illustrations\")\n",
    "sc = SparkContext(conf=conf)\n",
    "\n",
    "spark = (SparkSession\n",
    "    .builder\n",
    "    .appName(\"Spark SQL\")\n",
    "    .getOrCreate()\n",
    ")"
   ]
  },
  {
   "cell_type": "markdown",
   "metadata": {
    "format": "text/markdown"
   },
   "source": [
    "US Baby Names 1880-2017\n",
    "=======================\n",
    "\n",
    "\n",
    "Description\n",
    ": US baby names provided by the SSA. \n",
    "\n",
    "This dataset contains all names used\n",
    "for at least 5 children of either sex during a year. \n",
    "\n",
    "\n",
    "The file is made of `1924665` lines and  4 columns.\n",
    "\n",
    "```\n",
    "|-- name: string (nullable = true)\n",
    "    |-- n: integer (nullable = true)\n",
    "    |-- sex: string (nullable = true)\n",
    "    |-- year: integer (nullable = true)\n",
    "```\n",
    "\n",
    "Each row indicates for a given name, sex, and year the number of babies \n",
    "of the given sex who were given that name during the given year. Names \n",
    "with less than 5 occurrences during the year were note recorded. \n",
    "\n",
    "|    name|  n|sex|year|\n",
    "|:--------|:---:|:---:|:----:|\n",
    "|  Emilia|112|  F|1985|\n",
    "|   Kelsi|112|  F|1985|\n",
    "|  Margot|112|  F|1985|\n",
    "|  Mariam|112|  F|1985|\n",
    "|Scarlett|112|  F|1985|\n",
    "\n",
    "First, we download the data if it's not there yet"
   ]
  },
  {
   "cell_type": "code",
   "execution_count": 6,
   "metadata": {
    "ExecuteTime": {
     "end_time": "2020-04-03T16:45:42.669581Z",
     "start_time": "2020-04-03T16:45:42.663458Z"
    }
   },
   "outputs": [],
   "source": [
    "import requests, zipfile, io\n",
    "from pathlib import Path\n",
    "\n",
    "path = Path('babynames_short.csv')\n",
    "if not path.exists():\n",
    "    url = \"https://stephanegaiffas.github.io/big_data_course/data/babynames_short.csv.zip\"\n",
    "    r = requests.get(url)\n",
    "    z = zipfile.ZipFile(io.BytesIO(r.content))\n",
    "    z.extractall(path='./')"
   ]
  },
  {
   "cell_type": "markdown",
   "metadata": {
    "format": "text/markdown"
   },
   "source": [
    "Load `babynames` from a `csv` file"
   ]
  },
  {
   "cell_type": "code",
   "execution_count": 7,
   "metadata": {
    "ExecuteTime": {
     "end_time": "2020-04-03T16:45:48.273657Z",
     "start_time": "2020-04-03T16:45:46.009241Z"
    },
    "autoscroll": "auto",
    "options": {
     "caption": false,
     "complete": true,
     "display_data": true,
     "display_stream": true,
     "dpi": 200,
     "echo": true,
     "evaluate": false,
     "f_env": null,
     "f_pos": "htpb",
     "f_size": [
      6,
      4
     ],
     "f_spines": true,
     "fig": true,
     "include": true,
     "name": null,
     "option_string": "evaluate=False",
     "results": "verbatim",
     "term": false,
     "wrap": "output"
    },
    "scrolled": false
   },
   "outputs": [
    {
     "name": "stdout",
     "output_type": "stream",
     "text": [
      "root\n",
      " |-- name: string (nullable = true)\n",
      " |-- n: integer (nullable = true)\n",
      " |-- sex: string (nullable = true)\n",
      " |-- year: double (nullable = true)\n",
      "\n"
     ]
    }
   ],
   "source": [
    "df_sp = spark.read\\\n",
    "             .format('csv')\\\n",
    "             .option(\"header\", \"true\")\\\n",
    "             .option(\"mode\", \"FAILFAST\")\\\n",
    "             .option(\"inferSchema\", \"true\")\\\n",
    "             .option(\"sep\", \",\")\\\n",
    "             .load(\"babynames_short.csv\")\n",
    "\n",
    "df_sp.printSchema()"
   ]
  },
  {
   "cell_type": "markdown",
   "metadata": {
    "format": "text/markdown"
   },
   "source": [
    "\n",
    "Ensure that the dataframe has the following schema:\n",
    "\n",
    "    root\n",
    "        |-- name: string (nullable = true)\n",
    "        |-- n: integer (nullable = true)\n",
    "        |-- sex: string (nullable = true)\n",
    "        |-- year: integer (nullable = true)\n",
    "\n",
    "\n"
   ]
  },
  {
   "cell_type": "code",
   "execution_count": 8,
   "metadata": {
    "ExecuteTime": {
     "end_time": "2020-04-03T16:45:52.067437Z",
     "start_time": "2020-04-03T16:45:52.065025Z"
    },
    "autoscroll": "auto",
    "options": {
     "caption": false,
     "complete": true,
     "display_data": true,
     "display_stream": true,
     "dpi": 200,
     "echo": true,
     "evaluate": false,
     "f_env": null,
     "f_pos": "htpb",
     "f_size": [
      6,
      4
     ],
     "f_spines": true,
     "fig": true,
     "include": true,
     "name": null,
     "option_string": "evaluate=False",
     "results": "verbatim",
     "term": false,
     "wrap": "output"
    }
   },
   "outputs": [],
   "source": [
    "#df_sp = df_sp.withColumn(\"year\", df_sp.cast(\"year\"))"
   ]
  },
  {
   "cell_type": "markdown",
   "metadata": {
    "format": "text/markdown"
   },
   "source": [
    "SQL versus spark-Dataframe API\n",
    "=================================\n",
    "\n",
    ">  Dataset API vs SQL\n",
    "\n",
    "> Spark SQL supports two \"modes\" to write structured queries: Dataset API and SQL. SQL Mode is used to express structured queries using SQL statements using SparkSession.sql operator, expr standard function and spark-sql command-line tool.\n",
    "\n",
    "> Some structured queries can be expressed much easier using Dataset API, but there are some that are only possible in SQL. In other words, you may find mixing Dataset API and SQL modes challenging yet rewarding.\n",
    "\n",
    "> What is important, and one of the reasons why Spark SQL has been so successful, is that there is no performance difference between the modes. Whatever mode you use to write your structured queries, they all end up as a tree of Catalyst relational data structures. And, yes, you could consider writing structured queries using Catalyst directly, but that could quickly become unwieldy for maintenance (i.e. finding Spark SQL developers who could be comfortable with it as well as being fairly low-level and therefore possibly too dependent on a specific Spark SQL version).\n",
    "\n",
    "Warmup:  compute the 10 most popular names given to babies in year 2000.\n",
    "======================================================================\n",
    "\n",
    "## Using `spark.sql()`\n",
    "\n",
    "In order to use mode `sql`, create a temporary view from the `DataFrame`.\n",
    "\n",
    "1. What are temporary views made of?\n",
    "1. Are there other kind of views in spark's world?"
   ]
  },
  {
   "cell_type": "code",
   "execution_count": 9,
   "metadata": {
    "ExecuteTime": {
     "end_time": "2020-04-03T16:45:53.566358Z",
     "start_time": "2020-04-03T16:45:52.885068Z"
    },
    "autoscroll": "auto",
    "options": {
     "caption": false,
     "complete": true,
     "display_data": true,
     "display_stream": true,
     "dpi": 200,
     "echo": true,
     "evaluate": false,
     "f_env": null,
     "f_pos": "htpb",
     "f_size": [
      6,
      4
     ],
     "f_spines": true,
     "fig": true,
     "include": true,
     "name": null,
     "option_string": "evaluate=False",
     "results": "verbatim",
     "term": false,
     "wrap": "output"
    }
   },
   "outputs": [
    {
     "data": {
      "text/plain": [
       "[Table(name='babynames', database=None, description=None, tableType='TEMPORARY', isTemporary=True)]"
      ]
     },
     "execution_count": 9,
     "metadata": {},
     "output_type": "execute_result"
    }
   ],
   "source": [
    "df_sp.createOrReplaceTempView(\"babynames\")\n",
    "Catalog(spark).listTables()"
   ]
  },
  {
   "cell_type": "code",
   "execution_count": 10,
   "metadata": {
    "ExecuteTime": {
     "end_time": "2020-04-03T16:45:53.704216Z",
     "start_time": "2020-04-03T16:45:53.571514Z"
    }
   },
   "outputs": [
    {
     "data": {
      "text/plain": [
       "[Table(name='babynames', database=None, description=None, tableType='TEMPORARY', isTemporary=True)]"
      ]
     },
     "execution_count": 10,
     "metadata": {},
     "output_type": "execute_result"
    }
   ],
   "source": [
    "# TODO: \n",
    "\n",
    "Catalog(spark).listTables()"
   ]
  },
  {
   "cell_type": "markdown",
   "metadata": {
    "format": "text/markdown"
   },
   "source": [
    "\n",
    "## A query is a plain SQL query embodied in a string.\n",
    "\n"
   ]
  },
  {
   "cell_type": "code",
   "execution_count": 11,
   "metadata": {
    "ExecuteTime": {
     "end_time": "2020-04-03T16:45:57.855216Z",
     "start_time": "2020-04-03T16:45:55.122974Z"
    },
    "autoscroll": "auto",
    "options": {
     "caption": false,
     "complete": true,
     "display_data": true,
     "display_stream": true,
     "dpi": 200,
     "echo": true,
     "evaluate": false,
     "f_env": null,
     "f_pos": "htpb",
     "f_size": [
      6,
      4
     ],
     "f_spines": true,
     "fig": true,
     "include": true,
     "name": null,
     "option_string": "evaluate=False",
     "results": "verbatim",
     "term": false,
     "wrap": "output"
    }
   },
   "outputs": [
    {
     "name": "stdout",
     "output_type": "stream",
     "text": [
      "+---------+---+-----+\n",
      "|     name|sex|    n|\n",
      "+---------+---+-----+\n",
      "|     Emma|  F|19738|\n",
      "|   Olivia|  F|18632|\n",
      "|      Ava|  F|15902|\n",
      "| Isabella|  F|15100|\n",
      "|   Sophia|  F|14831|\n",
      "|      Mia|  F|13437|\n",
      "|Charlotte|  F|12893|\n",
      "|   Amelia|  F|11800|\n",
      "|   Evelyn|  F|10675|\n",
      "|  Abigail|  F|10551|\n",
      "|     Liam|  M|18728|\n",
      "|     Noah|  M|18326|\n",
      "|  William|  M|14904|\n",
      "|    James|  M|14232|\n",
      "|    Logan|  M|13974|\n",
      "| Benjamin|  M|13733|\n",
      "|    Mason|  M|13502|\n",
      "|   Elijah|  M|13268|\n",
      "|   Oliver|  M|13141|\n",
      "|    Jacob|  M|13106|\n",
      "+---------+---+-----+\n",
      "\n"
     ]
    }
   ],
   "source": [
    "query = \"\"\" \n",
    "SELECT name, sex, n\n",
    "FROM babynames\n",
    "WHERE year = {0} AND sex = '{1}'\n",
    "ORDER BY n DESC\n",
    "LIMIT 10\n",
    "\"\"\"\n",
    "\n",
    "\n",
    "year = 2017\n",
    "spam = spark.sql(query.format(year, \"F\"))\n",
    "egg = spark.sql(query.format(year, \"M\"))\n",
    "\n",
    "spam.union(egg).show()\n",
    "\n"
   ]
  },
  {
   "cell_type": "markdown",
   "metadata": {
    "format": "text/markdown"
   },
   "source": [
    "\n",
    "> This phrasing is not consistent with the DRY principle. Fix this using formatted strings.\n",
    "\n",
    "## Using the dataframe/dataset API\n",
    "\n",
    "This can also be done using Spark SQL API.\n",
    "\n",
    "### Pedestrian approach\n",
    "\n",
    "1. First select `10` most popular names for girls in year `2000`, define `spark` dataframe\n",
    "`top10_2000_f`.\n",
    "1. Does the definition of `top10_2000_f` involve _transformations_, _actions_ or both?\n",
    "1. What is the type of the result returned by `top10_2000_f.take(2)`? the type of elements of the result?\n",
    "\n"
   ]
  },
  {
   "cell_type": "code",
   "execution_count": 12,
   "metadata": {
    "ExecuteTime": {
     "end_time": "2020-04-03T16:46:00.360110Z",
     "start_time": "2020-04-03T16:45:57.858597Z"
    },
    "autoscroll": "auto",
    "options": {
     "caption": false,
     "complete": true,
     "display_data": true,
     "display_stream": true,
     "dpi": 200,
     "echo": true,
     "evaluate": false,
     "f_env": null,
     "f_pos": "htpb",
     "f_size": [
      6,
      4
     ],
     "f_spines": true,
     "fig": true,
     "include": true,
     "name": null,
     "option_string": "evaluate=False",
     "results": "verbatim",
     "term": false,
     "wrap": "output"
    }
   },
   "outputs": [
    {
     "name": "stdout",
     "output_type": "stream",
     "text": [
      "+---------+-----+---+------+\n",
      "|     name|    n|sex|  year|\n",
      "+---------+-----+---+------+\n",
      "|    Emily|25953|  F|2000.0|\n",
      "|   Hannah|23080|  F|2000.0|\n",
      "|  Madison|19967|  F|2000.0|\n",
      "|   Ashley|17997|  F|2000.0|\n",
      "|    Sarah|17697|  F|2000.0|\n",
      "|   Alexis|17629|  F|2000.0|\n",
      "| Samantha|17266|  F|2000.0|\n",
      "|  Jessica|15709|  F|2000.0|\n",
      "|Elizabeth|15094|  F|2000.0|\n",
      "|   Taylor|15078|  F|2000.0|\n",
      "+---------+-----+---+------+\n",
      "\n"
     ]
    },
    {
     "data": {
      "text/plain": [
       "[Row(name='Emily', n=25953, sex='F', year=2000.0),\n",
       " Row(name='Hannah', n=23080, sex='F', year=2000.0)]"
      ]
     },
     "execution_count": 12,
     "metadata": {},
     "output_type": "execute_result"
    }
   ],
   "source": [
    "# top10_2000_f = TODO:\n",
    "top10_2000_f = df_sp.where('sex = \"F\"')\\\n",
    "                    .where('year == 2000')\\\n",
    "                    .orderBy(df_sp.n.desc())\\\n",
    "                    .limit(10)\n",
    "\n",
    "top10_2000_f.show()\n",
    "top10_2000_f.take(2) #returns the first two elements of the table returned by top10_2000_f\n"
   ]
  },
  {
   "cell_type": "markdown",
   "metadata": {
    "format": "text/markdown"
   },
   "source": [
    "\n",
    "1. Do the same thing for boys.\n",
    "\n"
   ]
  },
  {
   "cell_type": "code",
   "execution_count": 13,
   "metadata": {
    "ExecuteTime": {
     "end_time": "2020-04-03T16:46:02.291071Z",
     "start_time": "2020-04-03T16:46:00.362346Z"
    },
    "autoscroll": "auto",
    "options": {
     "caption": false,
     "complete": true,
     "display_data": true,
     "display_stream": true,
     "dpi": 200,
     "echo": true,
     "evaluate": false,
     "f_env": null,
     "f_pos": "htpb",
     "f_size": [
      6,
      4
     ],
     "f_spines": true,
     "fig": true,
     "include": true,
     "name": null,
     "option_string": "evaluate=False",
     "results": "verbatim",
     "term": false,
     "wrap": "output"
    }
   },
   "outputs": [
    {
     "name": "stdout",
     "output_type": "stream",
     "text": [
      "+-----------+-----+---+------+\n",
      "|       name|    n|sex|  year|\n",
      "+-----------+-----+---+------+\n",
      "|      Jacob|34471|  M|2000.0|\n",
      "|    Michael|32035|  M|2000.0|\n",
      "|    Matthew|28572|  M|2000.0|\n",
      "|     Joshua|27538|  M|2000.0|\n",
      "|Christopher|24931|  M|2000.0|\n",
      "|   Nicholas|24652|  M|2000.0|\n",
      "|     Andrew|23639|  M|2000.0|\n",
      "|     Joseph|22825|  M|2000.0|\n",
      "|     Daniel|22312|  M|2000.0|\n",
      "|      Tyler|21503|  M|2000.0|\n",
      "+-----------+-----+---+------+\n",
      "\n"
     ]
    },
    {
     "data": {
      "text/plain": [
       "[Row(name='Jacob', n=34471, sex='M', year=2000.0),\n",
       " Row(name='Michael', n=32035, sex='M', year=2000.0)]"
      ]
     },
     "execution_count": 13,
     "metadata": {},
     "output_type": "execute_result"
    }
   ],
   "source": [
    "# top10_2000_m = TODO:\n",
    "\n",
    "top10_2000_m = df_sp.where('sex = \"M\"')\\\n",
    "                    .where('year == 2000')\\\n",
    "                    .orderBy(df_sp.n.desc())\\\n",
    "                    .limit(10)\n",
    "\n",
    "top10_2000_m.show()\n",
    "top10_2000_m.take(2) #returns the first two elements of the table returned by top10_2000_m\n"
   ]
  },
  {
   "cell_type": "markdown",
   "metadata": {
    "format": "text/markdown"
   },
   "source": [
    "\n",
    "1. Compute the _union_ of the two spark dataframes. Store the result in\n",
    "dataframe `top10_2000`\n",
    "\n"
   ]
  },
  {
   "cell_type": "code",
   "execution_count": 14,
   "metadata": {
    "ExecuteTime": {
     "end_time": "2020-04-03T16:46:04.322359Z",
     "start_time": "2020-04-03T16:46:02.297215Z"
    },
    "autoscroll": "auto",
    "options": {
     "caption": false,
     "complete": true,
     "display_data": true,
     "display_stream": true,
     "dpi": 200,
     "echo": true,
     "evaluate": false,
     "f_env": null,
     "f_pos": "htpb",
     "f_size": [
      6,
      4
     ],
     "f_spines": true,
     "fig": true,
     "include": true,
     "name": null,
     "option_string": "evaluate=False",
     "results": "verbatim",
     "term": false,
     "wrap": "output"
    }
   },
   "outputs": [
    {
     "name": "stdout",
     "output_type": "stream",
     "text": [
      "+-----------+-----+---+------+\n",
      "|       name|    n|sex|  year|\n",
      "+-----------+-----+---+------+\n",
      "|      Jacob|34471|  M|2000.0|\n",
      "|    Michael|32035|  M|2000.0|\n",
      "|    Matthew|28572|  M|2000.0|\n",
      "|     Joshua|27538|  M|2000.0|\n",
      "|Christopher|24931|  M|2000.0|\n",
      "|   Nicholas|24652|  M|2000.0|\n",
      "|     Andrew|23639|  M|2000.0|\n",
      "|     Joseph|22825|  M|2000.0|\n",
      "|     Daniel|22312|  M|2000.0|\n",
      "|      Tyler|21503|  M|2000.0|\n",
      "|      Emily|25953|  F|2000.0|\n",
      "|     Hannah|23080|  F|2000.0|\n",
      "|    Madison|19967|  F|2000.0|\n",
      "|     Ashley|17997|  F|2000.0|\n",
      "|      Sarah|17697|  F|2000.0|\n",
      "|     Alexis|17629|  F|2000.0|\n",
      "|   Samantha|17266|  F|2000.0|\n",
      "|    Jessica|15709|  F|2000.0|\n",
      "|  Elizabeth|15094|  F|2000.0|\n",
      "|     Taylor|15078|  F|2000.0|\n",
      "+-----------+-----+---+------+\n",
      "\n"
     ]
    }
   ],
   "source": [
    "top10_2000 =  top10_2000_m.union(top10_2000_f)\n",
    "top10_2000.show()\n"
   ]
  },
  {
   "cell_type": "markdown",
   "metadata": {
    "format": "text/markdown"
   },
   "source": [
    "\n",
    "### Do it again, complying  with DRY principle\n",
    "\n"
   ]
  },
  {
   "cell_type": "code",
   "execution_count": 15,
   "metadata": {
    "ExecuteTime": {
     "end_time": "2020-04-03T16:46:06.220270Z",
     "start_time": "2020-04-03T16:46:04.325103Z"
    },
    "autoscroll": "auto",
    "options": {
     "caption": false,
     "complete": true,
     "display_data": true,
     "display_stream": true,
     "dpi": 200,
     "echo": true,
     "evaluate": false,
     "f_env": null,
     "f_pos": "htpb",
     "f_size": [
      6,
      4
     ],
     "f_spines": true,
     "fig": true,
     "include": true,
     "name": null,
     "option_string": "evaluate=False",
     "results": "verbatim",
     "term": false,
     "wrap": "output"
    }
   },
   "outputs": [
    {
     "name": "stdout",
     "output_type": "stream",
     "text": [
      "+-----------+-----+---+------+\n",
      "|       name|    n|sex|  year|\n",
      "+-----------+-----+---+------+\n",
      "|      Emily|25953|  F|2000.0|\n",
      "|     Hannah|23080|  F|2000.0|\n",
      "|    Madison|19967|  F|2000.0|\n",
      "|     Ashley|17997|  F|2000.0|\n",
      "|      Sarah|17697|  F|2000.0|\n",
      "|     Alexis|17629|  F|2000.0|\n",
      "|   Samantha|17266|  F|2000.0|\n",
      "|    Jessica|15709|  F|2000.0|\n",
      "|  Elizabeth|15094|  F|2000.0|\n",
      "|     Taylor|15078|  F|2000.0|\n",
      "|      Jacob|34471|  M|2000.0|\n",
      "|    Michael|32035|  M|2000.0|\n",
      "|    Matthew|28572|  M|2000.0|\n",
      "|     Joshua|27538|  M|2000.0|\n",
      "|Christopher|24931|  M|2000.0|\n",
      "|   Nicholas|24652|  M|2000.0|\n",
      "|     Andrew|23639|  M|2000.0|\n",
      "|     Joseph|22825|  M|2000.0|\n",
      "|     Daniel|22312|  M|2000.0|\n",
      "|      Tyler|21503|  M|2000.0|\n",
      "+-----------+-----+---+------+\n",
      "\n"
     ]
    }
   ],
   "source": [
    "# TODO:\n",
    "def get_top_sex(year, sex, n=10):\n",
    "    top10 = df_sp.where('sex = \"{0}\"'.format(sex))\\\n",
    "                    .where('year == {0}'.format(year))\\\n",
    "                    .orderBy(df_sp.n.desc())\\\n",
    "                    .limit(n)\n",
    "    return top10\n",
    "\n",
    "\n",
    "def get_top(year, n=10):\n",
    "    return get_top_sex(year, 'F', n).union(get_top_sex(year, 'M', n))\n",
    "\n",
    "get_top(2000,10).show()\n",
    "    "
   ]
  },
  {
   "cell_type": "markdown",
   "metadata": {
    "format": "text/markdown"
   },
   "source": [
    "\n",
    "\n",
    "Name portfolio through ages\n",
    "===========================\n",
    "\n",
    "1. Compute for each year and sex the number of distinct names given that year.\n",
    "\n"
   ]
  },
  {
   "cell_type": "code",
   "execution_count": 16,
   "metadata": {
    "ExecuteTime": {
     "end_time": "2020-04-03T16:46:08.637768Z",
     "start_time": "2020-04-03T16:46:06.299081Z"
    },
    "autoscroll": "auto",
    "options": {
     "caption": false,
     "complete": true,
     "display_data": true,
     "display_stream": true,
     "dpi": 200,
     "echo": true,
     "evaluate": false,
     "f_env": null,
     "f_pos": "htpb",
     "f_size": [
      6,
      4
     ],
     "f_spines": true,
     "fig": true,
     "include": true,
     "name": null,
     "option_string": "evaluate=False",
     "results": "verbatim",
     "term": false,
     "wrap": "output"
    }
   },
   "outputs": [
    {
     "name": "stdout",
     "output_type": "stream",
     "text": [
      "+------+---+----------+\n",
      "|  year|sex|n_distinct|\n",
      "+------+---+----------+\n",
      "|1880.0|  F|       942|\n",
      "|1880.0|  M|      1058|\n",
      "|1881.0|  F|       938|\n",
      "|1881.0|  M|       997|\n",
      "|1882.0|  F|      1028|\n",
      "|1882.0|  M|      1099|\n",
      "|1883.0|  F|      1054|\n",
      "|1883.0|  M|      1030|\n",
      "|1884.0|  F|      1172|\n",
      "|1884.0|  M|      1125|\n",
      "+------+---+----------+\n",
      "only showing top 10 rows\n",
      "\n"
     ]
    }
   ],
   "source": [
    "#nb_names_year_sex = TODO: \n",
    "\n",
    "query_portfolio = \"\"\"\n",
    "SELECT year, sex, count(name) AS n_distinct\n",
    "FROM babynames\n",
    "GROUP BY year, sex\n",
    "ORDER BY year, sex\n",
    "\"\"\"\n",
    "\n",
    "spark.sql(query_portfolio).show(10)\n"
   ]
  },
  {
   "cell_type": "code",
   "execution_count": 17,
   "metadata": {
    "ExecuteTime": {
     "end_time": "2020-04-03T16:46:10.235635Z",
     "start_time": "2020-04-03T16:46:08.639417Z"
    }
   },
   "outputs": [
    {
     "name": "stdout",
     "output_type": "stream",
     "text": [
      "+------+---+----------+\n",
      "|  year|sex|n_distinct|\n",
      "+------+---+----------+\n",
      "|1880.0|  F|       942|\n",
      "|1880.0|  M|      1058|\n",
      "|1881.0|  F|       938|\n",
      "|1881.0|  M|       997|\n",
      "|1882.0|  F|      1028|\n",
      "|1882.0|  M|      1099|\n",
      "|1883.0|  F|      1054|\n",
      "|1883.0|  M|      1030|\n",
      "|1884.0|  F|      1172|\n",
      "|1884.0|  M|      1125|\n",
      "+------+---+----------+\n",
      "only showing top 10 rows\n",
      "\n"
     ]
    }
   ],
   "source": [
    "df_sp.groupby(col(\"year\"), col(\"sex\"))\\\n",
    "    .agg(fn.count(col(\"name\")).alias(\"n_distinct\"))\\\n",
    "    .orderBy(col(\"year\"), col(\"sex\")).show(10)"
   ]
  },
  {
   "cell_type": "code",
   "execution_count": 18,
   "metadata": {
    "ExecuteTime": {
     "end_time": "2020-04-03T16:46:11.943446Z",
     "start_time": "2020-04-03T16:46:10.237745Z"
    }
   },
   "outputs": [
    {
     "name": "stdout",
     "output_type": "stream",
     "text": [
      "+------+---+-----+\n",
      "|  year|sex|count|\n",
      "+------+---+-----+\n",
      "|1880.0|  F|  942|\n",
      "|1880.0|  M| 1058|\n",
      "|1881.0|  F|  938|\n",
      "|1881.0|  M|  997|\n",
      "|1882.0|  F| 1028|\n",
      "|1882.0|  M| 1099|\n",
      "|1883.0|  F| 1054|\n",
      "|1883.0|  M| 1030|\n",
      "|1884.0|  F| 1172|\n",
      "|1884.0|  M| 1125|\n",
      "+------+---+-----+\n",
      "only showing top 10 rows\n",
      "\n"
     ]
    }
   ],
   "source": [
    "nb_names_year_sex = df_sp.groupBy([df_sp.year, df_sp.sex]).count()\n",
    "nb_names_year_sex.orderBy(col(\"year\"),col(\"sex\")).show(10)\n"
   ]
  },
  {
   "cell_type": "markdown",
   "metadata": {
    "format": "text/markdown"
   },
   "source": [
    "\n",
    "1. Plot the evolution of the number of distinct names as a function of `year`.\n",
    "Use some aesthetics to distinguish sexes.\n",
    "\n",
    "\n"
   ]
  },
  {
   "cell_type": "code",
   "execution_count": 19,
   "metadata": {
    "ExecuteTime": {
     "end_time": "2020-04-03T16:46:14.780326Z",
     "start_time": "2020-04-03T16:46:13.183158Z"
    },
    "autoscroll": "auto",
    "options": {
     "caption": false,
     "complete": true,
     "display_data": true,
     "display_stream": true,
     "dpi": 200,
     "echo": true,
     "evaluate": false,
     "f_env": null,
     "f_pos": "htpb",
     "f_size": [
      6,
      4
     ],
     "f_spines": true,
     "fig": true,
     "include": true,
     "name": null,
     "option_string": "evaluate=False",
     "results": "verbatim",
     "term": false,
     "wrap": "output"
    }
   },
   "outputs": [
    {
     "data": {
      "image/png": "[encoded data removed]",
      "text/plain": [
       "<Figure size 432x288 with 1 Axes>"
      ]
     },
     "metadata": {},
     "output_type": "display_data"
    }
   ],
   "source": [
    "# TODO:\n",
    "nb_names_year_sex_pd = nb_names_year_sex.toPandas()\n",
    "\n",
    "sns.set()\n",
    "\n",
    "g = sns.lineplot(x = \"year\",\n",
    "                 y = \"count\",\n",
    "                 hue = \"sex\",\n",
    "                 style = \"sex\",\n",
    "                 data = nb_names_year_sex_pd)\n",
    "\n",
    "plt.show()"
   ]
  },
  {
   "cell_type": "markdown",
   "metadata": {
    "format": "text/markdown"
   },
   "source": [
    "\n",
    "\n",
    "Assessing popularity through time\n",
    "=================================\n",
    "\n",
    "1. For each year and sex, compute the total number of births\n",
    "1. Plot the evolution of the sex ratio over time\n",
    "1. For each year, sex, and name compute the percentage of newborns\n",
    "given that name for that given year.\n",
    "\n",
    "\n",
    "> Use `Window` functions.\n",
    "\n"
   ]
  },
  {
   "cell_type": "code",
   "execution_count": 20,
   "metadata": {
    "ExecuteTime": {
     "end_time": "2020-04-03T16:46:17.707055Z",
     "start_time": "2020-04-03T16:46:16.103323Z"
    },
    "autoscroll": "auto",
    "options": {
     "caption": false,
     "complete": true,
     "display_data": true,
     "display_stream": true,
     "dpi": 200,
     "echo": true,
     "evaluate": false,
     "f_env": null,
     "f_pos": "htpb",
     "f_size": [
      6,
      4
     ],
     "f_spines": true,
     "fig": true,
     "include": true,
     "name": null,
     "option_string": "evaluate=False",
     "results": "verbatim",
     "term": false,
     "wrap": "output"
    }
   },
   "outputs": [
    {
     "name": "stdout",
     "output_type": "stream",
     "text": [
      "+------+---+------+\n",
      "|  year|sex|births|\n",
      "+------+---+------+\n",
      "|1880.0|  F| 90993|\n",
      "|1880.0|  M|110491|\n",
      "|1881.0|  F| 91953|\n",
      "|1881.0|  M|100743|\n",
      "|1882.0|  F|107847|\n",
      "|1882.0|  M|113686|\n",
      "|1883.0|  F|112319|\n",
      "|1883.0|  M|104627|\n",
      "|1884.0|  F|129020|\n",
      "|1884.0|  M|114442|\n",
      "+------+---+------+\n",
      "only showing top 10 rows\n",
      "\n"
     ]
    }
   ],
   "source": [
    "# TODO:\n",
    "\n",
    "nb_births_year_sex = df_sp.groupby(col(\"year\"), col(\"sex\"))\\\n",
    "    .agg(fn.sum(col(\"n\")).alias(\"births\"))\\\n",
    "    .orderBy(col(\"year\"), col(\"sex\"))\n",
    "\n",
    "nb_births_year_sex.show(10)"
   ]
  },
  {
   "cell_type": "markdown",
   "metadata": {
    "format": "text/markdown"
   },
   "source": [
    "\n",
    "\n"
   ]
  },
  {
   "cell_type": "code",
   "execution_count": 21,
   "metadata": {
    "ExecuteTime": {
     "end_time": "2020-04-03T16:46:21.234519Z",
     "start_time": "2020-04-03T16:46:19.711126Z"
    },
    "autoscroll": "auto",
    "options": {
     "caption": false,
     "complete": true,
     "display_data": true,
     "display_stream": true,
     "dpi": 200,
     "echo": true,
     "evaluate": false,
     "f_env": null,
     "f_pos": "htpb",
     "f_size": [
      6,
      4
     ],
     "f_spines": true,
     "fig": true,
     "include": true,
     "name": null,
     "option_string": "evaluate=False",
     "results": "verbatim",
     "term": false,
     "wrap": "output"
    }
   },
   "outputs": [
    {
     "data": {
      "image/png": "[encoded data removed]",
      "text/plain": [
       "<Figure size 432x288 with 1 Axes>"
      ]
     },
     "metadata": {},
     "output_type": "display_data"
    }
   ],
   "source": [
    "\n",
    "\n",
    "df_sex_total = df_sp.groupBy(col(\"year\"), col(\"sex\"))\\\n",
    "                .agg(fn.sum(col(\"n\")).alias(\"total\"))\n",
    "\n",
    "df_sex_total_pd = df_sex_total.toPandas()\n",
    "\n",
    "sns.set()\n",
    "\n",
    "g = sns.lineplot(x = \"year\",\n",
    "                 y = \"total\",\n",
    "                 hue = \"sex\",\n",
    "                 style = \"sex\",\n",
    "                 data = df_sex_total_pd)\n",
    "plt.show()\n",
    "\n"
   ]
  },
  {
   "cell_type": "code",
   "execution_count": 22,
   "metadata": {
    "ExecuteTime": {
     "end_time": "2020-04-03T16:46:27.682115Z",
     "start_time": "2020-04-03T16:46:22.028481Z"
    }
   },
   "outputs": [
    {
     "data": {
      "image/png": "[encoded data removed]",
      "text/plain": [
       "<Figure size 432x288 with 1 Axes>"
      ]
     },
     "metadata": {},
     "output_type": "display_data"
    }
   ],
   "source": [
    "\n",
    "# TODO: plot sex ratio\n",
    "\n",
    "df_ratio = df_sex_total.groupby(\"year\")\\\n",
    "            .pivot(\"sex\")\\\n",
    "            .sum(\"total\")\\\n",
    "            .withColumn(\"sex_ratio\", fn.round(col(\"M\")/col(\"F\"), 2))\\\n",
    "            .orderBy(col(\"year\"))\n",
    "\n",
    "df_ratio_pd = df_ratio.toPandas()\n",
    "\n",
    "sns.set()\n",
    "g = sns.lineplot(x = \"year\",\n",
    "                 y = \"sex_ratio\",\n",
    "                 data = df_ratio_pd)\n",
    "plt.show()"
   ]
  },
  {
   "cell_type": "code",
   "execution_count": 23,
   "metadata": {
    "ExecuteTime": {
     "end_time": "2020-04-03T16:46:32.303146Z",
     "start_time": "2020-04-03T16:46:27.684286Z"
    },
    "scrolled": true
   },
   "outputs": [
    {
     "name": "stdout",
     "output_type": "stream",
     "text": [
      "+------+-----+---+---+------------+----------+\n",
      "|  year| name|  n|sex|total_births|percentage|\n",
      "+------+-----+---+---+------------+----------+\n",
      "|2007.0|Aaban|  5|  M|     2073388| 2.4115E-4|\n",
      "|2009.0|Aaban|  6|  M|     1981039| 3.0287E-4|\n",
      "|2010.0|Aaban|  9|  M|     1915942| 4.6974E-4|\n",
      "|2011.0|Aaban| 11|  M|     1895910|  5.802E-4|\n",
      "|2012.0|Aaban| 11|  M|     1893134| 5.8105E-4|\n",
      "|2013.0|Aaban| 14|  M|     1886989| 7.4192E-4|\n",
      "|2014.0|Aaban| 16|  M|     1915239|  8.354E-4|\n",
      "|2015.0|Aaban| 15|  M|     1909804| 7.8542E-4|\n",
      "|2016.0|Aaban|  9|  M|     1889052| 4.7643E-4|\n",
      "|2017.0|Aaban| 11|  M|     1834490| 5.9962E-4|\n",
      "+------+-----+---+---+------------+----------+\n",
      "only showing top 10 rows\n",
      "\n"
     ]
    }
   ],
   "source": [
    "#percentage of newborns by name and year\n",
    "\n",
    "nb_births_year_name = df_sp.groupBy(col(\"year\"),col(\"name\"))\\\n",
    "                .agg(fn.sum(col(\"n\")).alias(\"total\"))\n",
    "\n",
    "#nb_births_year_name.show(20)\n",
    "\n",
    "wintest = Window.partitionBy(\"year\",\"sex\")\n",
    "total = fn.sum(\"n\").over(wintest)\n",
    "percentage = fn.round(100*col(\"n\")/total,8)\n",
    "df_sp = df_sp.withColumn(\"total_births\", total).withColumn(\"percentage\", percentage)\\\n",
    ".select(\"year\", \"name\", \"n\",\"sex\", \"total_births\", \"percentage\").orderBy(\"name\",\"year\",\"n\")\n",
    "\n",
    "df_sp.show(10)\n",
    "\n",
    "\n",
    "\n"
   ]
  },
  {
   "cell_type": "markdown",
   "metadata": {
    "format": "text/markdown"
   },
   "source": [
    "\n",
    "1. Compute for each year, sex and name  the `row_number`, `rank`, and `dense_rank`\n",
    "of the name within that year and sex category, when names are sorted by increasing popularity.\n",
    "\n"
   ]
  },
  {
   "cell_type": "code",
   "execution_count": 24,
   "metadata": {
    "ExecuteTime": {
     "end_time": "2020-04-03T16:46:32.365262Z",
     "start_time": "2020-04-03T16:46:32.305223Z"
    },
    "autoscroll": "auto",
    "options": {
     "caption": false,
     "complete": true,
     "display_data": true,
     "display_stream": true,
     "dpi": 200,
     "echo": true,
     "evaluate": false,
     "f_env": null,
     "f_pos": "htpb",
     "f_size": [
      6,
      4
     ],
     "f_spines": true,
     "fig": true,
     "include": true,
     "name": null,
     "option_string": "evaluate=False",
     "results": "verbatim",
     "term": false,
     "wrap": "output"
    }
   },
   "outputs": [],
   "source": [
    "# TODO:\n",
    "\n",
    "#row_number :\n",
    "windowSpec  = Window.partitionBy(\"year\", \"sex\").orderBy(fn.col('n').desc(), fn.col('name'))\n",
    "df_sp = df_sp.withColumn(\"row_number\",fn.row_number().over(windowSpec))\\\n",
    "        .withColumn(\"rank\",fn.rank().over(windowSpec))\\\n",
    "        .withColumn(\"dense_rank\",fn.dense_rank().over(windowSpec))\n",
    "\n"
   ]
  },
  {
   "cell_type": "markdown",
   "metadata": {
    "format": "text/markdown"
   },
   "source": [
    "\n",
    "\n",
    "\n",
    "Evolution of top popular names through the century\n",
    "==================================================\n",
    "\n",
    "\n",
    "1. For each sex, select the ten most popular names in year 2000, and plot the proportion\n",
    "of newborns given that name over time. Take into account that some names might have\n",
    "zero occurrence during certain years.\n",
    "\n"
   ]
  },
  {
   "cell_type": "code",
   "execution_count": 25,
   "metadata": {
    "ExecuteTime": {
     "end_time": "2020-04-03T16:46:56.762407Z",
     "start_time": "2020-04-03T16:46:32.367231Z"
    },
    "autoscroll": "auto",
    "options": {
     "caption": false,
     "complete": true,
     "display_data": true,
     "display_stream": true,
     "dpi": 200,
     "echo": true,
     "evaluate": false,
     "f_env": null,
     "f_pos": "htpb",
     "f_size": [
      6,
      4
     ],
     "f_spines": true,
     "fig": true,
     "include": true,
     "name": null,
     "option_string": "evaluate=False",
     "results": "verbatim",
     "term": false,
     "wrap": "output"
    }
   },
   "outputs": [
    {
     "data": {
      "image/png": "[encoded data removed]",
      "text/plain": [
       "<Figure size 824.35x360 with 2 Axes>"
      ]
     },
     "metadata": {},
     "output_type": "display_data"
    }
   ],
   "source": [
    "# TODO:\n",
    "top10_2000 = get_top(2000)\n",
    "\n",
    "#top10_2000.show(3)\n",
    "top10_2000_pd = top10_2000.toPandas()\n",
    "\n",
    "top_names_F = list(top10_2000_pd[top10_2000_pd[\"sex\"] == 'F']['name'])\n",
    "top_names_M = list(top10_2000_pd[top10_2000_pd[\"sex\"] == 'M']['name'])\n",
    "                                 \n",
    "\n",
    "#this was done to avoid showing occurences for mostly female names in male graphs and vice versa\n",
    "\n",
    "prct_top10_f = df_sp.filter(col('name').isin(top_names_F)).filter(col('sex') == 'F')\n",
    "prct_top10_m = df_sp.filter(col('name').isin(top_names_M)).filter(col('sex') == 'M')\n",
    "prct_top10 = prct_top10_f.union(prct_top10_m)\n",
    "prct_top10_pd = prct_top10.toPandas()\n",
    "\n",
    "                               \n",
    "sns.set()\n",
    "\n",
    "g = sns.relplot(x = \"year\",\n",
    "                y = \"percentage\",\n",
    "                hue = \"name\",\n",
    "                col = \"sex\",\n",
    "                kind = \"line\",\n",
    "                data = prct_top10_pd)\n",
    "plt.show()\n"
   ]
  },
  {
   "cell_type": "markdown",
   "metadata": {
    "format": "text/markdown"
   },
   "source": [
    "\n",
    "1. Use `explain()` to determine the joining strategy used by spark.\n",
    "\n",
    "\n",
    "Plot  the popularity of each of the top ten achievers from year 2000 with respect to time\n",
    "==================================================================================\n",
    "\n",
    "\n"
   ]
  },
  {
   "cell_type": "code",
   "execution_count": 26,
   "metadata": {
    "ExecuteTime": {
     "end_time": "2020-04-03T16:46:56.766567Z",
     "start_time": "2020-04-03T16:46:56.764193Z"
    },
    "autoscroll": "auto",
    "options": {
     "caption": false,
     "complete": true,
     "display_data": true,
     "display_stream": true,
     "dpi": 200,
     "echo": true,
     "evaluate": false,
     "f_env": null,
     "f_pos": "htpb",
     "f_size": [
      6,
      4
     ],
     "f_spines": true,
     "fig": true,
     "include": true,
     "name": null,
     "option_string": "evaluate=False",
     "results": "verbatim",
     "term": false,
     "wrap": "output"
    }
   },
   "outputs": [],
   "source": [
    "# %%\n",
    "# TODO:\n",
    "# %%"
   ]
  },
  {
   "cell_type": "markdown",
   "metadata": {
    "format": "text/markdown"
   },
   "source": [
    "\n",
    "\n",
    "Plot the total popularity of the top ten achievers from year 2000 with respect to time\n",
    "==================================================================================\n",
    "\n",
    "\n"
   ]
  },
  {
   "cell_type": "code",
   "execution_count": 27,
   "metadata": {
    "ExecuteTime": {
     "end_time": "2020-04-03T16:47:15.985308Z",
     "start_time": "2020-04-03T16:47:08.007714Z"
    },
    "autoscroll": "auto",
    "options": {
     "caption": false,
     "complete": true,
     "display_data": true,
     "display_stream": true,
     "dpi": 200,
     "echo": true,
     "evaluate": false,
     "f_env": null,
     "f_pos": "htpb",
     "f_size": [
      6,
      4
     ],
     "f_spines": true,
     "fig": true,
     "include": true,
     "name": null,
     "option_string": "evaluate=False",
     "results": "verbatim",
     "term": false,
     "wrap": "output"
    }
   },
   "outputs": [
    {
     "data": {
      "image/png": "[encoded data removed]",
      "text/plain": [
       "<Figure size 778.725x360 with 2 Axes>"
      ]
     },
     "metadata": {},
     "output_type": "display_data"
    }
   ],
   "source": [
    "# %%\n",
    "# TODO:\n",
    "\n",
    "prct_top10_total = prct_top10.groupby(col(\"year\"), col(\"sex\"))\\\n",
    "                .agg(fn.sum(col(\"percentage\"))\\\n",
    "                .alias(\"Top 10 percentage\"))\n",
    "\n",
    "sns.set()\n",
    "g = sns.relplot(x = \"year\",\n",
    "                y = \"Top 10 percentage\",\n",
    "                col = \"sex\",\n",
    "                hue = \"sex\",\n",
    "                kind = \"line\",\n",
    "                data = prct_top10_total.toPandas())\n",
    "plt.show()\n",
    "\n",
    "# %%"
   ]
  },
  {
   "cell_type": "markdown",
   "metadata": {
    "format": "text/markdown"
   },
   "source": [
    "\n",
    "\n",
    "Plot lorenz curves\n",
    "=====================\n",
    "\n",
    "Every year, the name counts define a discrete probability distribution.\n",
    "This distribution, just as income or wealth distribution,\n",
    "is (usually) far from being uniform. We want to assess how uneven it is.\n",
    "We use the tools developed in econometrics.\n",
    "\n",
    "Without loss of generality, that we handle a distribution over $1, \\ldots, n$\n",
    "where $n$ is the number of distinct names given during a year.\n",
    "We assume that frequencies $p_1, p_2, \\ldots, p_n$ are given in ascending order.\n",
    "\n",
    "The Lorenz function maps $[0, 1] \\to [0, 1]$.\n",
    "$$L(x) = \\sum_{i=1}^{\\lfloor nx \\rfloor} p_i$$.\n",
    "\n",
    "1. Design a query that adds a column \"lorenz\" to the dataframe , and for each\n",
    "row computes the value of the Lorenz function defined by `year`  and `sex`.\n",
    "\n",
    "\n"
   ]
  },
  {
   "cell_type": "code",
   "execution_count": 28,
   "metadata": {
    "ExecuteTime": {
     "end_time": "2020-04-03T16:47:30.958687Z",
     "start_time": "2020-04-03T16:47:15.987118Z"
    },
    "autoscroll": "auto",
    "options": {
     "caption": false,
     "complete": true,
     "display_data": true,
     "display_stream": true,
     "dpi": 200,
     "echo": true,
     "evaluate": false,
     "f_env": null,
     "f_pos": "htpb",
     "f_size": [
      6,
      4
     ],
     "f_spines": true,
     "fig": true,
     "include": true,
     "name": null,
     "option_string": "evaluate=False",
     "results": "verbatim",
     "term": false,
     "wrap": "output"
    }
   },
   "outputs": [
    {
     "name": "stdout",
     "output_type": "stream",
     "text": [
      "+------+-------+-----+---+------------+----------+----------+----+----------+------------------+\n",
      "|  year|   name|    n|sex|total_births|percentage|row_number|rank|dense_rank|                 L|\n",
      "+------+-------+-----+---+------------+----------+----------+----+----------+------------------+\n",
      "|2005.0|  Jacob|25830|  M|     1995746|1.29425288|         1|   1|         1|               1.0|\n",
      "|2005.0|  Emily|23937|  F|     1846258|1.29651435|         1|   1|         1|         1.0000001|\n",
      "|2005.0|Michael|23812|  M|     1995746| 1.1931378|         2|   2|         2|0.9870574999999999|\n",
      "|2005.0|   Emma|20339|  F|     1846258|1.10163368|         2|   2|         2|         0.9870349|\n",
      "|2005.0| Joshua|23248|  M|     1995746|1.16487769|         3|   3|         3|         0.9751261|\n",
      "|2005.0|Madison|19566|  F|     1846258|1.05976521|         3|   3|         3|0.9760186000000001|\n",
      "|2005.0|Matthew|21467|  M|     1995746|1.07563788|         4|   4|         4|         0.9634773|\n",
      "|2005.0|Abigail|15749|  F|     1846258|0.85302271|         4|   4|         4|0.9654210000000001|\n",
      "|2005.0| Olivia|15691|  F|     1846258|0.84988122|         5|   5|         5|         0.9568907|\n",
      "|2005.0|  Ethan|21309|  M|     1995746|1.06772104|         5|   5|         5|0.9527209000000001|\n",
      "+------+-------+-----+---+------------+----------+----------+----+----------+------------------+\n",
      "only showing top 10 rows\n",
      "\n",
      "+---+------+-------+--------------------+\n",
      "|sex|  year| births|              lorenz|\n",
      "+---+------+-------+--------------------+\n",
      "|  F|1895.0| 233627| 0.07458814203539826|\n",
      "|  F|1950.0|1713151| 0.03563661621665846|\n",
      "|  F|1909.0| 347230| 0.06545104627158561|\n",
      "|  F|1892.0| 212339|  0.0758188785671282|\n",
      "|  F|1998.0|1766358|0.061369339649355266|\n",
      "|  M|1890.0| 111025| 0.07870861920757975|\n",
      "|  M|1918.0|1013504| 0.04101378240182843|\n",
      "|  M|1884.0| 114442| 0.07561603519999999|\n",
      "|  M|1912.0| 429947| 0.05618222801101171|\n",
      "|  M|1991.0|2019709| 0.03685443281152811|\n",
      "+---+------+-------+--------------------+\n",
      "only showing top 10 rows\n",
      "\n"
     ]
    }
   ],
   "source": [
    "# TODO:\n",
    "\n",
    "\n",
    "windowval = Window.partitionBy('sex','year').orderBy(fn.col('percentage').asc()).rowsBetween(Window.unboundedPreceding, 0)\n",
    "\n",
    "df_sp = df_sp.withColumn('L', fn.round(fn.sum('percentage').over(windowval),5)/100)\n",
    "\n",
    "\n",
    "df_lorenz = df_sp.groupby(col(\"year\"), col(\"sex\"))\\\n",
    "            .agg(fn.avg(col(\"L\"))\\\n",
    "            .alias(\"lorenz\"))\n",
    "\n",
    "\n",
    "new = nb_births_year_sex.join(df_lorenz, on=['sex','year'])\n",
    "\n",
    "df_sp.orderBy('year','L').where(\"year= 2005\").orderBy('row_number', ascending=True).show(10)\n",
    "new.show(10)\n"
   ]
  },
  {
   "cell_type": "code",
   "execution_count": 29,
   "metadata": {
    "ExecuteTime": {
     "end_time": "2020-04-03T16:47:32.924787Z",
     "start_time": "2020-04-03T16:47:30.960688Z"
    }
   },
   "outputs": [
    {
     "name": "stdout",
     "output_type": "stream",
     "text": [
      "prob    0.904351\n",
      "dtype: float64\n"
     ]
    }
   ],
   "source": [
    "test = df_sp.where(\"year = 1880 AND sex = 'F'\").withColumn(\"prob\", col('percentage')/100)\n",
    "df = test.select('prob').orderBy('prob').toPandas()\n",
    "print(1 - df.cumsum().mean())"
   ]
  },
  {
   "cell_type": "markdown",
   "metadata": {
    "format": "text/markdown"
   },
   "source": [
    "\n",
    "\n",
    "1. Design a function that takes as input a `year` and plots the Lorenz curve\n",
    "for that year for both sexes.\n",
    "\n"
   ]
  },
  {
   "cell_type": "code",
   "execution_count": 30,
   "metadata": {
    "ExecuteTime": {
     "end_time": "2020-04-03T16:47:40.339346Z",
     "start_time": "2020-04-03T16:47:32.928898Z"
    },
    "autoscroll": "auto",
    "options": {
     "caption": false,
     "complete": true,
     "display_data": true,
     "display_stream": true,
     "dpi": 200,
     "echo": true,
     "evaluate": false,
     "f_env": null,
     "f_pos": "htpb",
     "f_size": [
      6,
      4
     ],
     "f_spines": true,
     "fig": true,
     "include": true,
     "name": null,
     "option_string": "evaluate=False",
     "results": "verbatim",
     "term": false,
     "wrap": "output"
    }
   },
   "outputs": [
    {
     "data": {
      "image/png": "[encoded data removed]",
      "text/plain": [
       "<Figure size 432x288 with 1 Axes>"
      ]
     },
     "metadata": {},
     "output_type": "display_data"
    }
   ],
   "source": [
    "# %%\n",
    "# TODO:\n",
    "\n",
    "def plot_lorenz(year):\n",
    "    \n",
    "    windowval = Window.partitionBy('sex').orderBy(fn.col('percentage').asc()).rowsBetween(Window.unboundedPreceding, 0)\n",
    "\n",
    "    name_count = 1/fn.count(\"name\").over(Window.partitionBy(\"sex\"))\n",
    "\n",
    "    lorenz_graph = df_sp.filter(col('year') == year)\\\n",
    "        .withColumn(\"name_count\",name_count)\\\n",
    "        .withColumn('x', fn.sum('name_count').over(windowval))\\\n",
    "        .drop('name_count')\n",
    "\n",
    "    \n",
    "    sns.set()\n",
    "    \n",
    "    g = sns.lineplot(x = 'x',\n",
    "                     y = \"L\",\n",
    "                     hue = \"sex\",\n",
    "                     style = \"sex\",\n",
    "                     data = lorenz_graph.toPandas())\n",
    "    plt.plot([0, 1], [0, 1], 'g:')\n",
    "    \n",
    "    \n",
    "plot_lorenz(2000)\n",
    "\n",
    "# %%"
   ]
  },
  {
   "cell_type": "markdown",
   "metadata": {
    "format": "text/markdown"
   },
   "source": [
    "\n",
    "Gini index\n",
    "==========\n",
    "\n",
    "The [Gini index](https://en.wikipedia.org/wiki/Gini_coefficient) is twice the surface of the area comprised between curves $y=x$\n",
    "and $y=L(x)$.\n",
    "\n",
    "Choose a formula that allows you to compute it efficiently.\n",
    "\n",
    "$$G={\\frac {2\\sum _{i=1}^{n}iy_{i}}{n\\sum _{i=1}^{n}y_{i}}}-{\\frac {n+1}{n}}.$$\n",
    "\n",
    "1. Design a query that computes the Gini index of the `babynames` distribution\n",
    "for every `year` and `sex`.\n",
    "\n",
    "1. Plot Gini index over time\n",
    "\n",
    "\n"
   ]
  },
  {
   "cell_type": "code",
   "execution_count": 33,
   "metadata": {
    "ExecuteTime": {
     "end_time": "2020-04-03T16:48:18.138177Z",
     "start_time": "2020-04-03T16:48:09.619576Z"
    },
    "autoscroll": "auto",
    "options": {
     "caption": false,
     "complete": true,
     "display_data": true,
     "display_stream": true,
     "dpi": 200,
     "echo": true,
     "evaluate": false,
     "f_env": null,
     "f_pos": "htpb",
     "f_size": [
      6,
      4
     ],
     "f_spines": true,
     "fig": true,
     "include": true,
     "name": null,
     "option_string": "evaluate=False",
     "results": "verbatim",
     "term": false,
     "wrap": "output"
    }
   },
   "outputs": [
    {
     "name": "stdout",
     "output_type": "stream",
     "text": [
      "+------+---+-----------+-------+-----+------------------+\n",
      "|  year|sex|        2li|      l|    n|              gini|\n",
      "+------+---+-----------+-------+-----+------------------+\n",
      "|1895.0|  F|  782250776| 233627| 1808|0.8513768055925772|\n",
      "|1950.0|  F|20195393584|1713151| 6111|0.9288903990102657|\n",
      "|1909.0|  F| 1654363956| 347230| 2548|0.8694903725836289|\n",
      "|1890.0|  M|  237731014| 111025| 1161| 0.843444087772675|\n",
      "|1892.0|  F|  652332958| 212339| 1661|0.8489643259241506|\n",
      "|1918.0|  M| 9357886700|1013504| 4813|0.9181802506375472|\n",
      "|1998.0|  F|55041101296|1766358|16598|0.8773216456473336|\n",
      "|1884.0|  M|  238252674| 114442| 1125|0.8496568431558731|\n",
      "|1912.0|  M| 2359320744| 429947| 2906|0.8879796250307208|\n",
      "|1991.0|  M|37532259258|2019709| 9646|0.9263947150922731|\n",
      "+------+---+-----------+-------+-----+------------------+\n",
      "only showing top 10 rows\n",
      "\n"
     ]
    }
   ],
   "source": [
    "# TODO:\n",
    "windowSpec  = Window.partitionBy(\"year\", \"sex\").orderBy(fn.col('L').asc())\n",
    "df_sp = df_sp.withColumn(\"i\",fn.row_number().over(windowSpec))\n",
    "\n",
    "df_2 = df_sp\\\n",
    "    .drop('row_number','rank','dense_rank')\\\n",
    "    .withColumn('2Li', fn.col('i')*fn.col('n')*2)\n",
    "#.show(20)\n",
    "\n",
    "\n",
    "df_gini = df_2.groupby(col(\"year\"), col(\"sex\"))\\\n",
    "            .agg((fn.sum(col(\"2Li\"))).alias(\"2li\"), (fn.sum(col(\"n\"))).alias(\"l\"), fn.count('name').alias('n'))\n",
    "\n",
    "df_gini = df_gini.withColumn('gini',col('2li')/(col('n')*col('l'))-(col('n')+1)/(col('n')))\n",
    "\n",
    "df_gini.show(10)"
   ]
  },
  {
   "cell_type": "markdown",
   "metadata": {
    "format": "text/markdown"
   },
   "source": [
    "\n",
    "\n"
   ]
  },
  {
   "cell_type": "code",
   "execution_count": 32,
   "metadata": {
    "ExecuteTime": {
     "end_time": "2020-04-03T16:47:51.878421Z",
     "start_time": "2020-04-03T16:47:40.471195Z"
    },
    "autoscroll": "auto",
    "options": {
     "caption": false,
     "complete": true,
     "display_data": true,
     "display_stream": true,
     "dpi": 200,
     "echo": true,
     "evaluate": false,
     "f_env": null,
     "f_pos": "htpb",
     "f_size": [
      6,
      4
     ],
     "f_spines": true,
     "fig": true,
     "include": true,
     "name": null,
     "option_string": "evaluate=False",
     "results": "verbatim",
     "term": false,
     "wrap": "output"
    }
   },
   "outputs": [
    {
     "data": {
      "image/png": "[encoded data removed]",
      "text/plain": [
       "<Figure size 432x288 with 1 Axes>"
      ]
     },
     "metadata": {},
     "output_type": "display_data"
    }
   ],
   "source": [
    "# %%\n",
    "# TODO:\n",
    "    \n",
    "sns.set()\n",
    "    \n",
    "g = sns.lineplot(x = 'year',\n",
    "                 y = \"gini\",\n",
    "                 hue = \"sex\",\n",
    "                 style = \"sex\",\n",
    "                 data = df_gini.toPandas())\n",
    "plt.show()\n",
    "# %%"
   ]
  },
  {
   "cell_type": "markdown",
   "metadata": {
    "format": "text/markdown"
   },
   "source": [
    "\n",
    "\n",
    "\n",
    "Close the door, leave work area clean\n",
    "=====================================\n"
   ]
  },
  {
   "cell_type": "code",
   "execution_count": null,
   "metadata": {
    "ExecuteTime": {
     "end_time": "2020-04-03T16:45:35.955322Z",
     "start_time": "2020-04-03T16:45:05.937Z"
    }
   },
   "outputs": [],
   "source": [
    "spark.stop()"
   ]
  }
 ],
 "metadata": {
  "kernel_info": {
   "name": "python3"
  },
  "kernelspec": {
   "display_name": "Python 3",
   "language": "python",
   "name": "python3"
  },
  "language_info": {
   "codemirror_mode": {
    "name": "ipython",
    "version": 3
   },
   "file_extension": ".py",
   "mimetype": "text/x-python",
   "name": "python",
   "nbconvert_exporter": "python",
   "pygments_lexer": "ipython3",
   "version": "3.7.5"
  },
  "toc": {
   "base_numbering": 1,
   "nav_menu": {},
   "number_sections": true,
   "sideBar": true,
   "skip_h1_title": false,
   "title_cell": "Table of Contents",
   "title_sidebar": "Contents",
   "toc_cell": false,
   "toc_position": {
    "height": "calc(100% - 180px)",
    "left": "10px",
    "top": "150px",
    "width": "259.8px"
   },
   "toc_section_display": true,
   "toc_window_display": true
  }
 },
 "nbformat": 4,
 "nbformat_minor": 1
}
