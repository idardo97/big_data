{
 "cells": [
  {
   "cell_type": "markdown",
   "metadata": {
    "slideshow": {
     "slide_type": "slide"
    }
   },
   "source": [
    "# The `Titanic` dataset\n",
    "\n",
    "Go to the following `kaggle` webpage [https://www.kaggle.com/c/titanic/data](https://www.kaggle.com/c/titanic/data)\n",
    "\n",
    "If you don't have a `kaggle` account, create one.\n",
    "\n",
    "Download the `train.csv` dataset.\n",
    "\n",
    "Answer the following questions using the libraries `pandas`, `seaborn` and/or any other library that you like.\n",
    "We expect you to produce **nice looking plots**, at least **readable** and perform the required computations\n",
    " as concisely as possible using the `pandas` API. This is the way we will evaluate this homework.\n",
    "\n",
    "Before boarding on the homework, import (install them if needed)\n",
    "the next modules.\n",
    "\n",
    "\n"
   ]
  },
  {
   "cell_type": "code",
   "execution_count": 1,
   "metadata": {
    "ExecuteTime": {
     "end_time": "2020-02-19T16:05:45.968912Z",
     "start_time": "2020-02-19T16:05:45.295221Z"
    },
    "autoscroll": "auto",
    "options": {
     "caption": false,
     "complete": true,
     "display_data": true,
     "display_stream": true,
     "dpi": 200,
     "echo": true,
     "evaluate": false,
     "f_env": null,
     "f_pos": "htpb",
     "f_size": [
      6,
      4
     ],
     "f_spines": true,
     "fig": true,
     "include": true,
     "name": null,
     "option_string": "evaluate=False",
     "results": "verbatim",
     "term": false,
     "wrap": "output"
    },
    "slideshow": {
     "slide_type": "subslide"
    }
   },
   "outputs": [
    {
     "name": "stderr",
     "output_type": "stream",
     "text": [
      "/usr/local/lib/python3.7/dist-packages/pdpipe/__init__.py:91: UserWarning: Traceback (most recent call last):\n",
      "  File \"/usr/local/lib/python3.7/dist-packages/pdpipe/__init__.py\", line 79, in <module>\n",
      "    from . import nltk_stages\n",
      "  File \"/usr/local/lib/python3.7/dist-packages/pdpipe/nltk_stages.py\", line 16, in <module>\n",
      "    import nltk\n",
      "ModuleNotFoundError: No module named 'nltk'\n",
      "\n",
      "  warnings.warn(tb)\n",
      "/usr/local/lib/python3.7/dist-packages/pdpipe/__init__.py:93: UserWarning: pdpipe: nltk import failed. nltk-dependent  pipeline stages will not be loaded.\n",
      "  \"pdpipe: nltk import failed. nltk-dependent  pipeline \"\n"
     ]
    }
   ],
   "source": [
    "import numpy as np\n",
    "import pandas as pd\n",
    "\n",
    "%matplotlib inline\n",
    "import matplotlib.pyplot as plt\n",
    "import seaborn as sns\n",
    "import pdpipe as pdp\n",
    "\n",
    "import requests\n",
    "\n",
    "import re\n",
    "import os\n",
    "from collections import namedtuple\n",
    "from collections import abc\n",
    "from statsmodels.graphics.mosaicplot import mosaic\n",
    "\n",
    "sns.set_context(\"notebook\", font_scale=1.2)"
   ]
  },
  {
   "cell_type": "markdown",
   "metadata": {
    "slideshow": {
     "slide_type": "slide"
    }
   },
   "source": [
    "The first thing to do is to read the description of\n",
    "the columns and understand what the dataset is about and what it contains.\n",
    "\n",
    "## Question : inspecting a DataFrame\n",
    "\n",
    "Open the dataframe with `pandas`, check the first lines of the dataset\n",
    "\n",
    "### Answer"
   ]
  },
  {
   "cell_type": "code",
   "execution_count": 2,
   "metadata": {
    "ExecuteTime": {
     "end_time": "2020-02-19T16:05:47.517426Z",
     "start_time": "2020-02-19T16:05:47.498508Z"
    },
    "autoscroll": "auto",
    "options": {
     "caption": false,
     "complete": true,
     "display_data": true,
     "display_stream": true,
     "dpi": 200,
     "echo": true,
     "evaluate": false,
     "f_env": null,
     "f_pos": "htpb",
     "f_size": [
      6,
      4
     ],
     "f_spines": true,
     "fig": true,
     "include": true,
     "name": null,
     "option_string": "evaluate=False",
     "results": "verbatim",
     "term": false,
     "wrap": "output"
    },
    "slideshow": {
     "slide_type": "subslide"
    }
   },
   "outputs": [
    {
     "data": {
      "text/html": [
       "<div>\n",
       "<style scoped>\n",
       "    .dataframe tbody tr th:only-of-type {\n",
       "        vertical-align: middle;\n",
       "    }\n",
       "\n",
       "    .dataframe tbody tr th {\n",
       "        vertical-align: top;\n",
       "    }\n",
       "\n",
       "    .dataframe thead th {\n",
       "        text-align: right;\n",
       "    }\n",
       "</style>\n",
       "<table border=\"1\" class=\"dataframe\">\n",
       "  <thead>\n",
       "    <tr style=\"text-align: right;\">\n",
       "      <th></th>\n",
       "      <th>PassengerId</th>\n",
       "      <th>Survived</th>\n",
       "      <th>Pclass</th>\n",
       "      <th>Name</th>\n",
       "      <th>Sex</th>\n",
       "      <th>Age</th>\n",
       "      <th>SibSp</th>\n",
       "      <th>Parch</th>\n",
       "      <th>Ticket</th>\n",
       "      <th>Fare</th>\n",
       "      <th>Cabin</th>\n",
       "      <th>Embarked</th>\n",
       "    </tr>\n",
       "  </thead>\n",
       "  <tbody>\n",
       "    <tr>\n",
       "      <td>0</td>\n",
       "      <td>1</td>\n",
       "      <td>0</td>\n",
       "      <td>3</td>\n",
       "      <td>Braund, Mr. Owen Harris</td>\n",
       "      <td>male</td>\n",
       "      <td>22.0</td>\n",
       "      <td>1</td>\n",
       "      <td>0</td>\n",
       "      <td>A/5 21171</td>\n",
       "      <td>7.2500</td>\n",
       "      <td>NaN</td>\n",
       "      <td>S</td>\n",
       "    </tr>\n",
       "    <tr>\n",
       "      <td>1</td>\n",
       "      <td>2</td>\n",
       "      <td>1</td>\n",
       "      <td>1</td>\n",
       "      <td>Cumings, Mrs. John Bradley (Florence Briggs Th...</td>\n",
       "      <td>female</td>\n",
       "      <td>38.0</td>\n",
       "      <td>1</td>\n",
       "      <td>0</td>\n",
       "      <td>PC 17599</td>\n",
       "      <td>71.2833</td>\n",
       "      <td>C85</td>\n",
       "      <td>C</td>\n",
       "    </tr>\n",
       "    <tr>\n",
       "      <td>2</td>\n",
       "      <td>3</td>\n",
       "      <td>1</td>\n",
       "      <td>3</td>\n",
       "      <td>Heikkinen, Miss. Laina</td>\n",
       "      <td>female</td>\n",
       "      <td>26.0</td>\n",
       "      <td>0</td>\n",
       "      <td>0</td>\n",
       "      <td>STON/O2. 3101282</td>\n",
       "      <td>7.9250</td>\n",
       "      <td>NaN</td>\n",
       "      <td>S</td>\n",
       "    </tr>\n",
       "    <tr>\n",
       "      <td>3</td>\n",
       "      <td>4</td>\n",
       "      <td>1</td>\n",
       "      <td>1</td>\n",
       "      <td>Futrelle, Mrs. Jacques Heath (Lily May Peel)</td>\n",
       "      <td>female</td>\n",
       "      <td>35.0</td>\n",
       "      <td>1</td>\n",
       "      <td>0</td>\n",
       "      <td>113803</td>\n",
       "      <td>53.1000</td>\n",
       "      <td>C123</td>\n",
       "      <td>S</td>\n",
       "    </tr>\n",
       "    <tr>\n",
       "      <td>4</td>\n",
       "      <td>5</td>\n",
       "      <td>0</td>\n",
       "      <td>3</td>\n",
       "      <td>Allen, Mr. William Henry</td>\n",
       "      <td>male</td>\n",
       "      <td>35.0</td>\n",
       "      <td>0</td>\n",
       "      <td>0</td>\n",
       "      <td>373450</td>\n",
       "      <td>8.0500</td>\n",
       "      <td>NaN</td>\n",
       "      <td>S</td>\n",
       "    </tr>\n",
       "  </tbody>\n",
       "</table>\n",
       "</div>"
      ],
      "text/plain": [
       "   PassengerId  Survived  Pclass  \\\n",
       "0            1         0       3   \n",
       "1            2         1       1   \n",
       "2            3         1       3   \n",
       "3            4         1       1   \n",
       "4            5         0       3   \n",
       "\n",
       "                                                Name     Sex   Age  SibSp  \\\n",
       "0                            Braund, Mr. Owen Harris    male  22.0      1   \n",
       "1  Cumings, Mrs. John Bradley (Florence Briggs Th...  female  38.0      1   \n",
       "2                             Heikkinen, Miss. Laina  female  26.0      0   \n",
       "3       Futrelle, Mrs. Jacques Heath (Lily May Peel)  female  35.0      1   \n",
       "4                           Allen, Mr. William Henry    male  35.0      0   \n",
       "\n",
       "   Parch            Ticket     Fare Cabin Embarked  \n",
       "0      0         A/5 21171   7.2500   NaN        S  \n",
       "1      0          PC 17599  71.2833   C85        C  \n",
       "2      0  STON/O2. 3101282   7.9250   NaN        S  \n",
       "3      0            113803  53.1000  C123        S  \n",
       "4      0            373450   8.0500   NaN        S  "
      ]
     },
     "execution_count": 2,
     "metadata": {},
     "output_type": "execute_result"
    }
   ],
   "source": [
    "train = pd.read_csv(\"train.csv\")\n",
    "train.head()"
   ]
  },
  {
   "cell_type": "markdown",
   "metadata": {
    "slideshow": {
     "slide_type": "subslide"
    }
   },
   "source": [
    "\n",
    "Method `info`  print a a concise summary of a `DataFrame`.\n",
    "With optional parameter `memory_usage`, you can get an estimate\n",
    "of the amount of memory used by the `DataFrame`. Beware that\n",
    "the resulting estimate depends on the argument fed.\n",
    "\n"
   ]
  },
  {
   "cell_type": "code",
   "execution_count": 3,
   "metadata": {
    "ExecuteTime": {
     "end_time": "2020-02-19T16:05:48.891706Z",
     "start_time": "2020-02-19T16:05:48.884280Z"
    },
    "autoscroll": "auto",
    "options": {
     "caption": false,
     "complete": true,
     "display_data": true,
     "display_stream": true,
     "dpi": 200,
     "echo": true,
     "evaluate": false,
     "f_env": null,
     "f_pos": "htpb",
     "f_size": [
      6,
      4
     ],
     "f_spines": true,
     "fig": true,
     "include": true,
     "name": null,
     "option_string": "evaluate=False",
     "results": "verbatim",
     "term": false,
     "wrap": "output"
    },
    "slideshow": {
     "slide_type": "subslide"
    }
   },
   "outputs": [
    {
     "name": "stdout",
     "output_type": "stream",
     "text": [
      "<class 'pandas.core.frame.DataFrame'>\n",
      "RangeIndex: 891 entries, 0 to 890\n",
      "Data columns (total 12 columns):\n",
      "PassengerId    891 non-null int64\n",
      "Survived       891 non-null int64\n",
      "Pclass         891 non-null int64\n",
      "Name           891 non-null object\n",
      "Sex            891 non-null object\n",
      "Age            714 non-null float64\n",
      "SibSp          891 non-null int64\n",
      "Parch          891 non-null int64\n",
      "Ticket         891 non-null object\n",
      "Fare           891 non-null float64\n",
      "Cabin          204 non-null object\n",
      "Embarked       889 non-null object\n",
      "dtypes: float64(2), int64(5), object(5)\n",
      "memory usage: 83.7+ KB\n"
     ]
    }
   ],
   "source": [
    "train.info(memory_usage=True)"
   ]
  },
  {
   "cell_type": "markdown",
   "metadata": {
    "slideshow": {
     "slide_type": "slide"
    }
   },
   "source": [
    "\n",
    "## Question: Checking the types of columns\n",
    "\n",
    "Check the types of the columns.\n",
    "\n",
    "- How do you obtain the type of a column?\n",
    "- How do you obtain the datatype (`dtype`) of elements of a column?\n",
    "\n",
    "### Answer\n",
    "\n"
   ]
  },
  {
   "cell_type": "code",
   "execution_count": 4,
   "metadata": {
    "ExecuteTime": {
     "end_time": "2020-02-19T16:05:51.289587Z",
     "start_time": "2020-02-19T16:05:51.279239Z"
    },
    "autoscroll": "auto",
    "options": {
     "caption": false,
     "complete": true,
     "display_data": true,
     "display_stream": true,
     "dpi": 200,
     "echo": true,
     "evaluate": false,
     "f_env": null,
     "f_pos": "htpb",
     "f_size": [
      6,
      4
     ],
     "f_spines": true,
     "fig": true,
     "include": true,
     "name": null,
     "option_string": "evaluate=False",
     "results": "verbatim",
     "term": false,
     "wrap": "output"
    },
    "slideshow": {
     "slide_type": "subslide"
    }
   },
   "outputs": [
    {
     "data": {
      "text/plain": [
       "PassengerId      int64\n",
       "Survived         int64\n",
       "Pclass           int64\n",
       "Name            object\n",
       "Sex             object\n",
       "Age            float64\n",
       "SibSp            int64\n",
       "Parch            int64\n",
       "Ticket          object\n",
       "Fare           float64\n",
       "Cabin           object\n",
       "Embarked        object\n",
       "dtype: object"
      ]
     },
     "execution_count": 4,
     "metadata": {},
     "output_type": "execute_result"
    }
   ],
   "source": [
    "train.dtypes\n"
   ]
  },
  {
   "cell_type": "markdown",
   "metadata": {
    "slideshow": {
     "slide_type": "slide"
    }
   },
   "source": [
    "## Question: selecting columns according to datatype\n",
    "\n",
    "Project (in the SQL sense)  the DataFrame on columns with a specified datatype.\n",
    "For example, project (as in the SQL `SELECT`)\n",
    "the Titanic `DataFrame` on the  numerical columns.\n",
    "\n",
    "Hint: method `select_dtypes`\n",
    "\n",
    "### Answer\n"
   ]
  },
  {
   "cell_type": "code",
   "execution_count": 5,
   "metadata": {
    "ExecuteTime": {
     "end_time": "2020-02-19T16:05:52.379067Z",
     "start_time": "2020-02-19T16:05:52.357128Z"
    }
   },
   "outputs": [
    {
     "data": {
      "text/html": [
       "<div>\n",
       "<style scoped>\n",
       "    .dataframe tbody tr th:only-of-type {\n",
       "        vertical-align: middle;\n",
       "    }\n",
       "\n",
       "    .dataframe tbody tr th {\n",
       "        vertical-align: top;\n",
       "    }\n",
       "\n",
       "    .dataframe thead th {\n",
       "        text-align: right;\n",
       "    }\n",
       "</style>\n",
       "<table border=\"1\" class=\"dataframe\">\n",
       "  <thead>\n",
       "    <tr style=\"text-align: right;\">\n",
       "      <th></th>\n",
       "      <th>PassengerId</th>\n",
       "      <th>Survived</th>\n",
       "      <th>Pclass</th>\n",
       "      <th>Age</th>\n",
       "      <th>SibSp</th>\n",
       "      <th>Parch</th>\n",
       "      <th>Fare</th>\n",
       "    </tr>\n",
       "  </thead>\n",
       "  <tbody>\n",
       "    <tr>\n",
       "      <td>0</td>\n",
       "      <td>1</td>\n",
       "      <td>0</td>\n",
       "      <td>3</td>\n",
       "      <td>22.0</td>\n",
       "      <td>1</td>\n",
       "      <td>0</td>\n",
       "      <td>7.2500</td>\n",
       "    </tr>\n",
       "    <tr>\n",
       "      <td>1</td>\n",
       "      <td>2</td>\n",
       "      <td>1</td>\n",
       "      <td>1</td>\n",
       "      <td>38.0</td>\n",
       "      <td>1</td>\n",
       "      <td>0</td>\n",
       "      <td>71.2833</td>\n",
       "    </tr>\n",
       "    <tr>\n",
       "      <td>2</td>\n",
       "      <td>3</td>\n",
       "      <td>1</td>\n",
       "      <td>3</td>\n",
       "      <td>26.0</td>\n",
       "      <td>0</td>\n",
       "      <td>0</td>\n",
       "      <td>7.9250</td>\n",
       "    </tr>\n",
       "    <tr>\n",
       "      <td>3</td>\n",
       "      <td>4</td>\n",
       "      <td>1</td>\n",
       "      <td>1</td>\n",
       "      <td>35.0</td>\n",
       "      <td>1</td>\n",
       "      <td>0</td>\n",
       "      <td>53.1000</td>\n",
       "    </tr>\n",
       "    <tr>\n",
       "      <td>4</td>\n",
       "      <td>5</td>\n",
       "      <td>0</td>\n",
       "      <td>3</td>\n",
       "      <td>35.0</td>\n",
       "      <td>0</td>\n",
       "      <td>0</td>\n",
       "      <td>8.0500</td>\n",
       "    </tr>\n",
       "    <tr>\n",
       "      <td>...</td>\n",
       "      <td>...</td>\n",
       "      <td>...</td>\n",
       "      <td>...</td>\n",
       "      <td>...</td>\n",
       "      <td>...</td>\n",
       "      <td>...</td>\n",
       "      <td>...</td>\n",
       "    </tr>\n",
       "    <tr>\n",
       "      <td>886</td>\n",
       "      <td>887</td>\n",
       "      <td>0</td>\n",
       "      <td>2</td>\n",
       "      <td>27.0</td>\n",
       "      <td>0</td>\n",
       "      <td>0</td>\n",
       "      <td>13.0000</td>\n",
       "    </tr>\n",
       "    <tr>\n",
       "      <td>887</td>\n",
       "      <td>888</td>\n",
       "      <td>1</td>\n",
       "      <td>1</td>\n",
       "      <td>19.0</td>\n",
       "      <td>0</td>\n",
       "      <td>0</td>\n",
       "      <td>30.0000</td>\n",
       "    </tr>\n",
       "    <tr>\n",
       "      <td>888</td>\n",
       "      <td>889</td>\n",
       "      <td>0</td>\n",
       "      <td>3</td>\n",
       "      <td>NaN</td>\n",
       "      <td>1</td>\n",
       "      <td>2</td>\n",
       "      <td>23.4500</td>\n",
       "    </tr>\n",
       "    <tr>\n",
       "      <td>889</td>\n",
       "      <td>890</td>\n",
       "      <td>1</td>\n",
       "      <td>1</td>\n",
       "      <td>26.0</td>\n",
       "      <td>0</td>\n",
       "      <td>0</td>\n",
       "      <td>30.0000</td>\n",
       "    </tr>\n",
       "    <tr>\n",
       "      <td>890</td>\n",
       "      <td>891</td>\n",
       "      <td>0</td>\n",
       "      <td>3</td>\n",
       "      <td>32.0</td>\n",
       "      <td>0</td>\n",
       "      <td>0</td>\n",
       "      <td>7.7500</td>\n",
       "    </tr>\n",
       "  </tbody>\n",
       "</table>\n",
       "<p>891 rows × 7 columns</p>\n",
       "</div>"
      ],
      "text/plain": [
       "     PassengerId  Survived  Pclass   Age  SibSp  Parch     Fare\n",
       "0              1         0       3  22.0      1      0   7.2500\n",
       "1              2         1       1  38.0      1      0  71.2833\n",
       "2              3         1       3  26.0      0      0   7.9250\n",
       "3              4         1       1  35.0      1      0  53.1000\n",
       "4              5         0       3  35.0      0      0   8.0500\n",
       "..           ...       ...     ...   ...    ...    ...      ...\n",
       "886          887         0       2  27.0      0      0  13.0000\n",
       "887          888         1       1  19.0      0      0  30.0000\n",
       "888          889         0       3   NaN      1      2  23.4500\n",
       "889          890         1       1  26.0      0      0  30.0000\n",
       "890          891         0       3  32.0      0      0   7.7500\n",
       "\n",
       "[891 rows x 7 columns]"
      ]
     },
     "execution_count": 5,
     "metadata": {},
     "output_type": "execute_result"
    }
   ],
   "source": [
    "train.select_dtypes(np.number)"
   ]
  },
  {
   "cell_type": "markdown",
   "metadata": {
    "slideshow": {
     "slide_type": "slide"
    }
   },
   "source": [
    "\n",
    "## Question: computing number of distinct values in each column\n",
    "\n",
    "For each column with non-numerical datatype compute the number of unique values\n",
    "in the column.\n",
    "\n",
    "### Answer\n",
    "\n"
   ]
  },
  {
   "cell_type": "code",
   "execution_count": 6,
   "metadata": {
    "ExecuteTime": {
     "end_time": "2020-02-19T16:05:53.749840Z",
     "start_time": "2020-02-19T16:05:53.735144Z"
    },
    "autoscroll": "auto",
    "options": {
     "caption": false,
     "complete": true,
     "display_data": true,
     "display_stream": true,
     "dpi": 200,
     "echo": true,
     "evaluate": false,
     "f_env": null,
     "f_pos": "htpb",
     "f_size": [
      6,
      4
     ],
     "f_spines": true,
     "fig": true,
     "include": true,
     "name": null,
     "option_string": "evaluate=False",
     "results": "verbatim",
     "term": false,
     "wrap": "output"
    },
    "slideshow": {
     "slide_type": "subslide"
    }
   },
   "outputs": [
    {
     "name": "stdout",
     "output_type": "stream",
     "text": [
      "['Braund, Mr. Owen Harris'\n",
      " 'Cumings, Mrs. John Bradley (Florence Briggs Thayer)'\n",
      " 'Heikkinen, Miss. Laina' 'Futrelle, Mrs. Jacques Heath (Lily May Peel)'\n",
      " 'Allen, Mr. William Henry' 'Moran, Mr. James' 'McCarthy, Mr. Timothy J'\n",
      " 'Palsson, Master. Gosta Leonard'\n",
      " 'Johnson, Mrs. Oscar W (Elisabeth Vilhelmina Berg)'\n",
      " 'Nasser, Mrs. Nicholas (Adele Achem)' 'Sandstrom, Miss. Marguerite Rut'\n",
      " 'Bonnell, Miss. Elizabeth' 'Saundercock, Mr. William Henry'\n",
      " 'Andersson, Mr. Anders Johan' 'Vestrom, Miss. Hulda Amanda Adolfina'\n",
      " 'Hewlett, Mrs. (Mary D Kingcome) ' 'Rice, Master. Eugene'\n",
      " 'Williams, Mr. Charles Eugene'\n",
      " 'Vander Planke, Mrs. Julius (Emelia Maria Vandemoortele)'\n",
      " 'Masselmani, Mrs. Fatima' 'Fynney, Mr. Joseph J' 'Beesley, Mr. Lawrence'\n",
      " 'McGowan, Miss. Anna \"Annie\"' 'Sloper, Mr. William Thompson'\n",
      " 'Palsson, Miss. Torborg Danira'\n",
      " 'Asplund, Mrs. Carl Oscar (Selma Augusta Emilia Johansson)'\n",
      " 'Emir, Mr. Farred Chehab' 'Fortune, Mr. Charles Alexander'\n",
      " 'O\\'Dwyer, Miss. Ellen \"Nellie\"' 'Todoroff, Mr. Lalio'\n",
      " 'Uruchurtu, Don. Manuel E'\n",
      " 'Spencer, Mrs. William Augustus (Marie Eugenie)'\n",
      " 'Glynn, Miss. Mary Agatha' 'Wheadon, Mr. Edward H'\n",
      " 'Meyer, Mr. Edgar Joseph' 'Holverson, Mr. Alexander Oskar'\n",
      " 'Mamee, Mr. Hanna' 'Cann, Mr. Ernest Charles'\n",
      " 'Vander Planke, Miss. Augusta Maria' 'Nicola-Yarred, Miss. Jamila'\n",
      " 'Ahlin, Mrs. Johan (Johanna Persdotter Larsson)'\n",
      " 'Turpin, Mrs. William John Robert (Dorothy Ann Wonnacott)'\n",
      " 'Kraeff, Mr. Theodor' 'Laroche, Miss. Simonne Marie Anne Andree'\n",
      " 'Devaney, Miss. Margaret Delia' 'Rogers, Mr. William John'\n",
      " 'Lennon, Mr. Denis' \"O'Driscoll, Miss. Bridget\" 'Samaan, Mr. Youssef'\n",
      " 'Arnold-Franchi, Mrs. Josef (Josefine Franchi)'\n",
      " 'Panula, Master. Juha Niilo' 'Nosworthy, Mr. Richard Cater'\n",
      " 'Harper, Mrs. Henry Sleeper (Myna Haxtun)'\n",
      " 'Faunthorpe, Mrs. Lizzie (Elizabeth Anne Wilkinson)'\n",
      " 'Ostby, Mr. Engelhart Cornelius' 'Woolner, Mr. Hugh' 'Rugg, Miss. Emily'\n",
      " 'Novel, Mr. Mansouer' 'West, Miss. Constance Mirium'\n",
      " 'Goodwin, Master. William Frederick' 'Sirayanian, Mr. Orsen'\n",
      " 'Icard, Miss. Amelie' 'Harris, Mr. Henry Birkhardt'\n",
      " 'Skoog, Master. Harald' 'Stewart, Mr. Albert A'\n",
      " 'Moubarek, Master. Gerios' 'Nye, Mrs. (Elizabeth Ramell)'\n",
      " 'Crease, Mr. Ernest James' 'Andersson, Miss. Erna Alexandra'\n",
      " 'Kink, Mr. Vincenz' 'Jenkin, Mr. Stephen Curnow'\n",
      " 'Goodwin, Miss. Lillian Amy' 'Hood, Mr. Ambrose Jr'\n",
      " 'Chronopoulos, Mr. Apostolos' 'Bing, Mr. Lee' 'Moen, Mr. Sigurd Hansen'\n",
      " 'Staneff, Mr. Ivan' 'Moutal, Mr. Rahamin Haim'\n",
      " 'Caldwell, Master. Alden Gates' 'Dowdell, Miss. Elizabeth'\n",
      " 'Waelens, Mr. Achille' 'Sheerlinck, Mr. Jan Baptist'\n",
      " 'McDermott, Miss. Brigdet Delia' 'Carrau, Mr. Francisco M'\n",
      " 'Ilett, Miss. Bertha'\n",
      " 'Backstrom, Mrs. Karl Alfred (Maria Mathilda Gustafsson)'\n",
      " 'Ford, Mr. William Neal' 'Slocovski, Mr. Selman Francis'\n",
      " 'Fortune, Miss. Mabel Helen' 'Celotti, Mr. Francesco'\n",
      " 'Christmann, Mr. Emil' 'Andreasson, Mr. Paul Edvin'\n",
      " 'Chaffee, Mr. Herbert Fuller' 'Dean, Mr. Bertram Frank'\n",
      " 'Coxon, Mr. Daniel' 'Shorney, Mr. Charles Joseph'\n",
      " 'Goldschmidt, Mr. George B' 'Greenfield, Mr. William Bertram'\n",
      " 'Doling, Mrs. John T (Ada Julia Bone)' 'Kantor, Mr. Sinai'\n",
      " 'Petranec, Miss. Matilda' 'Petroff, Mr. Pastcho (\"Pentcho\")'\n",
      " 'White, Mr. Richard Frasar' 'Johansson, Mr. Gustaf Joel'\n",
      " 'Gustafsson, Mr. Anders Vilhelm' 'Mionoff, Mr. Stoytcho'\n",
      " 'Salkjelsvik, Miss. Anna Kristine' 'Moss, Mr. Albert Johan'\n",
      " 'Rekic, Mr. Tido' 'Moran, Miss. Bertha' 'Porter, Mr. Walter Chamberlain'\n",
      " 'Zabour, Miss. Hileni' 'Barton, Mr. David John' 'Jussila, Miss. Katriina'\n",
      " 'Attalah, Miss. Malake' 'Pekoniemi, Mr. Edvard' 'Connors, Mr. Patrick'\n",
      " 'Turpin, Mr. William John Robert' 'Baxter, Mr. Quigg Edmond'\n",
      " 'Andersson, Miss. Ellis Anna Maria' 'Hickman, Mr. Stanley George'\n",
      " 'Moore, Mr. Leonard Charles' 'Nasser, Mr. Nicholas' 'Webber, Miss. Susan'\n",
      " 'White, Mr. Percival Wayland' 'Nicola-Yarred, Master. Elias'\n",
      " 'McMahon, Mr. Martin' 'Madsen, Mr. Fridtjof Arne' 'Peter, Miss. Anna'\n",
      " 'Ekstrom, Mr. Johan' 'Drazenoic, Mr. Jozef'\n",
      " 'Coelho, Mr. Domingos Fernandeo'\n",
      " 'Robins, Mrs. Alexander A (Grace Charity Laury)'\n",
      " 'Weisz, Mrs. Leopold (Mathilde Francoise Pede)'\n",
      " 'Sobey, Mr. Samuel James Hayden' 'Richard, Mr. Emile'\n",
      " 'Newsom, Miss. Helen Monypeny' 'Futrelle, Mr. Jacques Heath'\n",
      " 'Osen, Mr. Olaf Elon' 'Giglio, Mr. Victor'\n",
      " 'Boulos, Mrs. Joseph (Sultana)' 'Nysten, Miss. Anna Sofia'\n",
      " 'Hakkarainen, Mrs. Pekka Pietari (Elin Matilda Dolck)'\n",
      " 'Burke, Mr. Jeremiah' 'Andrew, Mr. Edgardo Samuel'\n",
      " 'Nicholls, Mr. Joseph Charles'\n",
      " 'Andersson, Mr. August Edvard (\"Wennerstrom\")'\n",
      " 'Ford, Miss. Robina Maggie \"Ruby\"'\n",
      " 'Navratil, Mr. Michel (\"Louis M Hoffman\")'\n",
      " 'Byles, Rev. Thomas Roussel Davids' 'Bateman, Rev. Robert James'\n",
      " 'Pears, Mrs. Thomas (Edith Wearne)' 'Meo, Mr. Alfonzo'\n",
      " 'van Billiard, Mr. Austin Blyler' 'Olsen, Mr. Ole Martin'\n",
      " 'Williams, Mr. Charles Duane' 'Gilnagh, Miss. Katherine \"Katie\"'\n",
      " 'Corn, Mr. Harry' 'Smiljanic, Mr. Mile' 'Sage, Master. Thomas Henry'\n",
      " 'Cribb, Mr. John Hatfield'\n",
      " 'Watt, Mrs. James (Elizabeth \"Bessie\" Inglis Milne)'\n",
      " 'Bengtsson, Mr. John Viktor' 'Calic, Mr. Jovo'\n",
      " 'Panula, Master. Eino Viljami'\n",
      " 'Goldsmith, Master. Frank John William \"Frankie\"'\n",
      " 'Chibnall, Mrs. (Edith Martha Bowerman)'\n",
      " 'Skoog, Mrs. William (Anna Bernhardina Karlsson)' 'Baumann, Mr. John D'\n",
      " 'Ling, Mr. Lee' 'Van der hoef, Mr. Wyckoff' 'Rice, Master. Arthur'\n",
      " 'Johnson, Miss. Eleanor Ileen' 'Sivola, Mr. Antti Wilhelm'\n",
      " 'Smith, Mr. James Clinch' 'Klasen, Mr. Klas Albin'\n",
      " 'Lefebre, Master. Henry Forbes' 'Isham, Miss. Ann Elizabeth'\n",
      " 'Hale, Mr. Reginald' 'Leonard, Mr. Lionel' 'Sage, Miss. Constance Gladys'\n",
      " 'Pernot, Mr. Rene' 'Asplund, Master. Clarence Gustaf Hugo'\n",
      " 'Becker, Master. Richard F' 'Kink-Heilmann, Miss. Luise Gretchen'\n",
      " 'Rood, Mr. Hugh Roscoe'\n",
      " 'O\\'Brien, Mrs. Thomas (Johanna \"Hannah\" Godfrey)'\n",
      " 'Romaine, Mr. Charles Hallace (\"Mr C Rolmane\")' 'Bourke, Mr. John'\n",
      " 'Turcin, Mr. Stjepan' 'Pinsky, Mrs. (Rosa)' 'Carbines, Mr. William'\n",
      " 'Andersen-Jensen, Miss. Carla Christine Nielsine'\n",
      " 'Navratil, Master. Michel M' 'Brown, Mrs. James Joseph (Margaret Tobin)'\n",
      " 'Lurette, Miss. Elise' 'Mernagh, Mr. Robert'\n",
      " 'Olsen, Mr. Karl Siegwart Andreas' 'Madigan, Miss. Margaret \"Maggie\"'\n",
      " 'Yrois, Miss. Henriette (\"Mrs Harbeck\")' 'Vande Walle, Mr. Nestor Cyriel'\n",
      " 'Sage, Mr. Frederick' 'Johanson, Mr. Jakob Alfred' 'Youseff, Mr. Gerious'\n",
      " 'Cohen, Mr. Gurshon \"Gus\"' 'Strom, Miss. Telma Matilda'\n",
      " 'Backstrom, Mr. Karl Alfred' 'Albimona, Mr. Nassef Cassem'\n",
      " 'Carr, Miss. Helen \"Ellen\"' 'Blank, Mr. Henry' 'Ali, Mr. Ahmed'\n",
      " 'Cameron, Miss. Clear Annie' 'Perkin, Mr. John Henry'\n",
      " 'Givard, Mr. Hans Kristensen' 'Kiernan, Mr. Philip'\n",
      " 'Newell, Miss. Madeleine' 'Honkanen, Miss. Eliina'\n",
      " 'Jacobsohn, Mr. Sidney Samuel' 'Bazzani, Miss. Albina'\n",
      " 'Harris, Mr. Walter' 'Sunderland, Mr. Victor Francis'\n",
      " 'Bracken, Mr. James H' 'Green, Mr. George Henry' 'Nenkoff, Mr. Christo'\n",
      " 'Hoyt, Mr. Frederick Maxfield' 'Berglund, Mr. Karl Ivar Sven'\n",
      " 'Mellors, Mr. William John' 'Lovell, Mr. John Hall (\"Henry\")'\n",
      " 'Fahlstrom, Mr. Arne Jonas' 'Lefebre, Miss. Mathilde'\n",
      " 'Harris, Mrs. Henry Birkhardt (Irene Wallach)' 'Larsson, Mr. Bengt Edvin'\n",
      " 'Sjostedt, Mr. Ernst Adolf' 'Asplund, Miss. Lillian Gertrud'\n",
      " 'Leyson, Mr. Robert William Norman' 'Harknett, Miss. Alice Phoebe'\n",
      " 'Hold, Mr. Stephen' 'Collyer, Miss. Marjorie \"Lottie\"'\n",
      " 'Pengelly, Mr. Frederick William' 'Hunt, Mr. George Henry'\n",
      " 'Zabour, Miss. Thamine' 'Murphy, Miss. Katherine \"Kate\"'\n",
      " 'Coleridge, Mr. Reginald Charles' 'Maenpaa, Mr. Matti Alexanteri'\n",
      " 'Attalah, Mr. Sleiman' 'Minahan, Dr. William Edward'\n",
      " 'Lindahl, Miss. Agda Thorilda Viktoria' 'Hamalainen, Mrs. William (Anna)'\n",
      " 'Beckwith, Mr. Richard Leonard' 'Carter, Rev. Ernest Courtenay'\n",
      " 'Reed, Mr. James George' 'Strom, Mrs. Wilhelm (Elna Matilda Persson)'\n",
      " 'Stead, Mr. William Thomas' 'Lobb, Mr. William Arthur'\n",
      " 'Rosblom, Mrs. Viktor (Helena Wilhelmina)'\n",
      " 'Touma, Mrs. Darwis (Hanne Youssef Razi)'\n",
      " 'Thorne, Mrs. Gertrude Maybelle' 'Cherry, Miss. Gladys'\n",
      " 'Ward, Miss. Anna' 'Parrish, Mrs. (Lutie Davis)' 'Smith, Mr. Thomas'\n",
      " 'Asplund, Master. Edvin Rojj Felix' 'Taussig, Mr. Emil'\n",
      " 'Harrison, Mr. William' 'Henry, Miss. Delia' 'Reeves, Mr. David'\n",
      " 'Panula, Mr. Ernesti Arvid' 'Persson, Mr. Ernst Ulrik'\n",
      " 'Graham, Mrs. William Thompson (Edith Junkins)' 'Bissette, Miss. Amelia'\n",
      " 'Cairns, Mr. Alexander' 'Tornquist, Mr. William Henry'\n",
      " 'Mellinger, Mrs. (Elizabeth Anne Maidment)' 'Natsch, Mr. Charles H'\n",
      " 'Healy, Miss. Hanora \"Nora\"' 'Andrews, Miss. Kornelia Theodosia'\n",
      " 'Lindblom, Miss. Augusta Charlotta' 'Parkes, Mr. Francis \"Frank\"'\n",
      " 'Rice, Master. Eric' 'Abbott, Mrs. Stanton (Rosa Hunt)'\n",
      " 'Duane, Mr. Frank' 'Olsson, Mr. Nils Johan Goransson'\n",
      " 'de Pelsmaeker, Mr. Alfons' 'Dorking, Mr. Edward Arthur'\n",
      " 'Smith, Mr. Richard William' 'Stankovic, Mr. Ivan'\n",
      " 'de Mulder, Mr. Theodore' 'Naidenoff, Mr. Penko' 'Hosono, Mr. Masabumi'\n",
      " 'Connolly, Miss. Kate' 'Barber, Miss. Ellen \"Nellie\"'\n",
      " 'Bishop, Mrs. Dickinson H (Helen Walton)' 'Levy, Mr. Rene Jacques'\n",
      " 'Haas, Miss. Aloisia' 'Mineff, Mr. Ivan' 'Lewy, Mr. Ervin G'\n",
      " 'Hanna, Mr. Mansour' 'Allison, Miss. Helen Loraine'\n",
      " 'Saalfeld, Mr. Adolphe' 'Baxter, Mrs. James (Helene DeLaudeniere Chaput)'\n",
      " 'Kelly, Miss. Anna Katherine \"Annie Kate\"' 'McCoy, Mr. Bernard'\n",
      " 'Johnson, Mr. William Cahoone Jr' 'Keane, Miss. Nora A'\n",
      " 'Williams, Mr. Howard Hugh \"Harry\"' 'Allison, Master. Hudson Trevor'\n",
      " 'Fleming, Miss. Margaret'\n",
      " 'Penasco y Castellana, Mrs. Victor de Satode (Maria Josefa Perez de Soto y Vallejo)'\n",
      " 'Abelson, Mr. Samuel' 'Francatelli, Miss. Laura Mabel'\n",
      " 'Hays, Miss. Margaret Bechstein' 'Ryerson, Miss. Emily Borie'\n",
      " 'Lahtinen, Mrs. William (Anna Sylfven)' 'Hendekovic, Mr. Ignjac'\n",
      " 'Hart, Mr. Benjamin' 'Nilsson, Miss. Helmina Josefina'\n",
      " 'Kantor, Mrs. Sinai (Miriam Sternin)' 'Moraweck, Dr. Ernest'\n",
      " 'Wick, Miss. Mary Natalie'\n",
      " 'Spedden, Mrs. Frederic Oakley (Margaretta Corning Stone)'\n",
      " 'Dennis, Mr. Samuel' 'Danoff, Mr. Yoto' 'Slayter, Miss. Hilda Mary'\n",
      " 'Caldwell, Mrs. Albert Francis (Sylvia Mae Harbaugh)'\n",
      " 'Sage, Mr. George John Jr' 'Young, Miss. Marie Grice'\n",
      " 'Nysveen, Mr. Johan Hansen' 'Ball, Mrs. (Ada E Hall)'\n",
      " 'Goldsmith, Mrs. Frank John (Emily Alice Brown)'\n",
      " 'Hippach, Miss. Jean Gertrude' 'McCoy, Miss. Agnes' 'Partner, Mr. Austen'\n",
      " 'Graham, Mr. George Edward' 'Vander Planke, Mr. Leo Edmondus'\n",
      " 'Frauenthal, Mrs. Henry William (Clara Heinsheimer)' 'Denkoff, Mr. Mitto'\n",
      " 'Pears, Mr. Thomas Clinton' 'Burns, Miss. Elizabeth Margaret'\n",
      " 'Dahl, Mr. Karl Edwart' 'Blackwell, Mr. Stephen Weart'\n",
      " 'Navratil, Master. Edmond Roger' 'Fortune, Miss. Alice Elizabeth'\n",
      " 'Collander, Mr. Erik Gustaf' 'Sedgwick, Mr. Charles Frederick Waddington'\n",
      " 'Fox, Mr. Stanley Hubert' 'Brown, Miss. Amelia \"Mildred\"'\n",
      " 'Smith, Miss. Marion Elsie' 'Davison, Mrs. Thomas Henry (Mary E Finck)'\n",
      " 'Coutts, Master. William Loch \"William\"' 'Dimic, Mr. Jovan'\n",
      " 'Odahl, Mr. Nils Martin' 'Williams-Lambert, Mr. Fletcher Fellows'\n",
      " 'Elias, Mr. Tannous' 'Arnold-Franchi, Mr. Josef' 'Yousif, Mr. Wazli'\n",
      " 'Vanden Steen, Mr. Leo Peter' 'Bowerman, Miss. Elsie Edith'\n",
      " 'Funk, Miss. Annie Clemmer' 'McGovern, Miss. Mary'\n",
      " 'Mockler, Miss. Helen Mary \"Ellie\"' 'Skoog, Mr. Wilhelm'\n",
      " 'del Carlo, Mr. Sebastiano' 'Barbara, Mrs. (Catherine David)'\n",
      " 'Asim, Mr. Adola' \"O'Brien, Mr. Thomas\" 'Adahl, Mr. Mauritz Nils Martin'\n",
      " 'Warren, Mrs. Frank Manley (Anna Sophia Atkinson)'\n",
      " 'Moussa, Mrs. (Mantoura Boulos)' 'Jermyn, Miss. Annie'\n",
      " 'Aubart, Mme. Leontine Pauline' 'Harder, Mr. George Achilles'\n",
      " 'Wiklund, Mr. Jakob Alfred' 'Beavan, Mr. William Thomas'\n",
      " 'Ringhini, Mr. Sante' 'Palsson, Miss. Stina Viola'\n",
      " 'Meyer, Mrs. Edgar Joseph (Leila Saks)' 'Landergren, Miss. Aurora Adelia'\n",
      " 'Widener, Mr. Harry Elkins' 'Betros, Mr. Tannous'\n",
      " 'Gustafsson, Mr. Karl Gideon' 'Bidois, Miss. Rosalie'\n",
      " 'Nakid, Miss. Maria (\"Mary\")' 'Tikkanen, Mr. Juho'\n",
      " 'Holverson, Mrs. Alexander Oskar (Mary Aline Towner)'\n",
      " 'Plotcharsky, Mr. Vasil' 'Davies, Mr. Charles Henry'\n",
      " 'Goodwin, Master. Sidney Leonard' 'Buss, Miss. Kate'\n",
      " 'Sadlier, Mr. Matthew' 'Lehmann, Miss. Bertha'\n",
      " 'Carter, Mr. William Ernest' 'Jansson, Mr. Carl Olof'\n",
      " 'Gustafsson, Mr. Johan Birger' 'Newell, Miss. Marjorie'\n",
      " 'Sandstrom, Mrs. Hjalmar (Agnes Charlotta Bengtsson)'\n",
      " 'Johansson, Mr. Erik' 'Olsson, Miss. Elina' 'McKane, Mr. Peter David'\n",
      " 'Pain, Dr. Alfred' 'Trout, Mrs. William H (Jessie L)'\n",
      " 'Niskanen, Mr. Juha' 'Adams, Mr. John' 'Jussila, Miss. Mari Aina'\n",
      " 'Hakkarainen, Mr. Pekka Pietari' 'Oreskovic, Miss. Marija'\n",
      " 'Gale, Mr. Shadrach' 'Widegren, Mr. Carl/Charles Peter'\n",
      " 'Richards, Master. William Rowe' 'Birkeland, Mr. Hans Martin Monsen'\n",
      " 'Lefebre, Miss. Ida' 'Sdycoff, Mr. Todor' 'Hart, Mr. Henry'\n",
      " 'Minahan, Miss. Daisy E' 'Cunningham, Mr. Alfred Fleming'\n",
      " 'Sundman, Mr. Johan Julian' 'Meek, Mrs. Thomas (Annie Louise Rowley)'\n",
      " 'Drew, Mrs. James Vivian (Lulu Thorne Christian)'\n",
      " 'Silven, Miss. Lyyli Karoliina' 'Matthews, Mr. William John'\n",
      " 'Van Impe, Miss. Catharina' 'Gheorgheff, Mr. Stanio'\n",
      " 'Charters, Mr. David' 'Zimmerman, Mr. Leo'\n",
      " 'Danbom, Mrs. Ernst Gilbert (Anna Sigrid Maria Brogren)'\n",
      " 'Rosblom, Mr. Viktor Richard' 'Wiseman, Mr. Phillippe'\n",
      " 'Clarke, Mrs. Charles V (Ada Maria Winfield)'\n",
      " 'Phillips, Miss. Kate Florence (\"Mrs Kate Louise Phillips Marshall\")'\n",
      " 'Flynn, Mr. James' 'Pickard, Mr. Berk (Berk Trembisky)'\n",
      " 'Bjornstrom-Steffansson, Mr. Mauritz Hakan'\n",
      " 'Thorneycroft, Mrs. Percival (Florence Kate White)'\n",
      " 'Louch, Mrs. Charles Alexander (Alice Adelaide Slow)'\n",
      " 'Kallio, Mr. Nikolai Erland' 'Silvey, Mr. William Baird'\n",
      " 'Carter, Miss. Lucile Polk' 'Ford, Miss. Doolina Margaret \"Daisy\"'\n",
      " 'Richards, Mrs. Sidney (Emily Hocking)' 'Fortune, Mr. Mark'\n",
      " 'Kvillner, Mr. Johan Henrik Johannesson'\n",
      " 'Hart, Mrs. Benjamin (Esther Ada Bloomfield)' 'Hampe, Mr. Leon'\n",
      " 'Petterson, Mr. Johan Emil' 'Reynaldo, Ms. Encarnacion'\n",
      " 'Johannesen-Bratthammer, Mr. Bernt' 'Dodge, Master. Washington'\n",
      " 'Mellinger, Miss. Madeleine Violet' 'Seward, Mr. Frederic Kimber'\n",
      " 'Baclini, Miss. Marie Catherine' 'Peuchen, Major. Arthur Godfrey'\n",
      " 'West, Mr. Edwy Arthur' 'Hagland, Mr. Ingvald Olai Olsen'\n",
      " 'Foreman, Mr. Benjamin Laventall' 'Goldenberg, Mr. Samuel L'\n",
      " 'Peduzzi, Mr. Joseph' 'Jalsevac, Mr. Ivan' 'Millet, Mr. Francis Davis'\n",
      " 'Kenyon, Mrs. Frederick R (Marion)' 'Toomey, Miss. Ellen'\n",
      " \"O'Connor, Mr. Maurice\" 'Anderson, Mr. Harry' 'Morley, Mr. William'\n",
      " 'Gee, Mr. Arthur H' 'Milling, Mr. Jacob Christian' 'Maisner, Mr. Simon'\n",
      " 'Goncalves, Mr. Manuel Estanslas' 'Campbell, Mr. William'\n",
      " 'Smart, Mr. John Montgomery' 'Scanlan, Mr. James'\n",
      " 'Baclini, Miss. Helene Barbara' 'Keefe, Mr. Arthur' 'Cacic, Mr. Luka'\n",
      " 'West, Mrs. Edwy Arthur (Ada Mary Worth)'\n",
      " 'Jerwan, Mrs. Amin S (Marie Marthe Thuillard)'\n",
      " 'Strandberg, Miss. Ida Sofia' 'Clifford, Mr. George Quincy'\n",
      " 'Renouf, Mr. Peter Henry' 'Braund, Mr. Lewis Richard'\n",
      " 'Karlsson, Mr. Nils August' 'Hirvonen, Miss. Hildur E'\n",
      " 'Goodwin, Master. Harold Victor' 'Frost, Mr. Anthony Wood \"Archie\"'\n",
      " 'Rouse, Mr. Richard Henry' 'Turkula, Mrs. (Hedwig)'\n",
      " 'Bishop, Mr. Dickinson H' 'Lefebre, Miss. Jeannie'\n",
      " 'Hoyt, Mrs. Frederick Maxfield (Jane Anne Forby)'\n",
      " 'Kent, Mr. Edward Austin' 'Somerton, Mr. Francis William'\n",
      " 'Coutts, Master. Eden Leslie \"Neville\"'\n",
      " 'Hagland, Mr. Konrad Mathias Reiersen' 'Windelov, Mr. Einar'\n",
      " 'Molson, Mr. Harry Markland' 'Artagaveytia, Mr. Ramon'\n",
      " 'Stanley, Mr. Edward Roland' 'Yousseff, Mr. Gerious'\n",
      " 'Eustis, Miss. Elizabeth Mussey' 'Shellard, Mr. Frederick William'\n",
      " 'Allison, Mrs. Hudson J C (Bessie Waldo Daniels)' 'Svensson, Mr. Olof'\n",
      " 'Calic, Mr. Petar' 'Canavan, Miss. Mary' \"O'Sullivan, Miss. Bridget Mary\"\n",
      " 'Laitinen, Miss. Kristina Sofia' 'Maioni, Miss. Roberta'\n",
      " 'Penasco y Castellana, Mr. Victor de Satode'\n",
      " 'Quick, Mrs. Frederick Charles (Jane Richards)'\n",
      " 'Bradley, Mr. George (\"George Arthur Brayton\")'\n",
      " 'Olsen, Mr. Henry Margido' 'Lang, Mr. Fang' 'Daly, Mr. Eugene Patrick'\n",
      " 'Webber, Mr. James' 'McGough, Mr. James Robert'\n",
      " 'Rothschild, Mrs. Martin (Elizabeth L. Barrett)' 'Coleff, Mr. Satio'\n",
      " 'Walker, Mr. William Anderson' 'Lemore, Mrs. (Amelia Milley)'\n",
      " 'Ryan, Mr. Patrick'\n",
      " 'Angle, Mrs. William A (Florence \"Mary\" Agnes Hughes)'\n",
      " 'Pavlovic, Mr. Stefo' 'Perreault, Miss. Anne' 'Vovk, Mr. Janko'\n",
      " 'Lahoud, Mr. Sarkis' 'Hippach, Mrs. Louis Albert (Ida Sophia Fischer)'\n",
      " 'Kassem, Mr. Fared' 'Farrell, Mr. James' 'Ridsdale, Miss. Lucy'\n",
      " 'Farthing, Mr. John' 'Salonen, Mr. Johan Werner'\n",
      " 'Hocking, Mr. Richard George' 'Quick, Miss. Phyllis May'\n",
      " 'Toufik, Mr. Nakli' 'Elias, Mr. Joseph Jr'\n",
      " 'Peter, Mrs. Catherine (Catherine Rizk)' 'Cacic, Miss. Marija'\n",
      " 'Hart, Miss. Eva Miriam' 'Butt, Major. Archibald Willingham'\n",
      " 'LeRoy, Miss. Bertha' 'Risien, Mr. Samuel Beard'\n",
      " 'Frolicher, Miss. Hedwig Margaritha' 'Crosby, Miss. Harriet R'\n",
      " 'Andersson, Miss. Ingeborg Constanzia'\n",
      " 'Andersson, Miss. Sigrid Elisabeth' 'Beane, Mr. Edward'\n",
      " 'Douglas, Mr. Walter Donald' 'Nicholson, Mr. Arthur Ernest'\n",
      " 'Beane, Mrs. Edward (Ethel Clarke)' 'Padro y Manent, Mr. Julian'\n",
      " 'Goldsmith, Mr. Frank John' 'Davies, Master. John Morgan Jr'\n",
      " 'Thayer, Mr. John Borland Jr' 'Sharp, Mr. Percival James R'\n",
      " \"O'Brien, Mr. Timothy\" 'Leeni, Mr. Fahim (\"Philip Zenni\")'\n",
      " 'Ohman, Miss. Velin' 'Wright, Mr. George'\n",
      " 'Duff Gordon, Lady. (Lucille Christiana Sutherland) (\"Mrs Morgan\")'\n",
      " 'Robbins, Mr. Victor' 'Taussig, Mrs. Emil (Tillie Mandelbaum)'\n",
      " 'de Messemaeker, Mrs. Guillaume Joseph (Emma)' 'Morrow, Mr. Thomas Rowan'\n",
      " 'Sivic, Mr. Husein' 'Norman, Mr. Robert Douglas' 'Simmons, Mr. John'\n",
      " 'Meanwell, Miss. (Marion Ogden)' 'Davies, Mr. Alfred J'\n",
      " 'Stoytcheff, Mr. Ilia' 'Palsson, Mrs. Nils (Alma Cornelia Berglund)'\n",
      " 'Doharr, Mr. Tannous' 'Jonsson, Mr. Carl' 'Harris, Mr. George'\n",
      " 'Appleton, Mrs. Edward Dale (Charlotte Lamson)'\n",
      " 'Flynn, Mr. John Irwin (\"Irving\")' 'Kelly, Miss. Mary'\n",
      " 'Rush, Mr. Alfred George John' 'Patchett, Mr. George'\n",
      " 'Garside, Miss. Ethel' 'Silvey, Mrs. William Baird (Alice Munger)'\n",
      " 'Caram, Mrs. Joseph (Maria Elias)' 'Jussila, Mr. Eiriik'\n",
      " 'Christy, Miss. Julie Rachel'\n",
      " 'Thayer, Mrs. John Borland (Marian Longstreth Morris)'\n",
      " 'Downton, Mr. William James' 'Ross, Mr. John Hugo' 'Paulner, Mr. Uscher'\n",
      " 'Taussig, Miss. Ruth' 'Jarvis, Mr. John Denzil'\n",
      " 'Frolicher-Stehli, Mr. Maxmillian' 'Gilinski, Mr. Eliezer'\n",
      " 'Murdlin, Mr. Joseph' 'Rintamaki, Mr. Matti'\n",
      " 'Stephenson, Mrs. Walter Bertram (Martha Eustis)'\n",
      " 'Elsbury, Mr. William James' 'Bourke, Miss. Mary'\n",
      " 'Chapman, Mr. John Henry' 'Van Impe, Mr. Jean Baptiste'\n",
      " 'Leitch, Miss. Jessie Wills' 'Johnson, Mr. Alfred' 'Boulos, Mr. Hanna'\n",
      " 'Duff Gordon, Sir. Cosmo Edmund (\"Mr Morgan\")'\n",
      " 'Jacobsohn, Mrs. Sidney Samuel (Amy Frances Christy)'\n",
      " 'Slabenoff, Mr. Petco' 'Harrington, Mr. Charles H'\n",
      " 'Torber, Mr. Ernst William' 'Homer, Mr. Harry (\"Mr E Haven\")'\n",
      " 'Lindell, Mr. Edvard Bengtsson' 'Karaic, Mr. Milan'\n",
      " 'Daniel, Mr. Robert Williams'\n",
      " 'Laroche, Mrs. Joseph (Juliette Marie Louise Lafargue)'\n",
      " 'Shutes, Miss. Elizabeth W'\n",
      " 'Andersson, Mrs. Anders Johan (Alfrida Konstantia Brogren)'\n",
      " 'Jardin, Mr. Jose Neto' 'Murphy, Miss. Margaret Jane' 'Horgan, Mr. John'\n",
      " 'Brocklebank, Mr. William Alfred' 'Herman, Miss. Alice'\n",
      " 'Danbom, Mr. Ernst Gilbert'\n",
      " 'Lobb, Mrs. William Arthur (Cordelia K Stanlick)'\n",
      " 'Becker, Miss. Marion Louise' 'Gavey, Mr. Lawrence' 'Yasbeck, Mr. Antoni'\n",
      " 'Kimball, Mr. Edwin Nelson Jr' 'Nakid, Mr. Sahid'\n",
      " 'Hansen, Mr. Henry Damsgaard' 'Bowen, Mr. David John \"Dai\"'\n",
      " 'Sutton, Mr. Frederick' 'Kirkland, Rev. Charles Leonard'\n",
      " 'Longley, Miss. Gretchen Fiske' 'Bostandyeff, Mr. Guentcho'\n",
      " \"O'Connell, Mr. Patrick D\" 'Barkworth, Mr. Algernon Henry Wilson'\n",
      " 'Lundahl, Mr. Johan Svensson' 'Stahelin-Maeglin, Dr. Max'\n",
      " 'Parr, Mr. William Henry Marsh' 'Skoog, Miss. Mabel' 'Davis, Miss. Mary'\n",
      " 'Leinonen, Mr. Antti Gustaf' 'Collyer, Mr. Harvey'\n",
      " 'Panula, Mrs. Juha (Maria Emilia Ojala)' 'Thorneycroft, Mr. Percival'\n",
      " 'Jensen, Mr. Hans Peder' 'Sagesser, Mlle. Emma'\n",
      " 'Skoog, Miss. Margit Elizabeth' 'Foo, Mr. Choong'\n",
      " 'Baclini, Miss. Eugenie' 'Harper, Mr. Henry Sleeper' 'Cor, Mr. Liudevit'\n",
      " 'Simonius-Blumer, Col. Oberst Alfons' 'Willey, Mr. Edward'\n",
      " 'Stanley, Miss. Amy Zillah Elsie' 'Mitkoff, Mr. Mito'\n",
      " 'Doling, Miss. Elsie' 'Kalvik, Mr. Johannes Halvorsen'\n",
      " 'O\\'Leary, Miss. Hanora \"Norah\"' 'Hegarty, Miss. Hanora \"Nora\"'\n",
      " 'Hickman, Mr. Leonard Mark' 'Radeff, Mr. Alexander'\n",
      " 'Bourke, Mrs. John (Catherine)' 'Eitemiller, Mr. George Floyd'\n",
      " 'Newell, Mr. Arthur Webster' 'Frauenthal, Dr. Henry William'\n",
      " 'Badt, Mr. Mohamed' 'Colley, Mr. Edward Pomeroy' 'Coleff, Mr. Peju'\n",
      " 'Lindqvist, Mr. Eino William' 'Hickman, Mr. Lewis'\n",
      " 'Butler, Mr. Reginald Fenton' 'Rommetvedt, Mr. Knud Paust'\n",
      " 'Cook, Mr. Jacob' 'Taylor, Mrs. Elmer Zebley (Juliet Cummins Wright)'\n",
      " 'Brown, Mrs. Thomas William Solomon (Elizabeth Catherine Ford)'\n",
      " 'Davidson, Mr. Thornton' 'Mitchell, Mr. Henry Michael'\n",
      " 'Wilhelms, Mr. Charles' 'Watson, Mr. Ennis Hastings'\n",
      " 'Edvardsson, Mr. Gustaf Hjalmar' 'Sawyer, Mr. Frederick Charles'\n",
      " 'Turja, Miss. Anna Sofia' 'Goodwin, Mrs. Frederick (Augusta Tyler)'\n",
      " 'Cardeza, Mr. Thomas Drake Martinez' 'Peters, Miss. Katie'\n",
      " 'Hassab, Mr. Hammad' 'Olsvigen, Mr. Thor Anderson'\n",
      " 'Goodwin, Mr. Charles Edward' 'Brown, Mr. Thomas William Solomon'\n",
      " 'Laroche, Mr. Joseph Philippe Lemercier' 'Panula, Mr. Jaako Arnold'\n",
      " 'Dakic, Mr. Branko' 'Fischer, Mr. Eberhard Thelander'\n",
      " 'Madill, Miss. Georgette Alexandra' 'Dick, Mr. Albert Adrian'\n",
      " 'Karun, Miss. Manca' 'Lam, Mr. Ali' 'Saad, Mr. Khalil' 'Weir, Col. John'\n",
      " 'Chapman, Mr. Charles Henry' 'Kelly, Mr. James'\n",
      " 'Mullens, Miss. Katherine \"Katie\"' 'Thayer, Mr. John Borland'\n",
      " 'Humblen, Mr. Adolf Mathias Nicolai Olsen'\n",
      " 'Astor, Mrs. John Jacob (Madeleine Talmadge Force)'\n",
      " 'Silverthorne, Mr. Spencer Victor' 'Barbara, Miss. Saiide'\n",
      " 'Gallagher, Mr. Martin' 'Hansen, Mr. Henrik Juul'\n",
      " 'Morley, Mr. Henry Samuel (\"Mr Henry Marshall\")'\n",
      " 'Kelly, Mrs. Florence \"Fannie\"' 'Calderhead, Mr. Edward Pennington'\n",
      " 'Cleaver, Miss. Alice'\n",
      " 'Moubarek, Master. Halim Gonios (\"William George\")'\n",
      " 'Mayne, Mlle. Berthe Antonine (\"Mrs de Villiers\")' 'Klaber, Mr. Herman'\n",
      " 'Taylor, Mr. Elmer Zebley' 'Larsson, Mr. August Viktor'\n",
      " 'Greenberg, Mr. Samuel' 'Soholt, Mr. Peter Andreas Lauritz Andersen'\n",
      " 'Endres, Miss. Caroline Louise' 'Troutt, Miss. Edwina Celia \"Winnie\"'\n",
      " 'McEvoy, Mr. Michael' 'Johnson, Mr. Malkolm Joackim'\n",
      " 'Harper, Miss. Annie Jessie \"Nina\"' 'Jensen, Mr. Svend Lauritz'\n",
      " 'Gillespie, Mr. William Henry' 'Hodges, Mr. Henry Price'\n",
      " 'Chambers, Mr. Norman Campbell' 'Oreskovic, Mr. Luka'\n",
      " 'Renouf, Mrs. Peter Henry (Lillian Jefferys)' 'Mannion, Miss. Margareth'\n",
      " 'Bryhl, Mr. Kurt Arnold Gottfrid' 'Ilmakangas, Miss. Pieta Sofia'\n",
      " 'Allen, Miss. Elisabeth Walton' 'Hassan, Mr. Houssein G N'\n",
      " 'Knight, Mr. Robert J' 'Berriman, Mr. William John'\n",
      " 'Troupiansky, Mr. Moses Aaron' 'Williams, Mr. Leslie'\n",
      " 'Ford, Mrs. Edward (Margaret Ann Watson)' 'Lesurer, Mr. Gustave J'\n",
      " 'Ivanoff, Mr. Kanio' 'Nankoff, Mr. Minko' 'Hawksford, Mr. Walter James'\n",
      " 'Cavendish, Mr. Tyrell William' 'Ryerson, Miss. Susan Parker \"Suzette\"'\n",
      " 'McNamee, Mr. Neal' 'Stranden, Mr. Juho' 'Crosby, Capt. Edward Gifford'\n",
      " 'Abbott, Mr. Rossmore Edward' 'Sinkkonen, Miss. Anna'\n",
      " 'Marvin, Mr. Daniel Warner' 'Connaghton, Mr. Michael' 'Wells, Miss. Joan'\n",
      " 'Moor, Master. Meier' 'Vande Velde, Mr. Johannes Joseph'\n",
      " 'Jonkoff, Mr. Lalio' 'Herman, Mrs. Samuel (Jane Laver)'\n",
      " 'Hamalainen, Master. Viljo' 'Carlsson, Mr. August Sigfrid'\n",
      " 'Bailey, Mr. Percy Andrew' 'Theobald, Mr. Thomas Leonard'\n",
      " 'Rothes, the Countess. of (Lucy Noel Martha Dyer-Edwards)'\n",
      " 'Garfirth, Mr. John' 'Nirva, Mr. Iisakki Antino Aijo'\n",
      " 'Barah, Mr. Hanna Assi' 'Carter, Mrs. William Ernest (Lucile Polk)'\n",
      " 'Eklund, Mr. Hans Linus' 'Hogeboom, Mrs. John C (Anna Andrews)'\n",
      " 'Brewe, Dr. Arthur Jackson' 'Mangan, Miss. Mary' 'Moran, Mr. Daniel J'\n",
      " 'Gronnestad, Mr. Daniel Danielsen' 'Lievens, Mr. Rene Aime'\n",
      " 'Jensen, Mr. Niels Peder' 'Mack, Mrs. (Mary)' 'Elias, Mr. Dibo'\n",
      " 'Hocking, Mrs. Elizabeth (Eliza Needs)'\n",
      " 'Myhrman, Mr. Pehr Fabian Oliver Malkolm' 'Tobin, Mr. Roger'\n",
      " 'Emanuel, Miss. Virginia Ethel' 'Kilgannon, Mr. Thomas J'\n",
      " 'Robert, Mrs. Edward Scott (Elisabeth Walton McMillan)'\n",
      " 'Ayoub, Miss. Banoura' 'Dick, Mrs. Albert Adrian (Vera Gillespie)'\n",
      " 'Long, Mr. Milton Clyde' 'Johnston, Mr. Andrew G' 'Ali, Mr. William'\n",
      " 'Harmer, Mr. Abraham (David Lishin)' 'Sjoblom, Miss. Anna Sofia'\n",
      " 'Rice, Master. George Hugh' 'Dean, Master. Bertram Vere'\n",
      " 'Guggenheim, Mr. Benjamin' 'Keane, Mr. Andrew \"Andy\"'\n",
      " 'Gaskell, Mr. Alfred' 'Sage, Miss. Stella Anna'\n",
      " 'Hoyt, Mr. William Fisher' 'Dantcheff, Mr. Ristiu' 'Otter, Mr. Richard'\n",
      " 'Leader, Dr. Alice (Farnham)' 'Osman, Mrs. Mara'\n",
      " 'Ibrahim Shawah, Mr. Yousseff'\n",
      " 'Van Impe, Mrs. Jean Baptiste (Rosalie Paula Govaert)'\n",
      " 'Ponesell, Mr. Martin' 'Collyer, Mrs. Harvey (Charlotte Annie Tate)'\n",
      " 'Carter, Master. William Thornton II' 'Thomas, Master. Assad Alexander'\n",
      " 'Hedman, Mr. Oskar Arvid' 'Johansson, Mr. Karl Johan'\n",
      " 'Andrews, Mr. Thomas Jr' 'Pettersson, Miss. Ellen Natalia'\n",
      " 'Meyer, Mr. August' 'Chambers, Mrs. Norman Campbell (Bertha Griggs)'\n",
      " 'Alexander, Mr. William' 'Lester, Mr. James' 'Slemen, Mr. Richard James'\n",
      " 'Andersson, Miss. Ebba Iris Alfrida' 'Tomlin, Mr. Ernest Portage'\n",
      " 'Fry, Mr. Richard' 'Heininen, Miss. Wendla Maria' 'Mallet, Mr. Albert'\n",
      " 'Holm, Mr. John Fredrik Alexander' 'Skoog, Master. Karl Thorsten'\n",
      " 'Hays, Mrs. Charles Melville (Clara Jennings Gregg)' 'Lulic, Mr. Nikola'\n",
      " 'Reuchlin, Jonkheer. John George' 'Moor, Mrs. (Beila)'\n",
      " 'Panula, Master. Urho Abraham' 'Flynn, Mr. John' 'Lam, Mr. Len'\n",
      " 'Mallet, Master. Andre' 'McCormack, Mr. Thomas Joseph'\n",
      " 'Stone, Mrs. George Nelson (Martha Evelyn)'\n",
      " 'Yasbeck, Mrs. Antoni (Selini Alexander)'\n",
      " 'Richards, Master. George Sibley' 'Saad, Mr. Amin'\n",
      " 'Augustsson, Mr. Albert' 'Allum, Mr. Owen George'\n",
      " 'Compton, Miss. Sara Rebecca' 'Pasic, Mr. Jakob' 'Sirota, Mr. Maurice'\n",
      " 'Chip, Mr. Chang' 'Marechal, Mr. Pierre' 'Alhomaki, Mr. Ilmari Rudolf'\n",
      " 'Mudd, Mr. Thomas Charles' 'Serepeca, Miss. Augusta'\n",
      " 'Lemberopolous, Mr. Peter L' 'Culumovic, Mr. Jeso' 'Abbing, Mr. Anthony'\n",
      " 'Sage, Mr. Douglas Bullen' 'Markoff, Mr. Marin' 'Harper, Rev. John'\n",
      " 'Goldenberg, Mrs. Samuel L (Edwiga Grabowska)'\n",
      " 'Andersson, Master. Sigvard Harald Elias' 'Svensson, Mr. Johan'\n",
      " 'Boulos, Miss. Nourelain' 'Lines, Miss. Mary Conover'\n",
      " 'Carter, Mrs. Ernest Courtenay (Lilian Hughes)'\n",
      " 'Aks, Mrs. Sam (Leah Rosen)' 'Wick, Mrs. George Dennick (Mary Hitchcock)'\n",
      " 'Daly, Mr. Peter Denis ' 'Baclini, Mrs. Solomon (Latifa Qurban)'\n",
      " 'Razi, Mr. Raihed' 'Hansen, Mr. Claus Peter'\n",
      " 'Giles, Mr. Frederick Edward'\n",
      " 'Swift, Mrs. Frederick Joel (Margaret Welles Barron)'\n",
      " 'Sage, Miss. Dorothy Edith \"Dolly\"' 'Gill, Mr. John William'\n",
      " 'Bystrom, Mrs. (Karolina)' 'Duran y More, Miss. Asuncion'\n",
      " 'Roebling, Mr. Washington Augustus II' 'van Melkebeke, Mr. Philemon'\n",
      " 'Johnson, Master. Harold Theodor' 'Balkic, Mr. Cerin'\n",
      " 'Beckwith, Mrs. Richard Leonard (Sallie Monypeny)'\n",
      " 'Carlsson, Mr. Frans Olof' 'Vander Cruyssen, Mr. Victor'\n",
      " 'Abelson, Mrs. Samuel (Hannah Wizosky)'\n",
      " 'Najib, Miss. Adele Kiamie \"Jane\"' 'Gustafsson, Mr. Alfred Ossian'\n",
      " 'Petroff, Mr. Nedelio' 'Laleff, Mr. Kristo'\n",
      " 'Potter, Mrs. Thomas Jr (Lily Alexenia Wilson)'\n",
      " 'Shelley, Mrs. William (Imanita Parrish Hall)' 'Markun, Mr. Johann'\n",
      " 'Dahlberg, Miss. Gerda Ulrika' 'Banfield, Mr. Frederick James'\n",
      " 'Sutehall, Mr. Henry Jr' 'Rice, Mrs. William (Margaret Norton)'\n",
      " 'Montvila, Rev. Juozas' 'Graham, Miss. Margaret Edith'\n",
      " 'Johnston, Miss. Catherine Helen \"Carrie\"' 'Behr, Mr. Karl Howell'\n",
      " 'Dooley, Mr. Patrick']\n",
      "['male' 'female']\n",
      "['A/5 21171' 'PC 17599' 'STON/O2. 3101282' '113803' '373450' '330877'\n",
      " '17463' '349909' '347742' '237736' 'PP 9549' '113783' 'A/5. 2151'\n",
      " '347082' '350406' '248706' '382652' '244373' '345763' '2649' '239865'\n",
      " '248698' '330923' '113788' '347077' '2631' '19950' '330959' '349216'\n",
      " 'PC 17601' 'PC 17569' '335677' 'C.A. 24579' 'PC 17604' '113789' '2677'\n",
      " 'A./5. 2152' '345764' '2651' '7546' '11668' '349253' 'SC/Paris 2123'\n",
      " '330958' 'S.C./A.4. 23567' '370371' '14311' '2662' '349237' '3101295'\n",
      " 'A/4. 39886' 'PC 17572' '2926' '113509' '19947' 'C.A. 31026' '2697'\n",
      " 'C.A. 34651' 'CA 2144' '2669' '113572' '36973' '347088' 'PC 17605' '2661'\n",
      " 'C.A. 29395' 'S.P. 3464' '3101281' '315151' 'C.A. 33111' 'S.O.C. 14879'\n",
      " '2680' '1601' '348123' '349208' '374746' '248738' '364516' '345767'\n",
      " '345779' '330932' '113059' 'SO/C 14885' '3101278' 'W./C. 6608'\n",
      " 'SOTON/OQ 392086' '343275' '343276' '347466' 'W.E.P. 5734' 'C.A. 2315'\n",
      " '364500' '374910' 'PC 17754' 'PC 17759' '231919' '244367' '349245'\n",
      " '349215' '35281' '7540' '3101276' '349207' '343120' '312991' '349249'\n",
      " '371110' '110465' '2665' '324669' '4136' '2627' 'STON/O 2. 3101294'\n",
      " '370369' 'PC 17558' 'A4. 54510' '27267' '370372' 'C 17369' '2668'\n",
      " '347061' '349241' 'SOTON/O.Q. 3101307' 'A/5. 3337' '228414' 'C.A. 29178'\n",
      " 'SC/PARIS 2133' '11752' '7534' 'PC 17593' '2678' '347081'\n",
      " 'STON/O2. 3101279' '365222' '231945' 'C.A. 33112' '350043' '230080'\n",
      " '244310' 'S.O.P. 1166' '113776' 'A.5. 11206' 'A/5. 851' 'Fa 265302'\n",
      " 'PC 17597' '35851' 'SOTON/OQ 392090' '315037' 'CA. 2343' '371362'\n",
      " 'C.A. 33595' '347068' '315093' '363291' '113505' 'PC 17318' '111240'\n",
      " 'STON/O 2. 3101280' '17764' '350404' '4133' 'PC 17595' '250653' 'LINE'\n",
      " 'SC/PARIS 2131' '230136' '315153' '113767' '370365' '111428' '364849'\n",
      " '349247' '234604' '28424' '350046' 'PC 17610' '368703' '4579' '370370'\n",
      " '248747' '345770' '3101264' '2628' 'A/5 3540' '347054' '2699' '367231'\n",
      " '112277' 'SOTON/O.Q. 3101311' 'F.C.C. 13528' 'A/5 21174' '250646'\n",
      " '367229' '35273' 'STON/O2. 3101283' '243847' '11813' 'W/C 14208'\n",
      " 'SOTON/OQ 392089' '220367' '21440' '349234' '19943' 'PP 4348' 'SW/PP 751'\n",
      " 'A/5 21173' '236171' '347067' '237442' 'C.A. 29566' 'W./C. 6609' '26707'\n",
      " 'C.A. 31921' '28665' 'SCO/W 1585' '367230' 'W./C. 14263'\n",
      " 'STON/O 2. 3101275' '2694' '19928' '347071' '250649' '11751' '244252'\n",
      " '362316' '113514' 'A/5. 3336' '370129' '2650' 'PC 17585' '110152'\n",
      " 'PC 17755' '230433' '384461' '110413' '112059' '382649' 'C.A. 17248'\n",
      " '347083' 'PC 17582' 'PC 17760' '113798' '250644' 'PC 17596' '370375'\n",
      " '13502' '347073' '239853' 'C.A. 2673' '336439' '347464' '345778'\n",
      " 'A/5. 10482' '113056' '349239' '345774' '349206' '237798' '370373'\n",
      " '19877' '11967' 'SC/Paris 2163' '349236' '349233' 'PC 17612' '2693'\n",
      " '113781' '19988' '9234' '367226' '226593' 'A/5 2466' '17421' 'PC 17758'\n",
      " 'P/PP 3381' 'PC 17485' '11767' 'PC 17608' '250651' '349243'\n",
      " 'F.C.C. 13529' '347470' '29011' '36928' '16966' 'A/5 21172' '349219'\n",
      " '234818' '345364' '28551' '111361' '113043' 'PC 17611' '349225' '7598'\n",
      " '113784' '248740' '244361' '229236' '248733' '31418' '386525'\n",
      " 'C.A. 37671' '315088' '7267' '113510' '2695' '2647' '345783' '237671'\n",
      " '330931' '330980' 'SC/PARIS 2167' '2691' 'SOTON/O.Q. 3101310' 'C 7076'\n",
      " '110813' '2626' '14313' 'PC 17477' '11765' '3101267' '323951' 'C 7077'\n",
      " '113503' '2648' '347069' 'PC 17757' '2653' 'STON/O 2. 3101293' '349227'\n",
      " '27849' '367655' 'SC 1748' '113760' '350034' '3101277' '350052' '350407'\n",
      " '28403' '244278' '240929' 'STON/O 2. 3101289' '341826' '4137' '315096'\n",
      " '28664' '347064' '29106' '312992' '349222' '394140' 'STON/O 2. 3101269'\n",
      " '343095' '28220' '250652' '28228' '345773' '349254' 'A/5. 13032' '315082'\n",
      " '347080' 'A/4. 34244' '2003' '250655' '364851' 'SOTON/O.Q. 392078'\n",
      " '110564' '376564' 'SC/AH 3085' 'STON/O 2. 3101274' '13507' 'C.A. 18723'\n",
      " '345769' '347076' '230434' '65306' '33638' '113794' '2666' '113786'\n",
      " '65303' '113051' '17453' 'A/5 2817' '349240' '13509' '17464'\n",
      " 'F.C.C. 13531' '371060' '19952' '364506' '111320' '234360' 'A/S 2816'\n",
      " 'SOTON/O.Q. 3101306' '113792' '36209' '323592' '315089' 'SC/AH Basle 541'\n",
      " '7553' '31027' '3460' '350060' '3101298' '239854' 'A/5 3594' '4134'\n",
      " '11771' 'A.5. 18509' '65304' 'SOTON/OQ 3101317' '113787' 'PC 17609'\n",
      " 'A/4 45380' '36947' 'C.A. 6212' '350035' '315086' '364846' '330909'\n",
      " '4135' '26360' '111427' 'C 4001' '382651' 'SOTON/OQ 3101316' 'PC 17473'\n",
      " 'PC 17603' '349209' '36967' 'C.A. 34260' '226875' '349242' '12749'\n",
      " '349252' '2624' '2700' '367232' 'W./C. 14258' 'PC 17483' '3101296'\n",
      " '29104' '2641' '2690' '315084' '113050' 'PC 17761' '364498' '13568'\n",
      " 'WE/P 5735' '2908' '693' 'SC/PARIS 2146' '244358' '330979' '2620'\n",
      " '347085' '113807' '11755' '345572' '372622' '349251' '218629'\n",
      " 'SOTON/OQ 392082' 'SOTON/O.Q. 392087' 'A/4 48871' '349205' '2686'\n",
      " '350417' 'S.W./PP 752' '11769' 'PC 17474' '14312' 'A/4. 20589' '358585'\n",
      " '243880' '2689' 'STON/O 2. 3101286' '237789' '13049' '3411' '237565'\n",
      " '13567' '14973' 'A./5. 3235' 'STON/O 2. 3101273' 'A/5 3902' '364848'\n",
      " 'SC/AH 29037' '248727' '2664' '349214' '113796' '364511' '111426'\n",
      " '349910' '349246' '113804' 'SOTON/O.Q. 3101305' '370377' '364512'\n",
      " '220845' '31028' '2659' '11753' '350029' '54636' '36963' '219533'\n",
      " '349224' '334912' '27042' '347743' '13214' '112052' '237668'\n",
      " 'STON/O 2. 3101292' '350050' '349231' '13213' 'S.O./P.P. 751' 'CA. 2314'\n",
      " '349221' '8475' '330919' '365226' '349223' '29751' '2623' '5727' '349210'\n",
      " 'STON/O 2. 3101285' '234686' '312993' 'A/5 3536' '19996' '29750'\n",
      " 'F.C. 12750' 'C.A. 24580' '244270' '239856' '349912' '342826' '4138'\n",
      " '330935' '6563' '349228' '350036' '24160' '17474' '349256' '2672'\n",
      " '113800' '248731' '363592' '35852' '348121' 'PC 17475' '36864' '350025'\n",
      " '223596' 'PC 17476' 'PC 17482' '113028' '7545' '250647' '348124' '34218'\n",
      " '36568' '347062' '350048' '12233' '250643' '113806' '315094' '36866'\n",
      " '236853' 'STON/O2. 3101271' '239855' '28425' '233639' '349201' '349218'\n",
      " '16988' '376566' 'STON/O 2. 3101288' '250648' '113773' '335097' '29103'\n",
      " '392096' '345780' '349204' '350042' '29108' '363294' 'SOTON/O2 3101272'\n",
      " '2663' '347074' '112379' '364850' '8471' '345781' '350047' 'S.O./P.P. 3'\n",
      " '2674' '29105' '347078' '383121' '36865' '2687' '113501' 'W./C. 6607'\n",
      " 'SOTON/O.Q. 3101312' '374887' '3101265' '12460' 'PC 17600' '349203'\n",
      " '28213' '17465' '349244' '2685' '2625' '347089' '347063' '112050'\n",
      " '347087' '248723' '3474' '28206' '364499' '112058' 'STON/O2. 3101290'\n",
      " 'S.C./PARIS 2079' 'C 7075' '315098' '19972' '368323' '367228' '2671'\n",
      " '347468' '2223' 'PC 17756' '315097' '392092' '11774' 'SOTON/O2 3101287'\n",
      " '2683' '315090' 'C.A. 5547' '349213' '347060' 'PC 17592' '392091'\n",
      " '113055' '2629' '350026' '28134' '17466' '233866' '236852'\n",
      " 'SC/PARIS 2149' 'PC 17590' '345777' '349248' '695' '345765' '2667'\n",
      " '349212' '349217' '349257' '7552' 'C.A./SOTON 34068' 'SOTON/OQ 392076'\n",
      " '211536' '112053' '111369' '370376']\n",
      "[nan 'C85' 'C123' 'E46' 'G6' 'C103' 'D56' 'A6' 'C23 C25 C27' 'B78' 'D33'\n",
      " 'B30' 'C52' 'B28' 'C83' 'F33' 'F G73' 'E31' 'A5' 'D10 D12' 'D26' 'C110'\n",
      " 'B58 B60' 'E101' 'F E69' 'D47' 'B86' 'F2' 'C2' 'E33' 'B19' 'A7' 'C49'\n",
      " 'F4' 'A32' 'B4' 'B80' 'A31' 'D36' 'D15' 'C93' 'C78' 'D35' 'C87' 'B77'\n",
      " 'E67' 'B94' 'C125' 'C99' 'C118' 'D7' 'A19' 'B49' 'D' 'C22 C26' 'C106'\n",
      " 'C65' 'E36' 'C54' 'B57 B59 B63 B66' 'C7' 'E34' 'C32' 'B18' 'C124' 'C91'\n",
      " 'E40' 'T' 'C128' 'D37' 'B35' 'E50' 'C82' 'B96 B98' 'E10' 'E44' 'A34'\n",
      " 'C104' 'C111' 'C92' 'E38' 'D21' 'E12' 'E63' 'A14' 'B37' 'C30' 'D20' 'B79'\n",
      " 'E25' 'D46' 'B73' 'C95' 'B38' 'B39' 'B22' 'C86' 'C70' 'A16' 'C101' 'C68'\n",
      " 'A10' 'E68' 'B41' 'A20' 'D19' 'D50' 'D9' 'A23' 'B50' 'A26' 'D48' 'E58'\n",
      " 'C126' 'B71' 'B51 B53 B55' 'D49' 'B5' 'B20' 'F G63' 'C62 C64' 'E24' 'C90'\n",
      " 'C45' 'E8' 'B101' 'D45' 'C46' 'D30' 'E121' 'D11' 'E77' 'F38' 'B3' 'D6'\n",
      " 'B82 B84' 'D17' 'A36' 'B102' 'B69' 'E49' 'C47' 'D28' 'E17' 'A24' 'C50'\n",
      " 'B42' 'C148']\n",
      "['S' 'C' 'Q' nan]\n"
     ]
    }
   ],
   "source": [
    "nn = train.select_dtypes(exclude=np.number)\n",
    "for i in nn:\n",
    "    print(train[i].unique())"
   ]
  },
  {
   "cell_type": "markdown",
   "metadata": {
    "slideshow": {
     "slide_type": "slide"
    }
   },
   "source": [
    "\n",
    "## Question: spotting categorical columns\n",
    "\n",
    "What are the indices and column names of columns\n",
    "with less than `10` distinct vakues ?\n",
    "\n",
    "### Answer\n",
    "\n"
   ]
  },
  {
   "cell_type": "code",
   "execution_count": 7,
   "metadata": {
    "ExecuteTime": {
     "end_time": "2020-02-19T16:05:55.108815Z",
     "start_time": "2020-02-19T16:05:55.101577Z"
    },
    "autoscroll": "auto",
    "options": {
     "caption": false,
     "complete": true,
     "display_data": true,
     "display_stream": true,
     "dpi": 200,
     "echo": true,
     "evaluate": false,
     "f_env": null,
     "f_pos": "htpb",
     "f_size": [
      6,
      4
     ],
     "f_spines": true,
     "fig": true,
     "include": true,
     "name": null,
     "option_string": "evaluate=False",
     "results": "verbatim",
     "term": false,
     "wrap": "output"
    },
    "slideshow": {
     "slide_type": "subslide"
    }
   },
   "outputs": [
    {
     "name": "stdout",
     "output_type": "stream",
     "text": [
      "Survived <built-in method index of str object at 0x7f0889fa1530>\n",
      "Pclass <built-in method index of str object at 0x7f0889fa1570>\n",
      "Sex <built-in method index of str object at 0x7f0889fa15f0>\n",
      "SibSp <built-in method index of str object at 0x7f0889fa16b0>\n",
      "Parch <built-in method index of str object at 0x7f0889fa16f0>\n",
      "Embarked <built-in method index of str object at 0x7f0889fa17b0>\n"
     ]
    }
   ],
   "source": [
    "for col in train.columns:\n",
    "    if len(train[col].unique()) <= 10:\n",
    "        print(col,col.index)"
   ]
  },
  {
   "cell_type": "markdown",
   "metadata": {
    "slideshow": {
     "slide_type": "slide"
    }
   },
   "source": [
    "\n",
    "## Question: coercing column datatypes\n",
    "\n",
    "- `Name` should be of type `string`\n",
    "- `Sex` is a categorical variable with values `Female, Male, None`\n",
    "- `Embarked` is a categorical variable with values `Cherbourg, Southampton, ..., None`\n",
    "- `Ticket` should be a string\n",
    "- `Cabin` should be a string\n",
    "- `Survived` should be of type `bool`\n",
    "- `Pclass` is a categorical variable (ordered)\n",
    "- `Sibsp` could a categorical variable (ordered)\n",
    "- `Parch` could a categorical variable (ordered)\n",
    "\n",
    "Attempt to automatically infer better types fails.\n",
    "\n"
   ]
  },
  {
   "cell_type": "markdown",
   "metadata": {
    "slideshow": {
     "slide_type": "subslide"
    }
   },
   "source": [
    "\n",
    "### Answer\n",
    "\n"
   ]
  },
  {
   "cell_type": "code",
   "execution_count": 8,
   "metadata": {
    "ExecuteTime": {
     "end_time": "2020-02-19T16:05:56.896389Z",
     "start_time": "2020-02-19T16:05:56.878236Z"
    },
    "autoscroll": "auto",
    "options": {
     "caption": false,
     "complete": true,
     "display_data": true,
     "display_stream": true,
     "dpi": 200,
     "echo": true,
     "evaluate": false,
     "f_env": null,
     "f_pos": "htpb",
     "f_size": [
      6,
      4
     ],
     "f_spines": true,
     "fig": true,
     "include": true,
     "name": null,
     "option_string": "evaluate=False",
     "results": "verbatim",
     "term": false,
     "wrap": "output"
    },
    "slideshow": {
     "slide_type": "subslide"
    }
   },
   "outputs": [
    {
     "name": "stdout",
     "output_type": "stream",
     "text": [
      "PassengerId       int64\n",
      "Survived           bool\n",
      "Pclass         category\n",
      "Name             object\n",
      "Sex            category\n",
      "Age             float64\n",
      "SibSp          category\n",
      "Parch          category\n",
      "Ticket           object\n",
      "Fare            float64\n",
      "Cabin            object\n",
      "Embarked       category\n",
      "dtype: object\n",
      "Int64Index([0, 1, 2, 3, 4, 5, 8], dtype='int64')\n"
     ]
    },
    {
     "data": {
      "text/plain": [
       "True"
      ]
     },
     "execution_count": 8,
     "metadata": {},
     "output_type": "execute_result"
    }
   ],
   "source": [
    "train['Survived'] = train['Survived'].astype(bool)\n",
    "#train[['Name','Ticket','Cabin']] = train[['Name','Ticket','Cabin']].astype('str')\n",
    "\n",
    "train[['Sex', 'Embarked']] = train[['Sex', 'Embarked']].apply(lambda x: x.astype('category'))\n",
    "for i in ['Pclass','SibSp','Parch']:\n",
    "    train[i] = pd.Categorical(train[i], ordered = True)\n",
    "\n",
    "\n",
    "print(train.dtypes)\n",
    "print(train['SibSp'].cat.categories)\n",
    "train['SibSp'].cat.ordered"
   ]
  },
  {
   "cell_type": "markdown",
   "metadata": {
    "slideshow": {
     "slide_type": "slide"
    }
   },
   "source": [
    "\n",
    "## Question: coercing column datatypes\n",
    "\n",
    "All suspicious columns could be converted to `category`.\n",
    "Some of the categories have to be ordered.\n",
    "\n",
    "\n",
    "### Answer\n"
   ]
  },
  {
   "cell_type": "code",
   "execution_count": null,
   "metadata": {
    "autoscroll": "auto",
    "options": {
     "caption": false,
     "complete": true,
     "display_data": true,
     "display_stream": true,
     "dpi": 200,
     "echo": true,
     "evaluate": false,
     "f_env": null,
     "f_pos": "htpb",
     "f_size": [
      6,
      4
     ],
     "f_spines": true,
     "fig": true,
     "include": true,
     "name": null,
     "option_string": "evaluate=False",
     "results": "verbatim",
     "term": false,
     "wrap": "output"
    },
    "slideshow": {
     "slide_type": "subslide"
    }
   },
   "outputs": [],
   "source": [
    "\n"
   ]
  },
  {
   "cell_type": "markdown",
   "metadata": {
    "slideshow": {
     "slide_type": "slide"
    }
   },
   "source": [
    "\n",
    "## Question: categorizing columns using functions\n",
    "\n",
    "Define a function that takes as arguments a `Dataframe` and a list of\n",
    "of column names and attempts to cast the corresponding columns to 'category'.\n",
    "\n",
    "### Answer\n",
    "\n",
    "\n"
   ]
  },
  {
   "cell_type": "code",
   "execution_count": 9,
   "metadata": {
    "ExecuteTime": {
     "end_time": "2020-02-19T16:05:59.642711Z",
     "start_time": "2020-02-19T16:05:59.634354Z"
    },
    "autoscroll": "auto",
    "options": {
     "caption": false,
     "complete": true,
     "display_data": true,
     "display_stream": true,
     "dpi": 200,
     "echo": true,
     "evaluate": false,
     "f_env": null,
     "f_pos": "htpb",
     "f_size": [
      6,
      4
     ],
     "f_spines": true,
     "fig": true,
     "include": true,
     "name": null,
     "option_string": "evaluate=False",
     "results": "verbatim",
     "term": false,
     "wrap": "output"
    },
    "slideshow": {
     "slide_type": "subslide"
    }
   },
   "outputs": [],
   "source": [
    "def categoriseur(df, names):\n",
    "    for i in (names):\n",
    "        df[i] = df[i].astype('category')\n",
    "    #print(df.dtypes)\n",
    "\n",
    "#categoriseur(train,['Sex'])      \n"
   ]
  },
  {
   "cell_type": "markdown",
   "metadata": {
    "slideshow": {
     "slide_type": "slide"
    }
   },
   "source": [
    "\n",
    "## Question: enforcing datatypes at loading time\n",
    "\n",
    "\n",
    "Function `read_csv` from `Pandas` has many optional keyword arguments that\n",
    "can be used to tweak the resulting `Dataframe` during (or just after load).\n",
    "\n",
    "Improve your import of the data: for instance,\n",
    "categorical columns (a column with a small number of modalities)\n",
    "should have the `category` type.\n",
    "\n",
    "### Answer\n"
   ]
  },
  {
   "cell_type": "code",
   "execution_count": null,
   "metadata": {
    "autoscroll": "auto",
    "options": {
     "caption": false,
     "complete": true,
     "display_data": true,
     "display_stream": true,
     "dpi": 200,
     "echo": true,
     "evaluate": false,
     "f_env": null,
     "f_pos": "htpb",
     "f_size": [
      6,
      4
     ],
     "f_spines": true,
     "fig": true,
     "include": true,
     "name": null,
     "option_string": "evaluate=False",
     "results": "verbatim",
     "term": false,
     "wrap": "output"
    },
    "slideshow": {
     "slide_type": "subslide"
    }
   },
   "outputs": [],
   "source": []
  },
  {
   "cell_type": "markdown",
   "metadata": {
    "slideshow": {
     "slide_type": "slide"
    }
   },
   "source": [
    "## Question: Count the number of missing values in each column\n",
    "\n",
    "Display the distribution of `Pclass`  and `Cabin == NaN` in\n",
    "the subpopulation defined by the missingness of `Age`.\n",
    "\n",
    "Hint: you may use function `mosaic` from package `statsmodels`. See \n",
    "`from statsmodels.graphics.mosaicplot import mosaic`\n",
    "\n",
    "### Answer"
   ]
  },
  {
   "cell_type": "code",
   "execution_count": 13,
   "metadata": {
    "ExecuteTime": {
     "end_time": "2020-02-19T16:08:42.214553Z",
     "start_time": "2020-02-19T16:08:42.035761Z"
    },
    "autoscroll": "auto",
    "options": {
     "caption": false,
     "complete": true,
     "display_data": true,
     "display_stream": true,
     "dpi": 200,
     "echo": true,
     "evaluate": false,
     "f_env": null,
     "f_pos": "htpb",
     "f_size": [
      6,
      4
     ],
     "f_spines": true,
     "fig": true,
     "include": true,
     "name": null,
     "option_string": "evaluate=False",
     "results": "verbatim",
     "term": false,
     "wrap": "output"
    },
    "scrolled": true,
    "slideshow": {
     "slide_type": "subslide"
    }
   },
   "outputs": [
    {
     "data": {
      "image/png": "[encoded data removed]",
      "text/plain": [
       "<Figure size 432x288 with 3 Axes>"
      ]
     },
     "metadata": {
      "needs_background": "light"
     },
     "output_type": "display_data"
    }
   ],
   "source": [
    "\n",
    "mosaic(train[train['Age'].isna()].assign(Cabin_NaN=train['Cabin'].isna()).sort_values(by='Pclass'), ['Pclass', 'Cabin_NaN'])\n",
    "plt.show()"
   ]
  },
  {
   "cell_type": "markdown",
   "metadata": {
    "slideshow": {
     "slide_type": "slide"
    }
   },
   "source": [
    "\n",
    "\n",
    "## Question: number of missing values per row\n",
    "\n",
    "It is also possible to determine the number of NA values per row.\n",
    "List the rows with at least two missing values. Can you complete\n",
    "some dots?\n",
    "\n",
    "### Answer"
   ]
  },
  {
   "cell_type": "code",
   "execution_count": 11,
   "metadata": {
    "ExecuteTime": {
     "end_time": "2020-02-19T16:06:09.277340Z",
     "start_time": "2020-02-19T16:06:09.241349Z"
    },
    "autoscroll": "auto",
    "options": {
     "caption": false,
     "complete": true,
     "display_data": true,
     "display_stream": true,
     "dpi": 200,
     "echo": true,
     "evaluate": false,
     "f_env": null,
     "f_pos": "htpb",
     "f_size": [
      6,
      4
     ],
     "f_spines": true,
     "fig": true,
     "include": true,
     "name": null,
     "option_string": "evaluate=False",
     "results": "verbatim",
     "term": false,
     "wrap": "output"
    },
    "slideshow": {
     "slide_type": "subslide"
    }
   },
   "outputs": [
    {
     "name": "stdout",
     "output_type": "stream",
     "text": [
      "PassengerId      0\n",
      "Survived         0\n",
      "Pclass           0\n",
      "Name             0\n",
      "Sex              0\n",
      "Age            177\n",
      "SibSp            0\n",
      "Parch            0\n",
      "Ticket           0\n",
      "Fare             0\n",
      "Cabin          687\n",
      "Embarked         2\n",
      "dtype: int64\n",
      "3    134\n",
      "1     14\n",
      "2     10\n",
      "Name: Pclass, dtype: int64\n",
      "3    491\n",
      "1    216\n",
      "2    184\n",
      "Name: Pclass, dtype: int64\n"
     ]
    }
   ],
   "source": [
    "ln = train.isna().sum(axis=1)\n",
    "\n",
    "ln = ln[ln>=2].index.values\n",
    "\n",
    "na_2r = train.iloc[ln]\n",
    "\n",
    "print(na_2r['Pclass'].value_counts())\n",
    "print(train['Pclass'].value_counts())\n"
   ]
  },
  {
   "cell_type": "markdown",
   "metadata": {
    "slideshow": {
     "slide_type": "slide"
    }
   },
   "source": [
    "\n",
    "\n",
    "## Question: describe, showing quintiles\n",
    "\n",
    "For each numerical column, show the *quintiles* (from $20\\%$ up to $80\\%$).\n",
    "\n",
    "### Answer\n",
    "\n"
   ]
  },
  {
   "cell_type": "code",
   "execution_count": 14,
   "metadata": {
    "ExecuteTime": {
     "end_time": "2020-02-19T16:16:12.426935Z",
     "start_time": "2020-02-19T16:16:12.402090Z"
    },
    "autoscroll": "auto",
    "options": {
     "caption": false,
     "complete": true,
     "display_data": true,
     "display_stream": true,
     "dpi": 200,
     "echo": true,
     "evaluate": false,
     "f_env": null,
     "f_pos": "htpb",
     "f_size": [
      6,
      4
     ],
     "f_spines": true,
     "fig": true,
     "include": true,
     "name": null,
     "option_string": "evaluate=False",
     "results": "verbatim",
     "term": false,
     "wrap": "output"
    },
    "slideshow": {
     "slide_type": "subslide"
    }
   },
   "outputs": [
    {
     "name": "stdout",
     "output_type": "stream",
     "text": [
      "0.2    179.0\n",
      "0.8    713.0\n",
      "Name: PassengerId, dtype: float64\n",
      "0.2    19.0\n",
      "0.8    41.0\n",
      "Name: Age, dtype: float64\n",
      "0.2     7.8542\n",
      "0.8    39.6875\n",
      "Name: Fare, dtype: float64\n"
     ]
    },
    {
     "data": {
      "text/html": [
       "<div>\n",
       "<style scoped>\n",
       "    .dataframe tbody tr th:only-of-type {\n",
       "        vertical-align: middle;\n",
       "    }\n",
       "\n",
       "    .dataframe tbody tr th {\n",
       "        vertical-align: top;\n",
       "    }\n",
       "\n",
       "    .dataframe thead th {\n",
       "        text-align: right;\n",
       "    }\n",
       "</style>\n",
       "<table border=\"1\" class=\"dataframe\">\n",
       "  <thead>\n",
       "    <tr style=\"text-align: right;\">\n",
       "      <th></th>\n",
       "      <th>PassengerId</th>\n",
       "      <th>Survived</th>\n",
       "      <th>Age</th>\n",
       "      <th>Fare</th>\n",
       "    </tr>\n",
       "  </thead>\n",
       "  <tbody>\n",
       "    <tr>\n",
       "      <td>0.2</td>\n",
       "      <td>179.0</td>\n",
       "      <td>0.0</td>\n",
       "      <td>19.0</td>\n",
       "      <td>7.8542</td>\n",
       "    </tr>\n",
       "    <tr>\n",
       "      <td>0.8</td>\n",
       "      <td>713.0</td>\n",
       "      <td>1.0</td>\n",
       "      <td>41.0</td>\n",
       "      <td>39.6875</td>\n",
       "    </tr>\n",
       "  </tbody>\n",
       "</table>\n",
       "</div>"
      ],
      "text/plain": [
       "     PassengerId  Survived   Age     Fare\n",
       "0.2        179.0       0.0  19.0   7.8542\n",
       "0.8        713.0       1.0  41.0  39.6875"
      ]
     },
     "execution_count": 14,
     "metadata": {},
     "output_type": "execute_result"
    }
   ],
   "source": [
    "for col in  train.select_dtypes(np.number):\n",
    "    print(train[col].quantile([.2,.8]))\n",
    "    \n",
    "train.quantile([0.2,0.8], numeric_only=True)"
   ]
  },
  {
   "cell_type": "markdown",
   "metadata": {
    "slideshow": {
     "slide_type": "slide"
    }
   },
   "source": [
    "\n",
    "\n",
    "## Question: binning the `Age` column\n",
    "\n",
    "Create a new categorical column named `Status`.\n",
    "\n",
    "The value should be should depend on the `Age`\n",
    "column with bins  `[0,17], (17, 40], (40, 60], (60, 100]`\n",
    "(`np.nan` for passengers whose age is unknown).\n",
    "\n",
    "### Answer\n",
    "\n",
    "\n"
   ]
  },
  {
   "cell_type": "code",
   "execution_count": 22,
   "metadata": {
    "ExecuteTime": {
     "end_time": "2020-02-19T16:39:37.514923Z",
     "start_time": "2020-02-19T16:39:37.453785Z"
    },
    "autoscroll": "auto",
    "options": {
     "caption": false,
     "complete": true,
     "display_data": true,
     "display_stream": true,
     "dpi": 200,
     "echo": true,
     "evaluate": false,
     "f_env": null,
     "f_pos": "htpb",
     "f_size": [
      6,
      4
     ],
     "f_spines": true,
     "fig": true,
     "include": true,
     "name": null,
     "option_string": "evaluate=False",
     "results": "verbatim",
     "term": false,
     "wrap": "output"
    },
    "slideshow": {
     "slide_type": "subslide"
    }
   },
   "outputs": [
    {
     "data": {
      "text/html": [
       "<div>\n",
       "<style scoped>\n",
       "    .dataframe tbody tr th:only-of-type {\n",
       "        vertical-align: middle;\n",
       "    }\n",
       "\n",
       "    .dataframe tbody tr th {\n",
       "        vertical-align: top;\n",
       "    }\n",
       "\n",
       "    .dataframe thead th {\n",
       "        text-align: right;\n",
       "    }\n",
       "</style>\n",
       "<table border=\"1\" class=\"dataframe\">\n",
       "  <thead>\n",
       "    <tr style=\"text-align: right;\">\n",
       "      <th></th>\n",
       "      <th>PassengerId</th>\n",
       "      <th>Survived</th>\n",
       "      <th>Pclass</th>\n",
       "      <th>Name</th>\n",
       "      <th>Sex</th>\n",
       "      <th>Age</th>\n",
       "      <th>SibSp</th>\n",
       "      <th>Parch</th>\n",
       "      <th>Ticket</th>\n",
       "      <th>Fare</th>\n",
       "      <th>Cabin</th>\n",
       "      <th>Embarked</th>\n",
       "      <th>Status</th>\n",
       "    </tr>\n",
       "  </thead>\n",
       "  <tbody>\n",
       "    <tr>\n",
       "      <td>0</td>\n",
       "      <td>1</td>\n",
       "      <td>False</td>\n",
       "      <td>3</td>\n",
       "      <td>Braund, Mr. Owen Harris</td>\n",
       "      <td>male</td>\n",
       "      <td>22.0</td>\n",
       "      <td>1</td>\n",
       "      <td>0</td>\n",
       "      <td>A/5 21171</td>\n",
       "      <td>7.2500</td>\n",
       "      <td>NaN</td>\n",
       "      <td>S</td>\n",
       "      <td>(17,40]</td>\n",
       "    </tr>\n",
       "    <tr>\n",
       "      <td>1</td>\n",
       "      <td>2</td>\n",
       "      <td>True</td>\n",
       "      <td>1</td>\n",
       "      <td>Cumings, Mrs. John Bradley (Florence Briggs Th...</td>\n",
       "      <td>female</td>\n",
       "      <td>38.0</td>\n",
       "      <td>1</td>\n",
       "      <td>0</td>\n",
       "      <td>PC 17599</td>\n",
       "      <td>71.2833</td>\n",
       "      <td>C85</td>\n",
       "      <td>C</td>\n",
       "      <td>(17,40]</td>\n",
       "    </tr>\n",
       "    <tr>\n",
       "      <td>2</td>\n",
       "      <td>3</td>\n",
       "      <td>True</td>\n",
       "      <td>3</td>\n",
       "      <td>Heikkinen, Miss. Laina</td>\n",
       "      <td>female</td>\n",
       "      <td>26.0</td>\n",
       "      <td>0</td>\n",
       "      <td>0</td>\n",
       "      <td>STON/O2. 3101282</td>\n",
       "      <td>7.9250</td>\n",
       "      <td>NaN</td>\n",
       "      <td>S</td>\n",
       "      <td>(17,40]</td>\n",
       "    </tr>\n",
       "    <tr>\n",
       "      <td>3</td>\n",
       "      <td>4</td>\n",
       "      <td>True</td>\n",
       "      <td>1</td>\n",
       "      <td>Futrelle, Mrs. Jacques Heath (Lily May Peel)</td>\n",
       "      <td>female</td>\n",
       "      <td>35.0</td>\n",
       "      <td>1</td>\n",
       "      <td>0</td>\n",
       "      <td>113803</td>\n",
       "      <td>53.1000</td>\n",
       "      <td>C123</td>\n",
       "      <td>S</td>\n",
       "      <td>(17,40]</td>\n",
       "    </tr>\n",
       "    <tr>\n",
       "      <td>4</td>\n",
       "      <td>5</td>\n",
       "      <td>False</td>\n",
       "      <td>3</td>\n",
       "      <td>Allen, Mr. William Henry</td>\n",
       "      <td>male</td>\n",
       "      <td>35.0</td>\n",
       "      <td>0</td>\n",
       "      <td>0</td>\n",
       "      <td>373450</td>\n",
       "      <td>8.0500</td>\n",
       "      <td>NaN</td>\n",
       "      <td>S</td>\n",
       "      <td>(17,40]</td>\n",
       "    </tr>\n",
       "    <tr>\n",
       "      <td>5</td>\n",
       "      <td>6</td>\n",
       "      <td>False</td>\n",
       "      <td>3</td>\n",
       "      <td>Moran, Mr. James</td>\n",
       "      <td>male</td>\n",
       "      <td>NaN</td>\n",
       "      <td>0</td>\n",
       "      <td>0</td>\n",
       "      <td>330877</td>\n",
       "      <td>8.4583</td>\n",
       "      <td>NaN</td>\n",
       "      <td>Q</td>\n",
       "      <td>nan</td>\n",
       "    </tr>\n",
       "    <tr>\n",
       "      <td>6</td>\n",
       "      <td>7</td>\n",
       "      <td>False</td>\n",
       "      <td>1</td>\n",
       "      <td>McCarthy, Mr. Timothy J</td>\n",
       "      <td>male</td>\n",
       "      <td>54.0</td>\n",
       "      <td>0</td>\n",
       "      <td>0</td>\n",
       "      <td>17463</td>\n",
       "      <td>51.8625</td>\n",
       "      <td>E46</td>\n",
       "      <td>S</td>\n",
       "      <td>(40,60]</td>\n",
       "    </tr>\n",
       "    <tr>\n",
       "      <td>7</td>\n",
       "      <td>8</td>\n",
       "      <td>False</td>\n",
       "      <td>3</td>\n",
       "      <td>Palsson, Master. Gosta Leonard</td>\n",
       "      <td>male</td>\n",
       "      <td>2.0</td>\n",
       "      <td>3</td>\n",
       "      <td>1</td>\n",
       "      <td>349909</td>\n",
       "      <td>21.0750</td>\n",
       "      <td>NaN</td>\n",
       "      <td>S</td>\n",
       "      <td>[0,17]</td>\n",
       "    </tr>\n",
       "    <tr>\n",
       "      <td>8</td>\n",
       "      <td>9</td>\n",
       "      <td>True</td>\n",
       "      <td>3</td>\n",
       "      <td>Johnson, Mrs. Oscar W (Elisabeth Vilhelmina Berg)</td>\n",
       "      <td>female</td>\n",
       "      <td>27.0</td>\n",
       "      <td>0</td>\n",
       "      <td>2</td>\n",
       "      <td>347742</td>\n",
       "      <td>11.1333</td>\n",
       "      <td>NaN</td>\n",
       "      <td>S</td>\n",
       "      <td>(17,40]</td>\n",
       "    </tr>\n",
       "    <tr>\n",
       "      <td>9</td>\n",
       "      <td>10</td>\n",
       "      <td>True</td>\n",
       "      <td>2</td>\n",
       "      <td>Nasser, Mrs. Nicholas (Adele Achem)</td>\n",
       "      <td>female</td>\n",
       "      <td>14.0</td>\n",
       "      <td>1</td>\n",
       "      <td>0</td>\n",
       "      <td>237736</td>\n",
       "      <td>30.0708</td>\n",
       "      <td>NaN</td>\n",
       "      <td>C</td>\n",
       "      <td>[0,17]</td>\n",
       "    </tr>\n",
       "    <tr>\n",
       "      <td>10</td>\n",
       "      <td>11</td>\n",
       "      <td>True</td>\n",
       "      <td>3</td>\n",
       "      <td>Sandstrom, Miss. Marguerite Rut</td>\n",
       "      <td>female</td>\n",
       "      <td>4.0</td>\n",
       "      <td>1</td>\n",
       "      <td>1</td>\n",
       "      <td>PP 9549</td>\n",
       "      <td>16.7000</td>\n",
       "      <td>G6</td>\n",
       "      <td>S</td>\n",
       "      <td>[0,17]</td>\n",
       "    </tr>\n",
       "    <tr>\n",
       "      <td>11</td>\n",
       "      <td>12</td>\n",
       "      <td>True</td>\n",
       "      <td>1</td>\n",
       "      <td>Bonnell, Miss. Elizabeth</td>\n",
       "      <td>female</td>\n",
       "      <td>58.0</td>\n",
       "      <td>0</td>\n",
       "      <td>0</td>\n",
       "      <td>113783</td>\n",
       "      <td>26.5500</td>\n",
       "      <td>C103</td>\n",
       "      <td>S</td>\n",
       "      <td>(40,60]</td>\n",
       "    </tr>\n",
       "    <tr>\n",
       "      <td>12</td>\n",
       "      <td>13</td>\n",
       "      <td>False</td>\n",
       "      <td>3</td>\n",
       "      <td>Saundercock, Mr. William Henry</td>\n",
       "      <td>male</td>\n",
       "      <td>20.0</td>\n",
       "      <td>0</td>\n",
       "      <td>0</td>\n",
       "      <td>A/5. 2151</td>\n",
       "      <td>8.0500</td>\n",
       "      <td>NaN</td>\n",
       "      <td>S</td>\n",
       "      <td>(17,40]</td>\n",
       "    </tr>\n",
       "    <tr>\n",
       "      <td>13</td>\n",
       "      <td>14</td>\n",
       "      <td>False</td>\n",
       "      <td>3</td>\n",
       "      <td>Andersson, Mr. Anders Johan</td>\n",
       "      <td>male</td>\n",
       "      <td>39.0</td>\n",
       "      <td>1</td>\n",
       "      <td>5</td>\n",
       "      <td>347082</td>\n",
       "      <td>31.2750</td>\n",
       "      <td>NaN</td>\n",
       "      <td>S</td>\n",
       "      <td>(17,40]</td>\n",
       "    </tr>\n",
       "    <tr>\n",
       "      <td>14</td>\n",
       "      <td>15</td>\n",
       "      <td>False</td>\n",
       "      <td>3</td>\n",
       "      <td>Vestrom, Miss. Hulda Amanda Adolfina</td>\n",
       "      <td>female</td>\n",
       "      <td>14.0</td>\n",
       "      <td>0</td>\n",
       "      <td>0</td>\n",
       "      <td>350406</td>\n",
       "      <td>7.8542</td>\n",
       "      <td>NaN</td>\n",
       "      <td>S</td>\n",
       "      <td>[0,17]</td>\n",
       "    </tr>\n",
       "    <tr>\n",
       "      <td>15</td>\n",
       "      <td>16</td>\n",
       "      <td>True</td>\n",
       "      <td>2</td>\n",
       "      <td>Hewlett, Mrs. (Mary D Kingcome)</td>\n",
       "      <td>female</td>\n",
       "      <td>55.0</td>\n",
       "      <td>0</td>\n",
       "      <td>0</td>\n",
       "      <td>248706</td>\n",
       "      <td>16.0000</td>\n",
       "      <td>NaN</td>\n",
       "      <td>S</td>\n",
       "      <td>(40,60]</td>\n",
       "    </tr>\n",
       "    <tr>\n",
       "      <td>16</td>\n",
       "      <td>17</td>\n",
       "      <td>False</td>\n",
       "      <td>3</td>\n",
       "      <td>Rice, Master. Eugene</td>\n",
       "      <td>male</td>\n",
       "      <td>2.0</td>\n",
       "      <td>4</td>\n",
       "      <td>1</td>\n",
       "      <td>382652</td>\n",
       "      <td>29.1250</td>\n",
       "      <td>NaN</td>\n",
       "      <td>Q</td>\n",
       "      <td>[0,17]</td>\n",
       "    </tr>\n",
       "    <tr>\n",
       "      <td>17</td>\n",
       "      <td>18</td>\n",
       "      <td>True</td>\n",
       "      <td>2</td>\n",
       "      <td>Williams, Mr. Charles Eugene</td>\n",
       "      <td>male</td>\n",
       "      <td>NaN</td>\n",
       "      <td>0</td>\n",
       "      <td>0</td>\n",
       "      <td>244373</td>\n",
       "      <td>13.0000</td>\n",
       "      <td>NaN</td>\n",
       "      <td>S</td>\n",
       "      <td>nan</td>\n",
       "    </tr>\n",
       "    <tr>\n",
       "      <td>18</td>\n",
       "      <td>19</td>\n",
       "      <td>False</td>\n",
       "      <td>3</td>\n",
       "      <td>Vander Planke, Mrs. Julius (Emelia Maria Vande...</td>\n",
       "      <td>female</td>\n",
       "      <td>31.0</td>\n",
       "      <td>1</td>\n",
       "      <td>0</td>\n",
       "      <td>345763</td>\n",
       "      <td>18.0000</td>\n",
       "      <td>NaN</td>\n",
       "      <td>S</td>\n",
       "      <td>(17,40]</td>\n",
       "    </tr>\n",
       "    <tr>\n",
       "      <td>19</td>\n",
       "      <td>20</td>\n",
       "      <td>True</td>\n",
       "      <td>3</td>\n",
       "      <td>Masselmani, Mrs. Fatima</td>\n",
       "      <td>female</td>\n",
       "      <td>NaN</td>\n",
       "      <td>0</td>\n",
       "      <td>0</td>\n",
       "      <td>2649</td>\n",
       "      <td>7.2250</td>\n",
       "      <td>NaN</td>\n",
       "      <td>C</td>\n",
       "      <td>nan</td>\n",
       "    </tr>\n",
       "    <tr>\n",
       "      <td>20</td>\n",
       "      <td>21</td>\n",
       "      <td>False</td>\n",
       "      <td>2</td>\n",
       "      <td>Fynney, Mr. Joseph J</td>\n",
       "      <td>male</td>\n",
       "      <td>35.0</td>\n",
       "      <td>0</td>\n",
       "      <td>0</td>\n",
       "      <td>239865</td>\n",
       "      <td>26.0000</td>\n",
       "      <td>NaN</td>\n",
       "      <td>S</td>\n",
       "      <td>(17,40]</td>\n",
       "    </tr>\n",
       "    <tr>\n",
       "      <td>21</td>\n",
       "      <td>22</td>\n",
       "      <td>True</td>\n",
       "      <td>2</td>\n",
       "      <td>Beesley, Mr. Lawrence</td>\n",
       "      <td>male</td>\n",
       "      <td>34.0</td>\n",
       "      <td>0</td>\n",
       "      <td>0</td>\n",
       "      <td>248698</td>\n",
       "      <td>13.0000</td>\n",
       "      <td>D56</td>\n",
       "      <td>S</td>\n",
       "      <td>(17,40]</td>\n",
       "    </tr>\n",
       "    <tr>\n",
       "      <td>22</td>\n",
       "      <td>23</td>\n",
       "      <td>True</td>\n",
       "      <td>3</td>\n",
       "      <td>McGowan, Miss. Anna \"Annie\"</td>\n",
       "      <td>female</td>\n",
       "      <td>15.0</td>\n",
       "      <td>0</td>\n",
       "      <td>0</td>\n",
       "      <td>330923</td>\n",
       "      <td>8.0292</td>\n",
       "      <td>NaN</td>\n",
       "      <td>Q</td>\n",
       "      <td>[0,17]</td>\n",
       "    </tr>\n",
       "    <tr>\n",
       "      <td>23</td>\n",
       "      <td>24</td>\n",
       "      <td>True</td>\n",
       "      <td>1</td>\n",
       "      <td>Sloper, Mr. William Thompson</td>\n",
       "      <td>male</td>\n",
       "      <td>28.0</td>\n",
       "      <td>0</td>\n",
       "      <td>0</td>\n",
       "      <td>113788</td>\n",
       "      <td>35.5000</td>\n",
       "      <td>A6</td>\n",
       "      <td>S</td>\n",
       "      <td>(17,40]</td>\n",
       "    </tr>\n",
       "    <tr>\n",
       "      <td>24</td>\n",
       "      <td>25</td>\n",
       "      <td>False</td>\n",
       "      <td>3</td>\n",
       "      <td>Palsson, Miss. Torborg Danira</td>\n",
       "      <td>female</td>\n",
       "      <td>8.0</td>\n",
       "      <td>3</td>\n",
       "      <td>1</td>\n",
       "      <td>349909</td>\n",
       "      <td>21.0750</td>\n",
       "      <td>NaN</td>\n",
       "      <td>S</td>\n",
       "      <td>[0,17]</td>\n",
       "    </tr>\n",
       "    <tr>\n",
       "      <td>25</td>\n",
       "      <td>26</td>\n",
       "      <td>True</td>\n",
       "      <td>3</td>\n",
       "      <td>Asplund, Mrs. Carl Oscar (Selma Augusta Emilia...</td>\n",
       "      <td>female</td>\n",
       "      <td>38.0</td>\n",
       "      <td>1</td>\n",
       "      <td>5</td>\n",
       "      <td>347077</td>\n",
       "      <td>31.3875</td>\n",
       "      <td>NaN</td>\n",
       "      <td>S</td>\n",
       "      <td>(17,40]</td>\n",
       "    </tr>\n",
       "    <tr>\n",
       "      <td>26</td>\n",
       "      <td>27</td>\n",
       "      <td>False</td>\n",
       "      <td>3</td>\n",
       "      <td>Emir, Mr. Farred Chehab</td>\n",
       "      <td>male</td>\n",
       "      <td>NaN</td>\n",
       "      <td>0</td>\n",
       "      <td>0</td>\n",
       "      <td>2631</td>\n",
       "      <td>7.2250</td>\n",
       "      <td>NaN</td>\n",
       "      <td>C</td>\n",
       "      <td>nan</td>\n",
       "    </tr>\n",
       "    <tr>\n",
       "      <td>27</td>\n",
       "      <td>28</td>\n",
       "      <td>False</td>\n",
       "      <td>1</td>\n",
       "      <td>Fortune, Mr. Charles Alexander</td>\n",
       "      <td>male</td>\n",
       "      <td>19.0</td>\n",
       "      <td>3</td>\n",
       "      <td>2</td>\n",
       "      <td>19950</td>\n",
       "      <td>263.0000</td>\n",
       "      <td>C23 C25 C27</td>\n",
       "      <td>S</td>\n",
       "      <td>(17,40]</td>\n",
       "    </tr>\n",
       "    <tr>\n",
       "      <td>28</td>\n",
       "      <td>29</td>\n",
       "      <td>True</td>\n",
       "      <td>3</td>\n",
       "      <td>O'Dwyer, Miss. Ellen \"Nellie\"</td>\n",
       "      <td>female</td>\n",
       "      <td>NaN</td>\n",
       "      <td>0</td>\n",
       "      <td>0</td>\n",
       "      <td>330959</td>\n",
       "      <td>7.8792</td>\n",
       "      <td>NaN</td>\n",
       "      <td>Q</td>\n",
       "      <td>nan</td>\n",
       "    </tr>\n",
       "    <tr>\n",
       "      <td>29</td>\n",
       "      <td>30</td>\n",
       "      <td>False</td>\n",
       "      <td>3</td>\n",
       "      <td>Todoroff, Mr. Lalio</td>\n",
       "      <td>male</td>\n",
       "      <td>NaN</td>\n",
       "      <td>0</td>\n",
       "      <td>0</td>\n",
       "      <td>349216</td>\n",
       "      <td>7.8958</td>\n",
       "      <td>NaN</td>\n",
       "      <td>S</td>\n",
       "      <td>nan</td>\n",
       "    </tr>\n",
       "    <tr>\n",
       "      <td>30</td>\n",
       "      <td>31</td>\n",
       "      <td>False</td>\n",
       "      <td>1</td>\n",
       "      <td>Uruchurtu, Don. Manuel E</td>\n",
       "      <td>male</td>\n",
       "      <td>40.0</td>\n",
       "      <td>0</td>\n",
       "      <td>0</td>\n",
       "      <td>PC 17601</td>\n",
       "      <td>27.7208</td>\n",
       "      <td>NaN</td>\n",
       "      <td>C</td>\n",
       "      <td>(17,40]</td>\n",
       "    </tr>\n",
       "    <tr>\n",
       "      <td>31</td>\n",
       "      <td>32</td>\n",
       "      <td>True</td>\n",
       "      <td>1</td>\n",
       "      <td>Spencer, Mrs. William Augustus (Marie Eugenie)</td>\n",
       "      <td>female</td>\n",
       "      <td>NaN</td>\n",
       "      <td>1</td>\n",
       "      <td>0</td>\n",
       "      <td>PC 17569</td>\n",
       "      <td>146.5208</td>\n",
       "      <td>B78</td>\n",
       "      <td>C</td>\n",
       "      <td>nan</td>\n",
       "    </tr>\n",
       "    <tr>\n",
       "      <td>32</td>\n",
       "      <td>33</td>\n",
       "      <td>True</td>\n",
       "      <td>3</td>\n",
       "      <td>Glynn, Miss. Mary Agatha</td>\n",
       "      <td>female</td>\n",
       "      <td>NaN</td>\n",
       "      <td>0</td>\n",
       "      <td>0</td>\n",
       "      <td>335677</td>\n",
       "      <td>7.7500</td>\n",
       "      <td>NaN</td>\n",
       "      <td>Q</td>\n",
       "      <td>nan</td>\n",
       "    </tr>\n",
       "    <tr>\n",
       "      <td>33</td>\n",
       "      <td>34</td>\n",
       "      <td>False</td>\n",
       "      <td>2</td>\n",
       "      <td>Wheadon, Mr. Edward H</td>\n",
       "      <td>male</td>\n",
       "      <td>66.0</td>\n",
       "      <td>0</td>\n",
       "      <td>0</td>\n",
       "      <td>C.A. 24579</td>\n",
       "      <td>10.5000</td>\n",
       "      <td>NaN</td>\n",
       "      <td>S</td>\n",
       "      <td>(60,100]</td>\n",
       "    </tr>\n",
       "    <tr>\n",
       "      <td>34</td>\n",
       "      <td>35</td>\n",
       "      <td>False</td>\n",
       "      <td>1</td>\n",
       "      <td>Meyer, Mr. Edgar Joseph</td>\n",
       "      <td>male</td>\n",
       "      <td>28.0</td>\n",
       "      <td>1</td>\n",
       "      <td>0</td>\n",
       "      <td>PC 17604</td>\n",
       "      <td>82.1708</td>\n",
       "      <td>NaN</td>\n",
       "      <td>C</td>\n",
       "      <td>(17,40]</td>\n",
       "    </tr>\n",
       "    <tr>\n",
       "      <td>35</td>\n",
       "      <td>36</td>\n",
       "      <td>False</td>\n",
       "      <td>1</td>\n",
       "      <td>Holverson, Mr. Alexander Oskar</td>\n",
       "      <td>male</td>\n",
       "      <td>42.0</td>\n",
       "      <td>1</td>\n",
       "      <td>0</td>\n",
       "      <td>113789</td>\n",
       "      <td>52.0000</td>\n",
       "      <td>NaN</td>\n",
       "      <td>S</td>\n",
       "      <td>(40,60]</td>\n",
       "    </tr>\n",
       "    <tr>\n",
       "      <td>36</td>\n",
       "      <td>37</td>\n",
       "      <td>True</td>\n",
       "      <td>3</td>\n",
       "      <td>Mamee, Mr. Hanna</td>\n",
       "      <td>male</td>\n",
       "      <td>NaN</td>\n",
       "      <td>0</td>\n",
       "      <td>0</td>\n",
       "      <td>2677</td>\n",
       "      <td>7.2292</td>\n",
       "      <td>NaN</td>\n",
       "      <td>C</td>\n",
       "      <td>nan</td>\n",
       "    </tr>\n",
       "    <tr>\n",
       "      <td>37</td>\n",
       "      <td>38</td>\n",
       "      <td>False</td>\n",
       "      <td>3</td>\n",
       "      <td>Cann, Mr. Ernest Charles</td>\n",
       "      <td>male</td>\n",
       "      <td>21.0</td>\n",
       "      <td>0</td>\n",
       "      <td>0</td>\n",
       "      <td>A./5. 2152</td>\n",
       "      <td>8.0500</td>\n",
       "      <td>NaN</td>\n",
       "      <td>S</td>\n",
       "      <td>(17,40]</td>\n",
       "    </tr>\n",
       "    <tr>\n",
       "      <td>38</td>\n",
       "      <td>39</td>\n",
       "      <td>False</td>\n",
       "      <td>3</td>\n",
       "      <td>Vander Planke, Miss. Augusta Maria</td>\n",
       "      <td>female</td>\n",
       "      <td>18.0</td>\n",
       "      <td>2</td>\n",
       "      <td>0</td>\n",
       "      <td>345764</td>\n",
       "      <td>18.0000</td>\n",
       "      <td>NaN</td>\n",
       "      <td>S</td>\n",
       "      <td>(17,40]</td>\n",
       "    </tr>\n",
       "    <tr>\n",
       "      <td>39</td>\n",
       "      <td>40</td>\n",
       "      <td>True</td>\n",
       "      <td>3</td>\n",
       "      <td>Nicola-Yarred, Miss. Jamila</td>\n",
       "      <td>female</td>\n",
       "      <td>14.0</td>\n",
       "      <td>1</td>\n",
       "      <td>0</td>\n",
       "      <td>2651</td>\n",
       "      <td>11.2417</td>\n",
       "      <td>NaN</td>\n",
       "      <td>C</td>\n",
       "      <td>[0,17]</td>\n",
       "    </tr>\n",
       "    <tr>\n",
       "      <td>40</td>\n",
       "      <td>41</td>\n",
       "      <td>False</td>\n",
       "      <td>3</td>\n",
       "      <td>Ahlin, Mrs. Johan (Johanna Persdotter Larsson)</td>\n",
       "      <td>female</td>\n",
       "      <td>40.0</td>\n",
       "      <td>1</td>\n",
       "      <td>0</td>\n",
       "      <td>7546</td>\n",
       "      <td>9.4750</td>\n",
       "      <td>NaN</td>\n",
       "      <td>S</td>\n",
       "      <td>(17,40]</td>\n",
       "    </tr>\n",
       "    <tr>\n",
       "      <td>41</td>\n",
       "      <td>42</td>\n",
       "      <td>False</td>\n",
       "      <td>2</td>\n",
       "      <td>Turpin, Mrs. William John Robert (Dorothy Ann ...</td>\n",
       "      <td>female</td>\n",
       "      <td>27.0</td>\n",
       "      <td>1</td>\n",
       "      <td>0</td>\n",
       "      <td>11668</td>\n",
       "      <td>21.0000</td>\n",
       "      <td>NaN</td>\n",
       "      <td>S</td>\n",
       "      <td>(17,40]</td>\n",
       "    </tr>\n",
       "    <tr>\n",
       "      <td>42</td>\n",
       "      <td>43</td>\n",
       "      <td>False</td>\n",
       "      <td>3</td>\n",
       "      <td>Kraeff, Mr. Theodor</td>\n",
       "      <td>male</td>\n",
       "      <td>NaN</td>\n",
       "      <td>0</td>\n",
       "      <td>0</td>\n",
       "      <td>349253</td>\n",
       "      <td>7.8958</td>\n",
       "      <td>NaN</td>\n",
       "      <td>C</td>\n",
       "      <td>nan</td>\n",
       "    </tr>\n",
       "    <tr>\n",
       "      <td>43</td>\n",
       "      <td>44</td>\n",
       "      <td>True</td>\n",
       "      <td>2</td>\n",
       "      <td>Laroche, Miss. Simonne Marie Anne Andree</td>\n",
       "      <td>female</td>\n",
       "      <td>3.0</td>\n",
       "      <td>1</td>\n",
       "      <td>2</td>\n",
       "      <td>SC/Paris 2123</td>\n",
       "      <td>41.5792</td>\n",
       "      <td>NaN</td>\n",
       "      <td>C</td>\n",
       "      <td>[0,17]</td>\n",
       "    </tr>\n",
       "    <tr>\n",
       "      <td>44</td>\n",
       "      <td>45</td>\n",
       "      <td>True</td>\n",
       "      <td>3</td>\n",
       "      <td>Devaney, Miss. Margaret Delia</td>\n",
       "      <td>female</td>\n",
       "      <td>19.0</td>\n",
       "      <td>0</td>\n",
       "      <td>0</td>\n",
       "      <td>330958</td>\n",
       "      <td>7.8792</td>\n",
       "      <td>NaN</td>\n",
       "      <td>Q</td>\n",
       "      <td>(17,40]</td>\n",
       "    </tr>\n",
       "    <tr>\n",
       "      <td>45</td>\n",
       "      <td>46</td>\n",
       "      <td>False</td>\n",
       "      <td>3</td>\n",
       "      <td>Rogers, Mr. William John</td>\n",
       "      <td>male</td>\n",
       "      <td>NaN</td>\n",
       "      <td>0</td>\n",
       "      <td>0</td>\n",
       "      <td>S.C./A.4. 23567</td>\n",
       "      <td>8.0500</td>\n",
       "      <td>NaN</td>\n",
       "      <td>S</td>\n",
       "      <td>nan</td>\n",
       "    </tr>\n",
       "    <tr>\n",
       "      <td>46</td>\n",
       "      <td>47</td>\n",
       "      <td>False</td>\n",
       "      <td>3</td>\n",
       "      <td>Lennon, Mr. Denis</td>\n",
       "      <td>male</td>\n",
       "      <td>NaN</td>\n",
       "      <td>1</td>\n",
       "      <td>0</td>\n",
       "      <td>370371</td>\n",
       "      <td>15.5000</td>\n",
       "      <td>NaN</td>\n",
       "      <td>Q</td>\n",
       "      <td>nan</td>\n",
       "    </tr>\n",
       "    <tr>\n",
       "      <td>47</td>\n",
       "      <td>48</td>\n",
       "      <td>True</td>\n",
       "      <td>3</td>\n",
       "      <td>O'Driscoll, Miss. Bridget</td>\n",
       "      <td>female</td>\n",
       "      <td>NaN</td>\n",
       "      <td>0</td>\n",
       "      <td>0</td>\n",
       "      <td>14311</td>\n",
       "      <td>7.7500</td>\n",
       "      <td>NaN</td>\n",
       "      <td>Q</td>\n",
       "      <td>nan</td>\n",
       "    </tr>\n",
       "    <tr>\n",
       "      <td>48</td>\n",
       "      <td>49</td>\n",
       "      <td>False</td>\n",
       "      <td>3</td>\n",
       "      <td>Samaan, Mr. Youssef</td>\n",
       "      <td>male</td>\n",
       "      <td>NaN</td>\n",
       "      <td>2</td>\n",
       "      <td>0</td>\n",
       "      <td>2662</td>\n",
       "      <td>21.6792</td>\n",
       "      <td>NaN</td>\n",
       "      <td>C</td>\n",
       "      <td>nan</td>\n",
       "    </tr>\n",
       "    <tr>\n",
       "      <td>49</td>\n",
       "      <td>50</td>\n",
       "      <td>False</td>\n",
       "      <td>3</td>\n",
       "      <td>Arnold-Franchi, Mrs. Josef (Josefine Franchi)</td>\n",
       "      <td>female</td>\n",
       "      <td>18.0</td>\n",
       "      <td>1</td>\n",
       "      <td>0</td>\n",
       "      <td>349237</td>\n",
       "      <td>17.8000</td>\n",
       "      <td>NaN</td>\n",
       "      <td>S</td>\n",
       "      <td>(17,40]</td>\n",
       "    </tr>\n",
       "    <tr>\n",
       "      <td>50</td>\n",
       "      <td>51</td>\n",
       "      <td>False</td>\n",
       "      <td>3</td>\n",
       "      <td>Panula, Master. Juha Niilo</td>\n",
       "      <td>male</td>\n",
       "      <td>7.0</td>\n",
       "      <td>4</td>\n",
       "      <td>1</td>\n",
       "      <td>3101295</td>\n",
       "      <td>39.6875</td>\n",
       "      <td>NaN</td>\n",
       "      <td>S</td>\n",
       "      <td>[0,17]</td>\n",
       "    </tr>\n",
       "    <tr>\n",
       "      <td>51</td>\n",
       "      <td>52</td>\n",
       "      <td>False</td>\n",
       "      <td>3</td>\n",
       "      <td>Nosworthy, Mr. Richard Cater</td>\n",
       "      <td>male</td>\n",
       "      <td>21.0</td>\n",
       "      <td>0</td>\n",
       "      <td>0</td>\n",
       "      <td>A/4. 39886</td>\n",
       "      <td>7.8000</td>\n",
       "      <td>NaN</td>\n",
       "      <td>S</td>\n",
       "      <td>(17,40]</td>\n",
       "    </tr>\n",
       "    <tr>\n",
       "      <td>52</td>\n",
       "      <td>53</td>\n",
       "      <td>True</td>\n",
       "      <td>1</td>\n",
       "      <td>Harper, Mrs. Henry Sleeper (Myna Haxtun)</td>\n",
       "      <td>female</td>\n",
       "      <td>49.0</td>\n",
       "      <td>1</td>\n",
       "      <td>0</td>\n",
       "      <td>PC 17572</td>\n",
       "      <td>76.7292</td>\n",
       "      <td>D33</td>\n",
       "      <td>C</td>\n",
       "      <td>(40,60]</td>\n",
       "    </tr>\n",
       "    <tr>\n",
       "      <td>53</td>\n",
       "      <td>54</td>\n",
       "      <td>True</td>\n",
       "      <td>2</td>\n",
       "      <td>Faunthorpe, Mrs. Lizzie (Elizabeth Anne Wilkin...</td>\n",
       "      <td>female</td>\n",
       "      <td>29.0</td>\n",
       "      <td>1</td>\n",
       "      <td>0</td>\n",
       "      <td>2926</td>\n",
       "      <td>26.0000</td>\n",
       "      <td>NaN</td>\n",
       "      <td>S</td>\n",
       "      <td>(17,40]</td>\n",
       "    </tr>\n",
       "    <tr>\n",
       "      <td>54</td>\n",
       "      <td>55</td>\n",
       "      <td>False</td>\n",
       "      <td>1</td>\n",
       "      <td>Ostby, Mr. Engelhart Cornelius</td>\n",
       "      <td>male</td>\n",
       "      <td>65.0</td>\n",
       "      <td>0</td>\n",
       "      <td>1</td>\n",
       "      <td>113509</td>\n",
       "      <td>61.9792</td>\n",
       "      <td>B30</td>\n",
       "      <td>C</td>\n",
       "      <td>(60,100]</td>\n",
       "    </tr>\n",
       "    <tr>\n",
       "      <td>55</td>\n",
       "      <td>56</td>\n",
       "      <td>True</td>\n",
       "      <td>1</td>\n",
       "      <td>Woolner, Mr. Hugh</td>\n",
       "      <td>male</td>\n",
       "      <td>NaN</td>\n",
       "      <td>0</td>\n",
       "      <td>0</td>\n",
       "      <td>19947</td>\n",
       "      <td>35.5000</td>\n",
       "      <td>C52</td>\n",
       "      <td>S</td>\n",
       "      <td>nan</td>\n",
       "    </tr>\n",
       "    <tr>\n",
       "      <td>56</td>\n",
       "      <td>57</td>\n",
       "      <td>True</td>\n",
       "      <td>2</td>\n",
       "      <td>Rugg, Miss. Emily</td>\n",
       "      <td>female</td>\n",
       "      <td>21.0</td>\n",
       "      <td>0</td>\n",
       "      <td>0</td>\n",
       "      <td>C.A. 31026</td>\n",
       "      <td>10.5000</td>\n",
       "      <td>NaN</td>\n",
       "      <td>S</td>\n",
       "      <td>(17,40]</td>\n",
       "    </tr>\n",
       "    <tr>\n",
       "      <td>57</td>\n",
       "      <td>58</td>\n",
       "      <td>False</td>\n",
       "      <td>3</td>\n",
       "      <td>Novel, Mr. Mansouer</td>\n",
       "      <td>male</td>\n",
       "      <td>28.5</td>\n",
       "      <td>0</td>\n",
       "      <td>0</td>\n",
       "      <td>2697</td>\n",
       "      <td>7.2292</td>\n",
       "      <td>NaN</td>\n",
       "      <td>C</td>\n",
       "      <td>(17,40]</td>\n",
       "    </tr>\n",
       "    <tr>\n",
       "      <td>58</td>\n",
       "      <td>59</td>\n",
       "      <td>True</td>\n",
       "      <td>2</td>\n",
       "      <td>West, Miss. Constance Mirium</td>\n",
       "      <td>female</td>\n",
       "      <td>5.0</td>\n",
       "      <td>1</td>\n",
       "      <td>2</td>\n",
       "      <td>C.A. 34651</td>\n",
       "      <td>27.7500</td>\n",
       "      <td>NaN</td>\n",
       "      <td>S</td>\n",
       "      <td>[0,17]</td>\n",
       "    </tr>\n",
       "    <tr>\n",
       "      <td>59</td>\n",
       "      <td>60</td>\n",
       "      <td>False</td>\n",
       "      <td>3</td>\n",
       "      <td>Goodwin, Master. William Frederick</td>\n",
       "      <td>male</td>\n",
       "      <td>11.0</td>\n",
       "      <td>5</td>\n",
       "      <td>2</td>\n",
       "      <td>CA 2144</td>\n",
       "      <td>46.9000</td>\n",
       "      <td>NaN</td>\n",
       "      <td>S</td>\n",
       "      <td>[0,17]</td>\n",
       "    </tr>\n",
       "  </tbody>\n",
       "</table>\n",
       "</div>"
      ],
      "text/plain": [
       "    PassengerId  Survived Pclass  \\\n",
       "0             1     False      3   \n",
       "1             2      True      1   \n",
       "2             3      True      3   \n",
       "3             4      True      1   \n",
       "4             5     False      3   \n",
       "5             6     False      3   \n",
       "6             7     False      1   \n",
       "7             8     False      3   \n",
       "8             9      True      3   \n",
       "9            10      True      2   \n",
       "10           11      True      3   \n",
       "11           12      True      1   \n",
       "12           13     False      3   \n",
       "13           14     False      3   \n",
       "14           15     False      3   \n",
       "15           16      True      2   \n",
       "16           17     False      3   \n",
       "17           18      True      2   \n",
       "18           19     False      3   \n",
       "19           20      True      3   \n",
       "20           21     False      2   \n",
       "21           22      True      2   \n",
       "22           23      True      3   \n",
       "23           24      True      1   \n",
       "24           25     False      3   \n",
       "25           26      True      3   \n",
       "26           27     False      3   \n",
       "27           28     False      1   \n",
       "28           29      True      3   \n",
       "29           30     False      3   \n",
       "30           31     False      1   \n",
       "31           32      True      1   \n",
       "32           33      True      3   \n",
       "33           34     False      2   \n",
       "34           35     False      1   \n",
       "35           36     False      1   \n",
       "36           37      True      3   \n",
       "37           38     False      3   \n",
       "38           39     False      3   \n",
       "39           40      True      3   \n",
       "40           41     False      3   \n",
       "41           42     False      2   \n",
       "42           43     False      3   \n",
       "43           44      True      2   \n",
       "44           45      True      3   \n",
       "45           46     False      3   \n",
       "46           47     False      3   \n",
       "47           48      True      3   \n",
       "48           49     False      3   \n",
       "49           50     False      3   \n",
       "50           51     False      3   \n",
       "51           52     False      3   \n",
       "52           53      True      1   \n",
       "53           54      True      2   \n",
       "54           55     False      1   \n",
       "55           56      True      1   \n",
       "56           57      True      2   \n",
       "57           58     False      3   \n",
       "58           59      True      2   \n",
       "59           60     False      3   \n",
       "\n",
       "                                                 Name     Sex   Age SibSp  \\\n",
       "0                             Braund, Mr. Owen Harris    male  22.0     1   \n",
       "1   Cumings, Mrs. John Bradley (Florence Briggs Th...  female  38.0     1   \n",
       "2                              Heikkinen, Miss. Laina  female  26.0     0   \n",
       "3        Futrelle, Mrs. Jacques Heath (Lily May Peel)  female  35.0     1   \n",
       "4                            Allen, Mr. William Henry    male  35.0     0   \n",
       "5                                    Moran, Mr. James    male   NaN     0   \n",
       "6                             McCarthy, Mr. Timothy J    male  54.0     0   \n",
       "7                      Palsson, Master. Gosta Leonard    male   2.0     3   \n",
       "8   Johnson, Mrs. Oscar W (Elisabeth Vilhelmina Berg)  female  27.0     0   \n",
       "9                 Nasser, Mrs. Nicholas (Adele Achem)  female  14.0     1   \n",
       "10                    Sandstrom, Miss. Marguerite Rut  female   4.0     1   \n",
       "11                           Bonnell, Miss. Elizabeth  female  58.0     0   \n",
       "12                     Saundercock, Mr. William Henry    male  20.0     0   \n",
       "13                        Andersson, Mr. Anders Johan    male  39.0     1   \n",
       "14               Vestrom, Miss. Hulda Amanda Adolfina  female  14.0     0   \n",
       "15                   Hewlett, Mrs. (Mary D Kingcome)   female  55.0     0   \n",
       "16                               Rice, Master. Eugene    male   2.0     4   \n",
       "17                       Williams, Mr. Charles Eugene    male   NaN     0   \n",
       "18  Vander Planke, Mrs. Julius (Emelia Maria Vande...  female  31.0     1   \n",
       "19                            Masselmani, Mrs. Fatima  female   NaN     0   \n",
       "20                               Fynney, Mr. Joseph J    male  35.0     0   \n",
       "21                              Beesley, Mr. Lawrence    male  34.0     0   \n",
       "22                        McGowan, Miss. Anna \"Annie\"  female  15.0     0   \n",
       "23                       Sloper, Mr. William Thompson    male  28.0     0   \n",
       "24                      Palsson, Miss. Torborg Danira  female   8.0     3   \n",
       "25  Asplund, Mrs. Carl Oscar (Selma Augusta Emilia...  female  38.0     1   \n",
       "26                            Emir, Mr. Farred Chehab    male   NaN     0   \n",
       "27                     Fortune, Mr. Charles Alexander    male  19.0     3   \n",
       "28                      O'Dwyer, Miss. Ellen \"Nellie\"  female   NaN     0   \n",
       "29                                Todoroff, Mr. Lalio    male   NaN     0   \n",
       "30                           Uruchurtu, Don. Manuel E    male  40.0     0   \n",
       "31     Spencer, Mrs. William Augustus (Marie Eugenie)  female   NaN     1   \n",
       "32                           Glynn, Miss. Mary Agatha  female   NaN     0   \n",
       "33                              Wheadon, Mr. Edward H    male  66.0     0   \n",
       "34                            Meyer, Mr. Edgar Joseph    male  28.0     1   \n",
       "35                     Holverson, Mr. Alexander Oskar    male  42.0     1   \n",
       "36                                   Mamee, Mr. Hanna    male   NaN     0   \n",
       "37                           Cann, Mr. Ernest Charles    male  21.0     0   \n",
       "38                 Vander Planke, Miss. Augusta Maria  female  18.0     2   \n",
       "39                        Nicola-Yarred, Miss. Jamila  female  14.0     1   \n",
       "40     Ahlin, Mrs. Johan (Johanna Persdotter Larsson)  female  40.0     1   \n",
       "41  Turpin, Mrs. William John Robert (Dorothy Ann ...  female  27.0     1   \n",
       "42                                Kraeff, Mr. Theodor    male   NaN     0   \n",
       "43           Laroche, Miss. Simonne Marie Anne Andree  female   3.0     1   \n",
       "44                      Devaney, Miss. Margaret Delia  female  19.0     0   \n",
       "45                           Rogers, Mr. William John    male   NaN     0   \n",
       "46                                  Lennon, Mr. Denis    male   NaN     1   \n",
       "47                          O'Driscoll, Miss. Bridget  female   NaN     0   \n",
       "48                                Samaan, Mr. Youssef    male   NaN     2   \n",
       "49      Arnold-Franchi, Mrs. Josef (Josefine Franchi)  female  18.0     1   \n",
       "50                         Panula, Master. Juha Niilo    male   7.0     4   \n",
       "51                       Nosworthy, Mr. Richard Cater    male  21.0     0   \n",
       "52           Harper, Mrs. Henry Sleeper (Myna Haxtun)  female  49.0     1   \n",
       "53  Faunthorpe, Mrs. Lizzie (Elizabeth Anne Wilkin...  female  29.0     1   \n",
       "54                     Ostby, Mr. Engelhart Cornelius    male  65.0     0   \n",
       "55                                  Woolner, Mr. Hugh    male   NaN     0   \n",
       "56                                  Rugg, Miss. Emily  female  21.0     0   \n",
       "57                                Novel, Mr. Mansouer    male  28.5     0   \n",
       "58                       West, Miss. Constance Mirium  female   5.0     1   \n",
       "59                 Goodwin, Master. William Frederick    male  11.0     5   \n",
       "\n",
       "   Parch            Ticket      Fare        Cabin Embarked    Status  \n",
       "0      0         A/5 21171    7.2500          NaN        S   (17,40]  \n",
       "1      0          PC 17599   71.2833          C85        C   (17,40]  \n",
       "2      0  STON/O2. 3101282    7.9250          NaN        S   (17,40]  \n",
       "3      0            113803   53.1000         C123        S   (17,40]  \n",
       "4      0            373450    8.0500          NaN        S   (17,40]  \n",
       "5      0            330877    8.4583          NaN        Q       nan  \n",
       "6      0             17463   51.8625          E46        S   (40,60]  \n",
       "7      1            349909   21.0750          NaN        S    [0,17]  \n",
       "8      2            347742   11.1333          NaN        S   (17,40]  \n",
       "9      0            237736   30.0708          NaN        C    [0,17]  \n",
       "10     1           PP 9549   16.7000           G6        S    [0,17]  \n",
       "11     0            113783   26.5500         C103        S   (40,60]  \n",
       "12     0         A/5. 2151    8.0500          NaN        S   (17,40]  \n",
       "13     5            347082   31.2750          NaN        S   (17,40]  \n",
       "14     0            350406    7.8542          NaN        S    [0,17]  \n",
       "15     0            248706   16.0000          NaN        S   (40,60]  \n",
       "16     1            382652   29.1250          NaN        Q    [0,17]  \n",
       "17     0            244373   13.0000          NaN        S       nan  \n",
       "18     0            345763   18.0000          NaN        S   (17,40]  \n",
       "19     0              2649    7.2250          NaN        C       nan  \n",
       "20     0            239865   26.0000          NaN        S   (17,40]  \n",
       "21     0            248698   13.0000          D56        S   (17,40]  \n",
       "22     0            330923    8.0292          NaN        Q    [0,17]  \n",
       "23     0            113788   35.5000           A6        S   (17,40]  \n",
       "24     1            349909   21.0750          NaN        S    [0,17]  \n",
       "25     5            347077   31.3875          NaN        S   (17,40]  \n",
       "26     0              2631    7.2250          NaN        C       nan  \n",
       "27     2             19950  263.0000  C23 C25 C27        S   (17,40]  \n",
       "28     0            330959    7.8792          NaN        Q       nan  \n",
       "29     0            349216    7.8958          NaN        S       nan  \n",
       "30     0          PC 17601   27.7208          NaN        C   (17,40]  \n",
       "31     0          PC 17569  146.5208          B78        C       nan  \n",
       "32     0            335677    7.7500          NaN        Q       nan  \n",
       "33     0        C.A. 24579   10.5000          NaN        S  (60,100]  \n",
       "34     0          PC 17604   82.1708          NaN        C   (17,40]  \n",
       "35     0            113789   52.0000          NaN        S   (40,60]  \n",
       "36     0              2677    7.2292          NaN        C       nan  \n",
       "37     0        A./5. 2152    8.0500          NaN        S   (17,40]  \n",
       "38     0            345764   18.0000          NaN        S   (17,40]  \n",
       "39     0              2651   11.2417          NaN        C    [0,17]  \n",
       "40     0              7546    9.4750          NaN        S   (17,40]  \n",
       "41     0             11668   21.0000          NaN        S   (17,40]  \n",
       "42     0            349253    7.8958          NaN        C       nan  \n",
       "43     2     SC/Paris 2123   41.5792          NaN        C    [0,17]  \n",
       "44     0            330958    7.8792          NaN        Q   (17,40]  \n",
       "45     0   S.C./A.4. 23567    8.0500          NaN        S       nan  \n",
       "46     0            370371   15.5000          NaN        Q       nan  \n",
       "47     0             14311    7.7500          NaN        Q       nan  \n",
       "48     0              2662   21.6792          NaN        C       nan  \n",
       "49     0            349237   17.8000          NaN        S   (17,40]  \n",
       "50     1           3101295   39.6875          NaN        S    [0,17]  \n",
       "51     0        A/4. 39886    7.8000          NaN        S   (17,40]  \n",
       "52     0          PC 17572   76.7292          D33        C   (40,60]  \n",
       "53     0              2926   26.0000          NaN        S   (17,40]  \n",
       "54     1            113509   61.9792          B30        C  (60,100]  \n",
       "55     0             19947   35.5000          C52        S       nan  \n",
       "56     0        C.A. 31026   10.5000          NaN        S   (17,40]  \n",
       "57     0              2697    7.2292          NaN        C   (17,40]  \n",
       "58     2        C.A. 34651   27.7500          NaN        S    [0,17]  \n",
       "59     2           CA 2144   46.9000          NaN        S    [0,17]  "
      ]
     },
     "execution_count": 22,
     "metadata": {},
     "output_type": "execute_result"
    }
   ],
   "source": [
    "Status = ''\n",
    "\n",
    "b3 = train['Status']  = np.where(train['Age']<=100,\"(60,100]\", np.nan)\n",
    "b2 = train['Status']  = np.where(train['Age']<=60,\"(40,60]\", b3)\n",
    "b1 = train['Status']  = np.where(train['Age']<=40,\"(17,40]\", b2)\n",
    "train['Status']  = np.where(train['Age']<=17,\"[0,17]\",b1)\n",
    "\n",
    "\n",
    "categoriseur(train,['Status']) \n",
    "\n",
    "#train.loc[train['Age']==1]\n",
    "train.head(n=60)\n",
    "#train.describe()"
   ]
  },
  {
   "cell_type": "markdown",
   "metadata": {
    "slideshow": {
     "slide_type": "subslide"
    }
   },
   "source": [
    "\n",
    "## Question: \n",
    "\n",
    "Draw a `countplot` for each categorical column, arrange the `countplot`s in a grid \n",
    "with two rows and three columns.\n",
    "\n",
    "### Answer"
   ]
  },
  {
   "cell_type": "code",
   "execution_count": 18,
   "metadata": {
    "ExecuteTime": {
     "end_time": "2020-02-19T16:17:14.994327Z",
     "start_time": "2020-02-19T16:17:14.131594Z"
    },
    "autoscroll": "auto",
    "options": {
     "caption": false,
     "complete": true,
     "display_data": true,
     "display_stream": true,
     "dpi": 200,
     "echo": true,
     "evaluate": false,
     "f_env": null,
     "f_pos": "htpb",
     "f_size": [
      6,
      4
     ],
     "f_spines": true,
     "fig": true,
     "include": true,
     "name": null,
     "option_string": "evaluate=False",
     "results": "verbatim",
     "term": false,
     "wrap": "output"
    },
    "scrolled": true,
    "slideshow": {
     "slide_type": "subslide"
    }
   },
   "outputs": [
    {
     "data": {
      "image/png": "[encoded data removed]",
      "text/plain": [
       "<Figure size 864x720 with 6 Axes>"
      ]
     },
     "metadata": {
      "needs_background": "light"
     },
     "output_type": "display_data"
    }
   ],
   "source": [
    "fig, axes = plt.subplots(nrows=2, ncols=3, figsize=(12, 10))\n",
    "columns = train.select_dtypes(\"category\")\n",
    "\n",
    "for i, colname in enumerate(columns):\n",
    "    sns.countplot(colname, data=train, ax=fig.axes[i])\n",
    "plt.tight_layout()\n",
    "\n",
    "\n"
   ]
  },
  {
   "cell_type": "markdown",
   "metadata": {
    "slideshow": {
     "slide_type": "slide"
    }
   },
   "source": [
    "\n",
    "## Question: plotting the distribution of numerical columns\n",
    "\n",
    "For each column for which it makes sense, display its distribution using `seaborn`:\n",
    "choose the most relevant type of plot for each column and display it.\n",
    "\n",
    "**Remark.** Note that the `Age` column contains missing values:\n",
    "show the number of missing / non-missing values in this column, and show the distribution of non-missing ages in a different plot.\n",
    "Also, note that there is a `notna()` method for dataframes...\n",
    "\n",
    "### Answer\n"
   ]
  },
  {
   "cell_type": "code",
   "execution_count": 43,
   "metadata": {
    "ExecuteTime": {
     "end_time": "2020-02-19T17:07:41.921203Z",
     "start_time": "2020-02-19T17:07:41.337586Z"
    },
    "autoscroll": "auto",
    "options": {
     "caption": false,
     "complete": true,
     "display_data": true,
     "display_stream": true,
     "dpi": 200,
     "echo": true,
     "evaluate": false,
     "f_env": null,
     "f_pos": "htpb",
     "f_size": [
      6,
      4
     ],
     "f_spines": true,
     "fig": true,
     "include": true,
     "name": null,
     "option_string": "evaluate=False",
     "results": "verbatim",
     "term": false,
     "wrap": "output"
    },
    "slideshow": {
     "slide_type": "subslide"
    }
   },
   "outputs": [
    {
     "data": {
      "image/png": "[encoded data removed]",
      "text/plain": [
       "<Figure size 1080x720 with 2 Axes>"
      ]
     },
     "metadata": {
      "needs_background": "light"
     },
     "output_type": "display_data"
    }
   ],
   "source": [
    "fig, axes = plt.subplots(ncols=2, figsize=(15, 10))\n",
    "\n",
    "sns.distplot(train['Age'][train['Age'].notna()], ax=fig.axes[0])\n",
    "sns.distplot(train['Fare'], ax=fig.axes[1])\n",
    "plt.tight_layout()\n"
   ]
  },
  {
   "cell_type": "markdown",
   "metadata": {
    "slideshow": {
     "slide_type": "slide"
    }
   },
   "source": [
    "\n",
    "\n",
    "## Question: plot numerical columuns according to categorical columns\n",
    "\n",
    "Do the same as in Question 4,\n",
    "but **differentiate** the plots\n",
    "for passengers the passengers that survived and the ones who did not.\n",
    "You can use the `hue` option,\n",
    "you can use a `FacetGrid`.\n",
    "Look at the `seaborn` documentation and choose the best option.\n",
    "\n",
    "### Answer\n",
    "\n",
    "#### Facets\n",
    "\n"
   ]
  },
  {
   "cell_type": "code",
   "execution_count": 24,
   "metadata": {
    "ExecuteTime": {
     "end_time": "2020-02-19T16:40:12.096315Z",
     "start_time": "2020-02-19T16:40:09.650202Z"
    },
    "autoscroll": "auto",
    "options": {
     "caption": false,
     "complete": true,
     "display_data": true,
     "display_stream": true,
     "dpi": 200,
     "echo": true,
     "evaluate": false,
     "f_env": null,
     "f_pos": "htpb",
     "f_size": [
      6,
      4
     ],
     "f_spines": true,
     "fig": true,
     "include": true,
     "name": null,
     "option_string": "evaluate=False",
     "results": "verbatim",
     "term": false,
     "wrap": "output"
    },
    "slideshow": {
     "slide_type": "subslide"
    }
   },
   "outputs": [
    {
     "data": {
      "image/png": "[encoded data removed]",
      "text/plain": [
       "<Figure size 720x360 with 2 Axes>"
      ]
     },
     "metadata": {
      "needs_background": "light"
     },
     "output_type": "display_data"
    },
    {
     "data": {
      "image/png": "[encoded data removed]",
      "text/plain": [
       "<Figure size 720x360 with 2 Axes>"
      ]
     },
     "metadata": {
      "needs_background": "light"
     },
     "output_type": "display_data"
    },
    {
     "data": {
      "image/png": "[encoded data removed]",
      "text/plain": [
       "<Figure size 720x360 with 2 Axes>"
      ]
     },
     "metadata": {
      "needs_background": "light"
     },
     "output_type": "display_data"
    },
    {
     "data": {
      "image/png": "[encoded data removed]",
      "text/plain": [
       "<Figure size 720x360 with 2 Axes>"
      ]
     },
     "metadata": {
      "needs_background": "light"
     },
     "output_type": "display_data"
    },
    {
     "data": {
      "image/png": "[encoded data removed]",
      "text/plain": [
       "<Figure size 720x360 with 2 Axes>"
      ]
     },
     "metadata": {
      "needs_background": "light"
     },
     "output_type": "display_data"
    },
    {
     "data": {
      "image/png": "[encoded data removed]",
      "text/plain": [
       "<Figure size 720x360 with 2 Axes>"
      ]
     },
     "metadata": {
      "needs_background": "light"
     },
     "output_type": "display_data"
    }
   ],
   "source": [
    "\n",
    "for col in train.select_dtypes(\"category\"):\n",
    "\n",
    "    sns.catplot(data = train.sort_values(by=col), col =\"Survived\", x=col, hue=col, kind=\"count\")\n"
   ]
  },
  {
   "cell_type": "markdown",
   "metadata": {
    "slideshow": {
     "slide_type": "subslide"
    }
   },
   "source": [
    "#### Boxplot"
   ]
  },
  {
   "cell_type": "code",
   "execution_count": 44,
   "metadata": {
    "ExecuteTime": {
     "end_time": "2020-02-19T17:08:11.177988Z",
     "start_time": "2020-02-19T17:08:06.880121Z"
    }
   },
   "outputs": [
    {
     "data": {
      "text/plain": [
       "[]"
      ]
     },
     "execution_count": 44,
     "metadata": {},
     "output_type": "execute_result"
    },
    {
     "data": {
      "image/png": "[encoded data removed]",
      "text/plain": [
       "<Figure size 1080x2880 with 12 Axes>"
      ]
     },
     "metadata": {
      "needs_background": "light"
     },
     "output_type": "display_data"
    }
   ],
   "source": [
    "fig, axes = plt.subplots(nrows=6 , ncols=2, figsize=(15, 40))\n",
    "for i,col in enumerate(train.select_dtypes(\"category\")):\n",
    "    sns.boxplot(y=\"Age\", x=\"Survived\" , hue =col, data=train, ax=fig.axes[2*i])\n",
    "    sns.boxplot(y=\"Fare\", x=\"Survived\", hue =col ,data=train, ax=fig.axes[2*i+1]).set_yscale(\"log\")\n",
    "plt.plot()"
   ]
  },
  {
   "cell_type": "markdown",
   "metadata": {
    "slideshow": {
     "slide_type": "subslide"
    }
   },
   "source": [
    "#### Catplot"
   ]
  },
  {
   "cell_type": "code",
   "execution_count": 53,
   "metadata": {
    "ExecuteTime": {
     "end_time": "2020-02-19T17:59:52.346717Z",
     "start_time": "2020-02-19T17:59:48.147926Z"
    },
    "autoscroll": "auto",
    "options": {
     "caption": false,
     "complete": true,
     "display_data": true,
     "display_stream": true,
     "dpi": 200,
     "echo": true,
     "evaluate": false,
     "f_env": null,
     "f_pos": "htpb",
     "f_size": [
      6,
      4
     ],
     "f_spines": true,
     "fig": true,
     "include": true,
     "name": null,
     "option_string": "evaluate=False",
     "results": "verbatim",
     "term": false,
     "wrap": "output"
    },
    "slideshow": {
     "slide_type": "subslide"
    }
   },
   "outputs": [
    {
     "data": {
      "text/plain": [
       "[]"
      ]
     },
     "execution_count": 53,
     "metadata": {},
     "output_type": "execute_result"
    },
    {
     "data": {
      "image/png": "[encoded data removed]",
      "text/plain": [
       "<Figure size 1080x2880 with 12 Axes>"
      ]
     },
     "metadata": {
      "needs_background": "light"
     },
     "output_type": "display_data"
    }
   ],
   "source": [
    "fig, axes = plt.subplots(nrows=6 , ncols=2, figsize=(15, 40))\n",
    "for i,col in enumerate(train.select_dtypes(\"category\")):\n",
    "    sns.violinplot(y=\"Age\", x=\"Survived\" , hue =col, data=train, ax=fig.axes[2*i])\n",
    "    sns.violinplot(y=\"Fare\", x=\"Survived\", hue =col ,data=train, ax=fig.axes[2*i+1]).set_yscale(\"log\")\n",
    "plt.plot()"
   ]
  },
  {
   "cell_type": "markdown",
   "metadata": {
    "slideshow": {
     "slide_type": "slide"
    }
   },
   "source": [
    "\n",
    "\n",
    "\n",
    "## Question: categorical plots, barplots\n",
    "\n",
    "The `Titanic`  dataset may be compared with datasets generated by\n",
    "*surveys* (*questionnaires*). In such datasets, each row correspond\n",
    "to an individual. An individual is described by *demographic* variables\n",
    "and *attitudinal/response* variables. Here, `Age, Sex, Pclass, Embarked, ...`\n",
    "are considered as demographic variables while `Survived` is\n",
    "regarded as an attitudinal/response variable. It is desirable to plot the response\n",
    "variable as a function of (some of) the demographic variables.\n",
    "All variables are categorical.\n",
    "\n",
    "### Answer\n",
    "\n"
   ]
  },
  {
   "cell_type": "code",
   "execution_count": 48,
   "metadata": {
    "ExecuteTime": {
     "end_time": "2020-02-19T17:51:54.417968Z",
     "start_time": "2020-02-19T17:51:54.362244Z"
    },
    "autoscroll": "auto",
    "options": {
     "caption": false,
     "complete": true,
     "display_data": true,
     "display_stream": true,
     "dpi": 200,
     "echo": true,
     "evaluate": false,
     "f_env": null,
     "f_pos": "htpb",
     "f_size": [
      6,
      4
     ],
     "f_spines": true,
     "fig": true,
     "include": true,
     "name": null,
     "option_string": "evaluate=False",
     "results": "verbatim",
     "term": false,
     "wrap": "output"
    },
    "scrolled": true,
    "slideshow": {
     "slide_type": "subslide"
    }
   },
   "outputs": [
    {
     "ename": "TypeError",
     "evalue": "unsupported operand type(s) for /: 'str' and 'int'",
     "output_type": "error",
     "traceback": [
      "\u001b[0;31m---------------------------------------------------------------------------\u001b[0m",
      "\u001b[0;31mTypeError\u001b[0m                                 Traceback (most recent call last)",
      "\u001b[0;32m<ipython-input-48-9ab476e6a2ad>\u001b[0m in \u001b[0;36m<module>\u001b[0;34m\u001b[0m\n\u001b[1;32m      2\u001b[0m \u001b[0;34m\u001b[0m\u001b[0m\n\u001b[1;32m      3\u001b[0m \u001b[0;32mfor\u001b[0m \u001b[0mi\u001b[0m\u001b[0;34m,\u001b[0m \u001b[0mcol\u001b[0m \u001b[0;32min\u001b[0m \u001b[0menumerate\u001b[0m\u001b[0;34m(\u001b[0m\u001b[0mcolumns\u001b[0m\u001b[0;34m)\u001b[0m\u001b[0;34m:\u001b[0m\u001b[0;34m\u001b[0m\u001b[0;34m\u001b[0m\u001b[0m\n\u001b[0;32m----> 4\u001b[0;31m     \u001b[0msns\u001b[0m\u001b[0;34m.\u001b[0m\u001b[0mboxplot\u001b[0m\u001b[0;34m(\u001b[0m\u001b[0mcol\u001b[0m\u001b[0;34m,\u001b[0m \u001b[0mdata\u001b[0m\u001b[0;34m=\u001b[0m\u001b[0mtrain\u001b[0m\u001b[0;34m,\u001b[0m \u001b[0max\u001b[0m\u001b[0;34m=\u001b[0m\u001b[0mfig\u001b[0m\u001b[0;34m.\u001b[0m\u001b[0maxes\u001b[0m\u001b[0;34m[\u001b[0m\u001b[0mi\u001b[0m\u001b[0;34m]\u001b[0m\u001b[0;34m)\u001b[0m\u001b[0;34m\u001b[0m\u001b[0;34m\u001b[0m\u001b[0m\n\u001b[0m\u001b[1;32m      5\u001b[0m \u001b[0;34m\u001b[0m\u001b[0m\n",
      "\u001b[0;32m/usr/local/lib/python3.7/dist-packages/seaborn/categorical.py\u001b[0m in \u001b[0;36mboxplot\u001b[0;34m(x, y, hue, data, order, hue_order, orient, color, palette, saturation, width, dodge, fliersize, linewidth, whis, notch, ax, **kwargs)\u001b[0m\n\u001b[1;32m   2235\u001b[0m     \u001b[0mkwargs\u001b[0m\u001b[0;34m.\u001b[0m\u001b[0mupdate\u001b[0m\u001b[0;34m(\u001b[0m\u001b[0mdict\u001b[0m\u001b[0;34m(\u001b[0m\u001b[0mwhis\u001b[0m\u001b[0;34m=\u001b[0m\u001b[0mwhis\u001b[0m\u001b[0;34m,\u001b[0m \u001b[0mnotch\u001b[0m\u001b[0;34m=\u001b[0m\u001b[0mnotch\u001b[0m\u001b[0;34m)\u001b[0m\u001b[0;34m)\u001b[0m\u001b[0;34m\u001b[0m\u001b[0;34m\u001b[0m\u001b[0m\n\u001b[1;32m   2236\u001b[0m \u001b[0;34m\u001b[0m\u001b[0m\n\u001b[0;32m-> 2237\u001b[0;31m     \u001b[0mplotter\u001b[0m\u001b[0;34m.\u001b[0m\u001b[0mplot\u001b[0m\u001b[0;34m(\u001b[0m\u001b[0max\u001b[0m\u001b[0;34m,\u001b[0m \u001b[0mkwargs\u001b[0m\u001b[0;34m)\u001b[0m\u001b[0;34m\u001b[0m\u001b[0;34m\u001b[0m\u001b[0m\n\u001b[0m\u001b[1;32m   2238\u001b[0m     \u001b[0;32mreturn\u001b[0m \u001b[0max\u001b[0m\u001b[0;34m\u001b[0m\u001b[0;34m\u001b[0m\u001b[0m\n\u001b[1;32m   2239\u001b[0m \u001b[0;34m\u001b[0m\u001b[0m\n",
      "\u001b[0;32m/usr/local/lib/python3.7/dist-packages/seaborn/categorical.py\u001b[0m in \u001b[0;36mplot\u001b[0;34m(self, ax, boxplot_kws)\u001b[0m\n\u001b[1;32m    547\u001b[0m     \u001b[0;32mdef\u001b[0m \u001b[0mplot\u001b[0m\u001b[0;34m(\u001b[0m\u001b[0mself\u001b[0m\u001b[0;34m,\u001b[0m \u001b[0max\u001b[0m\u001b[0;34m,\u001b[0m \u001b[0mboxplot_kws\u001b[0m\u001b[0;34m)\u001b[0m\u001b[0;34m:\u001b[0m\u001b[0;34m\u001b[0m\u001b[0;34m\u001b[0m\u001b[0m\n\u001b[1;32m    548\u001b[0m         \u001b[0;34m\"\"\"Make the plot.\"\"\"\u001b[0m\u001b[0;34m\u001b[0m\u001b[0;34m\u001b[0m\u001b[0m\n\u001b[0;32m--> 549\u001b[0;31m         \u001b[0mself\u001b[0m\u001b[0;34m.\u001b[0m\u001b[0mdraw_boxplot\u001b[0m\u001b[0;34m(\u001b[0m\u001b[0max\u001b[0m\u001b[0;34m,\u001b[0m \u001b[0mboxplot_kws\u001b[0m\u001b[0;34m)\u001b[0m\u001b[0;34m\u001b[0m\u001b[0;34m\u001b[0m\u001b[0m\n\u001b[0m\u001b[1;32m    550\u001b[0m         \u001b[0mself\u001b[0m\u001b[0;34m.\u001b[0m\u001b[0mannotate_axes\u001b[0m\u001b[0;34m(\u001b[0m\u001b[0max\u001b[0m\u001b[0;34m)\u001b[0m\u001b[0;34m\u001b[0m\u001b[0;34m\u001b[0m\u001b[0m\n\u001b[1;32m    551\u001b[0m         \u001b[0;32mif\u001b[0m \u001b[0mself\u001b[0m\u001b[0;34m.\u001b[0m\u001b[0morient\u001b[0m \u001b[0;34m==\u001b[0m \u001b[0;34m\"h\"\u001b[0m\u001b[0;34m:\u001b[0m\u001b[0;34m\u001b[0m\u001b[0;34m\u001b[0m\u001b[0m\n",
      "\u001b[0;32m/usr/local/lib/python3.7/dist-packages/seaborn/categorical.py\u001b[0m in \u001b[0;36mdraw_boxplot\u001b[0;34m(self, ax, kws)\u001b[0m\n\u001b[1;32m    484\u001b[0m                                          \u001b[0mpositions\u001b[0m\u001b[0;34m=\u001b[0m\u001b[0;34m[\u001b[0m\u001b[0mi\u001b[0m\u001b[0;34m]\u001b[0m\u001b[0;34m,\u001b[0m\u001b[0;34m\u001b[0m\u001b[0;34m\u001b[0m\u001b[0m\n\u001b[1;32m    485\u001b[0m                                          \u001b[0mwidths\u001b[0m\u001b[0;34m=\u001b[0m\u001b[0mself\u001b[0m\u001b[0;34m.\u001b[0m\u001b[0mwidth\u001b[0m\u001b[0;34m,\u001b[0m\u001b[0;34m\u001b[0m\u001b[0;34m\u001b[0m\u001b[0m\n\u001b[0;32m--> 486\u001b[0;31m                                          **kws)\n\u001b[0m\u001b[1;32m    487\u001b[0m                 \u001b[0mcolor\u001b[0m \u001b[0;34m=\u001b[0m \u001b[0mself\u001b[0m\u001b[0;34m.\u001b[0m\u001b[0mcolors\u001b[0m\u001b[0;34m[\u001b[0m\u001b[0mi\u001b[0m\u001b[0;34m]\u001b[0m\u001b[0;34m\u001b[0m\u001b[0;34m\u001b[0m\u001b[0m\n\u001b[1;32m    488\u001b[0m                 \u001b[0mself\u001b[0m\u001b[0;34m.\u001b[0m\u001b[0mrestyle_boxplot\u001b[0m\u001b[0;34m(\u001b[0m\u001b[0martist_dict\u001b[0m\u001b[0;34m,\u001b[0m \u001b[0mcolor\u001b[0m\u001b[0;34m,\u001b[0m \u001b[0mprops\u001b[0m\u001b[0;34m)\u001b[0m\u001b[0;34m\u001b[0m\u001b[0;34m\u001b[0m\u001b[0m\n",
      "\u001b[0;32m/usr/local/lib/python3.7/dist-packages/matplotlib/cbook/deprecation.py\u001b[0m in \u001b[0;36mwrapper\u001b[0;34m(*args, **kwargs)\u001b[0m\n\u001b[1;32m    305\u001b[0m                 f\"for the old name will be dropped %(removal)s.\")\n\u001b[1;32m    306\u001b[0m             \u001b[0mkwargs\u001b[0m\u001b[0;34m[\u001b[0m\u001b[0mnew\u001b[0m\u001b[0;34m]\u001b[0m \u001b[0;34m=\u001b[0m \u001b[0mkwargs\u001b[0m\u001b[0;34m.\u001b[0m\u001b[0mpop\u001b[0m\u001b[0;34m(\u001b[0m\u001b[0mold\u001b[0m\u001b[0;34m)\u001b[0m\u001b[0;34m\u001b[0m\u001b[0;34m\u001b[0m\u001b[0m\n\u001b[0;32m--> 307\u001b[0;31m         \u001b[0;32mreturn\u001b[0m \u001b[0mfunc\u001b[0m\u001b[0;34m(\u001b[0m\u001b[0;34m*\u001b[0m\u001b[0margs\u001b[0m\u001b[0;34m,\u001b[0m \u001b[0;34m**\u001b[0m\u001b[0mkwargs\u001b[0m\u001b[0;34m)\u001b[0m\u001b[0;34m\u001b[0m\u001b[0;34m\u001b[0m\u001b[0m\n\u001b[0m\u001b[1;32m    308\u001b[0m \u001b[0;34m\u001b[0m\u001b[0m\n\u001b[1;32m    309\u001b[0m     \u001b[0;31m# wrapper() must keep the same documented signature as func(): if we\u001b[0m\u001b[0;34m\u001b[0m\u001b[0;34m\u001b[0m\u001b[0;34m\u001b[0m\u001b[0m\n",
      "\u001b[0;32m/usr/local/lib/python3.7/dist-packages/matplotlib/__init__.py\u001b[0m in \u001b[0;36minner\u001b[0;34m(ax, data, *args, **kwargs)\u001b[0m\n\u001b[1;32m   1599\u001b[0m     \u001b[0;32mdef\u001b[0m \u001b[0minner\u001b[0m\u001b[0;34m(\u001b[0m\u001b[0max\u001b[0m\u001b[0;34m,\u001b[0m \u001b[0;34m*\u001b[0m\u001b[0margs\u001b[0m\u001b[0;34m,\u001b[0m \u001b[0mdata\u001b[0m\u001b[0;34m=\u001b[0m\u001b[0;32mNone\u001b[0m\u001b[0;34m,\u001b[0m \u001b[0;34m**\u001b[0m\u001b[0mkwargs\u001b[0m\u001b[0;34m)\u001b[0m\u001b[0;34m:\u001b[0m\u001b[0;34m\u001b[0m\u001b[0;34m\u001b[0m\u001b[0m\n\u001b[1;32m   1600\u001b[0m         \u001b[0;32mif\u001b[0m \u001b[0mdata\u001b[0m \u001b[0;32mis\u001b[0m \u001b[0;32mNone\u001b[0m\u001b[0;34m:\u001b[0m\u001b[0;34m\u001b[0m\u001b[0;34m\u001b[0m\u001b[0m\n\u001b[0;32m-> 1601\u001b[0;31m             \u001b[0;32mreturn\u001b[0m \u001b[0mfunc\u001b[0m\u001b[0;34m(\u001b[0m\u001b[0max\u001b[0m\u001b[0;34m,\u001b[0m \u001b[0;34m*\u001b[0m\u001b[0mmap\u001b[0m\u001b[0;34m(\u001b[0m\u001b[0msanitize_sequence\u001b[0m\u001b[0;34m,\u001b[0m \u001b[0margs\u001b[0m\u001b[0;34m)\u001b[0m\u001b[0;34m,\u001b[0m \u001b[0;34m**\u001b[0m\u001b[0mkwargs\u001b[0m\u001b[0;34m)\u001b[0m\u001b[0;34m\u001b[0m\u001b[0;34m\u001b[0m\u001b[0m\n\u001b[0m\u001b[1;32m   1602\u001b[0m \u001b[0;34m\u001b[0m\u001b[0m\n\u001b[1;32m   1603\u001b[0m         \u001b[0mbound\u001b[0m \u001b[0;34m=\u001b[0m \u001b[0mnew_sig\u001b[0m\u001b[0;34m.\u001b[0m\u001b[0mbind\u001b[0m\u001b[0;34m(\u001b[0m\u001b[0max\u001b[0m\u001b[0;34m,\u001b[0m \u001b[0;34m*\u001b[0m\u001b[0margs\u001b[0m\u001b[0;34m,\u001b[0m \u001b[0;34m**\u001b[0m\u001b[0mkwargs\u001b[0m\u001b[0;34m)\u001b[0m\u001b[0;34m\u001b[0m\u001b[0;34m\u001b[0m\u001b[0m\n",
      "\u001b[0;32m/usr/local/lib/python3.7/dist-packages/matplotlib/axes/_axes.py\u001b[0m in \u001b[0;36mboxplot\u001b[0;34m(self, x, notch, sym, vert, whis, positions, widths, patch_artist, bootstrap, usermedians, conf_intervals, meanline, showmeans, showcaps, showbox, showfliers, boxprops, labels, flierprops, medianprops, meanprops, capprops, whiskerprops, manage_ticks, autorange, zorder)\u001b[0m\n\u001b[1;32m   3668\u001b[0m \u001b[0;34m\u001b[0m\u001b[0m\n\u001b[1;32m   3669\u001b[0m         bxpstats = cbook.boxplot_stats(x, whis=whis, bootstrap=bootstrap,\n\u001b[0;32m-> 3670\u001b[0;31m                                        labels=labels, autorange=autorange)\n\u001b[0m\u001b[1;32m   3671\u001b[0m         \u001b[0;32mif\u001b[0m \u001b[0mnotch\u001b[0m \u001b[0;32mis\u001b[0m \u001b[0;32mNone\u001b[0m\u001b[0;34m:\u001b[0m\u001b[0;34m\u001b[0m\u001b[0;34m\u001b[0m\u001b[0m\n\u001b[1;32m   3672\u001b[0m             \u001b[0mnotch\u001b[0m \u001b[0;34m=\u001b[0m \u001b[0mrcParams\u001b[0m\u001b[0;34m[\u001b[0m\u001b[0;34m'boxplot.notch'\u001b[0m\u001b[0;34m]\u001b[0m\u001b[0;34m\u001b[0m\u001b[0;34m\u001b[0m\u001b[0m\n",
      "\u001b[0;32m/usr/local/lib/python3.7/dist-packages/matplotlib/cbook/__init__.py\u001b[0m in \u001b[0;36mboxplot_stats\u001b[0;34m(X, whis, bootstrap, labels, autorange)\u001b[0m\n\u001b[1;32m   1283\u001b[0m \u001b[0;34m\u001b[0m\u001b[0m\n\u001b[1;32m   1284\u001b[0m         \u001b[0;31m# arithmetic mean\u001b[0m\u001b[0;34m\u001b[0m\u001b[0;34m\u001b[0m\u001b[0;34m\u001b[0m\u001b[0m\n\u001b[0;32m-> 1285\u001b[0;31m         \u001b[0mstats\u001b[0m\u001b[0;34m[\u001b[0m\u001b[0;34m'mean'\u001b[0m\u001b[0;34m]\u001b[0m \u001b[0;34m=\u001b[0m \u001b[0mnp\u001b[0m\u001b[0;34m.\u001b[0m\u001b[0mmean\u001b[0m\u001b[0;34m(\u001b[0m\u001b[0mx\u001b[0m\u001b[0;34m)\u001b[0m\u001b[0;34m\u001b[0m\u001b[0;34m\u001b[0m\u001b[0m\n\u001b[0m\u001b[1;32m   1286\u001b[0m \u001b[0;34m\u001b[0m\u001b[0m\n\u001b[1;32m   1287\u001b[0m         \u001b[0;31m# medians and quartiles\u001b[0m\u001b[0;34m\u001b[0m\u001b[0;34m\u001b[0m\u001b[0;34m\u001b[0m\u001b[0m\n",
      "\u001b[0;32m<__array_function__ internals>\u001b[0m in \u001b[0;36mmean\u001b[0;34m(*args, **kwargs)\u001b[0m\n",
      "\u001b[0;32m/usr/local/lib/python3.7/dist-packages/numpy/core/fromnumeric.py\u001b[0m in \u001b[0;36mmean\u001b[0;34m(a, axis, dtype, out, keepdims)\u001b[0m\n\u001b[1;32m   3255\u001b[0m \u001b[0;34m\u001b[0m\u001b[0m\n\u001b[1;32m   3256\u001b[0m     return _methods._mean(a, axis=axis, dtype=dtype,\n\u001b[0;32m-> 3257\u001b[0;31m                           out=out, **kwargs)\n\u001b[0m\u001b[1;32m   3258\u001b[0m \u001b[0;34m\u001b[0m\u001b[0m\n\u001b[1;32m   3259\u001b[0m \u001b[0;34m\u001b[0m\u001b[0m\n",
      "\u001b[0;32m/usr/local/lib/python3.7/dist-packages/numpy/core/_methods.py\u001b[0m in \u001b[0;36m_mean\u001b[0;34m(a, axis, dtype, out, keepdims)\u001b[0m\n\u001b[1;32m    161\u001b[0m             \u001b[0mret\u001b[0m \u001b[0;34m=\u001b[0m \u001b[0mret\u001b[0m\u001b[0;34m.\u001b[0m\u001b[0mdtype\u001b[0m\u001b[0;34m.\u001b[0m\u001b[0mtype\u001b[0m\u001b[0;34m(\u001b[0m\u001b[0mret\u001b[0m \u001b[0;34m/\u001b[0m \u001b[0mrcount\u001b[0m\u001b[0;34m)\u001b[0m\u001b[0;34m\u001b[0m\u001b[0;34m\u001b[0m\u001b[0m\n\u001b[1;32m    162\u001b[0m     \u001b[0;32melse\u001b[0m\u001b[0;34m:\u001b[0m\u001b[0;34m\u001b[0m\u001b[0;34m\u001b[0m\u001b[0m\n\u001b[0;32m--> 163\u001b[0;31m         \u001b[0mret\u001b[0m \u001b[0;34m=\u001b[0m \u001b[0mret\u001b[0m \u001b[0;34m/\u001b[0m \u001b[0mrcount\u001b[0m\u001b[0;34m\u001b[0m\u001b[0;34m\u001b[0m\u001b[0m\n\u001b[0m\u001b[1;32m    164\u001b[0m \u001b[0;34m\u001b[0m\u001b[0m\n\u001b[1;32m    165\u001b[0m     \u001b[0;32mreturn\u001b[0m \u001b[0mret\u001b[0m\u001b[0;34m\u001b[0m\u001b[0;34m\u001b[0m\u001b[0m\n",
      "\u001b[0;31mTypeError\u001b[0m: unsupported operand type(s) for /: 'str' and 'int'"
     ]
    }
   ],
   "source": [
    "columns = train.select_dtypes(\"category\")\n",
    "\n",
    "for i, col in enumerate(columns):\n",
    "    sns.boxplot(col, data=train, ax=fig.axes[i])\n",
    "    "
   ]
  },
  {
   "cell_type": "markdown",
   "metadata": {
    "slideshow": {
     "slide_type": "slide"
    }
   },
   "source": [
    "\n",
    "Barplots do not give us hints about the size of the different sub-populations.\n",
    "\n",
    "\n",
    "## Question: categorical plots, mosaicplots\n",
    "\n",
    "\n",
    "\n",
    "You have drawn a `boxplot` of `Age` with respect to passenger class (`Pclass`).\n",
    "It would be nice to complement the plot with an indication of the number of missing values.\n",
    "It would also make sense to indicate the number of individuals in each subsample.\n",
    "\n",
    "Mosaicplot as delivered by module `statsmodels` is a very\n",
    "powerful tool to visualize *contingency tables*.\n",
    "\n",
    "A *two-way contingency table* and the associated `mosaicplot` reveal that\n",
    "the passengers who boarded in the three harbors (Southampton, Cherbourg, Q)\n",
    "did not buy the same kind of tickets. Half of the passengers embarked at Cherbourg\n",
    "travelled first class while at most one fourth of the passengers embarked\n",
    "at Southampton did.\n",
    "\n",
    "### Answer\n",
    "\n"
   ]
  },
  {
   "cell_type": "code",
   "execution_count": 49,
   "metadata": {
    "ExecuteTime": {
     "end_time": "2020-02-19T17:55:06.414112Z",
     "start_time": "2020-02-19T17:55:06.194565Z"
    },
    "autoscroll": "auto",
    "options": {
     "caption": false,
     "complete": true,
     "display_data": true,
     "display_stream": true,
     "dpi": 200,
     "echo": true,
     "evaluate": false,
     "f_env": null,
     "f_pos": "htpb",
     "f_size": [
      6,
      4
     ],
     "f_spines": true,
     "fig": true,
     "include": true,
     "name": null,
     "option_string": "evaluate=False",
     "results": "verbatim",
     "term": false,
     "wrap": "output"
    },
    "slideshow": {
     "slide_type": "subslide"
    }
   },
   "outputs": [
    {
     "data": {
      "text/plain": [
       "(<Figure size 432x288 with 3 Axes>,\n",
       " OrderedDict([(('1', 'S'),\n",
       "               (0.0, 0.0, 0.23833654456559267, 0.5895277588661261)),\n",
       "              (('1', 'C'),\n",
       "               (0.0,\n",
       "                0.5928390171442717,\n",
       "                0.23833654456559267,\n",
       "                0.3945658228631552)),\n",
       "              (('1', 'Q'),\n",
       "               (0.0,\n",
       "                0.9907160982855727,\n",
       "                0.23833654456559267,\n",
       "                0.009283901714427183)),\n",
       "              (('2', 'S'),\n",
       "               (0.24328703961509762,\n",
       "                0.0,\n",
       "                0.20492487943957502,\n",
       "                0.885401670025914)),\n",
       "              (('2', 'C'),\n",
       "               (0.24328703961509762,\n",
       "                0.8887129283040597,\n",
       "                0.20492487943957502,\n",
       "                0.09177944140512531)),\n",
       "              (('2', 'Q'),\n",
       "               (0.24328703961509762,\n",
       "                0.9838036279873308,\n",
       "                0.20492487943957502,\n",
       "                0.01619637201266912)),\n",
       "              (('3', 'S'),\n",
       "               (0.45316241410417757,\n",
       "                0.0,\n",
       "                0.5468375858958224,\n",
       "                0.7141797386061692)),\n",
       "              (('3', 'C'),\n",
       "               (0.45316241410417757,\n",
       "                0.7174909968843148,\n",
       "                0.5468375858958224,\n",
       "                0.13352935622664922)),\n",
       "              (('3', 'Q'),\n",
       "               (0.45316241410417757,\n",
       "                0.8543316113891098,\n",
       "                0.5468375858958224,\n",
       "                0.14566838861089004))]))"
      ]
     },
     "execution_count": 49,
     "metadata": {},
     "output_type": "execute_result"
    },
    {
     "data": {
      "image/png": "[encoded data removed]",
      "text/plain": [
       "<Figure size 432x288 with 3 Axes>"
      ]
     },
     "metadata": {
      "needs_background": "light"
     },
     "output_type": "display_data"
    }
   ],
   "source": [
    "mosaic(train,['Pclass', 'Embarked'])"
   ]
  },
  {
   "cell_type": "markdown",
   "metadata": {
    "slideshow": {
     "slide_type": "slide"
    }
   },
   "source": [
    "\n",
    "## Question: three-way mosaicplots\n",
    "\n",
    "A three-way contingency illustrate the association between `Sex`, `Pclass`\n",
    "and `Survived`.\n",
    "\n",
    "### Answer\n",
    "\n"
   ]
  },
  {
   "cell_type": "code",
   "execution_count": 54,
   "metadata": {
    "ExecuteTime": {
     "end_time": "2020-02-19T18:14:25.124065Z",
     "start_time": "2020-02-19T18:14:24.850578Z"
    },
    "autoscroll": "auto",
    "options": {
     "caption": false,
     "complete": true,
     "display_data": true,
     "display_stream": true,
     "dpi": 200,
     "echo": true,
     "evaluate": false,
     "f_env": null,
     "f_pos": "htpb",
     "f_size": [
      6,
      4
     ],
     "f_spines": true,
     "fig": true,
     "include": true,
     "name": null,
     "option_string": "evaluate=False",
     "results": "verbatim",
     "term": false,
     "wrap": "output"
    },
    "scrolled": true,
    "slideshow": {
     "slide_type": "subslide"
    }
   },
   "outputs": [
    {
     "data": {
      "text/plain": [
       "(<Figure size 432x288 with 3 Axes>,\n",
       " OrderedDict([(('1', 'male', 'False'),\n",
       "               (0.0, 0.0, 0.15115465964829192, 0.562938353636028)),\n",
       "              (('1', 'male', 'True'),\n",
       "               (0.1516868636447448,\n",
       "                0.0,\n",
       "                0.08833713875549527,\n",
       "                0.562938353636028)),\n",
       "              (('1', 'female', 'False'),\n",
       "               (0.0,\n",
       "                0.5662606127722406,\n",
       "                0.007643355268205973,\n",
       "                0.43373938722775934)),\n",
       "              (('1', 'female', 'True'),\n",
       "               (0.008175559264658834,\n",
       "                0.5662606127722406,\n",
       "                0.2318484431355812,\n",
       "                0.43373938722775934)),\n",
       "              (('2', 'male', 'False'),\n",
       "               (0.24497449744974498,\n",
       "                0.0,\n",
       "                0.17189860564441928,\n",
       "                0.585006500072223)),\n",
       "              (('2', 'male', 'True'),\n",
       "               (0.4173264620541056,\n",
       "                0.0,\n",
       "                0.032112926329177234,\n",
       "                0.585006500072223)),\n",
       "              (('2', 'female', 'False'),\n",
       "               (0.24497449744974498,\n",
       "                0.5883287592084356,\n",
       "                0.016106173576862882,\n",
       "                0.41167124079156425)),\n",
       "              (('2', 'female', 'True'),\n",
       "               (0.2615340299865492,\n",
       "                0.5883287592084356,\n",
       "                0.1879053583967336,\n",
       "                0.41167124079156425)),\n",
       "              (('3', 'male', 'False'),\n",
       "               (0.45438988343278774,\n",
       "                0.0,\n",
       "                0.4706631164595722,\n",
       "                0.7043730673721674)),\n",
       "              (('3', 'male', 'True'),\n",
       "               (0.9262627784213338,\n",
       "                0.0,\n",
       "                0.07373722157866633,\n",
       "                0.7043730673721674)),\n",
       "              (('3', 'female', 'False'),\n",
       "               (0.45438988343278774,\n",
       "                0.70769532650838,\n",
       "                0.2722001690191193,\n",
       "                0.29230467349161987)),\n",
       "              (('3', 'female', 'True'),\n",
       "               (0.7277998309808809,\n",
       "                0.70769532650838,\n",
       "                0.2722001690191193,\n",
       "                0.29230467349161987))]))"
      ]
     },
     "execution_count": 54,
     "metadata": {},
     "output_type": "execute_result"
    },
    {
     "data": {
      "image/png": "[encoded data removed]",
      "text/plain": [
       "<Figure size 432x288 with 3 Axes>"
      ]
     },
     "metadata": {
      "needs_background": "light"
     },
     "output_type": "display_data"
    }
   ],
   "source": [
    "\n",
    "mosaic(train,['Pclass', 'Sex', 'Survived'])"
   ]
  },
  {
   "cell_type": "markdown",
   "metadata": {
    "slideshow": {
     "slide_type": "slide"
    }
   },
   "source": [
    "\n",
    "## Question: roommates\n",
    "\n",
    "For each passenger, compute the number of passengers in the same cabin (including himself).\n",
    "Add a column called `Roommates` that contain this information.\n",
    "When the cabin information is missing, then the `Roommates` is missing as well.\n",
    "You will need to use `groupby` and `join` operations.\n",
    "\n",
    "\n",
    "\n",
    "**Warning.** You should not `reset_index` after the `groupby` operation if you `join` with the resulting dataframe.\n",
    "\n",
    "\n",
    "We may proceed by projecting on columns\n",
    "`PassengerId,  and `Cabin` while filtering (selecting) the rows\n",
    "where `Cabin` is available. This is the `df_cabin` dataframe below.\n",
    "\n",
    "\n"
   ]
  },
  {
   "cell_type": "markdown",
   "metadata": {
    "slideshow": {
     "slide_type": "slide"
    }
   },
   "source": [
    "\n",
    "- Plot `Roommates` according to `Pclass`\n",
    "- Plot `Roommates` according to `Embarkment`\n",
    "- Plot `Roommates` according to `Sex`\n",
    "\n",
    "### Answer"
   ]
  },
  {
   "cell_type": "code",
   "execution_count": null,
   "metadata": {
    "autoscroll": "auto",
    "options": {
     "caption": false,
     "complete": true,
     "display_data": true,
     "display_stream": true,
     "dpi": 200,
     "echo": true,
     "evaluate": false,
     "f_env": null,
     "f_pos": "htpb",
     "f_size": [
      6,
      4
     ],
     "f_spines": true,
     "fig": true,
     "include": true,
     "name": null,
     "option_string": "evaluate=False",
     "results": "verbatim",
     "term": false,
     "wrap": "output"
    },
    "slideshow": {
     "slide_type": "subslide"
    }
   },
   "outputs": [],
   "source": [
    "\n"
   ]
  },
  {
   "cell_type": "markdown",
   "metadata": {
    "slideshow": {
     "slide_type": "slide"
    }
   },
   "source": [
    "\n",
    "\n",
    "## Question: plotting  `RoomMates` column.\n",
    "\n",
    "\n",
    "### Answer\n",
    "\n"
   ]
  },
  {
   "cell_type": "code",
   "execution_count": null,
   "metadata": {
    "autoscroll": "auto",
    "options": {
     "caption": false,
     "complete": true,
     "display_data": true,
     "display_stream": true,
     "dpi": 200,
     "echo": true,
     "evaluate": false,
     "f_env": null,
     "f_pos": "htpb",
     "f_size": [
      6,
      4
     ],
     "f_spines": true,
     "fig": true,
     "include": true,
     "name": null,
     "option_string": "evaluate=False",
     "results": "verbatim",
     "term": false,
     "wrap": "output"
    },
    "slideshow": {
     "slide_type": "subslide"
    }
   },
   "outputs": [],
   "source": [
    "\n"
   ]
  },
  {
   "cell_type": "markdown",
   "metadata": {
    "slideshow": {
     "slide_type": "slide"
    }
   },
   "source": [
    "\n",
    "\n",
    "## Question: surviving together\n",
    "\n",
    "Is there a cabin where some passengers survived while others did not?\n",
    "\n",
    "\n",
    "### Answer\n",
    "\n"
   ]
  },
  {
   "cell_type": "code",
   "execution_count": null,
   "metadata": {
    "autoscroll": "auto",
    "options": {
     "caption": false,
     "complete": true,
     "display_data": true,
     "display_stream": true,
     "dpi": 200,
     "echo": true,
     "evaluate": false,
     "f_env": null,
     "f_pos": "htpb",
     "f_size": [
      6,
      4
     ],
     "f_spines": true,
     "fig": true,
     "include": true,
     "name": null,
     "option_string": "evaluate=False",
     "results": "verbatim",
     "term": false,
     "wrap": "output"
    },
    "slideshow": {
     "slide_type": "subslide"
    }
   },
   "outputs": [],
   "source": []
  },
  {
   "cell_type": "markdown",
   "metadata": {
    "slideshow": {
     "slide_type": "slide"
    }
   },
   "source": [
    "\n",
    "\n",
    "## Question: Missing `Cabin`  value and `Age`\n",
    "\n",
    "\n",
    "The `Cabin` column is `NaN` for many rows, how are\n",
    "those missing data distributed acrross the classes?\n",
    "\n",
    "Plot the age distribution with\n",
    "respect to the availability of the `Cabin` column (`Cabin.isna()`).\n",
    "\n",
    "### Answer\n"
   ]
  },
  {
   "cell_type": "code",
   "execution_count": null,
   "metadata": {
    "autoscroll": "auto",
    "options": {
     "caption": false,
     "complete": true,
     "display_data": true,
     "display_stream": true,
     "dpi": 200,
     "echo": true,
     "evaluate": false,
     "f_env": null,
     "f_pos": "htpb",
     "f_size": [
      6,
      4
     ],
     "f_spines": true,
     "fig": true,
     "include": true,
     "name": null,
     "option_string": "evaluate=False",
     "results": "verbatim",
     "term": false,
     "wrap": "output"
    },
    "slideshow": {
     "slide_type": "subslide"
    }
   },
   "outputs": [],
   "source": []
  },
  {
   "cell_type": "markdown",
   "metadata": {
    "slideshow": {
     "slide_type": "slide"
    }
   },
   "source": [
    "\n",
    "\n",
    "## Question: Milking the `Name` column\n",
    "\n",
    "Column `Name` gathers different kind of information pertaining\n",
    "to a passenger: name, civility,\n",
    "and given name(s). For some female passengers, the apparent given names\n",
    "are actually the husband's name and the maidens name is indicated between\n",
    "parentheses.\n",
    "\n",
    "The information contained in the `Name` column Has to be extracted in a proper way:\n",
    "The string should be into three parts: the first one containing the name,\n",
    "the second one containing the civility  and, the last one\n",
    "possibly containing given names or given names plus maiden names. Passing is\n",
    "facilitated by the next observation: the name is followed by a comma, the\n",
    "civility is followed by a period. You may use regular expressions\n",
    "as providede by  module `re`  or module `regex`.\n",
    "\n",
    "\n",
    "- Split the information contained in `Name` into three columns `Name`, `Given_names`, and `Civility`.\n",
    "- Go one step further. Extract the *maiden name* and actual *given names* when information available.\n",
    "\n",
    "At the end of the day, column `Name` should contain the *maiden name* for married female passengers\n",
    "Column `Given_Names` should contain the real given names of the passenger, not the ones of the spouse.\n",
    "\n",
    "To learn more about Regular Expressions see the documentation\n",
    "of the [`re` module](https://docs.python.org/3/library/re.html#module-re)\n",
    "and the tutorial [Howto](https://docs.python.org/3/howto/regex.html#regex-howto)\n",
    "\n",
    "Understand the difference between a `string` and a `raw string`.\n",
    "\n"
   ]
  },
  {
   "cell_type": "code",
   "execution_count": null,
   "metadata": {
    "ExecuteTime": {
     "end_time": "2020-02-19T15:52:43.819926Z",
     "start_time": "2020-02-19T15:52:36.011Z"
    },
    "autoscroll": "auto",
    "options": {
     "caption": false,
     "complete": true,
     "display_data": true,
     "display_stream": true,
     "dpi": 200,
     "echo": true,
     "evaluate": false,
     "f_env": null,
     "f_pos": "htpb",
     "f_size": [
      6,
      4
     ],
     "f_spines": true,
     "fig": true,
     "include": true,
     "name": null,
     "option_string": "evaluate=False",
     "results": "verbatim",
     "term": false,
     "wrap": "output"
    },
    "slideshow": {
     "slide_type": "subslide"
    }
   },
   "outputs": [],
   "source": [
    "print(r\"\\n is not a newline\", \"\\nis a newline\\n\", \"\\\\\\\\n is not a newline\\n\")\n"
   ]
  },
  {
   "cell_type": "markdown",
   "metadata": {
    "slideshow": {
     "slide_type": "subslide"
    }
   },
   "source": [
    "\n",
    "### Answer\n",
    "\n"
   ]
  },
  {
   "cell_type": "code",
   "execution_count": null,
   "metadata": {
    "ExecuteTime": {
     "end_time": "2020-02-19T15:52:43.820826Z",
     "start_time": "2020-02-19T15:52:36.014Z"
    },
    "autoscroll": "auto",
    "options": {
     "caption": false,
     "complete": true,
     "display_data": true,
     "display_stream": true,
     "dpi": 200,
     "echo": true,
     "evaluate": false,
     "f_env": null,
     "f_pos": "htpb",
     "f_size": [
      6,
      4
     ],
     "f_spines": true,
     "fig": true,
     "include": true,
     "name": null,
     "option_string": "evaluate=False",
     "results": "verbatim",
     "term": false,
     "wrap": "output"
    },
    "slideshow": {
     "slide_type": "subslide"
    }
   },
   "outputs": [],
   "source": [
    "def parse_name(s):\n",
    "    \"\"\"Parse name field in Titanic data frame.\n",
    "\n",
    "    ACHTUNG: there are some outliers with given names containing parenthsized items. Some people travelled under pseudonyms (see [Henry Samuel Morley](https://www.encyclopedia-titanica.org/titanic-victim/henry-samuel-morley.html)).\n",
    "    \"\"\"\n",
    "    name = s\n",
    "    civility, Spouse_name, Maiden_name = None, None, None\n",
    "\n",
    "    # TODO:\n",
    "    \n",
    "    return {'Name': name,\n",
    "            'Civility': civility,\n",
    "            'Given_names': given_names,\n",
    "            'Spouse_name': Spouse_name,\n",
    "            'Maiden_name': Maiden_name}\n",
    "\n"
   ]
  },
  {
   "cell_type": "markdown",
   "metadata": {
    "slideshow": {
     "slide_type": "slide"
    }
   },
   "source": [
    "\n",
    "## Question: about `map` objects\n",
    "\n",
    "What is a `map object`? Is it a sequence (list, tuple, etc)? Is it\n",
    "an `Iterable`? Something else? You may use function `isinstance` and\n",
    "submodule `collections.abc` to settle these questions?\n",
    "\n",
    "### Answer\n",
    "\n"
   ]
  },
  {
   "cell_type": "code",
   "execution_count": null,
   "metadata": {
    "autoscroll": "auto",
    "options": {
     "caption": false,
     "complete": true,
     "display_data": true,
     "display_stream": true,
     "dpi": 200,
     "echo": true,
     "evaluate": false,
     "f_env": null,
     "f_pos": "htpb",
     "f_size": [
      6,
      4
     ],
     "f_spines": true,
     "fig": true,
     "include": true,
     "name": null,
     "option_string": "evaluate=False",
     "results": "verbatim",
     "term": false,
     "wrap": "output"
    },
    "slideshow": {
     "slide_type": "subslide"
    }
   },
   "outputs": [],
   "source": [
    "\n"
   ]
  },
  {
   "cell_type": "markdown",
   "metadata": {
    "slideshow": {
     "slide_type": "slide"
    }
   },
   "source": [
    "\n",
    "## Question: aristocrats on board\n",
    "\n",
    "Some passengers were of noble extraction, or officers in some Army.\n",
    "Point them.\n",
    "\n",
    "### Answer\n",
    "\n"
   ]
  },
  {
   "cell_type": "markdown",
   "metadata": {
    "slideshow": {
     "slide_type": "slide"
    }
   },
   "source": [
    "\n",
    "## Question: How many people are given Civility 'Mrs', 'Miss', 'Mr', 'Master'?\n",
    "\n",
    "\n",
    "### Answer\n",
    "\n"
   ]
  },
  {
   "cell_type": "code",
   "execution_count": null,
   "metadata": {
    "autoscroll": "auto",
    "options": {
     "caption": false,
     "complete": true,
     "display_data": true,
     "display_stream": true,
     "dpi": 200,
     "echo": true,
     "evaluate": false,
     "f_env": null,
     "f_pos": "htpb",
     "f_size": [
      6,
      4
     ],
     "f_spines": true,
     "fig": true,
     "include": true,
     "name": null,
     "option_string": "evaluate=False",
     "results": "verbatim",
     "term": false,
     "wrap": "output"
    },
    "slideshow": {
     "slide_type": "subslide"
    }
   },
   "outputs": [],
   "source": []
  },
  {
   "cell_type": "markdown",
   "metadata": {
    "slideshow": {
     "slide_type": "subslide"
    }
   },
   "source": [
    "\n",
    "ACHTUNG: there are some outliers with given names containing parenthsized items. Some people travelled under pseudonyms (see [Henry Samuel Morley](https://www.encyclopedia-titanica.org/titanic-victim/henry-samuel-morley.html)).\n",
    "\n"
   ]
  },
  {
   "cell_type": "code",
   "execution_count": null,
   "metadata": {
    "autoscroll": "auto",
    "options": {
     "caption": false,
     "complete": true,
     "display_data": true,
     "display_stream": true,
     "dpi": 200,
     "echo": true,
     "evaluate": false,
     "f_env": null,
     "f_pos": "htpb",
     "f_size": [
      6,
      4
     ],
     "f_spines": true,
     "fig": true,
     "include": true,
     "name": null,
     "option_string": "evaluate=False",
     "results": "verbatim",
     "term": false,
     "wrap": "output"
    },
    "slideshow": {
     "slide_type": "subslide"
    }
   },
   "outputs": [],
   "source": []
  },
  {
   "cell_type": "markdown",
   "metadata": {
    "slideshow": {
     "slide_type": "slide"
    }
   },
   "source": [
    "\n",
    "\n",
    "## Question:  For each embarkment and sex, visualize the survival ratio.\n",
    "\n",
    "\n",
    "### Answer\n",
    "\n"
   ]
  },
  {
   "cell_type": "code",
   "execution_count": null,
   "metadata": {
    "autoscroll": "auto",
    "options": {
     "caption": false,
     "complete": true,
     "display_data": true,
     "display_stream": true,
     "dpi": 200,
     "echo": true,
     "evaluate": false,
     "f_env": null,
     "f_pos": "htpb",
     "f_size": [
      6,
      4
     ],
     "f_spines": true,
     "fig": true,
     "include": true,
     "name": null,
     "option_string": "evaluate=False",
     "results": "verbatim",
     "term": false,
     "wrap": "output"
    },
    "slideshow": {
     "slide_type": "subslide"
    }
   },
   "outputs": [],
   "source": []
  },
  {
   "cell_type": "markdown",
   "metadata": {
    "slideshow": {
     "slide_type": "slide"
    }
   },
   "source": [
    "\n",
    "## Question: for each `Pclass` and `Sex`, visualize the survival ratio,\n",
    "\n",
    "### Answer\n",
    "\n"
   ]
  },
  {
   "cell_type": "code",
   "execution_count": null,
   "metadata": {
    "autoscroll": "auto",
    "options": {
     "caption": false,
     "complete": true,
     "display_data": true,
     "display_stream": true,
     "dpi": 200,
     "echo": true,
     "evaluate": false,
     "f_env": null,
     "f_pos": "htpb",
     "f_size": [
      6,
      4
     ],
     "f_spines": true,
     "fig": true,
     "include": true,
     "name": null,
     "option_string": "evaluate=False",
     "results": "verbatim",
     "term": false,
     "wrap": "output"
    },
    "slideshow": {
     "slide_type": "subslide"
    }
   },
   "outputs": [],
   "source": []
  },
  {
   "cell_type": "markdown",
   "metadata": {
    "slideshow": {
     "slide_type": "slide"
    }
   },
   "source": [
    "\n",
    "\n",
    "## Question: compute pairwise correlations between numerical columns.\n",
    "\n",
    "\n",
    "### Answer\n",
    "\n"
   ]
  },
  {
   "cell_type": "code",
   "execution_count": null,
   "metadata": {
    "autoscroll": "auto",
    "options": {
     "caption": false,
     "complete": true,
     "display_data": true,
     "display_stream": true,
     "dpi": 200,
     "echo": true,
     "evaluate": false,
     "f_env": null,
     "f_pos": "htpb",
     "f_size": [
      6,
      4
     ],
     "f_spines": true,
     "fig": true,
     "include": true,
     "name": null,
     "option_string": "evaluate=False",
     "results": "verbatim",
     "term": false,
     "wrap": "output"
    },
    "slideshow": {
     "slide_type": "subslide"
    }
   },
   "outputs": [],
   "source": [
    "\n"
   ]
  },
  {
   "cell_type": "markdown",
   "metadata": {
    "slideshow": {
     "slide_type": "slide"
    }
   },
   "source": [
    "\n",
    "\n",
    "## Pandas and SQL\n",
    "\n",
    "A systematic comparison between Pandas and SQL querying can be found\n",
    "at\n",
    "[https://pandas.pydata.org/pandas-docs/stable/getting_started/comparison/comparison_with_sql.html](https://pandas.pydata.org/pandas-docs/stable/getting_started/comparison/comparison_with_sql.html)\n",
    "\n",
    "\n",
    "## Pandas pipeliness\n",
    "\n",
    "Loading and transforming datasets is a cumbersome task. It is very likely that\n",
    "the sequence of transformations you have performed on the `train.csv`  dataset will\n",
    "be carried out on other datasets (just think about `test.csv`). For the sake of\n",
    "reproducibility, it is convenient to build a *transformation pipeline*.\n",
    "The `pipe` method for `DataFrame` class provides us with a means to do that.\n",
    "\n",
    "Pipelining DataFrame methods is easy, it is enough to write:\n",
    "\n"
   ]
  },
  {
   "cell_type": "code",
   "execution_count": null,
   "metadata": {
    "ExecuteTime": {
     "end_time": "2020-02-19T15:52:43.821709Z",
     "start_time": "2020-02-19T15:52:36.022Z"
    },
    "autoscroll": "auto",
    "options": {
     "caption": false,
     "complete": true,
     "display_data": true,
     "display_stream": true,
     "dpi": 200,
     "echo": true,
     "evaluate": false,
     "f_env": null,
     "f_pos": "htpb",
     "f_size": [
      6,
      4
     ],
     "f_spines": true,
     "fig": true,
     "include": true,
     "name": null,
     "option_string": "evaluate=False",
     "results": "verbatim",
     "term": false,
     "wrap": "output"
    },
    "slideshow": {
     "slide_type": "subslide"
    }
   },
   "outputs": [],
   "source": [
    "# df.meth1(arg11, arg12)\\\n",
    "#   .meth2(arg21)\\\n",
    "#   .meth3(arg31, arg32, arg33)\\\n",
    "#   ...\n"
   ]
  },
  {
   "cell_type": "markdown",
   "metadata": {
    "slideshow": {
     "slide_type": "slide"
    }
   },
   "source": [
    "\n",
    "### `pipe` method for class `DataFrame`\n",
    "\n",
    "\n",
    "The `pipe` method allows us to chain transformations implemented by functions.\n",
    "Pipelining ordinary functions can be done using the `pipe` method of\n",
    "class `DataFrame`.\n",
    "\n"
   ]
  },
  {
   "cell_type": "code",
   "execution_count": null,
   "metadata": {
    "autoscroll": "auto",
    "options": {
     "caption": false,
     "complete": true,
     "display_data": true,
     "display_stream": true,
     "dpi": 200,
     "echo": true,
     "evaluate": true,
     "f_env": null,
     "f_pos": "htpb",
     "f_size": [
      6,
      4
     ],
     "f_spines": true,
     "fig": true,
     "include": true,
     "name": null,
     "option_string": "",
     "results": "verbatim",
     "term": false,
     "wrap": "output"
    },
    "slideshow": {
     "slide_type": "subslide"
    }
   },
   "outputs": [],
   "source": []
  },
  {
   "cell_type": "markdown",
   "metadata": {
    "slideshow": {
     "slide_type": "slide"
    }
   },
   "source": [
    "\n",
    "\n",
    "### Module `pdpipe`\n",
    "\n",
    "Module [`pdpipe`](https://pdpipe.github.io/pdpipe/) is more ambitious.\n",
    "\n",
    "A *transformation pipeline* defines a sequence of operations that should be applied\n",
    "to a dataframe. In the `pdpipe` framework, it is an instance of class `pdpipe.PdPipeLine`\n",
    "\n"
   ]
  },
  {
   "cell_type": "markdown",
   "metadata": {
    "slideshow": {
     "slide_type": "slide"
    }
   },
   "source": [
    "\n",
    "\n",
    "## Question: use `pdpipe`\n",
    "\n",
    "Build a pipeline of transformatioms\n",
    "using the [pdpipe](https://pdpipe.github.io/pdpipe/doc/pdpipe/) module.\n",
    "\n",
    "### Answer\n",
    "\n"
   ]
  },
  {
   "cell_type": "markdown",
   "metadata": {
    "slideshow": {
     "slide_type": "slide"
    }
   },
   "source": [
    "\n",
    "\n",
    "## Miscellanea\n",
    "\n",
    "Browse the `seaborn` documentation in order to make up your\n",
    "mind on the following questions.\n",
    "\n",
    "1. What is a *hue*?\n",
    "1. Is the *colorPalette* part of style?\n",
    "1. What is a saturation channel?\n",
    "1. What is a saturation channel made for?\n",
    "1. What is an *aesthetic parameter*?\n",
    "1. What is the type of `seaborn.FacetGrid`?\n",
    "\n",
    "\n"
   ]
  },
  {
   "cell_type": "code",
   "execution_count": null,
   "metadata": {},
   "outputs": [],
   "source": []
  }
 ],
 "metadata": {
  "celltoolbar": "Slideshow",
  "kernel_info": {
   "name": "python3"
  },
  "kernelspec": {
   "display_name": "Python 3",
   "language": "python",
   "name": "python3"
  },
  "language_info": {
   "codemirror_mode": {
    "name": "ipython",
    "version": 3
   },
   "file_extension": ".py",
   "mimetype": "text/x-python",
   "name": "python",
   "nbconvert_exporter": "python",
   "pygments_lexer": "ipython3",
   "version": "3.7.5"
  },
  "nteract": {
   "version": "0.15.0"
  },
  "toc": {
   "base_numbering": 1,
   "nav_menu": {},
   "number_sections": true,
   "sideBar": true,
   "skip_h1_title": false,
   "title_cell": "Table of Contents",
   "title_sidebar": "Contents",
   "toc_cell": false,
   "toc_position": {},
   "toc_section_display": true,
   "toc_window_display": false
  }
 },
 "nbformat": 4,
 "nbformat_minor": 4
}
